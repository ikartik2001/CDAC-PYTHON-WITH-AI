{
 "cells": [
  {
   "cell_type": "code",
   "execution_count": 1,
   "id": "057c165e",
   "metadata": {},
   "outputs": [
    {
     "data": {
      "text/plain": [
       "array(100)"
      ]
     },
     "execution_count": 1,
     "metadata": {},
     "output_type": "execute_result"
    }
   ],
   "source": [
    "import numpy as np\n",
    "\n",
    "ara = np.array(100)\n",
    "ara"
   ]
  },
  {
   "cell_type": "code",
   "execution_count": 11,
   "id": "2ad96439",
   "metadata": {},
   "outputs": [
    {
     "data": {
      "text/plain": [
       "array([[ 0,  1,  2,  3,  4],\n",
       "       [ 5,  6,  7,  8,  9],\n",
       "       [10, 11, 12, 13, 14],\n",
       "       [15, 16, 17, 18, 19],\n",
       "       [20, 21, 22, 23, 24]])"
      ]
     },
     "execution_count": 11,
     "metadata": {},
     "output_type": "execute_result"
    }
   ],
   "source": [
    "ara=np.arange(25)\n",
    "ara=ara.reshape((5,5))\n",
    "ara"
   ]
  },
  {
   "cell_type": "code",
   "execution_count": 30,
   "id": "8ce681ed",
   "metadata": {},
   "outputs": [
    {
     "name": "stdout",
     "output_type": "stream",
     "text": [
      "enter force10\n",
      "enter angle50\n",
      "6.480866320655495\n"
     ]
    }
   ],
   "source": [
    "def force():\n",
    "    a=int(input(\"enter force\"))\n",
    "    x=float(input(\"enter angle\"))\n",
    "    F= f*np.sin(x)\n",
    "    print(F)\n",
    "force()"
   ]
  },
  {
   "cell_type": "code",
   "execution_count": null,
   "id": "b52d2a15",
   "metadata": {},
   "outputs": [],
   "source": []
  },
  {
   "cell_type": "code",
   "execution_count": null,
   "id": "f47e1313",
   "metadata": {},
   "outputs": [],
   "source": []
  }
 ],
 "metadata": {
  "kernelspec": {
   "display_name": "Python 3 (ipykernel)",
   "language": "python",
   "name": "python3"
  },
  "language_info": {
   "codemirror_mode": {
    "name": "ipython",
    "version": 3
   },
   "file_extension": ".py",
   "mimetype": "text/x-python",
   "name": "python",
   "nbconvert_exporter": "python",
   "pygments_lexer": "ipython3",
   "version": "3.9.13"
  }
 },
 "nbformat": 4,
 "nbformat_minor": 5
}
