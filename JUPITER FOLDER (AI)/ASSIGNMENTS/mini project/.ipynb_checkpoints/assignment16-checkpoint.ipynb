{
 "cells": [
  {
   "cell_type": "markdown",
   "id": "c1ac3beb",
   "metadata": {},
   "source": [
    "### assignment 16\n",
    "\n",
    "## kartik thakur"
   ]
  },
  {
   "cell_type": "code",
   "execution_count": null,
   "id": "b48f3e82",
   "metadata": {},
   "outputs": [],
   "source": [
    "# 1. Merge the two files in one dataframe\n",
    "# 2. Clean the data\n",
    "# 3. Change the float column into integer type\n",
    "# 4. Get the month value from the order date\n",
    "# 5. Which was the most productive month in terms of sales?\n",
    "# 6.  Which city had the highest number of sales?\n",
    "# 7. At what time people did purchase the product?\n",
    "# 8. What is the average purchase by city?"
   ]
  },
  {
   "cell_type": "code",
   "execution_count": null,
   "id": "6450d27c",
   "metadata": {},
   "outputs": [],
   "source": [
    "import pandas as pd\n",
    "\n",
    "f1= pd.read_csv(\"Sales_December_2019.csv\")\n",
    "df1=pd.DataFrame(f1)\n",
    "df1.head()"
   ]
  },
  {
   "cell_type": "code",
   "execution_count": null,
   "id": "1818a51f",
   "metadata": {},
   "outputs": [],
   "source": [
    "f2= pd.read_csv(\"Sales_June_2019.csv\")\n",
    "df2=pd.DataFrame(f2)"
   ]
  },
  {
   "cell_type": "markdown",
   "id": "d50c2eb0",
   "metadata": {},
   "source": [
    "# #1 merge the files in one dataframe"
   ]
  },
  {
   "cell_type": "code",
   "execution_count": null,
   "id": "6cd35448",
   "metadata": {},
   "outputs": [],
   "source": [
    "df=pd.concat([df1,df2])"
   ]
  },
  {
   "cell_type": "code",
   "execution_count": null,
   "id": "92e8ec7c",
   "metadata": {},
   "outputs": [],
   "source": [
    "\n",
    "pd.set_option('display.max_rows', None)\n",
    "df"
   ]
  },
  {
   "cell_type": "markdown",
   "id": "867428b9",
   "metadata": {},
   "source": [
    "##  Clean the data "
   ]
  },
  {
   "cell_type": "code",
   "execution_count": null,
   "id": "3c0b818c",
   "metadata": {},
   "outputs": [],
   "source": [
    "# checking the null values firstly\n",
    "df.isnull().sum()"
   ]
  },
  {
   "cell_type": "code",
   "execution_count": null,
   "id": "30145b6e",
   "metadata": {},
   "outputs": [],
   "source": [
    "df.dropna(inplace=True)\n",
    "df.isnull().sum()"
   ]
  },
  {
   "cell_type": "markdown",
   "id": "0443aa8d",
   "metadata": {},
   "source": [
    "## 3. Change the float column into integer type"
   ]
  },
  {
   "cell_type": "code",
   "execution_count": null,
   "id": "575dfa82",
   "metadata": {},
   "outputs": [],
   "source": [
    "df.dtypes"
   ]
  },
  {
   "cell_type": "code",
   "execution_count": null,
   "id": "0dbb18ef",
   "metadata": {},
   "outputs": [],
   "source": [
    "df['Price Each'] = pd.to_numeric(df['Price Each'],errors='coerce')\n",
    "df['Price Each'].dtype\n",
    "\n"
   ]
  },
  {
   "cell_type": "code",
   "execution_count": null,
   "id": "5b93edc4",
   "metadata": {},
   "outputs": [],
   "source": [
    "df['Quantity Ordered']=pd.to_numeric(df['Quantity Ordered'],errors='coerce')\n"
   ]
  },
  {
   "cell_type": "code",
   "execution_count": null,
   "id": "258b2762",
   "metadata": {},
   "outputs": [],
   "source": [
    "df.info()"
   ]
  },
  {
   "cell_type": "markdown",
   "id": "e2c07064",
   "metadata": {},
   "source": [
    "# 4. Get the month value from the order date"
   ]
  },
  {
   "cell_type": "code",
   "execution_count": null,
   "id": "560a075e",
   "metadata": {},
   "outputs": [],
   "source": [
    "df['month'] = df['Order Date'].str.split('/', expand=True)[0]\n",
    "df\n"
   ]
  },
  {
   "cell_type": "markdown",
   "id": "498d15a1",
   "metadata": {},
   "source": [
    "# 5. Which was the most productive month in terms of sales?"
   ]
  },
  {
   "cell_type": "code",
   "execution_count": null,
   "id": "c7ad4a62",
   "metadata": {},
   "outputs": [],
   "source": [
    "df['revenue'] = df['Price Each'] * df['Quantity Ordered']\n",
    "revenue_by_month = df.groupby('month')['revenue'].sum()\n",
    "sorted_revenue = revenue_by_month.sort_values(ascending=False)\n",
    "most_revenue_month = sorted_revenue.index[0]\n",
    "print(f\"The month with the most revenue is {most_revenue_month}\")"
   ]
  },
  {
   "cell_type": "markdown",
   "id": "d372964d",
   "metadata": {},
   "source": [
    "# 6.  Which city had the highest number of sales?"
   ]
  },
  {
   "cell_type": "code",
   "execution_count": null,
   "id": "b5900391",
   "metadata": {},
   "outputs": [],
   "source": [
    "y=[]\n",
    "for x in df['Purchase Address']:\n",
    "    m=x.split(',')\n",
    "    y.append(m)\n",
    "y"
   ]
  },
  {
   "cell_type": "code",
   "execution_count": null,
   "id": "7ed17148",
   "metadata": {},
   "outputs": [],
   "source": []
  },
  {
   "cell_type": "code",
   "execution_count": null,
   "id": "f2efc5de",
   "metadata": {},
   "outputs": [],
   "source": []
  },
  {
   "cell_type": "code",
   "execution_count": null,
   "id": "3027a410",
   "metadata": {},
   "outputs": [],
   "source": []
  },
  {
   "cell_type": "code",
   "execution_count": null,
   "id": "0a5ebfb2",
   "metadata": {},
   "outputs": [],
   "source": []
  }
 ],
 "metadata": {
  "kernelspec": {
   "display_name": "Python 3 (ipykernel)",
   "language": "python",
   "name": "python3"
  },
  "language_info": {
   "codemirror_mode": {
    "name": "ipython",
    "version": 3
   },
   "file_extension": ".py",
   "mimetype": "text/x-python",
   "name": "python",
   "nbconvert_exporter": "python",
   "pygments_lexer": "ipython3",
   "version": "3.9.13"
  }
 },
 "nbformat": 4,
 "nbformat_minor": 5
}
