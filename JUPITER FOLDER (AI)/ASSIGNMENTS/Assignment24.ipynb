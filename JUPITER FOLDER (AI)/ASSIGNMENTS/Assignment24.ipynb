{
  "nbformat": 4,
  "nbformat_minor": 0,
  "metadata": {
    "colab": {
      "provenance": []
    },
    "kernelspec": {
      "name": "python3",
      "display_name": "Python 3"
    },
    "language_info": {
      "name": "python"
    }
  },
  "cells": [
    {
      "cell_type": "code",
      "source": [
        "# Use Conv2D and Max pooling on Mnist Fashion dataset to predict the class"
      ],
      "metadata": {
        "id": "02mgO3ijo6dH"
      },
      "execution_count": 33,
      "outputs": []
    },
    {
      "cell_type": "code",
      "source": [
        "import numpy as np\n",
        "import pandas as pd\n",
        "import keras\n",
        "import matplotlib.pyplot as plt\n"
      ],
      "metadata": {
        "id": "HMZvWzExpLwi"
      },
      "execution_count": 34,
      "outputs": []
    },
    {
      "cell_type": "code",
      "source": [],
      "metadata": {
        "id": "CrKX3bgcZN_z"
      },
      "execution_count": 34,
      "outputs": []
    },
    {
      "cell_type": "code",
      "source": [
        "from keras.models import Sequential\n",
        "from keras.layers import Conv2D,MaxPooling2D,Activation,Flatten,Dense,Dropout\n",
        "from keras.datasets import fashion_mnist\n"
      ],
      "metadata": {
        "id": "aUR8rc99pZt0"
      },
      "execution_count": 35,
      "outputs": []
    },
    {
      "cell_type": "code",
      "source": [
        "(train_X,train_Y), (test_X,test_Y) = fashion_mnist.load_data()"
      ],
      "metadata": {
        "id": "YgFUlIR2qXlz"
      },
      "execution_count": 36,
      "outputs": []
    },
    {
      "cell_type": "code",
      "source": [
        "# analysisng the data"
      ],
      "metadata": {
        "id": "7DaLeWOtMl-h"
      },
      "execution_count": 37,
      "outputs": []
    },
    {
      "cell_type": "code",
      "source": [
        "import numpy as np\n",
        "from keras.utils import to_categorical\n",
        "import matplotlib.pyplot as plt\n",
        "%matplotlib inline\n",
        "\n",
        "print('Training data shape : ', train_X.shape, train_Y.shape)\n",
        "\n",
        "print('Testing data shape : ', test_X.shape, test_Y.shape)\n"
      ],
      "metadata": {
        "colab": {
          "base_uri": "https://localhost:8080/"
        },
        "id": "615ffq5TM-SS",
        "outputId": "52935e0f-f0a5-45db-8668-841fb91d526d"
      },
      "execution_count": 38,
      "outputs": [
        {
          "output_type": "stream",
          "name": "stdout",
          "text": [
            "Training data shape :  (60000, 28, 28) (60000,)\n",
            "Testing data shape :  (10000, 28, 28) (10000,)\n"
          ]
        }
      ]
    },
    {
      "cell_type": "code",
      "source": [
        "# Find the unique numbers from the train labels\n",
        "classes = np.unique(train_Y)\n",
        "nClasses = len(classes)\n",
        "print('Total number of outputs : ', nClasses)\n",
        "print('Output classes : ', classes)\n"
      ],
      "metadata": {
        "colab": {
          "base_uri": "https://localhost:8080/"
        },
        "id": "tWcrKKMrM-93",
        "outputId": "37260f60-fe47-4636-c486-74ea32a48f91"
      },
      "execution_count": 39,
      "outputs": [
        {
          "output_type": "stream",
          "name": "stdout",
          "text": [
            "Total number of outputs :  10\n",
            "Output classes :  [0 1 2 3 4 5 6 7 8 9]\n"
          ]
        }
      ]
    },
    {
      "cell_type": "code",
      "source": [
        "plt.figure(figsize=[5,5])\n",
        "\n",
        "# Display the first image in training data\n",
        "plt.subplot(121)\n",
        "plt.imshow(train_X[0,:,:], cmap='gray')\n",
        "plt.title(\"Ground Truth : {}\".format(train_Y[0]))\n",
        "\n",
        "# Display the first image in testing data\n",
        "plt.subplot(122)\n",
        "plt.imshow(test_X[0,:,:], cmap='gray')\n",
        "plt.title(\"Ground Truth : {}\".format(test_Y[0]))"
      ],
      "metadata": {
        "colab": {
          "base_uri": "https://localhost:8080/",
          "height": 277
        },
        "id": "DpPY6NdsNSyQ",
        "outputId": "907b5d9c-6037-471a-d39c-ca9f88a70f8f"
      },
      "execution_count": 40,
      "outputs": [
        {
          "output_type": "execute_result",
          "data": {
            "text/plain": [
              "Text(0.5, 1.0, 'Ground Truth : 9')"
            ]
          },
          "metadata": {},
          "execution_count": 40
        },
        {
          "output_type": "display_data",
          "data": {
            "text/plain": [
              "<Figure size 500x500 with 2 Axes>"
            ],
            "image/png": "[encoded data removed]"
          },
          "metadata": {}
        }
      ]
    },
    {
      "cell_type": "code",
      "source": [
        "train_X = train_X.reshape(-1, 28,28, 1)\n",
        "test_X = test_X.reshape(-1, 28,28, 1)\n",
        "train_X.shape, test_X.shape\n",
        "\n"
      ],
      "metadata": {
        "colab": {
          "base_uri": "https://localhost:8080/"
        },
        "id": "Gaxv5BiFNYrH",
        "outputId": "9d22009e-9848-4194-9ae6-ea44e2e0a92a"
      },
      "execution_count": 41,
      "outputs": [
        {
          "output_type": "execute_result",
          "data": {
            "text/plain": [
              "((60000, 28, 28, 1), (10000, 28, 28, 1))"
            ]
          },
          "metadata": {},
          "execution_count": 41
        }
      ]
    },
    {
      "cell_type": "code",
      "source": [],
      "metadata": {
        "id": "riPQwaEcNd4Z"
      },
      "execution_count": 41,
      "outputs": []
    },
    {
      "cell_type": "code",
      "source": [
        "train_X = train_X.astype('float32')\n",
        "test_X = test_X.astype('float32')\n",
        "train_X = train_X / 255.\n",
        "test_X = test_X / 255."
      ],
      "metadata": {
        "id": "6a5UgZpdQgmb"
      },
      "execution_count": 42,
      "outputs": []
    },
    {
      "cell_type": "code",
      "source": [
        "# using one hot encoding on y train labels"
      ],
      "metadata": {
        "id": "JMlzvF2_Q-hB"
      },
      "execution_count": 43,
      "outputs": []
    },
    {
      "cell_type": "code",
      "source": [
        "# Change the labels from categorical to one-hot encoding\n",
        "train_Y_one_hot = to_categorical(train_Y)\n",
        "test_Y_one_hot = to_categorical(test_Y)\n",
        "\n",
        "# Display the change for category label using one-hot encoding\n",
        "print('Original label:', train_Y[0])\n",
        "print('After conversion to one-hot:', train_Y_one_hot[0])\n"
      ],
      "metadata": {
        "colab": {
          "base_uri": "https://localhost:8080/"
        },
        "id": "bgmHVxJCRGmb",
        "outputId": "41d5a33e-972b-4abc-8318-d079f8d5468e"
      },
      "execution_count": 44,
      "outputs": [
        {
          "output_type": "stream",
          "name": "stdout",
          "text": [
            "Original label: 9\n",
            "After conversion to one-hot: [0. 0. 0. 0. 0. 0. 0. 0. 0. 1.]\n"
          ]
        }
      ]
    },
    {
      "cell_type": "code",
      "source": [
        "from sklearn.model_selection import train_test_split\n",
        "train_X,valid_X,train_label,valid_label = train_test_split(train_X, train_Y_one_hot, test_size=0.2, random_state=13)\n"
      ],
      "metadata": {
        "id": "S67Q6QHARHG3"
      },
      "execution_count": 45,
      "outputs": []
    },
    {
      "cell_type": "code",
      "source": [
        "\n"
      ],
      "metadata": {
        "id": "jFgG2BwEX-77"
      },
      "execution_count": 45,
      "outputs": []
    },
    {
      "cell_type": "code",
      "source": [
        "batch_size = 64\n",
        "epochs = 5\n",
        "num_classes = 10\n"
      ],
      "metadata": {
        "id": "-FxoH81FRZ4C"
      },
      "execution_count": 32,
      "outputs": []
    },
    {
      "cell_type": "code",
      "source": [
        "fashion_model = Sequential()\n",
        "fashion_model.add(Conv2D(32, kernel_size=(3, 3), activation='relu', input_shape=(28, 28, 1)))\n",
        "fashion_model.add(MaxPooling2D(pool_size=(2, 2)))\n",
        "fashion_model.add(Conv2D(64, (3, 3), activation='relu'))\n",
        "fashion_model.add(MaxPooling2D(pool_size=(2, 2)))\n",
        "fashion_model.add(Flatten())\n",
        "fashion_model.add(Dense(128, activation='relu'))\n",
        "fashion_model.add(Dropout(0.5))\n",
        "fashion_model.add(Dense(num_classes, activation='softmax'))\n"
      ],
      "metadata": {
        "id": "FViD_TixSkY9"
      },
      "execution_count": 46,
      "outputs": []
    },
    {
      "cell_type": "code",
      "source": [
        "fashion_model.compile(loss=keras.losses.categorical_crossentropy, optimizer=keras.optimizers.Adam(),metrics=['accuracy'])\n"
      ],
      "metadata": {
        "id": "6bEk5X3vX7q9"
      },
      "execution_count": 47,
      "outputs": []
    },
    {
      "cell_type": "code",
      "source": [
        "fashion_model.summary()\n"
      ],
      "metadata": {
        "colab": {
          "base_uri": "https://localhost:8080/"
        },
        "id": "4s4Eq3A2YqUg",
        "outputId": "ee1341fe-e341-4cde-9f3f-03d338e4589d"
      },
      "execution_count": 48,
      "outputs": [
        {
          "output_type": "stream",
          "name": "stdout",
          "text": [
            "Model: \"sequential_1\"\n",
            "_________________________________________________________________\n",
            " Layer (type)                Output Shape              Param #   \n",
            "=================================================================\n",
            " conv2d_2 (Conv2D)           (None, 26, 26, 32)        320       \n",
            "                                                                 \n",
            " max_pooling2d_2 (MaxPooling  (None, 13, 13, 32)       0         \n",
            " 2D)                                                             \n",
            "                                                                 \n",
            " conv2d_3 (Conv2D)           (None, 11, 11, 64)        18496     \n",
            "                                                                 \n",
            " max_pooling2d_3 (MaxPooling  (None, 5, 5, 64)         0         \n",
            " 2D)                                                             \n",
            "                                                                 \n",
            " flatten_1 (Flatten)         (None, 1600)              0         \n",
            "                                                                 \n",
            " dense_2 (Dense)             (None, 128)               204928    \n",
            "                                                                 \n",
            " dropout_1 (Dropout)         (None, 128)               0         \n",
            "                                                                 \n",
            " dense_3 (Dense)             (None, 10)                1290      \n",
            "                                                                 \n",
            "=================================================================\n",
            "Total params: 225,034\n",
            "Trainable params: 225,034\n",
            "Non-trainable params: 0\n",
            "_________________________________________________________________\n"
          ]
        }
      ]
    },
    {
      "cell_type": "code",
      "source": [
        "fashion_train = fashion_model.fit(train_X, train_label, batch_size=batch_size,epochs=epochs,verbose=1,validation_data=(valid_X, valid_label))\n"
      ],
      "metadata": {
        "colab": {
          "base_uri": "https://localhost:8080/"
        },
        "id": "Oa9jwpm7Y6oS",
        "outputId": "70a3e499-d5ae-4fc9-b0a6-863bb83ee42c"
      },
      "execution_count": 31,
      "outputs": [
        {
          "output_type": "stream",
          "name": "stdout",
          "text": [
            "Epoch 1/20\n",
            "750/750 [==============================] - 49s 65ms/step - loss: 0.1569 - accuracy: 0.9389 - val_loss: 0.2814 - val_accuracy: 0.9114\n",
            "Epoch 2/20\n",
            "750/750 [==============================] - 52s 69ms/step - loss: 0.1503 - accuracy: 0.9418 - val_loss: 0.2886 - val_accuracy: 0.9124\n",
            "Epoch 3/20\n",
            "750/750 [==============================] - 50s 66ms/step - loss: 0.1467 - accuracy: 0.9429 - val_loss: 0.2888 - val_accuracy: 0.9152\n",
            "Epoch 4/20\n",
            "750/750 [==============================] - 49s 66ms/step - loss: 0.1413 - accuracy: 0.9444 - val_loss: 0.2970 - val_accuracy: 0.9158\n",
            "Epoch 5/20\n",
            "750/750 [==============================] - 47s 63ms/step - loss: 0.1380 - accuracy: 0.9468 - val_loss: 0.2875 - val_accuracy: 0.9168\n",
            "Epoch 6/20\n",
            "750/750 [==============================] - 51s 68ms/step - loss: 0.1343 - accuracy: 0.9479 - val_loss: 0.3094 - val_accuracy: 0.9123\n",
            "Epoch 7/20\n",
            "750/750 [==============================] - 51s 68ms/step - loss: 0.1313 - accuracy: 0.9486 - val_loss: 0.2948 - val_accuracy: 0.9152\n",
            "Epoch 8/20\n",
            "750/750 [==============================] - 49s 65ms/step - loss: 0.1246 - accuracy: 0.9505 - val_loss: 0.3099 - val_accuracy: 0.9154\n",
            "Epoch 9/20\n",
            "750/750 [==============================] - 50s 66ms/step - loss: 0.1216 - accuracy: 0.9523 - val_loss: 0.2996 - val_accuracy: 0.9181\n",
            "Epoch 10/20\n",
            "750/750 [==============================] - 50s 66ms/step - loss: 0.1213 - accuracy: 0.9517 - val_loss: 0.3214 - val_accuracy: 0.9137\n",
            "Epoch 11/20\n",
            "750/750 [==============================] - 48s 64ms/step - loss: 0.1161 - accuracy: 0.9540 - val_loss: 0.3206 - val_accuracy: 0.9154\n",
            "Epoch 12/20\n",
            "750/750 [==============================] - 51s 68ms/step - loss: 0.1141 - accuracy: 0.9540 - val_loss: 0.3299 - val_accuracy: 0.9136\n",
            "Epoch 13/20\n",
            "750/750 [==============================] - 51s 68ms/step - loss: 0.1112 - accuracy: 0.9546 - val_loss: 0.3257 - val_accuracy: 0.9149\n",
            "Epoch 14/20\n",
            "750/750 [==============================] - 49s 65ms/step - loss: 0.1070 - accuracy: 0.9561 - val_loss: 0.3371 - val_accuracy: 0.9147\n",
            "Epoch 15/20\n",
            "750/750 [==============================] - 47s 63ms/step - loss: 0.1049 - accuracy: 0.9577 - val_loss: 0.3556 - val_accuracy: 0.9126\n",
            "Epoch 16/20\n",
            "750/750 [==============================] - 49s 65ms/step - loss: 0.1032 - accuracy: 0.9586 - val_loss: 0.3597 - val_accuracy: 0.9148\n",
            "Epoch 17/20\n",
            "750/750 [==============================] - 49s 65ms/step - loss: 0.0997 - accuracy: 0.9604 - val_loss: 0.3666 - val_accuracy: 0.9158\n",
            "Epoch 18/20\n",
            "750/750 [==============================] - 47s 63ms/step - loss: 0.0994 - accuracy: 0.9599 - val_loss: 0.3808 - val_accuracy: 0.9158\n",
            "Epoch 19/20\n",
            "750/750 [==============================] - 51s 68ms/step - loss: 0.1007 - accuracy: 0.9589 - val_loss: 0.3737 - val_accuracy: 0.9142\n",
            "Epoch 20/20\n",
            "750/750 [==============================] - 51s 68ms/step - loss: 0.0956 - accuracy: 0.9610 - val_loss: 0.3670 - val_accuracy: 0.9139\n"
          ]
        }
      ]
    },
    {
      "cell_type": "code",
      "source": [
        "predictions=fashion_model.predict(test_X)"
      ],
      "metadata": {
        "colab": {
          "base_uri": "https://localhost:8080/"
        },
        "id": "mb303Y_y044I",
        "outputId": "3677cc21-ebc4-49b8-82a3-8ae3fb752b81"
      },
      "execution_count": 49,
      "outputs": [
        {
          "output_type": "stream",
          "name": "stdout",
          "text": [
            "313/313 [==============================] - 3s 10ms/step\n"
          ]
        }
      ]
    },
    {
      "cell_type": "code",
      "source": [
        "# evaluate the model"
      ],
      "metadata": {
        "id": "0BN7SDA0Y-Jy"
      },
      "execution_count": 50,
      "outputs": []
    },
    {
      "cell_type": "code",
      "source": [
        "test_eval = fashion_model.evaluate(test_X, test_Y_one_hot, verbose=0)\n"
      ],
      "metadata": {
        "id": "EewpdU2gY_7l"
      },
      "execution_count": 51,
      "outputs": []
    },
    {
      "cell_type": "code",
      "source": [
        "print('Test loss:', test_eval[0])\n",
        "print('Test accuracy:', test_eval[1])\n"
      ],
      "metadata": {
        "colab": {
          "base_uri": "https://localhost:8080/"
        },
        "id": "nTVsIML8ZB54",
        "outputId": "ab87095d-8436-42fc-df4a-f71913c2c919"
      },
      "execution_count": 52,
      "outputs": [
        {
          "output_type": "stream",
          "name": "stdout",
          "text": [
            "Test loss: 2.3254783153533936\n",
            "Test accuracy: 0.03370000049471855\n"
          ]
        }
      ]
    },
    {
      "cell_type": "code",
      "source": [
        "('Test loss:', 0.46366268818555401)\n",
        "('Test accuracy:', 0.91839999999999999)\n"
      ],
      "metadata": {
        "colab": {
          "base_uri": "https://localhost:8080/"
        },
        "id": "2WnWF6-NZDY2",
        "outputId": "e0d6d87e-05b7-409d-9e32-fb9d2af7655c"
      },
      "execution_count": 53,
      "outputs": [
        {
          "output_type": "execute_result",
          "data": {
            "text/plain": [
              "('Test accuracy:', 0.9184)"
            ]
          },
          "metadata": {},
          "execution_count": 53
        }
      ]
    },
    {
      "cell_type": "code",
      "source": [],
      "metadata": {
        "id": "n7VVmeMpZD2m"
      },
      "execution_count": 53,
      "outputs": []
    },
    {
      "cell_type": "code",
      "source": [],
      "metadata": {
        "id": "pWLavnCw0gm_"
      },
      "execution_count": 53,
      "outputs": []
    }
  ]
}