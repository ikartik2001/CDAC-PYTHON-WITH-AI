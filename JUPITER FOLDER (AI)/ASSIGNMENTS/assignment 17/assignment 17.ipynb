{
 "cells": [
  {
   "cell_type": "markdown",
   "id": "310a93dd",
   "metadata": {},
   "source": [
    "### Assignment 17\n",
    "### kartik singh"
   ]
  },
  {
   "cell_type": "code",
   "execution_count": 1,
   "id": "fba6be83",
   "metadata": {},
   "outputs": [],
   "source": [
    "# Predict the selling price of car from the given dataset using Linear Regression Model\n",
    "# Column Name:\n",
    "# name: Name of Car\n",
    "# year: In which year car is purchased\n",
    "# selling_price: Selling price of Car\n",
    "# km_driven: Car driven in Kms\n",
    "# fuel: Type of car Petrol,Diesel or CNG\n",
    "# seller_type: who is selling the car\n",
    "# transmission: car is automatic or manual\n",
    "# mileage: Mileage of Car\n",
    "# engine: Car Engine in cc\n",
    "# max_power: Maximum power of car\n",
    "# seats: Number of seats in car"
   ]
  },
  {
   "cell_type": "code",
   "execution_count": 2,
   "id": "03b2f7ea",
   "metadata": {},
   "outputs": [],
   "source": [
    "# firstly import the necessarry libraries \n",
    "import pandas as pd\n",
    "import numpy as np\n",
    "import matplotlib.pyplot as plt\n",
    "import seaborn as sns\n",
    "import sklearn "
   ]
  },
  {
   "cell_type": "code",
   "execution_count": null,
   "id": "e83ea9a2",
   "metadata": {},
   "outputs": [],
   "source": []
  }
 ],
 "metadata": {
  "kernelspec": {
   "display_name": "Python 3 (ipykernel)",
   "language": "python",
   "name": "python3"
  },
  "language_info": {
   "codemirror_mode": {
    "name": "ipython",
    "version": 3
   },
   "file_extension": ".py",
   "mimetype": "text/x-python",
   "name": "python",
   "nbconvert_exporter": "python",
   "pygments_lexer": "ipython3",
   "version": "3.9.13"
  }
 },
 "nbformat": 4,
 "nbformat_minor": 5
}
