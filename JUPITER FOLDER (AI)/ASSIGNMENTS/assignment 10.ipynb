{
 "cells": [
  {
   "cell_type": "markdown",
   "id": "be677e10",
   "metadata": {},
   "source": [
    "## ASSIGNMENT 10\n",
    "### KARTIK THKAUR"
   ]
  },
  {
   "cell_type": "markdown",
   "id": "5c66be67",
   "metadata": {},
   "source": [
    "### 1. Create a Series from numpy array generated from random function randn and get the third place value."
   ]
  },
  {
   "cell_type": "code",
   "execution_count": 29,
   "id": "8ddc96c7",
   "metadata": {},
   "outputs": [
    {
     "data": {
      "text/plain": [
       "0    1.228386\n",
       "1    0.998447\n",
       "2   -0.572661\n",
       "3    0.621883\n",
       "4    0.832355\n",
       "dtype: float64"
      ]
     },
     "execution_count": 29,
     "metadata": {},
     "output_type": "execute_result"
    }
   ],
   "source": [
    "import pandas as pd\n",
    "import numpy as np\n",
    "\n",
    "d=np.random.randn(5)\n",
    "\n",
    "dp=pd.Series(d)\n",
    "dp\n"
   ]
  },
  {
   "cell_type": "code",
   "execution_count": 30,
   "id": "849ece72",
   "metadata": {},
   "outputs": [
    {
     "data": {
      "text/plain": [
       "0.6218826551312114"
      ]
     },
     "execution_count": 30,
     "metadata": {},
     "output_type": "execute_result"
    }
   ],
   "source": [
    "# showing 3rd place value\n",
    "d[3]"
   ]
  },
  {
   "cell_type": "markdown",
   "id": "9fb115dc",
   "metadata": {},
   "source": [
    "## 2. Create a Dataframe from dictionary having keys: Country, State, Population and values in the list upto 4 values. Population values = [200, 700,100, 500, 800, 50, 900]"
   ]
  },
  {
   "cell_type": "code",
   "execution_count": 76,
   "id": "7072e6d3",
   "metadata": {},
   "outputs": [
    {
     "data": {
      "text/html": [
       "<div>\n",
       "<style scoped>\n",
       "    .dataframe tbody tr th:only-of-type {\n",
       "        vertical-align: middle;\n",
       "    }\n",
       "\n",
       "    .dataframe tbody tr th {\n",
       "        vertical-align: top;\n",
       "    }\n",
       "\n",
       "    .dataframe thead th {\n",
       "        text-align: right;\n",
       "    }\n",
       "</style>\n",
       "<table border=\"1\" class=\"dataframe\">\n",
       "  <thead>\n",
       "    <tr style=\"text-align: right;\">\n",
       "      <th></th>\n",
       "      <th>Country</th>\n",
       "      <th>State</th>\n",
       "      <th>Population</th>\n",
       "    </tr>\n",
       "  </thead>\n",
       "  <tbody>\n",
       "    <tr>\n",
       "      <th>0</th>\n",
       "      <td>Nepal</td>\n",
       "      <td>Bagmati Province, Sudurpashchim Province, Karn...</td>\n",
       "      <td>200</td>\n",
       "    </tr>\n",
       "    <tr>\n",
       "      <th>1</th>\n",
       "      <td>Bangladesh</td>\n",
       "      <td>Barisal Division, Chittagong Division, Dhaka D...</td>\n",
       "      <td>700</td>\n",
       "    </tr>\n",
       "    <tr>\n",
       "      <th>2</th>\n",
       "      <td>Pakistan</td>\n",
       "      <td>Azad Jammu and Kashmir, Balochistan, Gilgit-Ba...</td>\n",
       "      <td>100</td>\n",
       "    </tr>\n",
       "    <tr>\n",
       "      <th>3</th>\n",
       "      <td>Mauritius</td>\n",
       "      <td>Agaléga Islands, Black River, Cargados Carajos...</td>\n",
       "      <td>500</td>\n",
       "    </tr>\n",
       "    <tr>\n",
       "      <th>4</th>\n",
       "      <td>India</td>\n",
       "      <td>Andhra Pradesh, Arunachal Pradesh, Assam, Biha...</td>\n",
       "      <td>800</td>\n",
       "    </tr>\n",
       "    <tr>\n",
       "      <th>5</th>\n",
       "      <td>Canada</td>\n",
       "      <td>Alberta, British Columbia, Manitoba, New Bruns...</td>\n",
       "      <td>50</td>\n",
       "    </tr>\n",
       "    <tr>\n",
       "      <th>6</th>\n",
       "      <td>China</td>\n",
       "      <td>Anhui, Fujian, Gansu, Guangdong, Guizhou, Hain...</td>\n",
       "      <td>900</td>\n",
       "    </tr>\n",
       "  </tbody>\n",
       "</table>\n",
       "</div>"
      ],
      "text/plain": [
       "      Country                                              State  Population\n",
       "0       Nepal  Bagmati Province, Sudurpashchim Province, Karn...         200\n",
       "1  Bangladesh  Barisal Division, Chittagong Division, Dhaka D...         700\n",
       "2    Pakistan  Azad Jammu and Kashmir, Balochistan, Gilgit-Ba...         100\n",
       "3   Mauritius  Agaléga Islands, Black River, Cargados Carajos...         500\n",
       "4       India  Andhra Pradesh, Arunachal Pradesh, Assam, Biha...         800\n",
       "5      Canada  Alberta, British Columbia, Manitoba, New Bruns...          50\n",
       "6       China  Anhui, Fujian, Gansu, Guangdong, Guizhou, Hain...         900"
      ]
     },
     "execution_count": 76,
     "metadata": {},
     "output_type": "execute_result"
    }
   ],
   "source": [
    "country = {\n",
    "    \"Country\": [\"Nepal\", \"Bangladesh\", \"Pakistan\", \"Mauritius\", \"India\", \"Canada\", \"China\"],\n",
    "    \"State\": [\n",
    "        \"Bagmati Province, Sudurpashchim Province, Karnali Province, Gandaki Province, Lumbini Province, Province No. 1, Province No. 2\",\n",
    "        \"Barisal Division, Chittagong Division, Dhaka Division, Khulna Division, Mymensingh Division, Rajshahi Division, Rangpur Division, Sylhet Division\",\n",
    "        \"Azad Jammu and Kashmir, Balochistan, Gilgit-Baltistan, Islamabad Capital Territory, Khyber Pakhtunkhwa, Punjab, Sindh\",\n",
    "        \"Agaléga Islands, Black River, Cargados Carajos Shoals (Saint Brandon), Flacq, Grand Port, Moka, Pamplemousses, Plaines Wilhems, Port Louis, Rivière du Rempart, Rodrigues, Savanne\",\n",
    "        \"Andhra Pradesh, Arunachal Pradesh, Assam, Bihar, Chhattisgarh, Goa, Gujarat, Haryana, Himachal Pradesh, Jharkhand, Karnataka, Kerala, Madhya Pradesh, Maharashtra, Manipur, Meghalaya, Mizoram, Nagaland, Odisha, Punjab, Rajasthan, Sikkim, Tamil Nadu, Telangana, Tripura, Uttar Pradesh, Uttarakhand, West Bengal\",\n",
    "        \"Alberta, British Columbia, Manitoba, New Brunswick, Newfoundland and Labrador, Northwest Territories, Nova Scotia, Nunavut, Ontario, Prince Edward Island, Quebec, Saskatchewan, Yukon\",\n",
    "        \"Anhui, Fujian, Gansu, Guangdong, Guizhou, Hainan, Hebei, Heilongjiang, Henan, Hubei, Hunan, Jiangsu, Jiangxi, Jilin, Liaoning, Qinghai, Shaanxi, Shandong, Shanxi, Sichuan, Yunnan, Zhejiang, Guangxi, Inner Mongolia, Ningxia, Tibet, Xinjiang, Beijing, Chongqing, Shanghai, Tianjin\"\n",
    "    ],\n",
    "    \"Population\": [200, 700, 100, 500, 800, 50, 900]\n",
    "}\n",
    "\n",
    "d=pd.DataFrame(country)\n",
    "d"
   ]
  },
  {
   "cell_type": "code",
   "execution_count": null,
   "id": "d81701fc",
   "metadata": {},
   "outputs": [],
   "source": []
  },
  {
   "cell_type": "code",
   "execution_count": null,
   "id": "8b945533",
   "metadata": {},
   "outputs": [],
   "source": []
  },
  {
   "cell_type": "code",
   "execution_count": null,
   "id": "21f0e62b",
   "metadata": {},
   "outputs": [],
   "source": []
  },
  {
   "cell_type": "code",
   "execution_count": null,
   "id": "429df22e",
   "metadata": {},
   "outputs": [],
   "source": []
  },
  {
   "cell_type": "code",
   "execution_count": null,
   "id": "311395b9",
   "metadata": {},
   "outputs": [],
   "source": []
  }
 ],
 "metadata": {
  "kernelspec": {
   "display_name": "Python 3 (ipykernel)",
   "language": "python",
   "name": "python3"
  },
  "language_info": {
   "codemirror_mode": {
    "name": "ipython",
    "version": 3
   },
   "file_extension": ".py",
   "mimetype": "text/x-python",
   "name": "python",
   "nbconvert_exporter": "python",
   "pygments_lexer": "ipython3",
   "version": "3.9.12"
  }
 },
 "nbformat": 4,
 "nbformat_minor": 5
}
