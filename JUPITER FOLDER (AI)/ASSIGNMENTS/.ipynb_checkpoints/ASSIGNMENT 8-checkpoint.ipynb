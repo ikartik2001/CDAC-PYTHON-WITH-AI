{
 "cells": [
  {
   "cell_type": "markdown",
   "id": "f530a491",
   "metadata": {},
   "source": [
    "# ASSIGNMENT 8\n",
    "### KARTIK THAKUR"
   ]
  },
  {
   "cell_type": "markdown",
   "id": "c0b8544e",
   "metadata": {},
   "source": [
    "# Q1 Handle the exception thrown by the code below by using try and except blocks.\n",
    "\n",
    "\n",
    "\n",
    "\n",
    "\n",
    "## for i in ['a','b','c']: \n",
    "## print(i**2)"
   ]
  },
  {
   "cell_type": "code",
   "execution_count": 1,
   "id": "4b063ef7",
   "metadata": {},
   "outputs": [
    {
     "name": "stdout",
     "output_type": "stream",
     "text": [
      "Please recheck your code\n"
     ]
    }
   ],
   "source": [
    "try:\n",
    "    for i in ['a','b','c']:\n",
    "        \n",
    "        print(i**2)\n",
    "        \n",
    "except:\n",
    "    print(\"Please recheck your code\")"
   ]
  },
  {
   "cell_type": "markdown",
   "id": "c7ce5322",
   "metadata": {},
   "source": [
    "# Q1 2. Write a function that asks for an integer and prints the square of it. Use a while loop with a try, except, else block to account for incorrect inputs."
   ]
  },
  {
   "cell_type": "code",
   "execution_count": null,
   "id": "b8ad6c97",
   "metadata": {},
   "outputs": [],
   "source": [
    "while True:\n",
    "    try:\n",
    "        val = int(input(\"enter some digits\"))\n",
    "        print(val**2)\n",
    "        break\n",
    "\n",
    "    except:\n",
    "     print(\"your input is wrong\")\n",
    "\n",
    "else:\n",
    "    print(val)\n",
    "        \n",
    "        \n",
    "    \n",
    "  \n",
    "\n",
    "\n",
    "    "
   ]
  },
  {
   "cell_type": "markdown",
   "id": "dd199c7f",
   "metadata": {},
   "source": [
    "### 3. Create a 3x3 matrix with values ranging from 0 to 8"
   ]
  },
  {
   "cell_type": "code",
   "execution_count": null,
   "id": "b0d39285",
   "metadata": {},
   "outputs": [],
   "source": [
    "import numpy as np\n",
    "\n",
    "arry= np.array(0,9)\n",
    "arry"
   ]
  },
  {
   "cell_type": "code",
   "execution_count": null,
   "id": "1b142408",
   "metadata": {},
   "outputs": [],
   "source": []
  },
  {
   "cell_type": "code",
   "execution_count": null,
   "id": "577584de",
   "metadata": {},
   "outputs": [],
   "source": []
  }
 ],
 "metadata": {
  "kernelspec": {
   "display_name": "Python 3 (ipykernel)",
   "language": "python",
   "name": "python3"
  },
  "language_info": {
   "codemirror_mode": {
    "name": "ipython",
    "version": 3
   },
   "file_extension": ".py",
   "mimetype": "text/x-python",
   "name": "python",
   "nbconvert_exporter": "python",
   "pygments_lexer": "ipython3",
   "version": "3.9.12"
  }
 },
 "nbformat": 4,
 "nbformat_minor": 5
}
