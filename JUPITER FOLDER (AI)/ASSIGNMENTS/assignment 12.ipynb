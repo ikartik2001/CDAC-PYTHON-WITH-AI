{
 "cells": [
  {
   "cell_type": "markdown",
   "id": "ab2d80f9",
   "metadata": {},
   "source": [
    "## assignment 12\n",
    "\n",
    "## kartik thakur"
   ]
  },
  {
   "cell_type": "markdown",
   "id": "e3d7a78e",
   "metadata": {},
   "source": [
    "## 1. Create following Line Charts using matplotlib. Define title, x label, y label and legends whenever applicable.\n",
    " ### year = [2011, 2012, 2013, 2014, 2015]\n",
    "### minTemp = [28, 31, 32, 27, 35]\n",
    "### maxTemp = [38, 41, 43, 36, 39]\n",
    "### avgTemp = [31, 37, 34, 32, 37]\n",
    "\n",
    "create chart of year wise minimum temprature\n",
    "create chart of year wise minimum, maximum and average temprature (multiple lines in single plot)\n",
    "create subplots: year vs minTemp, year vs maxTemp and year vs avgTemp"
   ]
  },
  {
   "cell_type": "code",
   "execution_count": null,
   "id": "1ed2d304",
   "metadata": {},
   "outputs": [],
   "source": []
  },
  {
   "cell_type": "raw",
   "id": "16388d69",
   "metadata": {},
   "source": [
    "### 2. Visualize Company Sales Data (excel file is attached). Define title, x label, y label and legends whenever applicable.\n",
    "### Read Total profit of all months and show it using a line plot\n",
    "### Get total profit of all months and show line plot with the following Style properties\n",
    "###         Generated line plot must include following Style properties: –\n",
    "### Line Style dotted and Line-color should be red\n",
    "### Show legend at the lower right location.\n",
    "### X label name = Month Number\n",
    "### Y label name = Sold units number\n",
    "### Add a circle marker.\n",
    "### Line marker color as red\n",
    "### Line width should be 3\n",
    "### Display the number of units sold per month for each product using multiline plots. (i.e., Separate Plotline for each product ).\n",
    "### Read Bathing soap and facewash of all months and display it using the Subplot"
   ]
  },
  {
   "cell_type": "markdown",
   "id": "4e69184b",
   "metadata": {},
   "source": [
    "#### 2. Visualize Company Sales Data (excel file is attached). Define title, x label, y label and legends whenever applicable.\n",
    "#### Read Total profit of all months and show it using a line plot\n",
    "#### Get total profit of all months and show line plot with the following Style properties\n",
    "####         Generated line plot must include following Style properties: –\n",
    "#### Line Style dotted and Line-color should be red\n",
    "#### Show legend at the lower right location.\n",
    "#### X label name = Month Number\n",
    "#### Y label name = Sold units number\n",
    "#### Add a circle marker.\n",
    "#### Line marker color as red\n",
    "#### Line width should be 3\n",
    "#### Display the number of units sold per month for each product using multiline plots. (i.e., Separate Plotline for each product ).\n",
    "#### Read Bathing soap and facewash of all months and display it using the Subplot"
   ]
  },
  {
   "cell_type": "markdown",
   "id": "6be86f05",
   "metadata": {},
   "source": []
  },
  {
   "cell_type": "code",
   "execution_count": null,
   "id": "ee5c1f57",
   "metadata": {},
   "outputs": [],
   "source": []
  }
 ],
 "metadata": {
  "kernelspec": {
   "display_name": "Python 3 (ipykernel)",
   "language": "python",
   "name": "python3"
  },
  "language_info": {
   "codemirror_mode": {
    "name": "ipython",
    "version": 3
   },
   "file_extension": ".py",
   "mimetype": "text/x-python",
   "name": "python",
   "nbconvert_exporter": "python",
   "pygments_lexer": "ipython3",
   "version": "3.9.12"
  }
 },
 "nbformat": 4,
 "nbformat_minor": 5
}
