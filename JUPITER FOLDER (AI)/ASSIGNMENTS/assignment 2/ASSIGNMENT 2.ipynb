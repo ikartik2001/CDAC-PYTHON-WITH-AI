{
 "cells": [
  {
   "cell_type": "markdown",
   "id": "aa46ec4a",
   "metadata": {},
   "source": [
    "# ASSIGNMENT 2\n",
    "#KARTIK THAKUR"
   ]
  },
  {
   "cell_type": "markdown",
   "id": "fc8a7f99",
   "metadata": {},
   "source": [
    "### Q1 Access value 20 from the tuple, t = (\"oragne\",[10,20,30],[5,15,25])"
   ]
  },
  {
   "cell_type": "code",
   "execution_count": 38,
   "id": "60e9fd01",
   "metadata": {},
   "outputs": [
    {
     "name": "stdout",
     "output_type": "stream",
     "text": [
      "20\n"
     ]
    }
   ],
   "source": [
    "t = (\"oragne\",[10,20,30],[5,15,25])\n",
    "tnew =t[1][1]\n",
    "print(tnew)"
   ]
  },
  {
   "cell_type": "markdown",
   "id": "f0818c3d",
   "metadata": {},
   "source": [
    "##  Q2 unpack the tuple into 2 variables ,t =(10,20,30,40,50)"
   ]
  },
  {
   "cell_type": "code",
   "execution_count": 39,
   "id": "90276e2e",
   "metadata": {},
   "outputs": [
    {
     "name": "stdout",
     "output_type": "stream",
     "text": [
      "10\n",
      "20\n",
      "[30, 40]\n"
     ]
    }
   ],
   "source": [
    "t = (10, 20, 30, 40)\n",
    "\n",
    "a, b,*rest = t\n",
    "\n",
    "print(a)\n",
    "print(b)\n",
    "print(rest)"
   ]
  },
  {
   "cell_type": "markdown",
   "id": "7b44898e",
   "metadata": {},
   "source": [
    "## 3. Return a new set of identical items from two sets\n",
    "set1 = {10, 20, 30, 40, 50}\n",
    "set2 = {30, 40, 50, 60, 70}"
   ]
  },
  {
   "cell_type": "code",
   "execution_count": 30,
   "id": "0ef7a9fa",
   "metadata": {},
   "outputs": [
    {
     "name": "stdout",
     "output_type": "stream",
     "text": [
      "{40, 50, 30}\n"
     ]
    }
   ],
   "source": [
    "set1 = {10, 20, 30, 40, 50}\n",
    "set2 = {30, 40, 50, 60, 70}\n",
    "\n",
    "intersection_set = set1.intersection(set2)\n",
    "\n",
    "print(intersection_set)"
   ]
  },
  {
   "cell_type": "markdown",
   "id": "c67cd549",
   "metadata": {},
   "source": [
    "## 4. Remove items from set1 that are not common to both set1 and set2\n",
    "set1 = {10, 20, 30, 40, 50} ,\n",
    "set2 = {30, 40, 50, 60, 70}"
   ]
  },
  {
   "cell_type": "code",
   "execution_count": 35,
   "id": "b0d285bf",
   "metadata": {},
   "outputs": [
    {
     "name": "stdout",
     "output_type": "stream",
     "text": [
      "{40, 50, 30}\n"
     ]
    }
   ],
   "source": [
    "set1 = {10, 20, 30, 40, 50} \n",
    "set2 = {30, 40, 50, 60, 70}\n",
    "\n",
    "set1.intersection_update(set2)\n",
    "print(set1)"
   ]
  },
  {
   "cell_type": "markdown",
   "id": "66ccc581",
   "metadata": {},
   "source": [
    "## 5. Update set1 by adding items from set2, except common items\n",
    "set1 = {10, 20, 30, 40, 50}\n",
    "set2 = {30, 40, 50, 60, 70}"
   ]
  },
  {
   "cell_type": "code",
   "execution_count": 36,
   "id": "f288cb43",
   "metadata": {},
   "outputs": [
    {
     "name": "stdout",
     "output_type": "stream",
     "text": [
      "{20, 70, 10, 60}\n"
     ]
    }
   ],
   "source": [
    "set1 = {10, 20, 30, 40, 50}\n",
    "set2 = {30, 40, 50, 60, 70}\n",
    "\n",
    "set1.symmetric_difference_update(set2)\n",
    "\n",
    "print(set1)\n",
    "\n",
    "#In this example, the symmetric_difference_update() method is called on set1 with set2 passed as an argument. \n",
    "\n"
   ]
  },
  {
   "cell_type": "code",
   "execution_count": null,
   "id": "9f27d85e",
   "metadata": {},
   "outputs": [],
   "source": []
  }
 ],
 "metadata": {
  "kernelspec": {
   "display_name": "Python 3 (ipykernel)",
   "language": "python",
   "name": "python3"
  },
  "language_info": {
   "codemirror_mode": {
    "name": "ipython",
    "version": 3
   },
   "file_extension": ".py",
   "mimetype": "text/x-python",
   "name": "python",
   "nbconvert_exporter": "python",
   "pygments_lexer": "ipython3",
   "version": "3.9.12"
  }
 },
 "nbformat": 4,
 "nbformat_minor": 5
}
