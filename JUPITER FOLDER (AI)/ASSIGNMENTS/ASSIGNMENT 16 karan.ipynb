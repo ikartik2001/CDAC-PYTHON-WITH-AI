{
 "cells": [
  {
   "cell_type": "markdown",
   "id": "d48f7f72",
   "metadata": {},
   "source": [
    "## Assignment 16\n",
    "\n",
    "### Kartik Thakur"
   ]
  },
  {
   "cell_type": "code",
   "execution_count": null,
   "id": "83218e6b",
   "metadata": {},
   "outputs": [],
   "source": [
    "# 1. Merge the two files in one dataframe\n",
    "# 2. Clean the data\n",
    "# 3. Change the float column into integer type\n",
    "# 4. Get the month value from the order date\n",
    "# 5. Which was the most productive month in terms of sales?\n",
    "# 6.  Which city had the highest number of sales?\n",
    "# 7. At what time people did purchase the product?\n",
    "# 8. What is the average purchase by city?"
   ]
  },
  {
   "cell_type": "code",
   "execution_count": null,
   "id": "adcaa88f",
   "metadata": {},
   "outputs": [],
   "source": [
    "import pandas as pd"
   ]
  },
  {
   "cell_type": "markdown",
   "id": "7c5325d0",
   "metadata": {},
   "source": [
    "### 1. Merge the two files in one dataframe"
   ]
  },
  {
   "cell_type": "code",
   "execution_count": null,
   "id": "fc4424fb",
   "metadata": {},
   "outputs": [],
   "source": [
    "# File 1\n",
    "sale_dec=pd.read_csv('Sales_December_2019.csv')\n",
    "sale_dec.head()"
   ]
  },
  {
   "cell_type": "code",
   "execution_count": null,
   "id": "f69105e2",
   "metadata": {},
   "outputs": [],
   "source": [
    "sale_dec.info()"
   ]
  },
  {
   "cell_type": "code",
   "execution_count": null,
   "id": "d4302fe1",
   "metadata": {},
   "outputs": [],
   "source": [
    "#  File 2\n",
    "sale_june=pd.read_csv('Sales_June_2019.csv')\n",
    "sale_june.head()"
   ]
  },
  {
   "cell_type": "code",
   "execution_count": null,
   "id": "d20c1942",
   "metadata": {},
   "outputs": [],
   "source": [
    "# Merged File\n",
    "sale=pd.concat([sale_june,sale_dec])\n",
    "sale.head()"
   ]
  },
  {
   "cell_type": "markdown",
   "id": "296251ae",
   "metadata": {},
   "source": [
    "###  2. Clean the data"
   ]
  },
  {
   "cell_type": "code",
   "execution_count": null,
   "id": "5d14ac7a",
   "metadata": {},
   "outputs": [],
   "source": [
    "sale.info()"
   ]
  },
  {
   "cell_type": "code",
   "execution_count": null,
   "id": "109d8b4c",
   "metadata": {},
   "outputs": [],
   "source": [
    "# Checking for present null values\n",
    "sale.isnull().sum()"
   ]
  },
  {
   "cell_type": "code",
   "execution_count": null,
   "id": "025d5824",
   "metadata": {},
   "outputs": [],
   "source": [
    "# Making a copy of original file\n",
    "sale2=sale.copy()\n",
    "sale2.head()"
   ]
  },
  {
   "cell_type": "code",
   "execution_count": null,
   "id": "bbcf7136",
   "metadata": {},
   "outputs": [],
   "source": [
    "# Droping OR removing the null values\n",
    "sale2.dropna(inplace=True)"
   ]
  },
  {
   "cell_type": "code",
   "execution_count": null,
   "id": "5751e41d",
   "metadata": {},
   "outputs": [],
   "source": [
    "sale2.isnull().sum()"
   ]
  },
  {
   "cell_type": "code",
   "execution_count": null,
   "id": "0aa5ab43",
   "metadata": {},
   "outputs": [],
   "source": [
    "#Hence File is cleaned of null Values"
   ]
  },
  {
   "cell_type": "code",
   "execution_count": null,
   "id": "c26cc0e0",
   "metadata": {},
   "outputs": [],
   "source": [
    "sale2[sale2['Order ID']=='Order ID']"
   ]
  },
  {
   "cell_type": "code",
   "execution_count": null,
   "id": "621d0fc2",
   "metadata": {},
   "outputs": [],
   "source": [
    "sale2.drop(sale2[sale2['Order ID']=='Order ID'].index,inplace=True)\n",
    "sale2.head()"
   ]
  },
  {
   "cell_type": "code",
   "execution_count": null,
   "id": "f425cc3a",
   "metadata": {},
   "outputs": [],
   "source": [
    "sale2.reset_index()"
   ]
  },
  {
   "cell_type": "code",
   "execution_count": null,
   "id": "37556d45",
   "metadata": {},
   "outputs": [],
   "source": [
    "# hence the file is cleaned of duplicate or unneeded values"
   ]
  },
  {
   "cell_type": "markdown",
   "id": "51d67d5a",
   "metadata": {},
   "source": [
    "### 3. Change the object type column into integer type or float type"
   ]
  },
  {
   "cell_type": "code",
   "execution_count": null,
   "id": "8f439cb6",
   "metadata": {},
   "outputs": [],
   "source": [
    "sale2.info()"
   ]
  },
  {
   "cell_type": "code",
   "execution_count": null,
   "id": "9e133bb0",
   "metadata": {},
   "outputs": [],
   "source": [
    "## Change the data type to int\n",
    "convert=[\"Order ID\",\"Quantity Ordered\"] \n",
    "for x in convert:\n",
    "    sale2[x]=sale2[x].astype(\"int64\")\n",
    "sale2.head()"
   ]
  },
  {
   "cell_type": "code",
   "execution_count": null,
   "id": "6342cc45",
   "metadata": {},
   "outputs": [],
   "source": [
    "sale2[\"Order ID\"].dtype"
   ]
  },
  {
   "cell_type": "code",
   "execution_count": null,
   "id": "3a4721b2",
   "metadata": {},
   "outputs": [],
   "source": [
    "## Change the data type to float\n",
    "convert=[\"Price Each\"] \n",
    "for col in convert:\n",
    "    sale2[col]=sale2[col].astype(\"float64\")"
   ]
  },
  {
   "cell_type": "code",
   "execution_count": null,
   "id": "1ccc59df",
   "metadata": {},
   "outputs": [],
   "source": [
    "sale2['Price Each'].dtype"
   ]
  },
  {
   "cell_type": "code",
   "execution_count": null,
   "id": "d0dc5fa4",
   "metadata": {},
   "outputs": [],
   "source": [
    "sale2.info()"
   ]
  },
  {
   "cell_type": "markdown",
   "id": "4f05d860",
   "metadata": {},
   "source": [
    "### 4. Get the month value from the order date"
   ]
  },
  {
   "cell_type": "code",
   "execution_count": null,
   "id": "e635f8c6",
   "metadata": {},
   "outputs": [],
   "source": [
    "l=[]\n",
    "for x in sale2['Order Date']:\n",
    "    d=x.split('/')\n",
    "    l.append(d)\n",
    "l"
   ]
  },
  {
   "cell_type": "code",
   "execution_count": null,
   "id": "6c439f17",
   "metadata": {},
   "outputs": [],
   "source": [
    "m=[]\n",
    "for i in l:\n",
    "    m.append(i[0])\n",
    "m"
   ]
  },
  {
   "cell_type": "code",
   "execution_count": null,
   "id": "93bf06f0",
   "metadata": {},
   "outputs": [],
   "source": [
    "sale2['Month']=m\n",
    "sale2"
   ]
  },
  {
   "cell_type": "markdown",
   "id": "a3a66e0e",
   "metadata": {},
   "source": [
    "### 5. Which was the most productive month in terms of sales?"
   ]
  },
  {
   "cell_type": "code",
   "execution_count": null,
   "id": "cff57cc0",
   "metadata": {},
   "outputs": [],
   "source": [
    "sale2['Sales']=sale2['Quantity Ordered']*sale2['Price Each']\n",
    "sale2"
   ]
  },
  {
   "cell_type": "code",
   "execution_count": null,
   "id": "55b7d058",
   "metadata": {},
   "outputs": [],
   "source": [
    "sale2.groupby('Month')[\"Quantity Ordered\"].sum().sort_values(ascending=False).head(1)"
   ]
  },
  {
   "cell_type": "code",
   "execution_count": null,
   "id": "7936ae6f",
   "metadata": {},
   "outputs": [],
   "source": [
    "# Hence, we can say that in December , We Had the Higher numbers of Sales."
   ]
  },
  {
   "cell_type": "markdown",
   "id": "72f6da27",
   "metadata": {},
   "source": [
    "### 6.  Which city had the highest number of sales?"
   ]
  },
  {
   "cell_type": "code",
   "execution_count": null,
   "id": "a8c66385",
   "metadata": {},
   "outputs": [],
   "source": [
    "y=[]\n",
    "for x in sale2['Purchase Address']:\n",
    "    m=x.split(',')\n",
    "    y.append(m)\n",
    "y"
   ]
  },
  {
   "cell_type": "code",
   "execution_count": null,
   "id": "bec33983",
   "metadata": {},
   "outputs": [],
   "source": [
    "z=[]\n",
    "for i in y:\n",
    "    z.append(i[-2])\n",
    "z"
   ]
  },
  {
   "cell_type": "code",
   "execution_count": null,
   "id": "3b2b821e",
   "metadata": {},
   "outputs": [],
   "source": [
    "df['City']=z"
   ]
  },
  {
   "cell_type": "code",
   "execution_count": null,
   "id": "fd32b5d2",
   "metadata": {},
   "outputs": [],
   "source": [
    "df.groupby('City')[\"Quantity Ordered\"].sum().sort_values(ascending=False).head(1)"
   ]
  },
  {
   "cell_type": "markdown",
   "id": "c91ef20b",
   "metadata": {},
   "source": [
    "### 7. At what time people mostly purchase the product?"
   ]
  },
  {
   "cell_type": "code",
   "execution_count": null,
   "id": "29225a93",
   "metadata": {},
   "outputs": [],
   "source": [
    "t=[]\n",
    "for i in l:\n",
    "    t.append(i[2][3:8])\n",
    "t"
   ]
  },
  {
   "cell_type": "code",
   "execution_count": null,
   "id": "4bb258f4",
   "metadata": {},
   "outputs": [],
   "source": [
    "df['Time'].value_count()\n"
   ]
  },
  {
   "cell_type": "code",
   "execution_count": null,
   "id": "bdac3f46",
   "metadata": {},
   "outputs": [],
   "source": [
    "df['Time'].value_counts().head(1)"
   ]
  },
  {
   "cell_type": "markdown",
   "id": "191b8311",
   "metadata": {},
   "source": [
    "### 8. What is the average purchase by city?"
   ]
  },
  {
   "cell_type": "code",
   "execution_count": null,
   "id": "f948f29d",
   "metadata": {},
   "outputs": [],
   "source": [
    "sale2.groupby('City')[\"Quantity Ordered\"].mean().sort_values(ascending=False)"
   ]
  },
  {
   "cell_type": "code",
   "execution_count": null,
   "id": "96c4c7b2",
   "metadata": {},
   "outputs": [],
   "source": []
  },
  {
   "cell_type": "code",
   "execution_count": null,
   "id": "bd64d534",
   "metadata": {},
   "outputs": [],
   "source": []
  },
  {
   "cell_type": "code",
   "execution_count": null,
   "id": "53b2d871",
   "metadata": {},
   "outputs": [],
   "source": []
  },
  {
   "cell_type": "code",
   "execution_count": null,
   "id": "6e23c949",
   "metadata": {},
   "outputs": [],
   "source": []
  },
  {
   "cell_type": "code",
   "execution_count": null,
   "id": "7fbea8a9",
   "metadata": {},
   "outputs": [],
   "source": []
  },
  {
   "cell_type": "code",
   "execution_count": null,
   "id": "30ccbdac",
   "metadata": {},
   "outputs": [],
   "source": []
  },
  {
   "cell_type": "code",
   "execution_count": null,
   "id": "5c40de59",
   "metadata": {},
   "outputs": [],
   "source": []
  }
 ],
 "metadata": {
  "kernelspec": {
   "display_name": "Python 3 (ipykernel)",
   "language": "python",
   "name": "python3"
  },
  "language_info": {
   "codemirror_mode": {
    "name": "ipython",
    "version": 3
   },
   "file_extension": ".py",
   "mimetype": "text/x-python",
   "name": "python",
   "nbconvert_exporter": "python",
   "pygments_lexer": "ipython3",
   "version": "3.9.13"
  }
 },
 "nbformat": 4,
 "nbformat_minor": 5
}
