{
 "cells": [
  {
   "cell_type": "markdown",
   "id": "da06d3b4",
   "metadata": {},
   "source": [
    "# assignment 22\n",
    "## kartik thakur"
   ]
  },
  {
   "cell_type": "markdown",
   "id": "99382b0b",
   "metadata": {},
   "source": [
    "### Implement XOR gate using Backpropagation Neural Network -->"
   ]
  },
  {
   "cell_type": "code",
   "execution_count": null,
   "id": "9160f260",
   "metadata": {},
   "outputs": [],
   "source": []
  },
  {
   "cell_type": "code",
   "execution_count": 27,
   "id": "4a108de6",
   "metadata": {},
   "outputs": [],
   "source": [
    "import pandas as pd\n",
    "import sklearn"
   ]
  },
  {
   "cell_type": "code",
   "execution_count": 28,
   "id": "6440b416",
   "metadata": {},
   "outputs": [],
   "source": [
    "from sklearn import datasets"
   ]
  },
  {
   "cell_type": "code",
   "execution_count": 29,
   "id": "8b772540",
   "metadata": {},
   "outputs": [],
   "source": [
    "iris = datasets.load_iris()"
   ]
  },
  {
   "cell_type": "code",
   "execution_count": 31,
   "id": "99441879",
   "metadata": {},
   "outputs": [],
   "source": [
    "iris=pd.DataFrame(iris['data'],columns=iris['feature_names'])"
   ]
  },
  {
   "cell_type": "code",
   "execution_count": 34,
   "id": "5c24cad8",
   "metadata": {},
   "outputs": [],
   "source": [
    "import tensorflow"
   ]
  },
  {
   "cell_type": "code",
   "execution_count": null,
   "id": "b6b1be2d",
   "metadata": {},
   "outputs": [],
   "source": [
    "model = kera"
   ]
  }
 ],
 "metadata": {
  "kernelspec": {
   "display_name": "Python 3 (ipykernel)",
   "language": "python",
   "name": "python3"
  },
  "language_info": {
   "codemirror_mode": {
    "name": "ipython",
    "version": 3
   },
   "file_extension": ".py",
   "mimetype": "text/x-python",
   "name": "python",
   "nbconvert_exporter": "python",
   "pygments_lexer": "ipython3",
   "version": "3.9.12"
  }
 },
 "nbformat": 4,
 "nbformat_minor": 5
}
