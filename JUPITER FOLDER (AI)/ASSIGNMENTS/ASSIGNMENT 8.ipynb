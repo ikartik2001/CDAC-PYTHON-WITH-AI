{
 "cells": [
  {
   "cell_type": "markdown",
   "id": "f530a491",
   "metadata": {},
   "source": [
    "# ASSIGNMENT 8\n",
    "### KARTIK THAKUR"
   ]
  },
  {
   "cell_type": "markdown",
   "id": "c0b8544e",
   "metadata": {},
   "source": [
    "# Q1 Handle the exception thrown by the code below by using try and except blocks.\n",
    "\n",
    "\n",
    "\n",
    "\n",
    "\n",
    "## for i in ['a','b','c']: \n",
    "## print(i**2)"
   ]
  },
  {
   "cell_type": "code",
   "execution_count": 8,
   "id": "4b063ef7",
   "metadata": {},
   "outputs": [
    {
     "name": "stdout",
     "output_type": "stream",
     "text": [
      "Please recheck your code\n"
     ]
    }
   ],
   "source": [
    "try:\n",
    "    for i in ['a','b','c']:\n",
    "        print(i**2)\n",
    "        \n",
    "except:\n",
    "    print(\"Please recheck your code\")\n",
    "        \n"
   ]
  },
  {
   "cell_type": "markdown",
   "id": "c7ce5322",
   "metadata": {},
   "source": [
    "# Q1 2. Write a function that asks for an integer and prints the square of it. Use a while loop with a try, except, else block to account for incorrect inputs."
   ]
  },
  {
   "cell_type": "code",
   "execution_count": 21,
   "id": "b8ad6c97",
   "metadata": {},
   "outputs": [
    {
     "name": "stdout",
     "output_type": "stream",
     "text": [
      "Enter an integer: dsf\n",
      "Invalid input. Please enter an integer.\n",
      "Enter an integer: 12\n",
      "The square of 12 is 144.\n"
     ]
    }
   ],
   "source": [
    "def print_square():\n",
    "    while True:\n",
    "        try:\n",
    "            x = int(input(\"Enter an integer: \"))\n",
    "        except ValueError:\n",
    "            print(\"Invalid input. Please enter an integer.\")\n",
    "        else:\n",
    "            print(f\"The square of {x} is {x**2}.\")\n",
    "            break\n",
    "\n",
    "print_square()    "
   ]
  },
  {
   "cell_type": "markdown",
   "id": "dd199c7f",
   "metadata": {},
   "source": [
    "### 3. Create a 3x3 matrix with values ranging from 0 to 8"
   ]
  },
  {
   "cell_type": "code",
   "execution_count": 10,
   "id": "b0d39285",
   "metadata": {},
   "outputs": [
    {
     "data": {
      "text/plain": [
       "array([[0, 1, 2],\n",
       "       [3, 4, 5],\n",
       "       [6, 7, 8]])"
      ]
     },
     "execution_count": 10,
     "metadata": {},
     "output_type": "execute_result"
    }
   ],
   "source": [
    "import numpy as np\n",
    "arry = np.arange(0,9)\n",
    "arry\n",
    "new = arry.reshape((3,3))\n",
    "new\n"
   ]
  },
  {
   "cell_type": "markdown",
   "id": "c083dcad",
   "metadata": {},
   "source": [
    "### 4 Use NumPy to generate an array of 25 random numbers sampled from a standard normal distribution"
   ]
  },
  {
   "cell_type": "code",
   "execution_count": 14,
   "id": "577584de",
   "metadata": {},
   "outputs": [
    {
     "data": {
      "text/plain": [
       "array([-0.90671854, -0.72680508, -1.34767737, -0.35192585, -1.40860219,\n",
       "        0.88482489,  0.12602068, -0.54723884,  1.37829645,  0.05495883,\n",
       "       -0.52569023,  0.6925304 , -0.64600502,  0.67631055,  1.08500524,\n",
       "        0.79857271,  0.28332263,  0.13747144,  0.60766608, -0.39968073,\n",
       "        0.73366398, -1.26596284,  0.45339399, -0.81361101, -1.14300962])"
      ]
     },
     "execution_count": 14,
     "metadata": {},
     "output_type": "execute_result"
    }
   ],
   "source": [
    "import numpy as np\n",
    "a1 = np.random.normal(size=25)\n",
    "a1"
   ]
  },
  {
   "cell_type": "code",
   "execution_count": null,
   "id": "616779ec",
   "metadata": {},
   "outputs": [],
   "source": []
  }
 ],
 "metadata": {
  "kernelspec": {
   "display_name": "Python 3 (ipykernel)",
   "language": "python",
   "name": "python3"
  },
  "language_info": {
   "codemirror_mode": {
    "name": "ipython",
    "version": 3
   },
   "file_extension": ".py",
   "mimetype": "text/x-python",
   "name": "python",
   "nbconvert_exporter": "python",
   "pygments_lexer": "ipython3",
   "version": "3.9.12"
  }
 },
 "nbformat": 4,
 "nbformat_minor": 5
}
