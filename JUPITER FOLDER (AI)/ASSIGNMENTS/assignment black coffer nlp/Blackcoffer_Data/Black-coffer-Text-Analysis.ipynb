{
 "cells": [
  {
   "cell_type": "code",
   "execution_count": 1,
   "metadata": {
    "execution": {
     "iopub.execute_input": "2022-01-06T16:36:23.356009Z",
     "iopub.status.busy": "2022-01-06T16:36:23.35561Z",
     "iopub.status.idle": "2022-01-06T16:36:25.176074Z",
     "shell.execute_reply": "2022-01-06T16:36:25.174332Z",
     "shell.execute_reply.started": "2022-01-06T16:36:23.355914Z"
    },
    "id": "v79PZ-C99FUr"
   },
   "outputs": [],
   "source": [
    "import pandas as pd\n",
    "import requests\n",
    "import bs4 as bfs\n",
    "import nltk\n",
    "from nltk.tokenize import sent_tokenize\n",
    "from nltk.tokenize import word_tokenize\n",
    "from nltk.corpus import stopwords\n",
    "from nltk.tokenize import word_tokenize\n",
    "from nltk.sentiment.vader import SentimentIntensityAnalyzer\n",
    "import string\n",
    "import textblob\n",
    "import csv\n",
    "import numpy as np"
   ]
  },
  {
   "cell_type": "code",
   "execution_count": 2,
   "metadata": {
    "execution": {
     "iopub.execute_input": "2022-01-06T16:55:43.397784Z",
     "iopub.status.busy": "2022-01-06T16:55:43.39704Z",
     "iopub.status.idle": "2022-01-06T16:55:53.361712Z",
     "shell.execute_reply": "2022-01-06T16:55:53.360913Z",
     "shell.execute_reply.started": "2022-01-06T16:55:43.397752Z"
    }
   },
   "outputs": [
    {
     "name": "stdout",
     "output_type": "stream",
     "text": [
      "Requirement already satisfied: openpyxl in c:\\users\\dell\\anaconda3\\lib\\site-packages (3.0.9)\n",
      "Requirement already satisfied: et-xmlfile in c:\\users\\dell\\anaconda3\\lib\\site-packages (from openpyxl) (1.1.0)\n"
     ]
    }
   ],
   "source": [
    "!pip install openpyxl"
   ]
  },
  {
   "cell_type": "code",
   "execution_count": 3,
   "metadata": {
    "execution": {
     "iopub.execute_input": "2022-01-06T16:36:30.522962Z",
     "iopub.status.busy": "2022-01-06T16:36:30.522045Z",
     "iopub.status.idle": "2022-01-06T16:36:30.688004Z",
     "shell.execute_reply": "2022-01-06T16:36:30.687038Z",
     "shell.execute_reply.started": "2022-01-06T16:36:30.522914Z"
    },
    "id": "9LpZJcJ_uqVM",
    "outputId": "97a32130-8ea6-4ca6-d521-b4ec670dc3ac"
   },
   "outputs": [
    {
     "name": "stderr",
     "output_type": "stream",
     "text": [
      "[nltk_data] Downloading package stopwords to\n",
      "[nltk_data]     C:\\Users\\Dell\\AppData\\Roaming\\nltk_data...\n",
      "[nltk_data]   Package stopwords is already up-to-date!\n",
      "[nltk_data] Downloading package punkt to\n",
      "[nltk_data]     C:\\Users\\Dell\\AppData\\Roaming\\nltk_data...\n",
      "[nltk_data]   Package punkt is already up-to-date!\n"
     ]
    },
    {
     "data": {
      "text/plain": [
       "True"
      ]
     },
     "execution_count": 3,
     "metadata": {},
     "output_type": "execute_result"
    }
   ],
   "source": [
    "nltk.download('stopwords')\n",
    "nltk.download('punkt')"
   ]
  },
  {
   "cell_type": "code",
   "execution_count": 4,
   "metadata": {
    "execution": {
     "iopub.execute_input": "2022-01-06T16:37:23.42641Z",
     "iopub.status.busy": "2022-01-06T16:37:23.426073Z",
     "iopub.status.idle": "2022-01-06T16:37:23.448241Z",
     "shell.execute_reply": "2022-01-06T16:37:23.447624Z",
     "shell.execute_reply.started": "2022-01-06T16:37:23.426373Z"
    },
    "id": "5ztfmSkE9O8q"
   },
   "outputs": [
    {
     "data": {
      "text/html": [
       "<div>\n",
       "<style scoped>\n",
       "    .dataframe tbody tr th:only-of-type {\n",
       "        vertical-align: middle;\n",
       "    }\n",
       "\n",
       "    .dataframe tbody tr th {\n",
       "        vertical-align: top;\n",
       "    }\n",
       "\n",
       "    .dataframe thead th {\n",
       "        text-align: right;\n",
       "    }\n",
       "</style>\n",
       "<table border=\"1\" class=\"dataframe\">\n",
       "  <thead>\n",
       "    <tr style=\"text-align: right;\">\n",
       "      <th></th>\n",
       "      <th>URL_ID</th>\n",
       "      <th>URL</th>\n",
       "    </tr>\n",
       "  </thead>\n",
       "  <tbody>\n",
       "    <tr>\n",
       "      <th>0</th>\n",
       "      <td>37</td>\n",
       "      <td>https://insights.blackcoffer.com/ai-in-healthc...</td>\n",
       "    </tr>\n",
       "    <tr>\n",
       "      <th>1</th>\n",
       "      <td>38</td>\n",
       "      <td>https://insights.blackcoffer.com/what-if-the-c...</td>\n",
       "    </tr>\n",
       "    <tr>\n",
       "      <th>2</th>\n",
       "      <td>39</td>\n",
       "      <td>https://insights.blackcoffer.com/what-jobs-wil...</td>\n",
       "    </tr>\n",
       "    <tr>\n",
       "      <th>3</th>\n",
       "      <td>40</td>\n",
       "      <td>https://insights.blackcoffer.com/will-machine-...</td>\n",
       "    </tr>\n",
       "    <tr>\n",
       "      <th>4</th>\n",
       "      <td>41</td>\n",
       "      <td>https://insights.blackcoffer.com/will-ai-repla...</td>\n",
       "    </tr>\n",
       "    <tr>\n",
       "      <th>5</th>\n",
       "      <td>42</td>\n",
       "      <td>https://insights.blackcoffer.com/man-and-machi...</td>\n",
       "    </tr>\n",
       "    <tr>\n",
       "      <th>6</th>\n",
       "      <td>43</td>\n",
       "      <td>https://insights.blackcoffer.com/in-future-or-...</td>\n",
       "    </tr>\n",
       "    <tr>\n",
       "      <th>7</th>\n",
       "      <td>45</td>\n",
       "      <td>https://insights.blackcoffer.com/how-machine-l...</td>\n",
       "    </tr>\n",
       "    <tr>\n",
       "      <th>8</th>\n",
       "      <td>46</td>\n",
       "      <td>https://insights.blackcoffer.com/deep-learning...</td>\n",
       "    </tr>\n",
       "    <tr>\n",
       "      <th>9</th>\n",
       "      <td>47</td>\n",
       "      <td>https://insights.blackcoffer.com/how-to-protec...</td>\n",
       "    </tr>\n",
       "    <tr>\n",
       "      <th>10</th>\n",
       "      <td>48</td>\n",
       "      <td>https://insights.blackcoffer.com/how-machines-...</td>\n",
       "    </tr>\n",
       "    <tr>\n",
       "      <th>11</th>\n",
       "      <td>49</td>\n",
       "      <td>https://insights.blackcoffer.com/ai-human-robo...</td>\n",
       "    </tr>\n",
       "    <tr>\n",
       "      <th>12</th>\n",
       "      <td>50</td>\n",
       "      <td>https://insights.blackcoffer.com/how-ai-will-c...</td>\n",
       "    </tr>\n",
       "    <tr>\n",
       "      <th>13</th>\n",
       "      <td>51</td>\n",
       "      <td>https://insights.blackcoffer.com/future-of-wor...</td>\n",
       "    </tr>\n",
       "    <tr>\n",
       "      <th>14</th>\n",
       "      <td>52</td>\n",
       "      <td>https://insights.blackcoffer.com/ai-tool-alexa...</td>\n",
       "    </tr>\n",
       "  </tbody>\n",
       "</table>\n",
       "</div>"
      ],
      "text/plain": [
       "    URL_ID                                                URL\n",
       "0       37  https://insights.blackcoffer.com/ai-in-healthc...\n",
       "1       38  https://insights.blackcoffer.com/what-if-the-c...\n",
       "2       39  https://insights.blackcoffer.com/what-jobs-wil...\n",
       "3       40  https://insights.blackcoffer.com/will-machine-...\n",
       "4       41  https://insights.blackcoffer.com/will-ai-repla...\n",
       "5       42  https://insights.blackcoffer.com/man-and-machi...\n",
       "6       43  https://insights.blackcoffer.com/in-future-or-...\n",
       "7       45  https://insights.blackcoffer.com/how-machine-l...\n",
       "8       46  https://insights.blackcoffer.com/deep-learning...\n",
       "9       47  https://insights.blackcoffer.com/how-to-protec...\n",
       "10      48  https://insights.blackcoffer.com/how-machines-...\n",
       "11      49  https://insights.blackcoffer.com/ai-human-robo...\n",
       "12      50  https://insights.blackcoffer.com/how-ai-will-c...\n",
       "13      51  https://insights.blackcoffer.com/future-of-wor...\n",
       "14      52  https://insights.blackcoffer.com/ai-tool-alexa..."
      ]
     },
     "execution_count": 4,
     "metadata": {},
     "output_type": "execute_result"
    }
   ],
   "source": [
    "df = pd.read_csv('Input-coffer.csv')\n",
    "df"
   ]
  },
  {
   "cell_type": "code",
   "execution_count": 5,
   "metadata": {
    "execution": {
     "iopub.execute_input": "2022-01-06T16:38:23.134583Z",
     "iopub.status.busy": "2022-01-06T16:38:23.134241Z",
     "iopub.status.idle": "2022-01-06T16:38:23.146395Z",
     "shell.execute_reply": "2022-01-06T16:38:23.145741Z",
     "shell.execute_reply.started": "2022-01-06T16:38:23.13454Z"
    },
    "id": "Gr0N1lKu9VAE"
   },
   "outputs": [
    {
     "data": {
      "text/plain": [
       "['https://insights.blackcoffer.com/ai-in-healthcare-to-improve-patient-outcomes/',\n",
       " 'https://insights.blackcoffer.com/what-if-the-creation-is-taking-over-the-creator/',\n",
       " 'https://insights.blackcoffer.com/what-jobs-will-robots-take-from-humans-in-the-future/',\n",
       " 'https://insights.blackcoffer.com/will-machine-replace-the-human-in-the-future-of-work/',\n",
       " 'https://insights.blackcoffer.com/will-ai-replace-us-or-work-with-us/',\n",
       " 'https://insights.blackcoffer.com/man-and-machines-together-machines-are-more-diligent-than-humans-blackcoffe/',\n",
       " 'https://insights.blackcoffer.com/in-future-or-in-upcoming-years-humans-and-machines-are-going-to-work-together-in-every-field-of-work/',\n",
       " 'https://insights.blackcoffer.com/how-machine-learning-will-affect-your-business/',\n",
       " 'https://insights.blackcoffer.com/deep-learning-impact-on-areas-of-e-learning/',\n",
       " 'https://insights.blackcoffer.com/how-to-protect-future-data-and-its-privacy-blackcoffer/',\n",
       " 'https://insights.blackcoffer.com/how-machines-ai-automations-and-robo-human-are-effective-in-finance-and-banking/',\n",
       " 'https://insights.blackcoffer.com/ai-human-robotics-machine-future-planet-blackcoffer-thinking-jobs-workplace/',\n",
       " 'https://insights.blackcoffer.com/how-ai-will-change-the-world-blackcoffer/',\n",
       " 'https://insights.blackcoffer.com/future-of-work-how-ai-has-entered-the-workplace/',\n",
       " 'https://insights.blackcoffer.com/ai-tool-alexa-google-assistant-finance-banking-tool-future/']"
      ]
     },
     "execution_count": 5,
     "metadata": {},
     "output_type": "execute_result"
    }
   ],
   "source": [
    "li = [url for url in df['URL']]\n",
    "li"
   ]
  },
  {
   "cell_type": "code",
   "execution_count": 6,
   "metadata": {
    "execution": {
     "iopub.execute_input": "2022-01-06T16:45:15.666658Z",
     "iopub.status.busy": "2022-01-06T16:45:15.666328Z",
     "iopub.status.idle": "2022-01-06T16:45:58.671689Z",
     "shell.execute_reply": "2022-01-06T16:45:58.670868Z",
     "shell.execute_reply.started": "2022-01-06T16:45:15.666625Z"
    },
    "id": "n3BPrl0K9VlS"
   },
   "outputs": [],
   "source": [
    "text = []\n",
    "for url in li:\n",
    "    text.append(requests.get(url))"
   ]
  },
  {
   "cell_type": "code",
   "execution_count": 7,
   "metadata": {
    "execution": {
     "iopub.execute_input": "2022-01-06T16:54:46.50272Z",
     "iopub.status.busy": "2022-01-06T16:54:46.50242Z",
     "iopub.status.idle": "2022-01-06T16:55:00.622743Z",
     "shell.execute_reply": "2022-01-06T16:55:00.621634Z",
     "shell.execute_reply.started": "2022-01-06T16:54:46.502691Z"
    },
    "id": "XYVx0P9Jn5gG"
   },
   "outputs": [],
   "source": [
    "for i in range(len(text)):\n",
    "    text[i] = bfs.BeautifulSoup(text[i].content,'html.parser')\n"
   ]
  },
  {
   "cell_type": "code",
   "execution_count": 8,
   "metadata": {},
   "outputs": [
    {
     "data": {
      "text/plain": [
       "15"
      ]
     },
     "execution_count": 8,
     "metadata": {},
     "output_type": "execute_result"
    }
   ],
   "source": [
    "len(text)"
   ]
  },
  {
   "cell_type": "code",
   "execution_count": 9,
   "metadata": {
    "execution": {
     "iopub.execute_input": "2022-01-06T16:55:00.624654Z",
     "iopub.status.busy": "2022-01-06T16:55:00.624404Z",
     "iopub.status.idle": "2022-01-06T16:55:01.929738Z",
     "shell.execute_reply": "2022-01-06T16:55:01.928812Z",
     "shell.execute_reply.started": "2022-01-06T16:55:00.624619Z"
    },
    "id": "sPy9eGxvoU9-"
   },
   "outputs": [
    {
     "name": "stdout",
     "output_type": "stream",
     "text": [
      "\n",
      "\n",
      "Introduction\n",
      "“If anything kills over 10 million people in the next few decades, it will be a highly infectious virus rather than a war. Not missiles but microbes.” Bill Gates’s remarks at a TED conference in 2014, right after the world had avoided the Ebola outbreak. When the new, unprecedented, invisible virus hit us, it met an overwhelmed and unprepared healthcare system and oblivious population. This public health emergency demonstrated our lack of scientific consideration and underlined the alarming need for robust innovations in our health and medical facilities. For the past few years, artificial intelligence has proven to be of tangible potential in the healthcare sectors, clinical practices, translational medical and biomedical research.\n",
      "After the first case was detected in China on December 31st 2019, it was an AI program developed by BlueDot that alerted the world about the pandemic. It was quick to realise AI’s ability to analyse large chunks of data could help in detecting patterns and identifying and tracking the possible carriers of the virus.\n",
      "Many tracing apps use AI to keep tabs on the people who have been infected and prevent the risk of cross-infection by using AI algorithms that can track patterns and extract some features to classify or categorise them.\n",
      "So how does AI do that?\n",
      "IBM Watson, a sophisticated AI that works on cloud computing and natural language processing, has prominently contributed to the healthcare sector on a global level. Being a conversational AI, since 2013, Watson has helped in recommending treatments to patients suffering from cancer to ensure that they get the best treatment at optimum costs.\n",
      "\n",
      "Researchers at Google Inc. showed that an AI system can be trained on thousands of images to achieve physician-level sensitivity.\n",
      "By identifying the molecular patterns associated with disease status and its subtypes, gene expression, and protein abundance levels, machine learning methods can detect fatal diseases like cancer at an early stage. Machine Learning (ML) techniques focus mainly on analyzing structured data, which can further help in clustering patients’ traits and infer the probability of disease outcomes. Since patient traits mainly include masses of data relating to age, gender, disease history, disease-specific data like diagnostic imaging and gene expressions, etc, ML can extract features from these data inputs by constructing data analytical algorithms.\n",
      "ML algorithms are either supervised or unsupervised. Unsupervised learning helps in extracting features and clustering similar features together that further leads to early detection of diseases. Clustering and principal component analysis enable grouping or clustering of similar traits together that are further used to maximize or minimize the similarity between the patients within or between the clusters. Since patient traits are recorded in multiple dimensions, such as genes, principal component analysis(PCA) creates the apparatus to reduce these dimensions which humans could have not done alone.\n",
      "Supervised learning considers the outcomes of the subjects together with the traits, and further correlates the inputs with the outputs to predict the probability of getting a particular clinical event, expected value of a disease level or expected survival time, or risk of Down’s syndrome.\n",
      "Biomarker panels that are mostly used to detect ovarian cancer, have outperformed the conventional statistical methods due to machine learning. In addition to this, the use of EHRs and Bayesian networks, which are a part of supervised machine learning algorithms, can predict clinical outcomes and mortality respectively.\n",
      "Unstructured data such as clinical notes and texts are converted into machine-readable structured data with the help of natural language processing(NLP). NLP works with two components: text processing and classification. Text processing helps in identifying a series of disease-relevant keywords in clinical notes and then through classification are further categorized into normal and abnormal cases. Chest screening through ML and NLP has helped find abnormalities in the lungs and provide treatment to covid patients. Healthcare organizations use NLP-based chatbots to increase interactions with patients, keeping their mental health and wellness in check.\n",
      "Deep learning is a modern extension of the classical neural network techniques which helps explore more complex non-linear patterns in data, using algorithms like convolution neural network, recurrent neural network, deep belief network, and deep neural network which enables more accurate clinical prediction. When it comes to genome interpretation, deep neural networks surpass the conventional methods of logistics regression and support vector machines.\n",
      "Sepsis Watch is an AI system trained in deep learning algorithms that holds the capability to analyze over 32 million data points to create a patient’s risk score and identify the early stages of sepsis.\n",
      "Another method known as the Learning-based Optimization of the Under Sampling Pattern( LOUPE) is based on integrating full resolution MRI scans with the convolutional neural network algorithm, which helps in creating more accurate reconstructions.\n",
      "Robotic surgery is widely considered in most delicate surgeries like gynaecology and prostate surgery. Even after striking the right balance between human decisions and AI precision, robotic surgery reduces surgeon efficiency as they have to be manually operated through a console. Thus, autonomous robotic surgery is on the rise with inventions such as robotic silicon fingers that mimic the sense of touch that surgeons need to identify organs, cut tissues, etc., or robotic catheters that can navigate whether it is touching blood, tissue, or valve.\n",
      "Researchers at Children’s National Hospital, Washington have already developed an AI called Smart Tissue Autonomous Robot (STAR), which performs a colon anastomosis on its own with the help of an ML-powered suturing tool, that automatically detects the patient’s breathing pattern to apply suture at the correct point.\n",
      "An image of STAR during surgery.\n",
      "Cloud computing in healthcare has helped in retrieving and sharing medical records safely with a reduction in maintenance costs. Through this technology doctors and various healthcare workers have access to detailed patient data that helps in speeding up analysis ultimately leading to better care in the form of more accurate information, medications, and therapies.\n",
      "How can It help in Biomedical research?\n",
      "Since AI can analyze literature beyond readability, it can be used to concise biomedical research. With the help of ML algorithms and NLP, AI can accelerate screening and indexing of biomedical research, by ranking the literature of interest which allows researchers to formulate and test scientific hypotheses far more precisely and quickly. Taking it to the next level, AI systems like the computational modelling assistant (CMA) helps researchers to construct simulation models from the concepts they have in mind. Such innovations have majorly contributed to topics such as tumour suppressor mechanisms and protein-protein interaction information extraction.\n",
      "AI as precision medicine\n",
      "Since precision medicine focuses on healthcare interventions to individuals or groups of patients based on their profile, the various AI devices pave the way to practice it more efficiently. With the help of ML, complex algorithms like large datasets can be used to predict and create an optimal treatment strategy.\n",
      "Deep learning and neural networks can be used to process data in healthcare apps and keep a close watch on the patient’s emotional state, food intake, or health monitoring. \n",
      "“Omics” refers to the collective technologies that help in exploring the roles, relationships of various branches ending with the suffix “omics” such as genomics, proteomics, etc. Omics-based tests based on machine learning algorithms help find correlations and predict treatment responses, ultimately creating personalized treatments for individual patients. \n",
      "How it helps in psychology and neuro patients\n",
      "For psychologists studying creativity,  AI is promising new classes of experiments that are developing data structures and programs and exploring novel theories on a new horizon. Studies show that  AI can conduct therapy sessions, e-therapy sessions, and assessments autonomously, also assisting human practitioners before, during, or after sessions. The Detection and Computational Analysis of Psychological Signal project uses ML, computer vision, and NLP to analyze language, physical gestures, and social signals to identify cues for human distress. This ground-breaking technology assesses soldiers returning from combat and recognizes those who require further mental health support. In the future, it will combine data captured during face-to-face interviews with information on sleeping, eating, and online behaviours for a complete patient view.\n",
      "Stroke identification\n",
      "Stroke is another frequently occurring disease that affects more than 500 million people worldwide. Thrombus,  in the vessel cerebral infarction is the major (about 85%) cause of stroke occurrence. In recent years, AI techniques have been used in numerous stroke-related studies as early detection and timely treatment along with efficient outcome prediction can help solve the problem. With AI at our disposal, large amounts of data with rich information, more complications and real-life clinical questions can be addressed in this arena. Currently, two ML algorithms- genetic fuzzy finite state machine and PCA were implemented to build a model building solution. These include a human activity recognition stage and a stroke onset detection stage. An alert stroke message is activated as soon as a movement significantly different from the normal pattern is recorded. ML methods have been applied to neuroimaging data to assist disease evaluation and predicting stroke treatment for the diagnosis.\n",
      "Patient Monitoring\n",
      "Today, the market for AI-based patient monitoring is impressive and monetarily enticing. It is evolving with artificial sensors, smart technologies and explores everything from brain-computer interfaces to nanorobotics. Companies with their smart-watches have engaged people to perform remote monitoring even when they are not “patients”. An obvious place to start is with wearable and embedded sensors, glucose monitors, pulse monitors, oximeters, and ECG monitors. With patient monitoring becoming crucial, AI finds numerous applications in chronic conditions, intensive care units, operating rooms, emergency rooms, and cardiac wards where timeless clinical decision-making can be measured in seconds. More advances have started to gain traction like smart prosthetics and implants. These play an impeccable role in patient management post-surgery or rehabilitation. Demographics, laboratory results and vital signs can also be used to predict cardiac arrest, transfer into the intensive care unit, or even death. In addition, an interpretable machine-learning model can assist anesthesiologists in predicting hypoxaemia events during surgery. This suggests that with deep-learning algorithms, raw patient-monitoring data could be better used to avoid information overload and alert overload while enabling more accurate clinical prediction and timely decision-making.\n",
      "\n",
      " Conclusion\n",
      "Considering the vast range of tasks that an AI can do, it is evident that it holds deep potential in improving patient outcomes to skyrocketing levels. Using sophisticated algorithms AI can bring a revolution in the healthcare sector. Even after facing challenges like whether the technology will be able to deliver the promises, ethical measures, training physicians to use it, standard regulations etc, the role of AI in transforming the clinical practices cannot be ignored. The biggest challenge is the integration of AI in daily practice. All of these can be overcome and within that period the technologies will mature making the system far more enhanced and effective.\n",
      "Blackcoffer Insights 29: Sanskriti Sunderum and Aayushi Nauhwar, SRCC, Delhi University\n",
      "\n"
     ]
    }
   ],
   "source": [
    "articles=[]\n",
    "\n",
    "for i, t in enumerate(text):\n",
    "    content = t.find(attrs={'class':'td-post-content'})\n",
    "    if content is not None:\n",
    "        articles.append(content.text)\n",
    "    else:\n",
    "        print(f\"Content is None at index {i}\")\n",
    "\n",
    "print(articles[0])"
   ]
  },
  {
   "cell_type": "code",
   "execution_count": 10,
   "metadata": {},
   "outputs": [
    {
     "data": {
      "text/plain": [
       "['Introduction',\n",
       " '“If',\n",
       " 'anything',\n",
       " 'kills',\n",
       " 'over',\n",
       " '10',\n",
       " 'million',\n",
       " 'people',\n",
       " 'in',\n",
       " 'the']"
      ]
     },
     "execution_count": 10,
     "metadata": {},
     "output_type": "execute_result"
    }
   ],
   "source": [
    "articles[0].split()[:10] "
   ]
  },
  {
   "cell_type": "code",
   "execution_count": 11,
   "metadata": {},
   "outputs": [
    {
     "data": {
      "text/plain": [
       "15"
      ]
     },
     "execution_count": 11,
     "metadata": {},
     "output_type": "execute_result"
    }
   ],
   "source": [
    "len(articles)"
   ]
  },
  {
   "cell_type": "code",
   "execution_count": 12,
   "metadata": {},
   "outputs": [],
   "source": [
    "for i in range(len(articles)):\n",
    "    articles[i]= articles[i].replace('\\n','')"
   ]
  },
  {
   "cell_type": "code",
   "execution_count": 13,
   "metadata": {},
   "outputs": [
    {
     "data": {
      "text/plain": [
       "['Introduction“If',\n",
       " 'anything',\n",
       " 'kills',\n",
       " 'over',\n",
       " '10',\n",
       " 'million',\n",
       " 'people',\n",
       " 'in',\n",
       " 'the',\n",
       " 'next']"
      ]
     },
     "execution_count": 13,
     "metadata": {},
     "output_type": "execute_result"
    }
   ],
   "source": [
    "articles[0].split()[:10] "
   ]
  },
  {
   "cell_type": "code",
   "execution_count": 14,
   "metadata": {
    "execution": {
     "iopub.execute_input": "2022-01-06T16:55:01.940571Z",
     "iopub.status.busy": "2022-01-06T16:55:01.940306Z",
     "iopub.status.idle": "2022-01-06T16:55:01.957041Z",
     "shell.execute_reply": "2022-01-06T16:55:01.95576Z",
     "shell.execute_reply.started": "2022-01-06T16:55:01.940539Z"
    },
    "id": "MGadHv-Fujbn"
   },
   "outputs": [],
   "source": [
    "stop_words = list(set(stopwords.words('english')))"
   ]
  },
  {
   "cell_type": "code",
   "execution_count": 15,
   "metadata": {
    "execution": {
     "iopub.execute_input": "2022-01-06T16:55:01.961173Z",
     "iopub.status.busy": "2022-01-06T16:55:01.960592Z",
     "iopub.status.idle": "2022-01-06T16:55:02.307328Z",
     "shell.execute_reply": "2022-01-06T16:55:02.306374Z",
     "shell.execute_reply.started": "2022-01-06T16:55:01.961127Z"
    },
    "id": "jUoglchUQ6qO"
   },
   "outputs": [
    {
     "data": {
      "text/plain": [
       "53"
      ]
     },
     "execution_count": 15,
     "metadata": {},
     "output_type": "execute_result"
    }
   ],
   "source": [
    "sentences = []\n",
    "for article in articles:\n",
    "    sentences.append(len(sent_tokenize(article)))\n",
    "    \n",
    "sentences[0]"
   ]
  },
  {
   "cell_type": "code",
   "execution_count": 16,
   "metadata": {
    "execution": {
     "iopub.execute_input": "2022-01-06T16:55:02.314692Z",
     "iopub.status.busy": "2022-01-06T16:55:02.314413Z",
     "iopub.status.idle": "2022-01-06T16:55:03.493983Z",
     "shell.execute_reply": "2022-01-06T16:55:03.493037Z",
     "shell.execute_reply.started": "2022-01-06T16:55:02.314664Z"
    },
    "id": "0PSyHpFpuOeV"
   },
   "outputs": [
    {
     "data": {
      "text/plain": [
       "'Introduction“If anything kills 10 million people next decades highly infectious virus rather war Not missiles microbes” Bill Gates’s remarks TED conference 2014 right world avoided Ebola outbreak When new unprecedented invisible virus hit us met overwhelmed unprepared healthcare system oblivious population This public health emergency demonstrated lack scientific consideration underlined alarming need robust innovations health medical facilities For past years artificial intelligence proven tangible potential healthcare sectors clinical practices translational medical biomedical researchAfter first case detected China December 31st 2019 AI program developed BlueDot alerted world pandemic It quick realise AI’s ability analyse large chunks data could help detecting patterns identifying tracking possible carriers virusMany tracing apps use AI keep tabs people infected prevent risk cross-infection using AI algorithms track patterns extract features classify categorise themSo AI thatIBM Watson sophisticated AI works cloud computing natural language processing prominently contributed healthcare sector global level Being conversational AI since 2013 Watson helped recommending treatments patients suffering cancer ensure get best treatment optimum costsResearchers Google Inc showed AI system trained thousands images achieve physician-level sensitivityBy identifying molecular patterns associated disease status subtypes gene expression protein abundance levels machine learning methods detect fatal diseases like cancer early stage Machine Learning (ML) techniques focus mainly analyzing structured data help clustering patients’ traits infer probability disease outcomes Since patient traits mainly include masses data relating age gender disease history disease-specific data like diagnostic imaging gene expressions etc ML extract features data inputs constructing data analytical algorithmsML algorithms either supervised unsupervised Unsupervised learning helps extracting features clustering similar features together leads early detection diseases Clustering principal component analysis enable grouping clustering similar traits together used maximize minimize similarity patients within clusters Since patient traits recorded multiple dimensions genes principal component analysis(PCA) creates apparatus reduce dimensions humans could done aloneSupervised learning considers outcomes subjects together traits correlates inputs outputs predict probability getting particular clinical event expected value disease level expected survival time risk Down’s syndromeBiomarker panels mostly used detect ovarian cancer outperformed conventional statistical methods due machine learning In addition use EHRs Bayesian networks part supervised machine learning algorithms predict clinical outcomes mortality respectivelyUnstructured data clinical notes texts converted machine-readable structured data help natural language processing(NLP) NLP works two components: text processing classification Text processing helps identifying series disease-relevant keywords clinical notes classification categorized normal abnormal cases Chest screening ML NLP helped find abnormalities lungs provide treatment covid patients Healthcare organizations use NLP-based chatbots increase interactions patients keeping mental health wellness checkDeep learning modern extension classical neural network techniques helps explore complex non-linear patterns data using algorithms like convolution neural network recurrent neural network deep belief network deep neural network enables accurate clinical prediction When comes genome interpretation deep neural networks surpass conventional methods logistics regression support vector machinesSepsis Watch AI system trained deep learning algorithms holds capability analyze 32 million data points create patient’s risk score identify early stages sepsisAnother method known Learning-based Optimization Under Sampling Pattern( LOUPE) based integrating full resolution MRI scans convolutional neural network algorithm helps creating accurate reconstructionsRobotic surgery widely considered delicate surgeries like gynaecology prostate surgery Even striking right balance human decisions AI precision robotic surgery reduces surgeon efficiency manually operated console Thus autonomous robotic surgery rise inventions robotic silicon fingers mimic sense touch surgeons need identify organs cut tissues etc robotic catheters navigate whether touching blood tissue valveResearchers Children’s National Hospital Washington already developed AI called Smart Tissue Autonomous Robot (STAR) performs colon anastomosis help ML-powered suturing tool automatically detects patient’s breathing pattern apply suture correct pointAn image STAR surgeryCloud computing healthcare helped retrieving sharing medical records safely reduction maintenance costs Through technology doctors various healthcare workers access detailed patient data helps speeding analysis ultimately leading better care form accurate information medications therapiesHow It help Biomedical researchSince AI analyze literature beyond readability used concise biomedical research With help ML algorithms NLP AI accelerate screening indexing biomedical research ranking literature interest allows researchers formulate test scientific hypotheses far precisely quickly Taking next level AI systems like computational modelling assistant (CMA) helps researchers construct simulation models concepts mind Such innovations majorly contributed topics tumour suppressor mechanisms protein-protein interaction information extractionAI precision medicineSince precision medicine focuses healthcare interventions individuals groups patients based profile various AI devices pave way practice efficiently With help ML complex algorithms like large datasets used predict create optimal treatment strategyDeep learning neural networks used process data healthcare apps keep close watch patient’s emotional state food intake health monitoring\\xa0“Omics” refers collective technologies help exploring roles relationships various branches ending suffix “omics” genomics proteomics etc Omics-based tests based machine learning algorithms help find correlations predict treatment responses ultimately creating personalized treatments individual patients\\xa0How helps psychology neuro patientsFor psychologists studying creativity\\xa0 AI promising new classes experiments developing data structures programs exploring novel theories new horizon Studies show \\xa0AI conduct therapy sessions e-therapy sessions assessments autonomously also assisting human practitioners sessions The Detection Computational Analysis Psychological Signal project uses ML computer vision NLP analyze language physical gestures social signals identify cues human distress This ground-breaking technology assesses soldiers returning combat recognizes require mental health support In future combine data captured face-to-face interviews information sleeping eating online behaviours complete patient viewStroke identificationStroke another frequently occurring disease affects 500 million people worldwide Thrombus\\xa0 vessel cerebral infarction major (about 85%) cause stroke occurrence In recent years AI techniques used numerous stroke-related studies early detection timely treatment along efficient outcome prediction help solve problem With AI disposal large amounts data rich information complications real-life clinical questions addressed arena Currently two ML algorithms- genetic fuzzy finite state machine PCA implemented build model building solution These include human activity recognition stage stroke onset detection stage An alert stroke message activated soon movement significantly different normal pattern recorded ML methods applied neuroimaging data assist disease evaluation predicting stroke treatment diagnosisPatient MonitoringToday market AI-based patient monitoring impressive monetarily enticing It evolving artificial sensors smart technologies explores everything brain-computer interfaces nanorobotics Companies smart-watches engaged people perform remote monitoring even “patients” An obvious place start wearable embedded sensors glucose monitors pulse monitors oximeters ECG monitors With patient monitoring becoming crucial AI finds numerous applications chronic conditions intensive care units operating rooms emergency rooms cardiac wards timeless clinical decision-making measured seconds More advances started gain traction like smart prosthetics implants These play impeccable role patient management post-surgery rehabilitation Demographics laboratory results vital signs also used predict cardiac arrest transfer intensive care unit even death In addition interpretable machine-learning model assist anesthesiologists predicting hypoxaemia events surgery This suggests deep-learning algorithms raw patient-monitoring data could better used avoid information overload alert overload enabling accurate clinical prediction timely decision-making\\xa0ConclusionConsidering vast range tasks AI evident holds deep potential improving patient outcomes skyrocketing levels Using sophisticated algorithms AI bring revolution healthcare sector Even facing challenges like whether technology able deliver promises ethical measures training physicians use standard regulations etc role AI transforming clinical practices cannot ignored The biggest challenge integration AI daily practice All overcome within period technologies mature making system far enhanced effectiveBlackcoffer Insights 29: Sanskriti Sunderum Aayushi Nauhwar SRCC Delhi University'"
      ]
     },
     "execution_count": 16,
     "metadata": {},
     "output_type": "execute_result"
    }
   ],
   "source": [
    "for i in range(len(articles)):\n",
    "    for w in stop_words:\n",
    "        articles[i]= articles[i].replace(' '+w+' ',' ').replace('?','').replace('.','').replace(',','').replace('!','')\n",
    "articles[0]"
   ]
  },
  {
   "cell_type": "code",
   "execution_count": 17,
   "metadata": {
    "execution": {
     "iopub.execute_input": "2022-01-06T16:55:03.49583Z",
     "iopub.status.busy": "2022-01-06T16:55:03.495412Z",
     "iopub.status.idle": "2022-01-06T16:55:04.780961Z",
     "shell.execute_reply": "2022-01-06T16:55:04.77996Z",
     "shell.execute_reply.started": "2022-01-06T16:55:03.49576Z"
    },
    "id": "_yjHfky1sYq6"
   },
   "outputs": [
    {
     "data": {
      "text/plain": [
       "851"
      ]
     },
     "execution_count": 17,
     "metadata": {},
     "output_type": "execute_result"
    }
   ],
   "source": [
    "words = []\n",
    "for article in articles:\n",
    "      words.append(len(word_tokenize(article)))\n",
    "\n",
    "words[1]"
   ]
  },
  {
   "cell_type": "code",
   "execution_count": 18,
   "metadata": {
    "execution": {
     "iopub.execute_input": "2022-01-06T16:56:06.645434Z",
     "iopub.status.busy": "2022-01-06T16:56:06.644822Z",
     "iopub.status.idle": "2022-01-06T16:56:28.295425Z",
     "shell.execute_reply": "2022-01-06T16:56:28.294114Z",
     "shell.execute_reply.started": "2022-01-06T16:56:06.645392Z"
    },
    "id": "5MbVoB7gtXJk"
   },
   "outputs": [],
   "source": [
    "positive_words = pd.read_excel(r'MasterDictionary/pos-words.xlsx')\n",
    "negative_words = pd.read_excel(r'MasterDictionary/neg-words.xlsx')"
   ]
  },
  {
   "cell_type": "code",
   "execution_count": 19,
   "metadata": {},
   "outputs": [
    {
     "data": {
      "text/html": [
       "<div>\n",
       "<style scoped>\n",
       "    .dataframe tbody tr th:only-of-type {\n",
       "        vertical-align: middle;\n",
       "    }\n",
       "\n",
       "    .dataframe tbody tr th {\n",
       "        vertical-align: top;\n",
       "    }\n",
       "\n",
       "    .dataframe thead th {\n",
       "        text-align: right;\n",
       "    }\n",
       "</style>\n",
       "<table border=\"1\" class=\"dataframe\">\n",
       "  <thead>\n",
       "    <tr style=\"text-align: right;\">\n",
       "      <th></th>\n",
       "      <th>a+</th>\n",
       "    </tr>\n",
       "  </thead>\n",
       "  <tbody>\n",
       "    <tr>\n",
       "      <th>0</th>\n",
       "      <td>abound</td>\n",
       "    </tr>\n",
       "    <tr>\n",
       "      <th>1</th>\n",
       "      <td>abounds</td>\n",
       "    </tr>\n",
       "    <tr>\n",
       "      <th>2</th>\n",
       "      <td>abundance</td>\n",
       "    </tr>\n",
       "    <tr>\n",
       "      <th>3</th>\n",
       "      <td>abundant</td>\n",
       "    </tr>\n",
       "    <tr>\n",
       "      <th>4</th>\n",
       "      <td>accessable</td>\n",
       "    </tr>\n",
       "    <tr>\n",
       "      <th>...</th>\n",
       "      <td>...</td>\n",
       "    </tr>\n",
       "    <tr>\n",
       "      <th>2000</th>\n",
       "      <td>youthful</td>\n",
       "    </tr>\n",
       "    <tr>\n",
       "      <th>2001</th>\n",
       "      <td>zeal</td>\n",
       "    </tr>\n",
       "    <tr>\n",
       "      <th>2002</th>\n",
       "      <td>zenith</td>\n",
       "    </tr>\n",
       "    <tr>\n",
       "      <th>2003</th>\n",
       "      <td>zest</td>\n",
       "    </tr>\n",
       "    <tr>\n",
       "      <th>2004</th>\n",
       "      <td>zippy</td>\n",
       "    </tr>\n",
       "  </tbody>\n",
       "</table>\n",
       "<p>2005 rows × 1 columns</p>\n",
       "</div>"
      ],
      "text/plain": [
       "              a+\n",
       "0         abound\n",
       "1        abounds\n",
       "2      abundance\n",
       "3       abundant\n",
       "4     accessable\n",
       "...          ...\n",
       "2000    youthful\n",
       "2001        zeal\n",
       "2002      zenith\n",
       "2003        zest\n",
       "2004       zippy\n",
       "\n",
       "[2005 rows x 1 columns]"
      ]
     },
     "execution_count": 19,
     "metadata": {},
     "output_type": "execute_result"
    }
   ],
   "source": [
    "positive_words"
   ]
  },
  {
   "cell_type": "code",
   "execution_count": 36,
   "metadata": {
    "execution": {
     "iopub.execute_input": "2022-01-06T16:56:28.375836Z",
     "iopub.status.busy": "2022-01-06T16:56:28.375119Z",
     "iopub.status.idle": "2022-01-06T16:56:38.016239Z",
     "shell.execute_reply": "2022-01-06T16:56:38.015623Z",
     "shell.execute_reply.started": "2022-01-06T16:56:28.375768Z"
    },
    "id": "vfvvmZLJCT7n"
   },
   "outputs": [],
   "source": [
    "positive_score = []\n",
    "positive_list = []\n",
    "\n",
    "for i in range(len(articles)):\n",
    "    positive_list.append([word for word in articles[i] if word.lower() in positive_words])\n",
    " \n",
    "    positive_score.append(len(positive_list[i]))"
   ]
  },
  {
   "cell_type": "code",
   "execution_count": 37,
   "metadata": {},
   "outputs": [
    {
     "data": {
      "text/plain": [
       "[0, 0, 0, 0, 0, 0, 0, 0, 0, 0, 0, 0, 0, 0, 0]"
      ]
     },
     "execution_count": 37,
     "metadata": {},
     "output_type": "execute_result"
    }
   ],
   "source": [
    "positive_score"
   ]
  },
  {
   "cell_type": "code",
   "execution_count": 38,
   "metadata": {
    "execution": {
     "iopub.execute_input": "2022-01-06T16:56:44.122308Z",
     "iopub.status.busy": "2022-01-06T16:56:44.121818Z",
     "iopub.status.idle": "2022-01-06T16:57:48.531314Z",
     "shell.execute_reply": "2022-01-06T16:57:48.53043Z",
     "shell.execute_reply.started": "2022-01-06T16:56:44.122275Z"
    },
    "id": "lNCjV7Vl__9x"
   },
   "outputs": [],
   "source": [
    "negative_score = []\n",
    "negative_list = []\n",
    "\n",
    "for i in range(len(articles)):\n",
    "    negative_list.append([word for word in articles[i] if word.lower() in negative_words])\n",
    " \n",
    "    negative_score.append(len(positive_list[i]))"
   ]
  },
  {
   "cell_type": "code",
   "execution_count": 39,
   "metadata": {},
   "outputs": [
    {
     "data": {
      "text/plain": [
       "[0, 0, 0, 0, 0, 0, 0, 0, 0, 0, 0, 0, 0, 0, 0]"
      ]
     },
     "execution_count": 39,
     "metadata": {},
     "output_type": "execute_result"
    }
   ],
   "source": [
    "negative_score"
   ]
  },
  {
   "cell_type": "code",
   "execution_count": 40,
   "metadata": {
    "execution": {
     "iopub.execute_input": "2022-01-06T16:57:48.533097Z",
     "iopub.status.busy": "2022-01-06T16:57:48.532866Z",
     "iopub.status.idle": "2022-01-06T16:57:48.537591Z",
     "shell.execute_reply": "2022-01-06T16:57:48.536829Z",
     "shell.execute_reply.started": "2022-01-06T16:57:48.533069Z"
    },
    "id": "yvsalqf_PITP"
   },
   "outputs": [],
   "source": [
    "words_cleaned = np.array(words)\n",
    "sentences = np.array(sentences)"
   ]
  },
  {
   "cell_type": "code",
   "execution_count": 41,
   "metadata": {
    "execution": {
     "iopub.execute_input": "2022-01-06T16:57:48.539466Z",
     "iopub.status.busy": "2022-01-06T16:57:48.539027Z",
     "iopub.status.idle": "2022-01-06T16:57:48.552971Z",
     "shell.execute_reply": "2022-01-06T16:57:48.552081Z",
     "shell.execute_reply.started": "2022-01-06T16:57:48.539427Z"
    },
    "id": "pgTWHrJWAsPg"
   },
   "outputs": [],
   "source": [
    "df['POSITIVE SCORE'] = positive_score\n",
    "df['NEGATIVE SCORE'] = negative_score"
   ]
  },
  {
   "cell_type": "code",
   "execution_count": 42,
   "metadata": {
    "execution": {
     "iopub.execute_input": "2022-01-06T16:57:48.556255Z",
     "iopub.status.busy": "2022-01-06T16:57:48.555441Z",
     "iopub.status.idle": "2022-01-06T16:57:48.565936Z",
     "shell.execute_reply": "2022-01-06T16:57:48.565254Z",
     "shell.execute_reply.started": "2022-01-06T16:57:48.556211Z"
    },
    "id": "i1o27fd3AxR0"
   },
   "outputs": [],
   "source": [
    "df['POLARITY SCORE'] = (df['POSITIVE SCORE']-df['NEGATIVE SCORE'])/ ((df['POSITIVE SCORE'] +df['NEGATIVE SCORE']) + 0.000001)"
   ]
  },
  {
   "cell_type": "code",
   "execution_count": 43,
   "metadata": {
    "execution": {
     "iopub.execute_input": "2022-01-06T16:57:48.567452Z",
     "iopub.status.busy": "2022-01-06T16:57:48.567234Z",
     "iopub.status.idle": "2022-01-06T16:57:48.578225Z",
     "shell.execute_reply": "2022-01-06T16:57:48.577432Z",
     "shell.execute_reply.started": "2022-01-06T16:57:48.567426Z"
    },
    "id": "QudsRkGYIefj"
   },
   "outputs": [],
   "source": [
    "df['SUBJECTIVITY SCORE'] = (df['POSITIVE SCORE'] + df['NEGATIVE SCORE'])/( (words_cleaned) + 0.000001)"
   ]
  },
  {
   "cell_type": "code",
   "execution_count": 44,
   "metadata": {
    "execution": {
     "iopub.execute_input": "2022-01-06T16:57:48.579779Z",
     "iopub.status.busy": "2022-01-06T16:57:48.579428Z",
     "iopub.status.idle": "2022-01-06T16:57:48.589236Z",
     "shell.execute_reply": "2022-01-06T16:57:48.588603Z",
     "shell.execute_reply.started": "2022-01-06T16:57:48.579753Z"
    },
    "id": "f5v_BzIWHtPf"
   },
   "outputs": [],
   "source": [
    "df['AVG SENTENCE LENGTH'] = np.array(words)/np.array(sentences)"
   ]
  },
  {
   "cell_type": "code",
   "execution_count": 45,
   "metadata": {
    "execution": {
     "iopub.execute_input": "2022-01-06T16:57:48.59065Z",
     "iopub.status.busy": "2022-01-06T16:57:48.590334Z",
     "iopub.status.idle": "2022-01-06T16:57:48.600373Z",
     "shell.execute_reply": "2022-01-06T16:57:48.599691Z",
     "shell.execute_reply.started": "2022-01-06T16:57:48.590623Z"
    },
    "id": "kcUePYVTLbSi"
   },
   "outputs": [],
   "source": [
    "complex_words = []\n",
    "sylabble_counts = []"
   ]
  },
  {
   "cell_type": "code",
   "execution_count": 46,
   "metadata": {
    "execution": {
     "iopub.execute_input": "2022-01-06T16:57:48.60192Z",
     "iopub.status.busy": "2022-01-06T16:57:48.601524Z",
     "iopub.status.idle": "2022-01-06T16:57:49.355074Z",
     "shell.execute_reply": "2022-01-06T16:57:49.354304Z",
     "shell.execute_reply.started": "2022-01-06T16:57:48.601891Z"
    },
    "id": "W3LH89f3Ls5i"
   },
   "outputs": [],
   "source": [
    "for article in articles:\n",
    "    sylabble_count=0\n",
    "    d=article.split()\n",
    "    ans=0\n",
    "    for word in d:\n",
    "        count=0\n",
    "        for i in range(len(word)):\n",
    "            if(word[i]=='a' or word[i]=='e' or word[i] =='i' or word[i] == 'o' or word[i] == 'u'):\n",
    "                count+=1\n",
    "    #            print(words[i])\n",
    "            if(i==len(word)-2 and (word[i]=='e' and word[i+1]=='d')):\n",
    "                count-=1;\n",
    "            if(i==len(word)-2 and (word[i]=='e' and word[i]=='s')):\n",
    "                count-=1;\n",
    "            sylabble_count+=count    \n",
    "            if(count>2):\n",
    "                ans+=1\n",
    "    sylabble_counts.append(sylabble_count)\n",
    "    complex_words.append(ans)           "
   ]
  },
  {
   "cell_type": "code",
   "execution_count": 47,
   "metadata": {
    "execution": {
     "iopub.execute_input": "2022-01-06T16:57:49.356546Z",
     "iopub.status.busy": "2022-01-06T16:57:49.35624Z",
     "iopub.status.idle": "2022-01-06T16:57:49.36233Z",
     "shell.execute_reply": "2022-01-06T16:57:49.361311Z",
     "shell.execute_reply.started": "2022-01-06T16:57:49.356509Z"
    },
    "id": "SHCc9FviOLlH"
   },
   "outputs": [],
   "source": [
    "df['PERCENTAGE OF COMPLEX WORDS'] = np.array(complex_words)/np.array(words)"
   ]
  },
  {
   "cell_type": "code",
   "execution_count": 48,
   "metadata": {
    "execution": {
     "iopub.execute_input": "2022-01-06T16:57:49.364894Z",
     "iopub.status.busy": "2022-01-06T16:57:49.364651Z",
     "iopub.status.idle": "2022-01-06T16:57:49.373613Z",
     "shell.execute_reply": "2022-01-06T16:57:49.373035Z",
     "shell.execute_reply.started": "2022-01-06T16:57:49.364858Z"
    },
    "id": "dG7QyRVsOMDt"
   },
   "outputs": [],
   "source": [
    "df['FOG INDEX'] = 0.4 * (df['AVG SENTENCE LENGTH'] + df['PERCENTAGE OF COMPLEX WORDS'])"
   ]
  },
  {
   "cell_type": "code",
   "execution_count": 49,
   "metadata": {
    "execution": {
     "iopub.execute_input": "2022-01-06T16:57:49.374932Z",
     "iopub.status.busy": "2022-01-06T16:57:49.374667Z",
     "iopub.status.idle": "2022-01-06T16:57:49.386082Z",
     "shell.execute_reply": "2022-01-06T16:57:49.385297Z",
     "shell.execute_reply.started": "2022-01-06T16:57:49.374904Z"
    },
    "id": "cLzDldp_kY5X"
   },
   "outputs": [],
   "source": [
    "df['AVG NUMBER OF WORDS PER SENTENCES'] = df['AVG SENTENCE LENGTH']"
   ]
  },
  {
   "cell_type": "code",
   "execution_count": 50,
   "metadata": {
    "execution": {
     "iopub.execute_input": "2022-01-06T16:57:49.387976Z",
     "iopub.status.busy": "2022-01-06T16:57:49.387421Z",
     "iopub.status.idle": "2022-01-06T16:57:49.401866Z",
     "shell.execute_reply": "2022-01-06T16:57:49.400971Z",
     "shell.execute_reply.started": "2022-01-06T16:57:49.387941Z"
    },
    "id": "Ss7JUsWyk3Js"
   },
   "outputs": [],
   "source": [
    "df['COMPLEX WORD COUNT'] = np.array(complex_words)"
   ]
  },
  {
   "cell_type": "code",
   "execution_count": 51,
   "metadata": {
    "execution": {
     "iopub.execute_input": "2022-01-06T16:57:49.403261Z",
     "iopub.status.busy": "2022-01-06T16:57:49.402959Z",
     "iopub.status.idle": "2022-01-06T16:57:49.414703Z",
     "shell.execute_reply": "2022-01-06T16:57:49.41373Z",
     "shell.execute_reply.started": "2022-01-06T16:57:49.403234Z"
    },
    "id": "5JZAkZ0glNta"
   },
   "outputs": [],
   "source": [
    "df['WORD COUNT'] = words"
   ]
  },
  {
   "cell_type": "code",
   "execution_count": 52,
   "metadata": {
    "execution": {
     "iopub.execute_input": "2022-01-06T16:57:49.416194Z",
     "iopub.status.busy": "2022-01-06T16:57:49.415884Z",
     "iopub.status.idle": "2022-01-06T16:57:49.428103Z",
     "shell.execute_reply": "2022-01-06T16:57:49.427486Z",
     "shell.execute_reply.started": "2022-01-06T16:57:49.41616Z"
    },
    "id": "PzcrXMtKlY3n"
   },
   "outputs": [],
   "source": [
    "df['SYLLABLE PER WORD'] = np.array(sylabble_counts)/np.array(words)"
   ]
  },
  {
   "cell_type": "code",
   "execution_count": 53,
   "metadata": {
    "execution": {
     "iopub.execute_input": "2022-01-06T16:57:49.4295Z",
     "iopub.status.busy": "2022-01-06T16:57:49.429276Z",
     "iopub.status.idle": "2022-01-06T16:57:49.483154Z",
     "shell.execute_reply": "2022-01-06T16:57:49.482331Z",
     "shell.execute_reply.started": "2022-01-06T16:57:49.429473Z"
    },
    "id": "2hEeuUMpqBQ-"
   },
   "outputs": [],
   "source": [
    "total_characters = []\n",
    "for article in articles:\n",
    "    characters = 0\n",
    "    for word in article.split():\n",
    "        characters+=len(word)\n",
    "    total_characters.append(characters)  \n",
    "\n"
   ]
  },
  {
   "cell_type": "code",
   "execution_count": 54,
   "metadata": {
    "execution": {
     "iopub.execute_input": "2022-01-06T16:57:49.484606Z",
     "iopub.status.busy": "2022-01-06T16:57:49.484365Z",
     "iopub.status.idle": "2022-01-06T16:57:49.687653Z",
     "shell.execute_reply": "2022-01-06T16:57:49.686767Z",
     "shell.execute_reply.started": "2022-01-06T16:57:49.484577Z"
    },
    "id": "T3XRq_TrzDTQ"
   },
   "outputs": [],
   "source": [
    "personal_nouns = []\n",
    "personal_noun =['I', 'we','my', 'ours','and' 'us','My','We','Ours','Us','And'] \n",
    "for article in articles:\n",
    "    ans=0\n",
    "    for word in article:\n",
    "        if word in personal_noun:\n",
    "            ans+=1\n",
    "    personal_nouns.append(ans)"
   ]
  },
  {
   "cell_type": "code",
   "execution_count": 55,
   "metadata": {
    "execution": {
     "iopub.execute_input": "2022-01-06T16:57:49.689455Z",
     "iopub.status.busy": "2022-01-06T16:57:49.689154Z",
     "iopub.status.idle": "2022-01-06T16:57:49.694564Z",
     "shell.execute_reply": "2022-01-06T16:57:49.693896Z",
     "shell.execute_reply.started": "2022-01-06T16:57:49.689418Z"
    },
    "id": "0SX5g6cRtyR9"
   },
   "outputs": [],
   "source": [
    "df['PERSONAL PRONOUN'] = personal_nouns\n",
    "#as the all pronouns were cleared when clearing the stop words."
   ]
  },
  {
   "cell_type": "code",
   "execution_count": 56,
   "metadata": {
    "execution": {
     "iopub.execute_input": "2022-01-06T16:57:49.696087Z",
     "iopub.status.busy": "2022-01-06T16:57:49.695485Z",
     "iopub.status.idle": "2022-01-06T16:57:49.707564Z",
     "shell.execute_reply": "2022-01-06T16:57:49.706967Z",
     "shell.execute_reply.started": "2022-01-06T16:57:49.696056Z"
    },
    "id": "SmiKpfhzuBOU"
   },
   "outputs": [],
   "source": [
    "df['AVG WORD LENGTH'] = np.array(total_characters)/np.array(words)"
   ]
  },
  {
   "cell_type": "code",
   "execution_count": 57,
   "metadata": {
    "execution": {
     "iopub.execute_input": "2022-01-06T16:57:49.708901Z",
     "iopub.status.busy": "2022-01-06T16:57:49.708496Z",
     "iopub.status.idle": "2022-01-06T16:57:49.736391Z",
     "shell.execute_reply": "2022-01-06T16:57:49.735856Z",
     "shell.execute_reply.started": "2022-01-06T16:57:49.708864Z"
    },
    "id": "9S_kKWkm0Z8H",
    "outputId": "d22578ce-e211-4264-a6c9-95c1cc98ad20"
   },
   "outputs": [
    {
     "data": {
      "text/html": [
       "<div>\n",
       "<style scoped>\n",
       "    .dataframe tbody tr th:only-of-type {\n",
       "        vertical-align: middle;\n",
       "    }\n",
       "\n",
       "    .dataframe tbody tr th {\n",
       "        vertical-align: top;\n",
       "    }\n",
       "\n",
       "    .dataframe thead th {\n",
       "        text-align: right;\n",
       "    }\n",
       "</style>\n",
       "<table border=\"1\" class=\"dataframe\">\n",
       "  <thead>\n",
       "    <tr style=\"text-align: right;\">\n",
       "      <th></th>\n",
       "      <th>URL_ID</th>\n",
       "      <th>URL</th>\n",
       "      <th>POSITIVE SCORE</th>\n",
       "      <th>NEGATIVE SCORE</th>\n",
       "      <th>POLARITY SCORE</th>\n",
       "      <th>SUBJECTIVITY SCORE</th>\n",
       "      <th>AVG SENTENCE LENGTH</th>\n",
       "      <th>PERCENTAGE OF COMPLEX WORDS</th>\n",
       "      <th>FOG INDEX</th>\n",
       "      <th>AVG NUMBER OF WORDS PER SENTENCES</th>\n",
       "      <th>COMPLEX WORD COUNT</th>\n",
       "      <th>WORD COUNT</th>\n",
       "      <th>SYLLABLE PER WORD</th>\n",
       "      <th>PERSONAL PRONOUN</th>\n",
       "      <th>AVG WORD LENGTH</th>\n",
       "    </tr>\n",
       "  </thead>\n",
       "  <tbody>\n",
       "    <tr>\n",
       "      <th>0</th>\n",
       "      <td>37</td>\n",
       "      <td>https://insights.blackcoffer.com/ai-in-healthc...</td>\n",
       "      <td>0</td>\n",
       "      <td>0</td>\n",
       "      <td>0.0</td>\n",
       "      <td>0.0</td>\n",
       "      <td>22.641509</td>\n",
       "      <td>1.895000</td>\n",
       "      <td>9.814604</td>\n",
       "      <td>22.641509</td>\n",
       "      <td>2274</td>\n",
       "      <td>1200</td>\n",
       "      <td>12.763333</td>\n",
       "      <td>39</td>\n",
       "      <td>7.054167</td>\n",
       "    </tr>\n",
       "    <tr>\n",
       "      <th>1</th>\n",
       "      <td>38</td>\n",
       "      <td>https://insights.blackcoffer.com/what-if-the-c...</td>\n",
       "      <td>0</td>\n",
       "      <td>0</td>\n",
       "      <td>0.0</td>\n",
       "      <td>0.0</td>\n",
       "      <td>12.514706</td>\n",
       "      <td>1.279671</td>\n",
       "      <td>5.517751</td>\n",
       "      <td>12.514706</td>\n",
       "      <td>1089</td>\n",
       "      <td>851</td>\n",
       "      <td>9.772033</td>\n",
       "      <td>37</td>\n",
       "      <td>6.070505</td>\n",
       "    </tr>\n",
       "    <tr>\n",
       "      <th>2</th>\n",
       "      <td>39</td>\n",
       "      <td>https://insights.blackcoffer.com/what-jobs-wil...</td>\n",
       "      <td>0</td>\n",
       "      <td>0</td>\n",
       "      <td>0.0</td>\n",
       "      <td>0.0</td>\n",
       "      <td>15.880597</td>\n",
       "      <td>1.821429</td>\n",
       "      <td>7.080810</td>\n",
       "      <td>15.880597</td>\n",
       "      <td>1938</td>\n",
       "      <td>1064</td>\n",
       "      <td>12.716165</td>\n",
       "      <td>31</td>\n",
       "      <td>7.007519</td>\n",
       "    </tr>\n",
       "    <tr>\n",
       "      <th>3</th>\n",
       "      <td>40</td>\n",
       "      <td>https://insights.blackcoffer.com/will-machine-...</td>\n",
       "      <td>0</td>\n",
       "      <td>0</td>\n",
       "      <td>0.0</td>\n",
       "      <td>0.0</td>\n",
       "      <td>12.551282</td>\n",
       "      <td>1.277835</td>\n",
       "      <td>5.531647</td>\n",
       "      <td>12.551282</td>\n",
       "      <td>1251</td>\n",
       "      <td>979</td>\n",
       "      <td>9.825332</td>\n",
       "      <td>74</td>\n",
       "      <td>6.188968</td>\n",
       "    </tr>\n",
       "    <tr>\n",
       "      <th>4</th>\n",
       "      <td>41</td>\n",
       "      <td>https://insights.blackcoffer.com/will-ai-repla...</td>\n",
       "      <td>0</td>\n",
       "      <td>0</td>\n",
       "      <td>0.0</td>\n",
       "      <td>0.0</td>\n",
       "      <td>16.367647</td>\n",
       "      <td>1.337826</td>\n",
       "      <td>7.082189</td>\n",
       "      <td>16.367647</td>\n",
       "      <td>1489</td>\n",
       "      <td>1113</td>\n",
       "      <td>10.333333</td>\n",
       "      <td>36</td>\n",
       "      <td>6.297394</td>\n",
       "    </tr>\n",
       "    <tr>\n",
       "      <th>5</th>\n",
       "      <td>42</td>\n",
       "      <td>https://insights.blackcoffer.com/man-and-machi...</td>\n",
       "      <td>0</td>\n",
       "      <td>0</td>\n",
       "      <td>0.0</td>\n",
       "      <td>0.0</td>\n",
       "      <td>16.500000</td>\n",
       "      <td>1.426768</td>\n",
       "      <td>7.170707</td>\n",
       "      <td>16.500000</td>\n",
       "      <td>1130</td>\n",
       "      <td>792</td>\n",
       "      <td>10.661616</td>\n",
       "      <td>17</td>\n",
       "      <td>6.291667</td>\n",
       "    </tr>\n",
       "    <tr>\n",
       "      <th>6</th>\n",
       "      <td>43</td>\n",
       "      <td>https://insights.blackcoffer.com/in-future-or-...</td>\n",
       "      <td>0</td>\n",
       "      <td>0</td>\n",
       "      <td>0.0</td>\n",
       "      <td>0.0</td>\n",
       "      <td>10.975610</td>\n",
       "      <td>1.357778</td>\n",
       "      <td>4.933355</td>\n",
       "      <td>10.975610</td>\n",
       "      <td>611</td>\n",
       "      <td>450</td>\n",
       "      <td>10.495556</td>\n",
       "      <td>14</td>\n",
       "      <td>6.368889</td>\n",
       "    </tr>\n",
       "    <tr>\n",
       "      <th>7</th>\n",
       "      <td>45</td>\n",
       "      <td>https://insights.blackcoffer.com/how-machine-l...</td>\n",
       "      <td>0</td>\n",
       "      <td>0</td>\n",
       "      <td>0.0</td>\n",
       "      <td>0.0</td>\n",
       "      <td>16.241379</td>\n",
       "      <td>1.053079</td>\n",
       "      <td>6.917783</td>\n",
       "      <td>16.241379</td>\n",
       "      <td>496</td>\n",
       "      <td>471</td>\n",
       "      <td>8.753715</td>\n",
       "      <td>11</td>\n",
       "      <td>5.781316</td>\n",
       "    </tr>\n",
       "    <tr>\n",
       "      <th>8</th>\n",
       "      <td>46</td>\n",
       "      <td>https://insights.blackcoffer.com/deep-learning...</td>\n",
       "      <td>0</td>\n",
       "      <td>0</td>\n",
       "      <td>0.0</td>\n",
       "      <td>0.0</td>\n",
       "      <td>19.382353</td>\n",
       "      <td>1.440819</td>\n",
       "      <td>8.329269</td>\n",
       "      <td>19.382353</td>\n",
       "      <td>1899</td>\n",
       "      <td>1318</td>\n",
       "      <td>10.632777</td>\n",
       "      <td>87</td>\n",
       "      <td>6.231411</td>\n",
       "    </tr>\n",
       "    <tr>\n",
       "      <th>9</th>\n",
       "      <td>47</td>\n",
       "      <td>https://insights.blackcoffer.com/how-to-protec...</td>\n",
       "      <td>0</td>\n",
       "      <td>0</td>\n",
       "      <td>0.0</td>\n",
       "      <td>0.0</td>\n",
       "      <td>16.195402</td>\n",
       "      <td>1.149752</td>\n",
       "      <td>6.938062</td>\n",
       "      <td>16.195402</td>\n",
       "      <td>1620</td>\n",
       "      <td>1409</td>\n",
       "      <td>9.221434</td>\n",
       "      <td>32</td>\n",
       "      <td>5.865153</td>\n",
       "    </tr>\n",
       "    <tr>\n",
       "      <th>10</th>\n",
       "      <td>48</td>\n",
       "      <td>https://insights.blackcoffer.com/how-machines-...</td>\n",
       "      <td>0</td>\n",
       "      <td>0</td>\n",
       "      <td>0.0</td>\n",
       "      <td>0.0</td>\n",
       "      <td>17.950000</td>\n",
       "      <td>1.981894</td>\n",
       "      <td>7.972758</td>\n",
       "      <td>17.950000</td>\n",
       "      <td>1423</td>\n",
       "      <td>718</td>\n",
       "      <td>13.775766</td>\n",
       "      <td>15</td>\n",
       "      <td>7.305014</td>\n",
       "    </tr>\n",
       "    <tr>\n",
       "      <th>11</th>\n",
       "      <td>49</td>\n",
       "      <td>https://insights.blackcoffer.com/ai-human-robo...</td>\n",
       "      <td>0</td>\n",
       "      <td>0</td>\n",
       "      <td>0.0</td>\n",
       "      <td>0.0</td>\n",
       "      <td>13.187500</td>\n",
       "      <td>1.285545</td>\n",
       "      <td>5.789218</td>\n",
       "      <td>13.187500</td>\n",
       "      <td>1085</td>\n",
       "      <td>844</td>\n",
       "      <td>9.779621</td>\n",
       "      <td>38</td>\n",
       "      <td>5.968009</td>\n",
       "    </tr>\n",
       "    <tr>\n",
       "      <th>12</th>\n",
       "      <td>50</td>\n",
       "      <td>https://insights.blackcoffer.com/how-ai-will-c...</td>\n",
       "      <td>0</td>\n",
       "      <td>0</td>\n",
       "      <td>0.0</td>\n",
       "      <td>0.0</td>\n",
       "      <td>27.848485</td>\n",
       "      <td>1.585419</td>\n",
       "      <td>11.773562</td>\n",
       "      <td>27.848485</td>\n",
       "      <td>1457</td>\n",
       "      <td>919</td>\n",
       "      <td>11.552775</td>\n",
       "      <td>55</td>\n",
       "      <td>6.608270</td>\n",
       "    </tr>\n",
       "    <tr>\n",
       "      <th>13</th>\n",
       "      <td>51</td>\n",
       "      <td>https://insights.blackcoffer.com/future-of-wor...</td>\n",
       "      <td>0</td>\n",
       "      <td>0</td>\n",
       "      <td>0.0</td>\n",
       "      <td>0.0</td>\n",
       "      <td>19.673077</td>\n",
       "      <td>1.579668</td>\n",
       "      <td>8.501098</td>\n",
       "      <td>19.673077</td>\n",
       "      <td>1616</td>\n",
       "      <td>1023</td>\n",
       "      <td>11.223851</td>\n",
       "      <td>63</td>\n",
       "      <td>6.445748</td>\n",
       "    </tr>\n",
       "    <tr>\n",
       "      <th>14</th>\n",
       "      <td>52</td>\n",
       "      <td>https://insights.blackcoffer.com/ai-tool-alexa...</td>\n",
       "      <td>0</td>\n",
       "      <td>0</td>\n",
       "      <td>0.0</td>\n",
       "      <td>0.0</td>\n",
       "      <td>19.117647</td>\n",
       "      <td>1.713846</td>\n",
       "      <td>8.332597</td>\n",
       "      <td>19.117647</td>\n",
       "      <td>557</td>\n",
       "      <td>325</td>\n",
       "      <td>12.516923</td>\n",
       "      <td>11</td>\n",
       "      <td>6.996923</td>\n",
       "    </tr>\n",
       "  </tbody>\n",
       "</table>\n",
       "</div>"
      ],
      "text/plain": [
       "    URL_ID                                                URL  POSITIVE SCORE  \\\n",
       "0       37  https://insights.blackcoffer.com/ai-in-healthc...               0   \n",
       "1       38  https://insights.blackcoffer.com/what-if-the-c...               0   \n",
       "2       39  https://insights.blackcoffer.com/what-jobs-wil...               0   \n",
       "3       40  https://insights.blackcoffer.com/will-machine-...               0   \n",
       "4       41  https://insights.blackcoffer.com/will-ai-repla...               0   \n",
       "5       42  https://insights.blackcoffer.com/man-and-machi...               0   \n",
       "6       43  https://insights.blackcoffer.com/in-future-or-...               0   \n",
       "7       45  https://insights.blackcoffer.com/how-machine-l...               0   \n",
       "8       46  https://insights.blackcoffer.com/deep-learning...               0   \n",
       "9       47  https://insights.blackcoffer.com/how-to-protec...               0   \n",
       "10      48  https://insights.blackcoffer.com/how-machines-...               0   \n",
       "11      49  https://insights.blackcoffer.com/ai-human-robo...               0   \n",
       "12      50  https://insights.blackcoffer.com/how-ai-will-c...               0   \n",
       "13      51  https://insights.blackcoffer.com/future-of-wor...               0   \n",
       "14      52  https://insights.blackcoffer.com/ai-tool-alexa...               0   \n",
       "\n",
       "    NEGATIVE SCORE  POLARITY SCORE  SUBJECTIVITY SCORE  AVG SENTENCE LENGTH  \\\n",
       "0                0             0.0                 0.0            22.641509   \n",
       "1                0             0.0                 0.0            12.514706   \n",
       "2                0             0.0                 0.0            15.880597   \n",
       "3                0             0.0                 0.0            12.551282   \n",
       "4                0             0.0                 0.0            16.367647   \n",
       "5                0             0.0                 0.0            16.500000   \n",
       "6                0             0.0                 0.0            10.975610   \n",
       "7                0             0.0                 0.0            16.241379   \n",
       "8                0             0.0                 0.0            19.382353   \n",
       "9                0             0.0                 0.0            16.195402   \n",
       "10               0             0.0                 0.0            17.950000   \n",
       "11               0             0.0                 0.0            13.187500   \n",
       "12               0             0.0                 0.0            27.848485   \n",
       "13               0             0.0                 0.0            19.673077   \n",
       "14               0             0.0                 0.0            19.117647   \n",
       "\n",
       "    PERCENTAGE OF COMPLEX WORDS  FOG INDEX  AVG NUMBER OF WORDS PER SENTENCES  \\\n",
       "0                      1.895000   9.814604                          22.641509   \n",
       "1                      1.279671   5.517751                          12.514706   \n",
       "2                      1.821429   7.080810                          15.880597   \n",
       "3                      1.277835   5.531647                          12.551282   \n",
       "4                      1.337826   7.082189                          16.367647   \n",
       "5                      1.426768   7.170707                          16.500000   \n",
       "6                      1.357778   4.933355                          10.975610   \n",
       "7                      1.053079   6.917783                          16.241379   \n",
       "8                      1.440819   8.329269                          19.382353   \n",
       "9                      1.149752   6.938062                          16.195402   \n",
       "10                     1.981894   7.972758                          17.950000   \n",
       "11                     1.285545   5.789218                          13.187500   \n",
       "12                     1.585419  11.773562                          27.848485   \n",
       "13                     1.579668   8.501098                          19.673077   \n",
       "14                     1.713846   8.332597                          19.117647   \n",
       "\n",
       "    COMPLEX WORD COUNT  WORD COUNT  SYLLABLE PER WORD  PERSONAL PRONOUN  \\\n",
       "0                 2274        1200          12.763333                39   \n",
       "1                 1089         851           9.772033                37   \n",
       "2                 1938        1064          12.716165                31   \n",
       "3                 1251         979           9.825332                74   \n",
       "4                 1489        1113          10.333333                36   \n",
       "5                 1130         792          10.661616                17   \n",
       "6                  611         450          10.495556                14   \n",
       "7                  496         471           8.753715                11   \n",
       "8                 1899        1318          10.632777                87   \n",
       "9                 1620        1409           9.221434                32   \n",
       "10                1423         718          13.775766                15   \n",
       "11                1085         844           9.779621                38   \n",
       "12                1457         919          11.552775                55   \n",
       "13                1616        1023          11.223851                63   \n",
       "14                 557         325          12.516923                11   \n",
       "\n",
       "    AVG WORD LENGTH  \n",
       "0          7.054167  \n",
       "1          6.070505  \n",
       "2          7.007519  \n",
       "3          6.188968  \n",
       "4          6.297394  \n",
       "5          6.291667  \n",
       "6          6.368889  \n",
       "7          5.781316  \n",
       "8          6.231411  \n",
       "9          5.865153  \n",
       "10         7.305014  \n",
       "11         5.968009  \n",
       "12         6.608270  \n",
       "13         6.445748  \n",
       "14         6.996923  "
      ]
     },
     "execution_count": 57,
     "metadata": {},
     "output_type": "execute_result"
    }
   ],
   "source": [
    "df"
   ]
  },
  {
   "cell_type": "code",
   "execution_count": null,
   "metadata": {
    "execution": {
     "iopub.execute_input": "2022-01-06T16:59:30.559943Z",
     "iopub.status.busy": "2022-01-06T16:59:30.559325Z",
     "iopub.status.idle": "2022-01-06T16:59:30.603197Z",
     "shell.execute_reply": "2022-01-06T16:59:30.601817Z",
     "shell.execute_reply.started": "2022-01-06T16:59:30.559893Z"
    },
    "id": "FgPrjxphuMim"
   },
   "outputs": [],
   "source": [
    "articles"
   ]
  },
  {
   "cell_type": "code",
   "execution_count": null,
   "metadata": {
    "id": "_zY_-3CQxvoQ"
   },
   "outputs": [],
   "source": []
  },
  {
   "cell_type": "code",
   "execution_count": null,
   "metadata": {},
   "outputs": [],
   "source": []
  }
 ],
 "metadata": {
  "kernelspec": {
   "display_name": "Python 3 (ipykernel)",
   "language": "python",
   "name": "python3"
  },
  "language_info": {
   "codemirror_mode": {
    "name": "ipython",
    "version": 3
   },
   "file_extension": ".py",
   "mimetype": "text/x-python",
   "name": "python",
   "nbconvert_exporter": "python",
   "pygments_lexer": "ipython3",
   "version": "3.9.12"
  }
 },
 "nbformat": 4,
 "nbformat_minor": 4
}
