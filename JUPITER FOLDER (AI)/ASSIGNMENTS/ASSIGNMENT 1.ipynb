{
 "cells": [
  {
   "cell_type": "markdown",
   "id": "b06587ee",
   "metadata": {},
   "source": [
    "# kartik thakur"
   ]
  },
  {
   "cell_type": "markdown",
   "id": "8c224c5e",
   "metadata": {},
   "source": [
    "### ASSIGNMENT NO .1"
   ]
  },
  {
   "cell_type": "markdown",
   "id": "98821c6e",
   "metadata": {},
   "source": [
    "###  Q1 Calculate the sum and multiplication of two numbers , the answer should be less than 100. take input from user"
   ]
  },
  {
   "cell_type": "code",
   "execution_count": 32,
   "id": "3c7b05a4",
   "metadata": {},
   "outputs": [
    {
     "name": "stdout",
     "output_type": "stream",
     "text": [
      "Enter first number = 2\n",
      "Enter second number = 3\n",
      "sum =  5\n",
      "multplicaton = 6\n"
     ]
    }
   ],
   "source": [
    " A = int(input(\"Enter first number = \")) # taking input for A\n",
    "    \n",
    " B = int(input(\"Enter second number = \"))  # taking input for B   \n",
    "\n",
    "print(\"sum = \",A+B)  # SUM OF TWO NUMBERS\n",
    "\n",
    "print(\"multplicaton =\",A*B)  # MULTIPLYING TWO NUMBERS\n"
   ]
  },
  {
   "cell_type": "markdown",
   "id": "0359fba5",
   "metadata": {},
   "source": [
    "### Q2 Print the statment : welcome to C-DAC"
   ]
  },
  {
   "cell_type": "code",
   "execution_count": 33,
   "id": "268b64cc",
   "metadata": {},
   "outputs": [
    {
     "name": "stdout",
     "output_type": "stream",
     "text": [
      "welcome to C-DAC\n"
     ]
    }
   ],
   "source": [
    "print(\"welcome to C-DAC\")   #PRINTING CDAC"
   ]
  },
  {
   "cell_type": "markdown",
   "id": "e5634601",
   "metadata": {},
   "source": [
    "### Q3 Display float number upto two decimal n = 458.511332\n"
   ]
  },
  {
   "cell_type": "code",
   "execution_count": 35,
   "id": "2638c50a",
   "metadata": {},
   "outputs": [
    {
     "name": "stdout",
     "output_type": "stream",
     "text": [
      "458.51\n"
     ]
    }
   ],
   "source": [
    " n = 458.511332\n",
    "    \n",
    "n_round = round(n,2)\n",
    "print(n_round)"
   ]
  },
  {
   "cell_type": "markdown",
   "id": "92357758",
   "metadata": {},
   "source": [
    "### Q4 Using string.format() method to display output : My name is {} .My age is {} . \n",
    "### I know {} Language"
   ]
  },
  {
   "cell_type": "code",
   "execution_count": 9,
   "id": "a3309142",
   "metadata": {},
   "outputs": [
    {
     "ename": "IndexError",
     "evalue": "Replacement index 3 out of range for positional args tuple",
     "output_type": "error",
     "traceback": [
      "\u001b[1;31m---------------------------------------------------------------------------\u001b[0m",
      "\u001b[1;31mIndexError\u001b[0m                                Traceback (most recent call last)",
      "Input \u001b[1;32mIn [9]\u001b[0m, in \u001b[0;36m<cell line: 5>\u001b[1;34m()\u001b[0m\n\u001b[0;32m      3\u001b[0m Language \u001b[38;5;241m=\u001b[39m \u001b[38;5;124m\"\u001b[39m\u001b[38;5;124mpython\u001b[39m\u001b[38;5;124m\"\u001b[39m\n\u001b[0;32m      4\u001b[0m sen \u001b[38;5;241m=\u001b[39m \u001b[38;5;124m\"\u001b[39m\u001b[38;5;124mmy name is \u001b[39m\u001b[38;5;132;01m{}\u001b[39;00m\u001b[38;5;124m . My name is \u001b[39m\u001b[38;5;132;01m{}\u001b[39;00m\u001b[38;5;124m. My age is \u001b[39m\u001b[38;5;132;01m{}\u001b[39;00m\u001b[38;5;124m.I know \u001b[39m\u001b[38;5;132;01m{}\u001b[39;00m\u001b[38;5;124m language\u001b[39m\u001b[38;5;124m\"\u001b[39m\n\u001b[1;32m----> 5\u001b[0m \u001b[43msen\u001b[49m\u001b[38;5;241;43m.\u001b[39;49m\u001b[43mformat\u001b[49m\u001b[43m(\u001b[49m\u001b[43mName\u001b[49m\u001b[43m,\u001b[49m\u001b[43mage\u001b[49m\u001b[43m,\u001b[49m\u001b[43mLanguage\u001b[49m\u001b[43m)\u001b[49m\n",
      "\u001b[1;31mIndexError\u001b[0m: Replacement index 3 out of range for positional args tuple"
     ]
    }
   ],
   "source": [
    "Name = \"kartik\"\n",
    "age = \"21\"\n",
    "Language = \"python\"\n",
    "sen = \"my name is {} . My name is {}. My age is {}.I know {} language\"\n",
    "sen.format(Name,age,Language)\n",
    "\n"
   ]
  },
  {
   "cell_type": "markdown",
   "id": "7bd06130",
   "metadata": {},
   "source": [
    "### Q5 Grab hello from the nested list , lst =[1,2,[3,4],[5,[100,200,['hello']],23,11],1,7]"
   ]
  },
  {
   "cell_type": "code",
   "execution_count": 13,
   "id": "4205a892",
   "metadata": {},
   "outputs": [
    {
     "data": {
      "text/plain": [
       "'hello'"
      ]
     },
     "execution_count": 13,
     "metadata": {},
     "output_type": "execute_result"
    }
   ],
   "source": [
    "nest =[1,2,[3,4],[5,[100,200,[\"hello\"]],23,11],1,7] \n",
    "\n",
    "nest[3][1][2][0]\n"
   ]
  },
  {
   "cell_type": "markdown",
   "id": "ee783837",
   "metadata": {},
   "source": [
    "### Q Reverse the list L = [100,200,300,400]"
   ]
  },
  {
   "cell_type": "code",
   "execution_count": 23,
   "id": "f507de86",
   "metadata": {},
   "outputs": [
    {
     "name": "stdout",
     "output_type": "stream",
     "text": [
      "None\n"
     ]
    }
   ],
   "source": [
    "L = [100,200,300,400]\n",
    "L.reverse()\n"
   ]
  },
  {
   "cell_type": "markdown",
   "id": "92215548",
   "metadata": {},
   "source": [
    "### Q7 Find 20 from the list and replace it with 200"
   ]
  },
  {
   "cell_type": "code",
   "execution_count": 15,
   "id": "8c59ca5b",
   "metadata": {},
   "outputs": [
    {
     "name": "stdout",
     "output_type": "stream",
     "text": [
      "[5, 10, 200, 30, 40, 200]\n"
     ]
    }
   ],
   "source": [
    "L =[5,10,20,30,40,20]\n",
    "L[2]= 200\n",
    "L[5]=200\n",
    "print(L)"
   ]
  }
 ],
 "metadata": {
  "kernelspec": {
   "display_name": "Python 3 (ipykernel)",
   "language": "python",
   "name": "python3"
  },
  "language_info": {
   "codemirror_mode": {
    "name": "ipython",
    "version": 3
   },
   "file_extension": ".py",
   "mimetype": "text/x-python",
   "name": "python",
   "nbconvert_exporter": "python",
   "pygments_lexer": "ipython3",
   "version": "3.9.12"
  }
 },
 "nbformat": 4,
 "nbformat_minor": 5
}
