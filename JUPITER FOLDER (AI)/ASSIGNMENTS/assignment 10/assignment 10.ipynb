{
 "cells": [
  {
   "cell_type": "markdown",
   "id": "be677e10",
   "metadata": {},
   "source": [
    "## ASSIGNMENT 10\n",
    "\n",
    "### KARTIK THAKUR"
   ]
  },
  {
   "cell_type": "markdown",
   "id": "5c66be67",
   "metadata": {},
   "source": [
    "### 1. Create a Series from numpy array generated from random function randn and get the third place value."
   ]
  },
  {
   "cell_type": "code",
   "execution_count": 71,
   "id": "8ddc96c7",
   "metadata": {},
   "outputs": [
    {
     "data": {
      "text/plain": [
       "0    0.627457\n",
       "1   -0.445774\n",
       "2   -0.496568\n",
       "3    0.087179\n",
       "4   -1.476520\n",
       "dtype: float64"
      ]
     },
     "execution_count": 71,
     "metadata": {},
     "output_type": "execute_result"
    }
   ],
   "source": [
    "import pandas as pd\n",
    "import numpy as np\n",
    "\n",
    "d=np.random.randn(5)\n",
    "\n",
    "dp=pd.Series(d)\n",
    "dp\n"
   ]
  },
  {
   "cell_type": "code",
   "execution_count": 72,
   "id": "849ece72",
   "metadata": {},
   "outputs": [
    {
     "data": {
      "text/plain": [
       "0.08717875975930756"
      ]
     },
     "execution_count": 72,
     "metadata": {},
     "output_type": "execute_result"
    }
   ],
   "source": [
    "# showing 3rd place value\n",
    "d[3]"
   ]
  },
  {
   "cell_type": "markdown",
   "id": "9fb115dc",
   "metadata": {},
   "source": [
    "## 2. Create a Dataframe from dictionary having keys: Country, State, Population and values in the list upto 4 values. Population values = [200, 700,100, 500, 800, 50, 900]"
   ]
  },
  {
   "cell_type": "code",
   "execution_count": 73,
   "id": "7072e6d3",
   "metadata": {},
   "outputs": [
    {
     "data": {
      "text/html": [
       "<div>\n",
       "<style scoped>\n",
       "    .dataframe tbody tr th:only-of-type {\n",
       "        vertical-align: middle;\n",
       "    }\n",
       "\n",
       "    .dataframe tbody tr th {\n",
       "        vertical-align: top;\n",
       "    }\n",
       "\n",
       "    .dataframe thead th {\n",
       "        text-align: right;\n",
       "    }\n",
       "</style>\n",
       "<table border=\"1\" class=\"dataframe\">\n",
       "  <thead>\n",
       "    <tr style=\"text-align: right;\">\n",
       "      <th></th>\n",
       "      <th>Country</th>\n",
       "      <th>State</th>\n",
       "      <th>Population</th>\n",
       "    </tr>\n",
       "  </thead>\n",
       "  <tbody>\n",
       "    <tr>\n",
       "      <th>0</th>\n",
       "      <td>Nepal</td>\n",
       "      <td>Bagmati Province, Sudurpashchim Province, Karn...</td>\n",
       "      <td>200</td>\n",
       "    </tr>\n",
       "    <tr>\n",
       "      <th>1</th>\n",
       "      <td>Bangladesh</td>\n",
       "      <td>Barisal Division, Chittagong Division, Dhaka D...</td>\n",
       "      <td>700</td>\n",
       "    </tr>\n",
       "    <tr>\n",
       "      <th>2</th>\n",
       "      <td>Pakistan</td>\n",
       "      <td>Azad Jammu and Kashmir, Balochistan, Gilgit-Ba...</td>\n",
       "      <td>100</td>\n",
       "    </tr>\n",
       "    <tr>\n",
       "      <th>3</th>\n",
       "      <td>Mauritius</td>\n",
       "      <td>Agaléga Islands, Black River, Cargados Carajos...</td>\n",
       "      <td>500</td>\n",
       "    </tr>\n",
       "    <tr>\n",
       "      <th>4</th>\n",
       "      <td>India</td>\n",
       "      <td>Andhra Pradesh, Arunachal Pradesh, Assam, Biha...</td>\n",
       "      <td>800</td>\n",
       "    </tr>\n",
       "    <tr>\n",
       "      <th>5</th>\n",
       "      <td>Canada</td>\n",
       "      <td>Alberta, British Columbia, Manitoba, New Bruns...</td>\n",
       "      <td>50</td>\n",
       "    </tr>\n",
       "    <tr>\n",
       "      <th>6</th>\n",
       "      <td>China</td>\n",
       "      <td>Anhui, Fujian, Gansu, Guangdong, Guizhou, Hain...</td>\n",
       "      <td>900</td>\n",
       "    </tr>\n",
       "  </tbody>\n",
       "</table>\n",
       "</div>"
      ],
      "text/plain": [
       "      Country                                              State  Population\n",
       "0       Nepal  Bagmati Province, Sudurpashchim Province, Karn...         200\n",
       "1  Bangladesh  Barisal Division, Chittagong Division, Dhaka D...         700\n",
       "2    Pakistan  Azad Jammu and Kashmir, Balochistan, Gilgit-Ba...         100\n",
       "3   Mauritius  Agaléga Islands, Black River, Cargados Carajos...         500\n",
       "4       India  Andhra Pradesh, Arunachal Pradesh, Assam, Biha...         800\n",
       "5      Canada  Alberta, British Columbia, Manitoba, New Bruns...          50\n",
       "6       China  Anhui, Fujian, Gansu, Guangdong, Guizhou, Hain...         900"
      ]
     },
     "execution_count": 73,
     "metadata": {},
     "output_type": "execute_result"
    }
   ],
   "source": [
    "country = {\n",
    "    \"Country\": [\"Nepal\", \"Bangladesh\", \"Pakistan\", \"Mauritius\", \"India\", \"Canada\", \"China\"],\n",
    "    \"State\": [\n",
    "        \"Bagmati Province, Sudurpashchim Province, Karnali Province, Gandaki Province, Lumbini Province, Province No. 1, Province No. 2\",\n",
    "        \"Barisal Division, Chittagong Division, Dhaka Division, Khulna Division, Mymensingh Division, Rajshahi Division, Rangpur Division, Sylhet Division\",\n",
    "        \"Azad Jammu and Kashmir, Balochistan, Gilgit-Baltistan, Islamabad Capital Territory, Khyber Pakhtunkhwa, Punjab, Sindh\",\n",
    "        \"Agaléga Islands, Black River, Cargados Carajos Shoals (Saint Brandon), Flacq, Grand Port, Moka, Pamplemousses, Plaines Wilhems, Port Louis, Rivière du Rempart, Rodrigues, Savanne\",\n",
    "        \"Andhra Pradesh, Arunachal Pradesh, Assam, Bihar, Chhattisgarh, Goa, Gujarat, Haryana, Himachal Pradesh, Jharkhand, Karnataka, Kerala, Madhya Pradesh, Maharashtra, Manipur, Meghalaya, Mizoram, Nagaland, Odisha, Punjab, Rajasthan, Sikkim, Tamil Nadu, Telangana, Tripura, Uttar Pradesh, Uttarakhand, West Bengal\",\n",
    "        \"Alberta, British Columbia, Manitoba, New Brunswick, Newfoundland and Labrador, Northwest Territories, Nova Scotia, Nunavut, Ontario, Prince Edward Island, Quebec, Saskatchewan, Yukon\",\n",
    "        \"Anhui, Fujian, Gansu, Guangdong, Guizhou, Hainan, Hebei, Heilongjiang, Henan, Hubei, Hunan, Jiangsu, Jiangxi, Jilin, Liaoning, Qinghai, Shaanxi, Shandong, Shanxi, Sichuan, Yunnan, Zhejiang, Guangxi, Inner Mongolia, Ningxia, Tibet, Xinjiang, Beijing, Chongqing, Shanghai, Tianjin\"\n",
    "    ],\n",
    "    \"Population\": [200, 700, 100, 500, 800, 50, 900]\n",
    "}\n",
    "\n",
    "d=pd.DataFrame(country)\n",
    "d"
   ]
  },
  {
   "cell_type": "markdown",
   "id": "54361be9",
   "metadata": {},
   "source": [
    "### a) Describe the dataframe by excluding object type data"
   ]
  },
  {
   "cell_type": "code",
   "execution_count": 74,
   "id": "8b945533",
   "metadata": {},
   "outputs": [
    {
     "data": {
      "text/html": [
       "<div>\n",
       "<style scoped>\n",
       "    .dataframe tbody tr th:only-of-type {\n",
       "        vertical-align: middle;\n",
       "    }\n",
       "\n",
       "    .dataframe tbody tr th {\n",
       "        vertical-align: top;\n",
       "    }\n",
       "\n",
       "    .dataframe thead th {\n",
       "        text-align: right;\n",
       "    }\n",
       "</style>\n",
       "<table border=\"1\" class=\"dataframe\">\n",
       "  <thead>\n",
       "    <tr style=\"text-align: right;\">\n",
       "      <th></th>\n",
       "      <th>Population</th>\n",
       "    </tr>\n",
       "  </thead>\n",
       "  <tbody>\n",
       "    <tr>\n",
       "      <th>count</th>\n",
       "      <td>7.000000</td>\n",
       "    </tr>\n",
       "    <tr>\n",
       "      <th>mean</th>\n",
       "      <td>464.285714</td>\n",
       "    </tr>\n",
       "    <tr>\n",
       "      <th>std</th>\n",
       "      <td>349.659699</td>\n",
       "    </tr>\n",
       "    <tr>\n",
       "      <th>min</th>\n",
       "      <td>50.000000</td>\n",
       "    </tr>\n",
       "    <tr>\n",
       "      <th>25%</th>\n",
       "      <td>150.000000</td>\n",
       "    </tr>\n",
       "    <tr>\n",
       "      <th>50%</th>\n",
       "      <td>500.000000</td>\n",
       "    </tr>\n",
       "    <tr>\n",
       "      <th>75%</th>\n",
       "      <td>750.000000</td>\n",
       "    </tr>\n",
       "    <tr>\n",
       "      <th>max</th>\n",
       "      <td>900.000000</td>\n",
       "    </tr>\n",
       "  </tbody>\n",
       "</table>\n",
       "</div>"
      ],
      "text/plain": [
       "       Population\n",
       "count    7.000000\n",
       "mean   464.285714\n",
       "std    349.659699\n",
       "min     50.000000\n",
       "25%    150.000000\n",
       "50%    500.000000\n",
       "75%    750.000000\n",
       "max    900.000000"
      ]
     },
     "execution_count": 74,
     "metadata": {},
     "output_type": "execute_result"
    }
   ],
   "source": [
    "d_desc = d.describe(exclude='object')\n",
    "d_desc"
   ]
  },
  {
   "cell_type": "markdown",
   "id": "b77d0941",
   "metadata": {},
   "source": [
    "### b) Sort the country according to the population"
   ]
  },
  {
   "cell_type": "code",
   "execution_count": 26,
   "id": "429df22e",
   "metadata": {},
   "outputs": [
    {
     "data": {
      "text/html": [
       "<div>\n",
       "<style scoped>\n",
       "    .dataframe tbody tr th:only-of-type {\n",
       "        vertical-align: middle;\n",
       "    }\n",
       "\n",
       "    .dataframe tbody tr th {\n",
       "        vertical-align: top;\n",
       "    }\n",
       "\n",
       "    .dataframe thead th {\n",
       "        text-align: right;\n",
       "    }\n",
       "</style>\n",
       "<table border=\"1\" class=\"dataframe\">\n",
       "  <thead>\n",
       "    <tr style=\"text-align: right;\">\n",
       "      <th></th>\n",
       "      <th>Country</th>\n",
       "      <th>Population</th>\n",
       "    </tr>\n",
       "  </thead>\n",
       "  <tbody>\n",
       "    <tr>\n",
       "      <th>5</th>\n",
       "      <td>Canada</td>\n",
       "      <td>50</td>\n",
       "    </tr>\n",
       "    <tr>\n",
       "      <th>2</th>\n",
       "      <td>Pakistan</td>\n",
       "      <td>100</td>\n",
       "    </tr>\n",
       "    <tr>\n",
       "      <th>0</th>\n",
       "      <td>Nepal</td>\n",
       "      <td>200</td>\n",
       "    </tr>\n",
       "    <tr>\n",
       "      <th>3</th>\n",
       "      <td>Mauritius</td>\n",
       "      <td>500</td>\n",
       "    </tr>\n",
       "    <tr>\n",
       "      <th>1</th>\n",
       "      <td>Bangladesh</td>\n",
       "      <td>700</td>\n",
       "    </tr>\n",
       "    <tr>\n",
       "      <th>4</th>\n",
       "      <td>India</td>\n",
       "      <td>800</td>\n",
       "    </tr>\n",
       "    <tr>\n",
       "      <th>6</th>\n",
       "      <td>China</td>\n",
       "      <td>900</td>\n",
       "    </tr>\n",
       "  </tbody>\n",
       "</table>\n",
       "</div>"
      ],
      "text/plain": [
       "      Country  Population\n",
       "5      Canada          50\n",
       "2    Pakistan         100\n",
       "0       Nepal         200\n",
       "3   Mauritius         500\n",
       "1  Bangladesh         700\n",
       "4       India         800\n",
       "6       China         900"
      ]
     },
     "execution_count": 26,
     "metadata": {},
     "output_type": "execute_result"
    }
   ],
   "source": [
    "d_sorted = df.sort_values(by='Population') # low to high\n",
    "d_sorted\n"
   ]
  },
  {
   "cell_type": "markdown",
   "id": "22846b98",
   "metadata": {},
   "source": [
    "### c) Get the values of second row"
   ]
  },
  {
   "cell_type": "code",
   "execution_count": 76,
   "id": "e3b7462a",
   "metadata": {},
   "outputs": [
    {
     "name": "stdout",
     "output_type": "stream",
     "text": [
      "Country                                              Bangladesh\n",
      "State         Barisal Division, Chittagong Division, Dhaka D...\n",
      "Population                                                  700\n",
      "Name: 1, dtype: object\n"
     ]
    }
   ],
   "source": [
    "second_row = d.iloc[1]\n",
    "print(second_row)"
   ]
  },
  {
   "cell_type": "markdown",
   "id": "f87de79e",
   "metadata": {},
   "source": [
    "### d) Sort the country names alphabetically"
   ]
  },
  {
   "cell_type": "code",
   "execution_count": 77,
   "id": "c3544f0d",
   "metadata": {},
   "outputs": [
    {
     "name": "stdout",
     "output_type": "stream",
     "text": [
      "      Country                                              State  Population\n",
      "1  Bangladesh  Barisal Division, Chittagong Division, Dhaka D...         700\n",
      "5      Canada  Alberta, British Columbia, Manitoba, New Bruns...          50\n",
      "6       China  Anhui, Fujian, Gansu, Guangdong, Guizhou, Hain...         900\n",
      "4       India  Andhra Pradesh, Arunachal Pradesh, Assam, Biha...         800\n",
      "3   Mauritius  Agaléga Islands, Black River, Cargados Carajos...         500\n",
      "0       Nepal  Bagmati Province, Sudurpashchim Province, Karn...         200\n",
      "2    Pakistan  Azad Jammu and Kashmir, Balochistan, Gilgit-Ba...         100\n"
     ]
    }
   ],
   "source": [
    "df = d.sort_values('Country')\n",
    "print(df)"
   ]
  },
  {
   "cell_type": "markdown",
   "id": "ae689add",
   "metadata": {},
   "source": [
    "### e) Create the new column with name capital"
   ]
  },
  {
   "cell_type": "code",
   "execution_count": 78,
   "id": "7c8ff625",
   "metadata": {},
   "outputs": [
    {
     "name": "stdout",
     "output_type": "stream",
     "text": [
      "      Country                                              State  Population  \\\n",
      "1  Bangladesh  Barisal Division, Chittagong Division, Dhaka D...         700   \n",
      "5      Canada  Alberta, British Columbia, Manitoba, New Bruns...          50   \n",
      "6       China  Anhui, Fujian, Gansu, Guangdong, Guizhou, Hain...         900   \n",
      "4       India  Andhra Pradesh, Arunachal Pradesh, Assam, Biha...         800   \n",
      "3   Mauritius  Agaléga Islands, Black River, Cargados Carajos...         500   \n",
      "0       Nepal  Bagmati Province, Sudurpashchim Province, Karn...         200   \n",
      "2    Pakistan  Azad Jammu and Kashmir, Balochistan, Gilgit-Ba...         100   \n",
      "\n",
      "      Capital  \n",
      "1   Kathmandu  \n",
      "5       Dhaka  \n",
      "6   Islamabad  \n",
      "4  Port Louis  \n",
      "3   New Delhi  \n",
      "0      Ottawa  \n",
      "2     Beijing  \n"
     ]
    }
   ],
   "source": [
    "capitals = [\"Kathmandu\", \"Dhaka\", \"Islamabad\", \"Port Louis\", \"New Delhi\", \"Ottawa\", \"Beijing\"]\n",
    "\n",
    "df['Capital'] = capitals\n",
    "print(df)"
   ]
  },
  {
   "cell_type": "markdown",
   "id": "2047e2d3",
   "metadata": {},
   "source": [
    "### f) Get the population of country more than 500"
   ]
  },
  {
   "cell_type": "code",
   "execution_count": 79,
   "id": "c0720921",
   "metadata": {},
   "outputs": [
    {
     "name": "stdout",
     "output_type": "stream",
     "text": [
      "1    700\n",
      "4    800\n",
      "6    900\n",
      "Name: Population, dtype: int64\n"
     ]
    }
   ],
   "source": [
    "pop_more_than_500 = d[d['Population'] > 500]['Population']\n",
    "print(pop_more_than_500)\n"
   ]
  },
  {
   "cell_type": "markdown",
   "id": "6f12f1d1",
   "metadata": {},
   "source": [
    "### g) Remove the state column from the dataframe"
   ]
  },
  {
   "cell_type": "code",
   "execution_count": 80,
   "id": "9ad952cb",
   "metadata": {},
   "outputs": [
    {
     "name": "stdout",
     "output_type": "stream",
     "text": [
      "      Country  Population\n",
      "0       Nepal         200\n",
      "1  Bangladesh         700\n",
      "2    Pakistan         100\n",
      "3   Mauritius         500\n",
      "4       India         800\n",
      "5      Canada          50\n",
      "6       China         900\n"
     ]
    }
   ],
   "source": [
    "df = d.drop('State', axis=1)\n",
    "print(df)"
   ]
  },
  {
   "cell_type": "markdown",
   "id": "429254ec",
   "metadata": {},
   "source": [
    "### h) Change the column name Population to %_Population"
   ]
  },
  {
   "cell_type": "code",
   "execution_count": 86,
   "id": "4670b3e3",
   "metadata": {},
   "outputs": [
    {
     "data": {
      "text/html": [
       "<div>\n",
       "<style scoped>\n",
       "    .dataframe tbody tr th:only-of-type {\n",
       "        vertical-align: middle;\n",
       "    }\n",
       "\n",
       "    .dataframe tbody tr th {\n",
       "        vertical-align: top;\n",
       "    }\n",
       "\n",
       "    .dataframe thead th {\n",
       "        text-align: right;\n",
       "    }\n",
       "</style>\n",
       "<table border=\"1\" class=\"dataframe\">\n",
       "  <thead>\n",
       "    <tr style=\"text-align: right;\">\n",
       "      <th></th>\n",
       "      <th>Country</th>\n",
       "      <th>State</th>\n",
       "      <th>%_Population</th>\n",
       "    </tr>\n",
       "  </thead>\n",
       "  <tbody>\n",
       "    <tr>\n",
       "      <th>0</th>\n",
       "      <td>Nepal</td>\n",
       "      <td>Bagmati Province, Sudurpashchim Province, Karn...</td>\n",
       "      <td>200</td>\n",
       "    </tr>\n",
       "    <tr>\n",
       "      <th>1</th>\n",
       "      <td>Bangladesh</td>\n",
       "      <td>Barisal Division, Chittagong Division, Dhaka D...</td>\n",
       "      <td>700</td>\n",
       "    </tr>\n",
       "    <tr>\n",
       "      <th>2</th>\n",
       "      <td>Pakistan</td>\n",
       "      <td>Azad Jammu and Kashmir, Balochistan, Gilgit-Ba...</td>\n",
       "      <td>100</td>\n",
       "    </tr>\n",
       "    <tr>\n",
       "      <th>3</th>\n",
       "      <td>Mauritius</td>\n",
       "      <td>Agaléga Islands, Black River, Cargados Carajos...</td>\n",
       "      <td>500</td>\n",
       "    </tr>\n",
       "    <tr>\n",
       "      <th>4</th>\n",
       "      <td>India</td>\n",
       "      <td>Andhra Pradesh, Arunachal Pradesh, Assam, Biha...</td>\n",
       "      <td>800</td>\n",
       "    </tr>\n",
       "    <tr>\n",
       "      <th>5</th>\n",
       "      <td>Canada</td>\n",
       "      <td>Alberta, British Columbia, Manitoba, New Bruns...</td>\n",
       "      <td>50</td>\n",
       "    </tr>\n",
       "    <tr>\n",
       "      <th>6</th>\n",
       "      <td>China</td>\n",
       "      <td>Anhui, Fujian, Gansu, Guangdong, Guizhou, Hain...</td>\n",
       "      <td>900</td>\n",
       "    </tr>\n",
       "  </tbody>\n",
       "</table>\n",
       "</div>"
      ],
      "text/plain": [
       "      Country                                              State  %_Population\n",
       "0       Nepal  Bagmati Province, Sudurpashchim Province, Karn...           200\n",
       "1  Bangladesh  Barisal Division, Chittagong Division, Dhaka D...           700\n",
       "2    Pakistan  Azad Jammu and Kashmir, Balochistan, Gilgit-Ba...           100\n",
       "3   Mauritius  Agaléga Islands, Black River, Cargados Carajos...           500\n",
       "4       India  Andhra Pradesh, Arunachal Pradesh, Assam, Biha...           800\n",
       "5      Canada  Alberta, British Columbia, Manitoba, New Bruns...            50\n",
       "6       China  Anhui, Fujian, Gansu, Guangdong, Guizhou, Hain...           900"
      ]
     },
     "execution_count": 86,
     "metadata": {},
     "output_type": "execute_result"
    }
   ],
   "source": [
    "d.rename(columns={'Population': '%_Population'}, inplace=True)\n"
   ]
  },
  {
   "cell_type": "markdown",
   "id": "2854fa87",
   "metadata": {},
   "source": [
    "### i) Find the maximum populated country"
   ]
  },
  {
   "cell_type": "code",
   "execution_count": 88,
   "id": "ddf3c83b",
   "metadata": {},
   "outputs": [
    {
     "name": "stdout",
     "output_type": "stream",
     "text": [
      "The most populated country is: China\n"
     ]
    }
   ],
   "source": [
    "pop_by_country = d.groupby('Country')['%_Population'].sum()\n",
    "\n",
    "# sort the resulting dataframe in descending order\n",
    "pop_by_country = pop_by_country.sort_values(ascending=False)\n",
    "\n",
    "# get the most populated country\n",
    "most_populated_country = pop_by_country.index[0]\n",
    "\n",
    "print('The most populated country is:', most_populated_country)\n"
   ]
  },
  {
   "cell_type": "code",
   "execution_count": null,
   "id": "4b8c83fd",
   "metadata": {},
   "outputs": [],
   "source": []
  },
  {
   "cell_type": "code",
   "execution_count": null,
   "id": "f97bfe76",
   "metadata": {},
   "outputs": [],
   "source": []
  }
 ],
 "metadata": {
  "kernelspec": {
   "display_name": "Python 3 (ipykernel)",
   "language": "python",
   "name": "python3"
  },
  "language_info": {
   "codemirror_mode": {
    "name": "ipython",
    "version": 3
   },
   "file_extension": ".py",
   "mimetype": "text/x-python",
   "name": "python",
   "nbconvert_exporter": "python",
   "pygments_lexer": "ipython3",
   "version": "3.9.13"
  }
 },
 "nbformat": 4,
 "nbformat_minor": 5
}
