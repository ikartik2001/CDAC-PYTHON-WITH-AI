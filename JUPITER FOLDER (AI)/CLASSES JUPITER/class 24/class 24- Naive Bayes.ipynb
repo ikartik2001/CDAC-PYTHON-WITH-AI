{
 "cells": [
  {
   "cell_type": "code",
   "execution_count": 1,
   "id": "f590f2eb",
   "metadata": {},
   "outputs": [],
   "source": [
    "# class 24 - Naive Bayes"
   ]
  },
  {
   "cell_type": "markdown",
   "id": "be875522",
   "metadata": {},
   "source": [
    "![Alt text](naive bayes.png)"
   ]
  },
  {
   "cell_type": "code",
   "execution_count": null,
   "id": "b9a02224",
   "metadata": {},
   "outputs": [],
   "source": []
  }
 ],
 "metadata": {
  "kernelspec": {
   "display_name": "Python 3 (ipykernel)",
   "language": "python",
   "name": "python3"
  },
  "language_info": {
   "codemirror_mode": {
    "name": "ipython",
    "version": 3
   },
   "file_extension": ".py",
   "mimetype": "text/x-python",
   "name": "python",
   "nbconvert_exporter": "python",
   "pygments_lexer": "ipython3",
   "version": "3.9.12"
  }
 },
 "nbformat": 4,
 "nbformat_minor": 5
}
