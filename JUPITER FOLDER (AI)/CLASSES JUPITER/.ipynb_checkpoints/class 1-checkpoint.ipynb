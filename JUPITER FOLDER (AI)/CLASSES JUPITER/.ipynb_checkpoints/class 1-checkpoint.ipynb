{
 "cells": [
  {
   "cell_type": "code",
   "execution_count": 2,
   "id": "a412618c",
   "metadata": {},
   "outputs": [
    {
     "data": {
      "text/plain": [
       "[1, 'car', 123, 3]"
      ]
     },
     "execution_count": 2,
     "metadata": {},
     "output_type": "execute_result"
    }
   ],
   "source": [
    "mylist=[1,\"car\",123,3]              # we created a list \n",
    "mylist"
   ]
  },
  {
   "cell_type": "code",
   "execution_count": 3,
   "id": "98954520",
   "metadata": {},
   "outputs": [
    {
     "data": {
      "text/plain": [
       "list"
      ]
     },
     "execution_count": 3,
     "metadata": {},
     "output_type": "execute_result"
    }
   ],
   "source": [
    "type(mylist)                       # finding the type of list"
   ]
  },
  {
   "cell_type": "code",
   "execution_count": 4,
   "id": "257407f6",
   "metadata": {},
   "outputs": [],
   "source": [
    "mylist.append(\"ok\")                # appending the list , means adding item in list"
   ]
  },
  {
   "cell_type": "code",
   "execution_count": 5,
   "id": "4c2d080a",
   "metadata": {},
   "outputs": [
    {
     "data": {
      "text/plain": [
       "[1, 'car', 123, 3, 'ok']"
      ]
     },
     "execution_count": 5,
     "metadata": {},
     "output_type": "execute_result"
    }
   ],
   "source": [
    "mylist                            "
   ]
  },
  {
   "cell_type": "code",
   "execution_count": 6,
   "id": "c24e28c6",
   "metadata": {},
   "outputs": [
    {
     "data": {
      "text/plain": [
       "'car'"
      ]
     },
     "execution_count": 6,
     "metadata": {},
     "output_type": "execute_result"
    }
   ],
   "source": [
    "mylist.pop(1)                     # removing car from list , using .pop(index)"
   ]
  },
  {
   "cell_type": "code",
   "execution_count": 7,
   "id": "d80040d2",
   "metadata": {},
   "outputs": [
    {
     "data": {
      "text/plain": [
       "[1, 123, 3, 'ok']"
      ]
     },
     "execution_count": 7,
     "metadata": {},
     "output_type": "execute_result"
    }
   ],
   "source": [
    "mylist                 "
   ]
  },
  {
   "cell_type": "code",
   "execution_count": 8,
   "id": "7b2d68f1",
   "metadata": {},
   "outputs": [],
   "source": [
    "mylist.append(\"kartik\")           # adding my name in list"
   ]
  },
  {
   "cell_type": "code",
   "execution_count": 9,
   "id": "f8192e2a",
   "metadata": {},
   "outputs": [
    {
     "data": {
      "text/plain": [
       "[1, 123, 3, 'ok', 'kartik']"
      ]
     },
     "execution_count": 9,
     "metadata": {},
     "output_type": "execute_result"
    }
   ],
   "source": [
    "mylist"
   ]
  },
  {
   "cell_type": "code",
   "execution_count": 10,
   "id": "8de764e5",
   "metadata": {},
   "outputs": [
    {
     "data": {
      "text/plain": [
       "1"
      ]
     },
     "execution_count": 10,
     "metadata": {},
     "output_type": "execute_result"
    }
   ],
   "source": [
    "mylist[0]                         # printing the first index in list"
   ]
  },
  {
   "cell_type": "code",
   "execution_count": 11,
   "id": "082d0d6d",
   "metadata": {},
   "outputs": [
    {
     "data": {
      "text/plain": [
       "[1, 123, 3]"
      ]
     },
     "execution_count": 11,
     "metadata": {},
     "output_type": "execute_result"
    }
   ],
   "source": [
    "mylist[0:3]                        # slicing the list"
   ]
  },
  {
   "cell_type": "code",
   "execution_count": 12,
   "id": "dc58774d",
   "metadata": {},
   "outputs": [
    {
     "data": {
      "text/plain": [
       "[1, 123, 'orange', 3, 'ok', 'kartik']"
      ]
     },
     "execution_count": 12,
     "metadata": {},
     "output_type": "execute_result"
    }
   ],
   "source": [
    "mylist.insert(2,\"orange\")          # .insert (index,'item') ,adds item at specific index\n",
    "mylist"
   ]
  },
  {
   "cell_type": "code",
   "execution_count": 13,
   "id": "edf7dc67",
   "metadata": {},
   "outputs": [
    {
     "data": {
      "text/plain": [
       "[1, 123, 'orange', 3, 'ok', 'kartik', 'apple', 'oragne', 'GRAPES']"
      ]
     },
     "execution_count": 13,
     "metadata": {},
     "output_type": "execute_result"
    }
   ],
   "source": [
    "store=[\"apple\",\"oragne\",\"GRAPES\"]           # using .extend(list) , to add another list in list\n",
    "mylist.extend(store)\n",
    "mylist"
   ]
  },
  {
   "cell_type": "code",
   "execution_count": 28,
   "id": "3080c05a",
   "metadata": {},
   "outputs": [
    {
     "data": {
      "text/plain": [
       "[[1, 123, 'orange', 3, 'ok', 'kartik', 'apple', 'oragne', 'GRAPES'],\n",
       " ['come on this is it']]"
      ]
     },
     "execution_count": 28,
     "metadata": {},
     "output_type": "execute_result"
    }
   ],
   "source": [
    "mylist\n",
    "mylist = [mylist,[\"come on this is it\"]]    # adding item in list by defining , insted of append or insert \n",
    "mylist"
   ]
  },
  {
   "cell_type": "code",
   "execution_count": 32,
   "id": "637bff8b",
   "metadata": {},
   "outputs": [],
   "source": [
    "mylist.remove([\"come on this is it\"])        # removing the item from list by name"
   ]
  },
  {
   "cell_type": "code",
   "execution_count": 33,
   "id": "35066f82",
   "metadata": {},
   "outputs": [
    {
     "data": {
      "text/plain": [
       "[[1, 123, 'orange', 3, 'ok', 'kartik', 'apple', 'oragne', 'GRAPES']]"
      ]
     },
     "execution_count": 33,
     "metadata": {},
     "output_type": "execute_result"
    }
   ],
   "source": [
    "mylist                                             \n"
   ]
  },
  {
   "cell_type": "code",
   "execution_count": 26,
   "id": "b47cca51",
   "metadata": {},
   "outputs": [
    {
     "data": {
      "text/plain": [
       "['indra', 'varun', 'agni', 'vayu']"
      ]
     },
     "execution_count": 26,
     "metadata": {},
     "output_type": "execute_result"
    }
   ],
   "source": [
    "# nesting in list \n",
    "god = [\"indra\",\"varun\",\"agni\",\"vayu\"]        \n",
    "god"
   ]
  },
  {
   "cell_type": "code",
   "execution_count": 27,
   "id": "10131e4b",
   "metadata": {},
   "outputs": [
    {
     "data": {
      "text/plain": [
       "['kartik', 'thakur', 'sun', ['blue', 'red', 'bed', ['core', 'center', 'end']]]"
      ]
     },
     "execution_count": 27,
     "metadata": {},
     "output_type": "execute_result"
    }
   ],
   "source": [
    "nest=[\"kartik\",\"thakur\",\"sun\",[\"blue\",\"red\",\"bed\",[\"core\",\"center\",\"end\"]]]\n",
    "nest"
   ]
  },
  {
   "cell_type": "code",
   "execution_count": 28,
   "id": "a0ccd8fc",
   "metadata": {},
   "outputs": [
    {
     "ename": "AttributeError",
     "evalue": "'builtin_function_or_method' object has no attribute 'nest'",
     "output_type": "error",
     "traceback": [
      "\u001b[1;31m---------------------------------------------------------------------------\u001b[0m",
      "\u001b[1;31mAttributeError\u001b[0m                            Traceback (most recent call last)",
      "\u001b[1;32m~\\AppData\\Local\\Temp\\ipykernel_5312\\930620467.py\u001b[0m in \u001b[0;36m<module>\u001b[1;34m\u001b[0m\n\u001b[1;32m----> 1\u001b[1;33m \u001b[0mlen\u001b[0m\u001b[1;33m.\u001b[0m\u001b[0mnest\u001b[0m\u001b[1;33m\u001b[0m\u001b[1;33m\u001b[0m\u001b[0m\n\u001b[0m\u001b[0;32m      2\u001b[0m                                 \u001b[1;31m# this is wrong way\u001b[0m\u001b[1;33m\u001b[0m\u001b[1;33m\u001b[0m\u001b[0m\n",
      "\u001b[1;31mAttributeError\u001b[0m: 'builtin_function_or_method' object has no attribute 'nest'"
     ]
    }
   ],
   "source": [
    "len.nest\n",
    "                                # this is wrong way"
   ]
  },
  {
   "cell_type": "code",
   "execution_count": 29,
   "id": "a0455c86",
   "metadata": {},
   "outputs": [
    {
     "data": {
      "text/plain": [
       "4"
      ]
     },
     "execution_count": 29,
     "metadata": {},
     "output_type": "execute_result"
    }
   ],
   "source": [
    "len(nest)                   # this is correct way "
   ]
  },
  {
   "cell_type": "code",
   "execution_count": 30,
   "id": "e84976da",
   "metadata": {},
   "outputs": [
    {
     "ename": "SyntaxError",
     "evalue": "invalid syntax (1145431813.py, line 1)",
     "output_type": "error",
     "traceback": [
      "\u001b[1;36m  File \u001b[1;32m\"C:\\Users\\user\\AppData\\Local\\Temp\\ipykernel_5312\\1145431813.py\"\u001b[1;36m, line \u001b[1;32m1\u001b[0m\n\u001b[1;33m    nest.[0]                    # this is wrong way to call any index\u001b[0m\n\u001b[1;37m         ^\u001b[0m\n\u001b[1;31mSyntaxError\u001b[0m\u001b[1;31m:\u001b[0m invalid syntax\n"
     ]
    }
   ],
   "source": [
    "nest.[0]                    # this is wrong way to call any index "
   ]
  },
  {
   "cell_type": "code",
   "execution_count": 31,
   "id": "59d05234",
   "metadata": {},
   "outputs": [
    {
     "data": {
      "text/plain": [
       "'kartik'"
      ]
     },
     "execution_count": 31,
     "metadata": {},
     "output_type": "execute_result"
    }
   ],
   "source": [
    "nest[0]                     # this is correct way to call item form list"
   ]
  },
  {
   "cell_type": "code",
   "execution_count": 32,
   "id": "ab5f799e",
   "metadata": {},
   "outputs": [
    {
     "ename": "TypeError",
     "evalue": "list indices must be integers or slices, not tuple",
     "output_type": "error",
     "traceback": [
      "\u001b[1;31m---------------------------------------------------------------------------\u001b[0m",
      "\u001b[1;31mTypeError\u001b[0m                                 Traceback (most recent call last)",
      "\u001b[1;32m~\\AppData\\Local\\Temp\\ipykernel_5312\\2222778078.py\u001b[0m in \u001b[0;36m<module>\u001b[1;34m\u001b[0m\n\u001b[1;32m----> 1\u001b[1;33m \u001b[0mnest\u001b[0m\u001b[1;33m[\u001b[0m\u001b[1;36m0\u001b[0m\u001b[1;33m,\u001b[0m\u001b[1;36m1\u001b[0m\u001b[1;33m,\u001b[0m\u001b[1;36m2\u001b[0m\u001b[1;33m,\u001b[0m\u001b[1;36m3\u001b[0m\u001b[1;33m]\u001b[0m\u001b[1;33m\u001b[0m\u001b[1;33m\u001b[0m\u001b[0m\n\u001b[0m",
      "\u001b[1;31mTypeError\u001b[0m: list indices must be integers or slices, not tuple"
     ]
    }
   ],
   "source": [
    "nest[0,1,2,3]"
   ]
  },
  {
   "cell_type": "code",
   "execution_count": 33,
   "id": "3e769ac5",
   "metadata": {},
   "outputs": [
    {
     "data": {
      "text/plain": [
       "'thakur'"
      ]
     },
     "execution_count": 33,
     "metadata": {},
     "output_type": "execute_result"
    }
   ],
   "source": [
    "nest[1]"
   ]
  },
  {
   "cell_type": "code",
   "execution_count": 34,
   "id": "f12c3dd8",
   "metadata": {},
   "outputs": [
    {
     "data": {
      "text/plain": [
       "['blue', 'red', 'bed', ['core', 'center', 'end']]"
      ]
     },
     "execution_count": 34,
     "metadata": {},
     "output_type": "execute_result"
    }
   ],
   "source": [
    "nest[3]"
   ]
  },
  {
   "cell_type": "code",
   "execution_count": 35,
   "id": "17757018",
   "metadata": {},
   "outputs": [
    {
     "data": {
      "text/plain": [
       "[]"
      ]
     },
     "execution_count": 35,
     "metadata": {},
     "output_type": "execute_result"
    }
   ],
   "source": [
    "nest[3:1]"
   ]
  },
  {
   "cell_type": "code",
   "execution_count": 36,
   "id": "c0ce6e1f",
   "metadata": {},
   "outputs": [
    {
     "data": {
      "text/plain": [
       "[]"
      ]
     },
     "execution_count": 36,
     "metadata": {},
     "output_type": "execute_result"
    }
   ],
   "source": [
    "nest[3:2]"
   ]
  },
  {
   "cell_type": "code",
   "execution_count": 37,
   "id": "1933b784",
   "metadata": {},
   "outputs": [
    {
     "data": {
      "text/plain": [
       "'agni'"
      ]
     },
     "execution_count": 37,
     "metadata": {},
     "output_type": "execute_result"
    }
   ],
   "source": [
    "god\n",
    "god[2]"
   ]
  },
  {
   "cell_type": "code",
   "execution_count": 38,
   "id": "9aba3648",
   "metadata": {},
   "outputs": [
    {
     "data": {
      "text/plain": [
       "'vayu'"
      ]
     },
     "execution_count": 38,
     "metadata": {},
     "output_type": "execute_result"
    }
   ],
   "source": [
    "god[-1]"
   ]
  },
  {
   "cell_type": "code",
   "execution_count": 39,
   "id": "87c5d5a0",
   "metadata": {},
   "outputs": [
    {
     "data": {
      "text/plain": [
       "('varun', 'agni')"
      ]
     },
     "execution_count": 39,
     "metadata": {},
     "output_type": "execute_result"
    }
   ],
   "source": [
    "god[1],god[-2]"
   ]
  },
  {
   "cell_type": "code",
   "execution_count": 40,
   "id": "e6d8649d",
   "metadata": {},
   "outputs": [
    {
     "data": {
      "text/plain": [
       "['varun', 'agni']"
      ]
     },
     "execution_count": 40,
     "metadata": {},
     "output_type": "execute_result"
    }
   ],
   "source": [
    "god[1:3]"
   ]
  },
  {
   "cell_type": "code",
   "execution_count": 41,
   "id": "5241cb3f",
   "metadata": {},
   "outputs": [
    {
     "data": {
      "text/plain": [
       "['indra', 'varun', 'agni', 'vayu']"
      ]
     },
     "execution_count": 41,
     "metadata": {},
     "output_type": "execute_result"
    }
   ],
   "source": [
    "god[0:4]"
   ]
  },
  {
   "cell_type": "code",
   "execution_count": 56,
   "id": "682968ab",
   "metadata": {},
   "outputs": [],
   "source": [
    "god.append(\"shiva\")"
   ]
  },
  {
   "cell_type": "code",
   "execution_count": 58,
   "id": "f794b73b",
   "metadata": {},
   "outputs": [
    {
     "data": {
      "text/plain": [
       "(None, 'vishnu')"
      ]
     },
     "execution_count": 58,
     "metadata": {},
     "output_type": "execute_result"
    }
   ],
   "source": [
    "god.append(\"shiva\"),(\"vishnu\")"
   ]
  },
  {
   "cell_type": "code",
   "execution_count": 61,
   "id": "846fc609",
   "metadata": {},
   "outputs": [
    {
     "data": {
      "text/plain": [
       "(None, 'ashwin', 'yam')"
      ]
     },
     "execution_count": 61,
     "metadata": {},
     "output_type": "execute_result"
    }
   ],
   "source": [
    "god.append(\"bhraman\"),(\"ashwin\"),(\"yam\")"
   ]
  },
  {
   "cell_type": "code",
   "execution_count": 62,
   "id": "99ef9b26",
   "metadata": {},
   "outputs": [
    {
     "data": {
      "text/plain": [
       "['indra', 'varun', 'agni', 'vayu', 'shiva', 'shiva', 'bhraman', 'bhraman']"
      ]
     },
     "execution_count": 62,
     "metadata": {},
     "output_type": "execute_result"
    }
   ],
   "source": [
    "god"
   ]
  },
  {
   "cell_type": "code",
   "execution_count": 42,
   "id": "8acfffec",
   "metadata": {},
   "outputs": [
    {
     "data": {
      "text/plain": [
       "[]"
      ]
     },
     "execution_count": 42,
     "metadata": {},
     "output_type": "execute_result"
    }
   ],
   "source": [
    "god[-1:-5]    # this is wrong indexing .. -5 is invalid in last index ."
   ]
  },
  {
   "cell_type": "code",
   "execution_count": 43,
   "id": "7167c799",
   "metadata": {},
   "outputs": [
    {
     "data": {
      "text/plain": [
       "['varun', 'agni', 'vayu']"
      ]
     },
     "execution_count": 43,
     "metadata": {},
     "output_type": "execute_result"
    }
   ],
   "source": [
    "god[1:4]"
   ]
  },
  {
   "cell_type": "code",
   "execution_count": 45,
   "id": "21f90097",
   "metadata": {},
   "outputs": [
    {
     "name": "stdout",
     "output_type": "stream",
     "text": [
      "['indra', 'varun', 'agni']\n"
     ]
    }
   ],
   "source": [
    "print(god[-5:-1])"
   ]
  },
  {
   "cell_type": "code",
   "execution_count": 46,
   "id": "f82f71be",
   "metadata": {},
   "outputs": [
    {
     "data": {
      "text/plain": [
       "['indra', 'varun', 'agni', 'vayu']"
      ]
     },
     "execution_count": 46,
     "metadata": {},
     "output_type": "execute_result"
    }
   ],
   "source": [
    "god"
   ]
  },
  {
   "cell_type": "code",
   "execution_count": 47,
   "id": "02a8bbe1",
   "metadata": {},
   "outputs": [
    {
     "name": "stdout",
     "output_type": "stream",
     "text": [
      "[]\n"
     ]
    }
   ],
   "source": [
    "print(god[-1:-8])"
   ]
  },
  {
   "cell_type": "code",
   "execution_count": 48,
   "id": "a73cd24c",
   "metadata": {},
   "outputs": [],
   "source": [
    "animals = [\"money\",\"cow\",\"elephent\",\"horse\",\"bull\",\"snake\"]\n",
    "\n"
   ]
  },
  {
   "cell_type": "code",
   "execution_count": 49,
   "id": "f90e79a3",
   "metadata": {},
   "outputs": [
    {
     "name": "stdout",
     "output_type": "stream",
     "text": [
      "['cow']\n"
     ]
    }
   ],
   "source": [
    "print(animals[1:2:5])"
   ]
  },
  {
   "cell_type": "code",
   "execution_count": 50,
   "id": "a01b2886",
   "metadata": {},
   "outputs": [
    {
     "name": "stdout",
     "output_type": "stream",
     "text": [
      "['cow', 'elephent', 'horse', 'bull', 'snake']\n"
     ]
    }
   ],
   "source": [
    "print(animals[1::])"
   ]
  },
  {
   "cell_type": "code",
   "execution_count": 51,
   "id": "4ae09f64",
   "metadata": {},
   "outputs": [],
   "source": [
    "animals.append(\"tiger\")"
   ]
  },
  {
   "cell_type": "code",
   "execution_count": 52,
   "id": "7bc4701d",
   "metadata": {},
   "outputs": [],
   "source": [
    "animals.append(\"OWL\")"
   ]
  },
  {
   "cell_type": "code",
   "execution_count": 53,
   "id": "07be0822",
   "metadata": {},
   "outputs": [
    {
     "name": "stdout",
     "output_type": "stream",
     "text": [
      "[]\n"
     ]
    }
   ],
   "source": [
    "print(animals[1:1:])"
   ]
  },
  {
   "cell_type": "code",
   "execution_count": 54,
   "id": "f6c44315",
   "metadata": {},
   "outputs": [
    {
     "name": "stdout",
     "output_type": "stream",
     "text": [
      "['cow', 'elephent', 'horse', 'bull']\n"
     ]
    }
   ],
   "source": [
    "print(animals[1:5])"
   ]
  },
  {
   "cell_type": "code",
   "execution_count": 55,
   "id": "f8a7728e",
   "metadata": {},
   "outputs": [
    {
     "name": "stdout",
     "output_type": "stream",
     "text": [
      "['money', 'cow', 'elephent', 'horse', 'bull', 'snake', 'tiger', 'OWL']\n"
     ]
    }
   ],
   "source": [
    "print(animals[0::])"
   ]
  },
  {
   "cell_type": "code",
   "execution_count": 56,
   "id": "011ff8d3",
   "metadata": {},
   "outputs": [
    {
     "name": "stdout",
     "output_type": "stream",
     "text": [
      "['money']\n"
     ]
    }
   ],
   "source": [
    "print(animals[0:1:7])"
   ]
  },
  {
   "cell_type": "code",
   "execution_count": 57,
   "id": "7670006e",
   "metadata": {},
   "outputs": [
    {
     "data": {
      "text/plain": [
       "['money', 'cow', 'elephent', 'horse', 'bull', 'snake', 'tiger', 'OWL']"
      ]
     },
     "execution_count": 57,
     "metadata": {},
     "output_type": "execute_result"
    }
   ],
   "source": [
    "animals"
   ]
  },
  {
   "cell_type": "code",
   "execution_count": 58,
   "id": "32d69fb5",
   "metadata": {},
   "outputs": [],
   "source": [
    "animals.insert(4,\"coke\")"
   ]
  },
  {
   "cell_type": "code",
   "execution_count": 59,
   "id": "c8730210",
   "metadata": {},
   "outputs": [
    {
     "data": {
      "text/plain": [
       "['money', 'cow', 'elephent', 'horse', 'coke', 'bull', 'snake', 'tiger', 'OWL']"
      ]
     },
     "execution_count": 59,
     "metadata": {},
     "output_type": "execute_result"
    }
   ],
   "source": [
    "animals"
   ]
  },
  {
   "cell_type": "code",
   "execution_count": 60,
   "id": "31630753",
   "metadata": {},
   "outputs": [
    {
     "ename": "AttributeError",
     "evalue": "'list' object has no attribute 'len'",
     "output_type": "error",
     "traceback": [
      "\u001b[1;31m---------------------------------------------------------------------------\u001b[0m",
      "\u001b[1;31mAttributeError\u001b[0m                            Traceback (most recent call last)",
      "\u001b[1;32m~\\AppData\\Local\\Temp\\ipykernel_5312\\2101917357.py\u001b[0m in \u001b[0;36m<module>\u001b[1;34m\u001b[0m\n\u001b[1;32m----> 1\u001b[1;33m \u001b[0manimals\u001b[0m\u001b[1;33m.\u001b[0m\u001b[0mlen\u001b[0m\u001b[1;33m(\u001b[0m\u001b[1;33m)\u001b[0m\u001b[1;33m\u001b[0m\u001b[1;33m\u001b[0m\u001b[0m\n\u001b[0m",
      "\u001b[1;31mAttributeError\u001b[0m: 'list' object has no attribute 'len'"
     ]
    }
   ],
   "source": [
    "animals.len()"
   ]
  },
  {
   "cell_type": "code",
   "execution_count": 61,
   "id": "10615fd4",
   "metadata": {},
   "outputs": [
    {
     "ename": "SyntaxError",
     "evalue": "invalid syntax (907915949.py, line 1)",
     "output_type": "error",
     "traceback": [
      "\u001b[1;36m  File \u001b[1;32m\"C:\\Users\\user\\AppData\\Local\\Temp\\ipykernel_5312\\907915949.py\"\u001b[1;36m, line \u001b[1;32m1\u001b[0m\n\u001b[1;33m    len.(\"animals\")\u001b[0m\n\u001b[1;37m        ^\u001b[0m\n\u001b[1;31mSyntaxError\u001b[0m\u001b[1;31m:\u001b[0m invalid syntax\n"
     ]
    }
   ],
   "source": [
    "len.(\"animals\")"
   ]
  },
  {
   "cell_type": "code",
   "execution_count": 62,
   "id": "edb016ed",
   "metadata": {},
   "outputs": [
    {
     "data": {
      "text/plain": [
       "9"
      ]
     },
     "execution_count": 62,
     "metadata": {},
     "output_type": "execute_result"
    }
   ],
   "source": [
    "len(animals)"
   ]
  },
  {
   "cell_type": "code",
   "execution_count": 63,
   "id": "fd03dd74",
   "metadata": {},
   "outputs": [
    {
     "data": {
      "text/plain": [
       "['indra', 'varun', 'agni', 'vayu']"
      ]
     },
     "execution_count": 63,
     "metadata": {},
     "output_type": "execute_result"
    }
   ],
   "source": [
    "god\n"
   ]
  },
  {
   "cell_type": "code",
   "execution_count": 114,
   "id": "c18d0dba",
   "metadata": {},
   "outputs": [],
   "source": [
    "god.extend(animals)"
   ]
  },
  {
   "cell_type": "code",
   "execution_count": 115,
   "id": "cb8a4eb4",
   "metadata": {},
   "outputs": [
    {
     "data": {
      "text/plain": [
       "['money',\n",
       " 'cow',\n",
       " 'elephent',\n",
       " 'horse',\n",
       " 'coke',\n",
       " 'bull',\n",
       " 'snake',\n",
       " 'tiger',\n",
       " 'OWL',\n",
       " 'money',\n",
       " 'cow',\n",
       " 'elephent',\n",
       " 'horse',\n",
       " 'coke',\n",
       " 'bull',\n",
       " 'snake',\n",
       " 'tiger',\n",
       " 'OWL']"
      ]
     },
     "execution_count": 115,
     "metadata": {},
     "output_type": "execute_result"
    }
   ],
   "source": [
    "god\n"
   ]
  },
  {
   "cell_type": "code",
   "execution_count": 116,
   "id": "0aa660cb",
   "metadata": {},
   "outputs": [],
   "source": [
    "god.remove(\"OWL\")"
   ]
  },
  {
   "cell_type": "code",
   "execution_count": 117,
   "id": "daf84b05",
   "metadata": {},
   "outputs": [
    {
     "data": {
      "text/plain": [
       "['money',\n",
       " 'cow',\n",
       " 'elephent',\n",
       " 'horse',\n",
       " 'coke',\n",
       " 'bull',\n",
       " 'snake',\n",
       " 'tiger',\n",
       " 'money',\n",
       " 'cow',\n",
       " 'elephent',\n",
       " 'horse',\n",
       " 'coke',\n",
       " 'bull',\n",
       " 'snake',\n",
       " 'tiger',\n",
       " 'OWL']"
      ]
     },
     "execution_count": 117,
     "metadata": {},
     "output_type": "execute_result"
    }
   ],
   "source": [
    "god"
   ]
  },
  {
   "cell_type": "code",
   "execution_count": 118,
   "id": "f6dc0f8b",
   "metadata": {},
   "outputs": [],
   "source": [
    "animal = god\n"
   ]
  },
  {
   "cell_type": "code",
   "execution_count": 119,
   "id": "75ee7a0a",
   "metadata": {},
   "outputs": [
    {
     "data": {
      "text/plain": [
       "['money',\n",
       " 'cow',\n",
       " 'elephent',\n",
       " 'horse',\n",
       " 'coke',\n",
       " 'bull',\n",
       " 'snake',\n",
       " 'tiger',\n",
       " 'money',\n",
       " 'cow',\n",
       " 'elephent',\n",
       " 'horse',\n",
       " 'coke',\n",
       " 'bull',\n",
       " 'snake',\n",
       " 'tiger',\n",
       " 'OWL']"
      ]
     },
     "execution_count": 119,
     "metadata": {},
     "output_type": "execute_result"
    }
   ],
   "source": [
    "animal"
   ]
  },
  {
   "cell_type": "code",
   "execution_count": null,
   "id": "097f6137",
   "metadata": {},
   "outputs": [],
   "source": [
    "mylist"
   ]
  },
  {
   "cell_type": "code",
   "execution_count": null,
   "id": "a977307d",
   "metadata": {},
   "outputs": [],
   "source": [
    "mylist = [1,2,4,1,2]"
   ]
  },
  {
   "cell_type": "code",
   "execution_count": null,
   "id": "f1c3f055",
   "metadata": {},
   "outputs": [],
   "source": [
    "mylist"
   ]
  },
  {
   "cell_type": "code",
   "execution_count": null,
   "id": "2332f72c",
   "metadata": {},
   "outputs": [],
   "source": []
  }
 ],
 "metadata": {
  "kernelspec": {
   "display_name": "Python 3 (ipykernel)",
   "language": "python",
   "name": "python3"
  },
  "language_info": {
   "codemirror_mode": {
    "name": "ipython",
    "version": 3
   },
   "file_extension": ".py",
   "mimetype": "text/x-python",
   "name": "python",
   "nbconvert_exporter": "python",
   "pygments_lexer": "ipython3",
   "version": "3.9.13"
  }
 },
 "nbformat": 4,
 "nbformat_minor": 5
}
