{
 "cells": [
  {
   "cell_type": "code",
   "execution_count": null,
   "id": "2261c47e",
   "metadata": {},
   "outputs": [],
   "source": [
    "pip install opencv-python"
   ]
  },
  {
   "cell_type": "code",
   "execution_count": null,
   "id": "11f73cc7",
   "metadata": {},
   "outputs": [],
   "source": [
    "import numpy as np\n",
    "import matplotlib.pyplot as plt\n",
    "%matplotlib inline\n",
    "\n",
    "import cv2"
   ]
  },
  {
   "cell_type": "code",
   "execution_count": null,
   "id": "23d18291",
   "metadata": {},
   "outputs": [],
   "source": [
    "img=cv2.imread('colors.jpg')"
   ]
  },
  {
   "cell_type": "code",
   "execution_count": null,
   "id": "fdbccd5a",
   "metadata": {},
   "outputs": [],
   "source": [
    "\n",
    "img.shape"
   ]
  },
  {
   "cell_type": "markdown",
   "id": "0939d4d1",
   "metadata": {},
   "source": [
    "# plt the image using matplotlib"
   ]
  },
  {
   "cell_type": "code",
   "execution_count": null,
   "id": "206dbdba",
   "metadata": {},
   "outputs": [],
   "source": [
    "plt.imshow(img)   # matplot = r,g,b\n",
    "                 #opencv=b,g,r"
   ]
  },
  {
   "cell_type": "code",
   "execution_count": null,
   "id": "6c9337e3",
   "metadata": {},
   "outputs": [],
   "source": [
    "flags=[i for i in dir(cv2) if i.startswith('COLOR_')]\n",
    "print(flags)"
   ]
  },
  {
   "cell_type": "code",
   "execution_count": null,
   "id": "b3cbb19e",
   "metadata": {},
   "outputs": [],
   "source": [
    "fix_img=cv2.cvtColor(img,cv2.COLOR_BGR2RGB)\n",
    "plt.imshow(fix_img)"
   ]
  },
  {
   "cell_type": "markdown",
   "id": "fef8cfa2",
   "metadata": {},
   "source": [
    "# read img as grey scale"
   ]
  },
  {
   "cell_type": "code",
   "execution_count": null,
   "id": "c6f46cee",
   "metadata": {},
   "outputs": [],
   "source": [
    "img_gray=cv2.imread('colors.jpg',cv2.IMREAD_GRAYSCALE)\n",
    "plt.imshow(img_gray,cmap='gray')"
   ]
  },
  {
   "cell_type": "code",
   "execution_count": null,
   "id": "08583e07",
   "metadata": {},
   "outputs": [],
   "source": [
    "#change size of img"
   ]
  },
  {
   "cell_type": "code",
   "execution_count": null,
   "id": "c53d7c4b",
   "metadata": {},
   "outputs": [],
   "source": [
    "new_img=cv2.resize(fix_img,(1000,400))"
   ]
  },
  {
   "cell_type": "code",
   "execution_count": null,
   "id": "68c57ba1",
   "metadata": {},
   "outputs": [],
   "source": [
    "plt.imshow(new_img)"
   ]
  },
  {
   "cell_type": "code",
   "execution_count": null,
   "id": "373678e3",
   "metadata": {},
   "outputs": [],
   "source": [
    "#change using width and height"
   ]
  },
  {
   "cell_type": "code",
   "execution_count": null,
   "id": "7b16fd43",
   "metadata": {},
   "outputs": [],
   "source": [
    "w_ratio=0.8\n",
    "h_ratio=0.2\n",
    "ratio_img=cv2.resize(fix_img,(0,0),fix_img,w_ratio,h_ratio)\n",
    "plt.imshow(ratio_img)"
   ]
  },
  {
   "cell_type": "code",
   "execution_count": null,
   "id": "f3ce5daf",
   "metadata": {},
   "outputs": [],
   "source": [
    "ratio_img.shape"
   ]
  },
  {
   "cell_type": "markdown",
   "id": "2c588fdc",
   "metadata": {},
   "source": [
    "# Flip the image horizontally"
   ]
  },
  {
   "cell_type": "code",
   "execution_count": null,
   "id": "dfc2a3bc",
   "metadata": {},
   "outputs": [],
   "source": [
    "flip_img=cv2.flip(fix_img,1)\n",
    "plt.imshow(flip_img)"
   ]
  },
  {
   "cell_type": "markdown",
   "id": "9a40db82",
   "metadata": {},
   "source": [
    "# vertically"
   ]
  },
  {
   "cell_type": "code",
   "execution_count": null,
   "id": "65db2b94",
   "metadata": {},
   "outputs": [],
   "source": [
    "flip_img=cv2.flip(fix_img,0)\n",
    "plt.imshow(flip_img)"
   ]
  },
  {
   "cell_type": "code",
   "execution_count": null,
   "id": "51ee61bc",
   "metadata": {},
   "outputs": [],
   "source": [
    "type(fix_img)"
   ]
  },
  {
   "cell_type": "code",
   "execution_count": null,
   "id": "0536e0fc",
   "metadata": {},
   "outputs": [],
   "source": [
    "#save your new img using imwrite"
   ]
  },
  {
   "cell_type": "code",
   "execution_count": null,
   "id": "6b3c90b3",
   "metadata": {},
   "outputs": [],
   "source": [
    "cv2.imwrite('totally_new.jpg',fix_img)"
   ]
  },
  {
   "cell_type": "code",
   "execution_count": null,
   "id": "f32385f5",
   "metadata": {},
   "outputs": [],
   "source": [
    "#detect blue color from img"
   ]
  },
  {
   "cell_type": "code",
   "execution_count": null,
   "id": "2107ff53",
   "metadata": {},
   "outputs": [],
   "source": [
    "mg=cv2.imread('colors.jpg')\n",
    "new_img=cv2.cvtColor(mg,cv2.COLOR_BGR2RGB)\n",
    "\n",
    "\n",
    "hsv= cv2.cvtColor(new_img,cv2.COLOR_RGB2HSV)\n",
    "lower_blue=np.array([110,50,50])\n",
    "upper_blue=np.array([130,255,255])\n",
    "\n",
    "mask=cv2.inRange(hsv,lower_blue,upper_blue)\n",
    "\n",
    "res=cv2.bitwise_and(new_img,new_img,mask=mask)\n",
    "plt.imshow(new_img)"
   ]
  },
  {
   "cell_type": "code",
   "execution_count": null,
   "id": "c435114f",
   "metadata": {},
   "outputs": [],
   "source": []
  },
  {
   "cell_type": "code",
   "execution_count": null,
   "id": "11ffe53d",
   "metadata": {},
   "outputs": [],
   "source": []
  },
  {
   "cell_type": "code",
   "execution_count": null,
   "id": "03db3f40",
   "metadata": {},
   "outputs": [],
   "source": []
  },
  {
   "cell_type": "code",
   "execution_count": null,
   "id": "9b836dd7",
   "metadata": {},
   "outputs": [],
   "source": []
  }
 ],
 "metadata": {
  "kernelspec": {
   "display_name": "Python 3 (ipykernel)",
   "language": "python",
   "name": "python3"
  },
  "language_info": {
   "codemirror_mode": {
    "name": "ipython",
    "version": 3
   },
   "file_extension": ".py",
   "mimetype": "text/x-python",
   "name": "python",
   "nbconvert_exporter": "python",
   "pygments_lexer": "ipython3",
   "version": "3.9.12"
  }
 },
 "nbformat": 4,
 "nbformat_minor": 5
}
