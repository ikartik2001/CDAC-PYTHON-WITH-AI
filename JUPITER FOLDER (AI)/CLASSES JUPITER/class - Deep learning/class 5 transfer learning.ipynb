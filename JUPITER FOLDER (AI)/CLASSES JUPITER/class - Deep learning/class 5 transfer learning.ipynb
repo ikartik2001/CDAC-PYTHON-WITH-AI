{
 "cells": [
  {
   "cell_type": "code",
   "execution_count": 1,
   "id": "9003e09c",
   "metadata": {},
   "outputs": [],
   "source": [
    "# transfer learning"
   ]
  },
  {
   "cell_type": "code",
   "execution_count": 6,
   "id": "387bf3a2",
   "metadata": {},
   "outputs": [],
   "source": [
    "from tensorflow.keras.applications.resnet50 import ResNet50\n",
    "from tensorflow.keras.preprocessing import image\n",
    "from tensorflow.keras.applications.resnet50 import preprocess_input,decode_predictions\n",
    "import numpy as np"
   ]
  },
  {
   "cell_type": "code",
   "execution_count": 7,
   "id": "5e307420",
   "metadata": {},
   "outputs": [],
   "source": [
    "model=ResNet50(weights='imagenet')"
   ]
  },
  {
   "cell_type": "code",
   "execution_count": null,
   "id": "d5ae41c2",
   "metadata": {},
   "outputs": [],
   "source": []
  },
  {
   "attachments": {
    "download.jpg": {
     "image/jpeg": "[encoded data removed]"
    }
   },
   "cell_type": "markdown",
   "id": "b0384405",
   "metadata": {},
   "source": [
    "![download.jpg](attachment:download.jpg)"
   ]
  },
  {
   "cell_type": "code",
   "execution_count": null,
   "id": "12dfd9ae",
   "metadata": {},
   "outputs": [],
   "source": []
  },
  {
   "cell_type": "code",
   "execution_count": null,
   "id": "2ec2fb93",
   "metadata": {},
   "outputs": [],
   "source": []
  },
  {
   "cell_type": "code",
   "execution_count": null,
   "id": "b95acc9a",
   "metadata": {},
   "outputs": [],
   "source": []
  },
  {
   "cell_type": "code",
   "execution_count": null,
   "id": "a067b132",
   "metadata": {},
   "outputs": [],
   "source": []
  },
  {
   "cell_type": "code",
   "execution_count": null,
   "id": "b3b280b6",
   "metadata": {},
   "outputs": [],
   "source": []
  },
  {
   "cell_type": "code",
   "execution_count": null,
   "id": "00a497f5",
   "metadata": {},
   "outputs": [],
   "source": []
  },
  {
   "cell_type": "code",
   "execution_count": 9,
   "id": "c163fd0e",
   "metadata": {},
   "outputs": [],
   "source": [
    "### make a function of above and "
   ]
  },
  {
   "cell_type": "code",
   "execution_count": 12,
   "id": "c8864e4f",
   "metadata": {},
   "outputs": [
    {
     "name": "stdout",
     "output_type": "stream",
     "text": [
      "enter image name :child.jpg\n"
     ]
    }
   ],
   "source": [
    "img_path=input('enter image name :')\n",
    "def predict_image(img_path):\n",
    "    img=image.load_img(img_path,target_size=(224,224))\n",
    "    x=image.img_to_array(img) # converts an image img into a numberical array x\n",
    "    x=np.expand_dims(x,axis=0) # adds extra dimension to image array ,which requre keras to add batch of input data\n",
    "    x=preprocess_input(x) # ensure correct format and range of values\n",
    "    preds = model.predict(x,verbose=0);\n",
    "#    print('predicted',decode_predictions(preds,top=1)[0])\n",
    "    r=decode_predictions(preds,top=1)[0]\n",
    "    print(r[0][1])"
   ]
  },
  {
   "cell_type": "code",
   "execution_count": 13,
   "id": "dcea87f2",
   "metadata": {},
   "outputs": [
    {
     "name": "stdout",
     "output_type": "stream",
     "text": [
      "diaper\n"
     ]
    }
   ],
   "source": [
    "predict_image(img_path)"
   ]
  },
  {
   "cell_type": "code",
   "execution_count": null,
   "id": "3bdd2c30",
   "metadata": {},
   "outputs": [],
   "source": []
  },
  {
   "cell_type": "code",
   "execution_count": null,
   "id": "342fa199",
   "metadata": {},
   "outputs": [],
   "source": []
  },
  {
   "cell_type": "code",
   "execution_count": null,
   "id": "3d857297",
   "metadata": {},
   "outputs": [],
   "source": []
  },
  {
   "cell_type": "code",
   "execution_count": null,
   "id": "687841ac",
   "metadata": {},
   "outputs": [],
   "source": []
  }
 ],
 "metadata": {
  "kernelspec": {
   "display_name": "Python 3 (ipykernel)",
   "language": "python",
   "name": "python3"
  },
  "language_info": {
   "codemirror_mode": {
    "name": "ipython",
    "version": 3
   },
   "file_extension": ".py",
   "mimetype": "text/x-python",
   "name": "python",
   "nbconvert_exporter": "python",
   "pygments_lexer": "ipython3",
   "version": "3.9.12"
  }
 },
 "nbformat": 4,
 "nbformat_minor": 5
}
