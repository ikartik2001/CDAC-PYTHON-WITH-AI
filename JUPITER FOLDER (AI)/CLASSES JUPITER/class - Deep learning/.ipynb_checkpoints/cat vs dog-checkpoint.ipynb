{
 "cells": [
  {
   "cell_type": "code",
   "execution_count": null,
   "id": "68c3689c",
   "metadata": {},
   "outputs": [],
   "source": [
    "import numpy as np\n",
    "import pandas as pd\n",
    "from keras.preprocessing.image import ImageDataGenerator\n",
    "from tensorflow.keras.utils import load_img\n",
    "from keras.utils import to_categorical\n",
    "from sklearn.model_selection import train_test_split\n",
    "import matplotlib.pyplot as plt\n",
    "import random\n",
    "import os\n",
    "\n"
   ]
  },
  {
   "cell_type": "code",
   "execution_count": null,
   "id": "93c8dea3",
   "metadata": {},
   "outputs": [],
   "source": [
    "IMAGE_WIDTH=128\n",
    "IMAGE_HEIGHT=128\n",
    "IMAGE_SIZE=[IMAGE_WIDTH,IMAGE_HEIGHT]\n",
    "IMAGE_CHANNELS=3"
   ]
  },
  {
   "cell_type": "code",
   "execution_count": null,
   "id": "b405ee59",
   "metadata": {},
   "outputs": [],
   "source": [
    "filenames=os.listdir(r\"C:\\Users\\keerti chouhan\\Desktop\\train\\train\\train\")\n",
    "categories = []\n",
    "for filename in filenames:\n",
    "    category=filename.split(' . ')[0]\n",
    "    if category == 'dog':\n",
    "        catgories.append(1)\n",
    "    else:\n",
    "        categories.append(0)\n",
    "df=pd.DataFrame({\n",
    "    'filename':filenames,\n",
    "    'category':categories\n",
    "})"
   ]
  },
  {
   "cell_type": "code",
   "execution_count": null,
   "id": "e92986ec",
   "metadata": {},
   "outputs": [],
   "source": [
    "df.sample(5)"
   ]
  },
  {
   "cell_type": "code",
   "execution_count": null,
   "id": "2a57ead4",
   "metadata": {},
   "outputs": [],
   "source": [
    "df['category'].value_counts().plot.bar()"
   ]
  },
  {
   "cell_type": "code",
   "execution_count": null,
   "id": "c37b3d84",
   "metadata": {},
   "outputs": [],
   "source": [
    "sample=random.choice(filenames)\n",
    "image=load_img(\"C:/Users/keerti chouhan/Desktop/train/train/train/\" +sample)\n",
    "plt.imshow(image)"
   ]
  },
  {
   "cell_type": "code",
   "execution_count": null,
   "id": "b1b1cbc6",
   "metadata": {},
   "outputs": [],
   "source": [
    "from keras.models import Sequential\n",
    "from keras.layers import Conv2D, MaxPooling2D,Dropout ,Flatten ,Dense,Activation,BatchNormalization\n",
    "model=Sequential()\n",
    "model.add(Conv2D(32,(3,3),activation='relu',input_shape=(IMAGE_WIDTH,IMAGE_HEIGHT,IMAGE_CHANNELS)))\n",
    "model.add(BatchNormalization())\n",
    "model.add(MaxPooling2D(pool_size=(2,3)))\n",
    "model.add(Dropout(0,25))\n",
    "\n",
    "model.add(Conv2D(64,(3,3),activation='relu',input_shape=(IMAGE_WIDTH,IMAGE_HEIGHT,IMAGE_CHANNELS)))\n",
    "model.add(BatchNormalization())\n",
    "model.add(MaxPooling2D(pool_size=(2,3)))\n",
    "model.add(Dropout(0,25))\n",
    "\n",
    "model.add(Conv2D(128,(3,3),activation='relu',input_shape=(IMAGE_WIDTH,IMAGE_HEIGHT,IMAGE_CHANNELS)))\n",
    "model.add(BatchNormalization())\n",
    "model.add(MaxPooling2D(pool_size=(2,3)))\n",
    "model.add(Dropout(0,25))\n",
    "\n",
    "model.add(Flatten())\n",
    "model.add(Dense(512,activation='relu'))\n",
    "model.add(BatchNormalization())\n",
    "model.add(Dropout(0,5))\n",
    "model.add(Dense(2,activation='softmax'))"
   ]
  },
  {
   "cell_type": "code",
   "execution_count": null,
   "id": "e32aa3c4",
   "metadata": {},
   "outputs": [],
   "source": [
    "model.compile(loss='categorical_crossentropy',optimizer='adam',metrics=['accuracy'])"
   ]
  },
  {
   "cell_type": "code",
   "execution_count": null,
   "id": "4f9504a8",
   "metadata": {},
   "outputs": [],
   "source": [
    "model.summary()"
   ]
  },
  {
   "cell_type": "code",
   "execution_count": null,
   "id": "4c3c8f2a",
   "metadata": {},
   "outputs": [],
   "source": [
    "df['category']=df['category'].replace({0:'cat',1:'dog'})"
   ]
  },
  {
   "cell_type": "code",
   "execution_count": null,
   "id": "d7e98fdf",
   "metadata": {},
   "outputs": [],
   "source": [
    "train_df,validate_df=train_test_split(df,test_size=0.20,random_state=42)\n",
    "train_df=train_df.reset_index(drop=True)\n",
    "validate_df=validate_df.reset_index(drop=True)"
   ]
  },
  {
   "cell_type": "code",
   "execution_count": null,
   "id": "c15e8f5a",
   "metadata": {},
   "outputs": [],
   "source": [
    "total_train=train_df.shape[0]\n",
    "total_validate=validate_df.shape[0]\n",
    "batch_size=15"
   ]
  },
  {
   "cell_type": "code",
   "execution_count": null,
   "id": "e2f0789b",
   "metadata": {},
   "outputs": [],
   "source": [
    "train_datagen=ImageDataGenerator(rotation_range=15,rescale=1./255,shear_range=0.1,zoom_range=0.2,horizontal_flip=True,\n",
    "                                 width_shift_range=0.1,height_shift_range=0.1)\n",
    "train_generator=train_datagen.flow_from_dataframe(train_df,\"C:/Users/keerti chouhan/Desktop/train/train/train/\",x_col='filename',y_col='category',target_size=IMAGE_SIZE,class_mode='categorical',batch_size=batch_size)"
   ]
  },
  {
   "cell_type": "code",
   "execution_count": null,
   "id": "30e9323d",
   "metadata": {},
   "outputs": [],
   "source": [
    "validation_datagen=ImageDataGenerator(rescale=1./255)\n",
    "validation_generator=validation_datagen.flow_from_dataframe(validate_df,\"C:/Users/keerti chouhan/Desktop/train/train/train/\",x_col='filename',y_col='category',target_size=IMAGE_SIZE,class_mode='categorical',batch_size=batch_size)"
   ]
  },
  {
   "cell_type": "code",
   "execution_count": null,
   "id": "a6d13839",
   "metadata": {},
   "outputs": [],
   "source": [
    "example_df = train_df.sample(n=1).reset_index(drop=True)\n",
    "example_generator = train_datagen.flow_from_dataframe(\n",
    "    example_df,\n",
    "    \"C:/Users/keerti chouhan/Desktop/train/train/train/\",\n",
    "    x_col='filename',\n",
    "    y_col='category',\n",
    "    target_size=IMAGE_SIZE,\n",
    "    class_mode='categorical'\n",
    ")\n",
    "\n",
    "#Plot the image in subplots\n",
    "plt.figure(figsize=(12, 12))\n",
    "for i in range(0, 15):\n",
    "    plt.subplot(5, 3, i+1)\n",
    "    for X_batch, Y_batch in example_generator:\n",
    "        image = X_batch[0]\n",
    "        plt.imshow(image)\n",
    "        break\n",
    "plt.tight_layout()\n",
    "plt.show()\n"
   ]
  },
  {
   "cell_type": "code",
   "execution_count": null,
   "id": "cca037d8",
   "metadata": {},
   "outputs": [],
   "source": [
    "epochs=3\n",
    "history=model.fit(\n",
    "train_generator,\n",
    "epochs=epochs,\n",
    "validation_data=validation_generator,\n",
    "validation_steps=total_validate/batch_size,\n",
    "steps_per_epoch=total_train//batch_size,\n",
    ")"
   ]
  },
  {
   "cell_type": "code",
   "execution_count": null,
   "id": "f23b4326",
   "metadata": {},
   "outputs": [],
   "source": [
    "fig,(ax1,ax2)=plt.subplots(2,1,figsize=(12,12))\n",
    "ax1.plot(history.history['loss'],color='b',label=\"Training loss\")\n",
    "ax1.plot(history.history['val_loss'],color='r',label=\"validation loss\")\n",
    "ax1.set_xticks(np.arange(1,epochs,1))\n",
    "ax1.set_yticks(np.arange(0,1,0.1))\n",
    "\n",
    "ax2.plot(history .history['accuracy'],color='b',label=\"Training accuracy\")\n",
    "ax2.plot(history .history['val_accuracy'],color='r',label=\"validation loss\")\n",
    "ax2.set_xticks(np.arange(1,epochs,1))\n",
    "\n",
    "legend=plt.legend(loc='best',shadow=True)\n",
    "plt.tight_layout()"
   ]
  },
  {
   "cell_type": "markdown",
   "id": "399cf4c3",
   "metadata": {},
   "source": [
    "# for test data "
   ]
  },
  {
   "cell_type": "code",
   "execution_count": null,
   "id": "3189fa62",
   "metadata": {},
   "outputs": [],
   "source": [
    "test_filenames=os.listdir(r\"C:\\Users\\keerti chouhan\\Desktop\\test\\test\\test1\")\n",
    "test_df=pd.DataFrame({\n",
    "    'filename': test_filenames\n",
    "})"
   ]
  },
  {
   "cell_type": "code",
   "execution_count": null,
   "id": "653d5c43",
   "metadata": {},
   "outputs": [],
   "source": [
    "#Creating testing Generator"
   ]
  },
  {
   "cell_type": "code",
   "execution_count": null,
   "id": "9e560928",
   "metadata": {},
   "outputs": [],
   "source": [
    "test_gen=ImageDataGenerator(rescale=1./255)\n",
    "test_generator=test_gen.flow_from_dataframe(\n",
    "  test_df,\n",
    "  r\"C:\\Users\\keerti chouhan\\Desktop\\test\\test\\test1\",\n",
    "x_col='filename',\n",
    "y_col=None,\n",
    "class_mode=None,\n",
    "target_size=IMAGE_SIZE,\n",
    "    batch_size=batch_size,\n",
    "    shuffle=False\n",
    "    \n",
    ")"
   ]
  },
  {
   "cell_type": "markdown",
   "id": "b743a7b8",
   "metadata": {},
   "source": [
    "# Prediction"
   ]
  },
  {
   "cell_type": "code",
   "execution_count": null,
   "id": "aee2e644",
   "metadata": {},
   "outputs": [],
   "source": [
    "predict=model.predict(test_generator)"
   ]
  },
  {
   "cell_type": "code",
   "execution_count": null,
   "id": "381133f7",
   "metadata": {},
   "outputs": [],
   "source": [
    "test_df['category']=np.argmax(predict,axis=-1)"
   ]
  },
  {
   "cell_type": "code",
   "execution_count": null,
   "id": "78a933cf",
   "metadata": {},
   "outputs": [],
   "source": [
    "test_df.head()"
   ]
  },
  {
   "cell_type": "code",
   "execution_count": null,
   "id": "c15a7669",
   "metadata": {},
   "outputs": [],
   "source": [
    "test_df['category']=test_df['category'].replace({1:'dog',0: 'cat'})\n",
    "test_df.head()"
   ]
  },
  {
   "cell_type": "code",
   "execution_count": null,
   "id": "98ca2b34",
   "metadata": {},
   "outputs": [],
   "source": [
    "test_df['category'].value_counts().plot.bar()"
   ]
  },
  {
   "cell_type": "code",
   "execution_count": null,
   "id": "6b0f5257",
   "metadata": {},
   "outputs": [],
   "source": [
    "#Code to check sample is correctly predicted or not\n",
    "\n",
    "sample_test = test_df.head(10)\n",
    "sample_test.head()\n",
    "plt.figure(figsize=(12, 24))\n",
    "for index, row in sample_test.iterrows():\n",
    "    filename = row['filename']\n",
    "    category = row['category']\n",
    "    img = load_img(\"C:/Users/keerti chouhan/Desktop/test/test/test1/\"+filename, target_size=IMAGE_SIZE)\n",
    "    plt.subplot(6, 3, index+1)\n",
    "    plt.imshow(img)\n",
    "    plt.xlabel(filename + '(' + \"{}\".format(category) + ')' )\n",
    "plt.tight_layout()\n",
    "plt.show()"
   ]
  },
  {
   "cell_type": "code",
   "execution_count": null,
   "id": "b32c09c1",
   "metadata": {},
   "outputs": [],
   "source": [
    "model.save('CATDOGModel')"
   ]
  },
  {
   "cell_type": "code",
   "execution_count": null,
   "id": "cafd4a82",
   "metadata": {},
   "outputs": [],
   "source": []
  },
  {
   "cell_type": "code",
   "execution_count": null,
   "id": "7eaa9076",
   "metadata": {},
   "outputs": [],
   "source": []
  }
 ],
 "metadata": {
  "kernelspec": {
   "display_name": "Python 3 (ipykernel)",
   "language": "python",
   "name": "python3"
  },
  "language_info": {
   "codemirror_mode": {
    "name": "ipython",
    "version": 3
   },
   "file_extension": ".py",
   "mimetype": "text/x-python",
   "name": "python",
   "nbconvert_exporter": "python",
   "pygments_lexer": "ipython3",
   "version": "3.9.12"
  }
 },
 "nbformat": 4,
 "nbformat_minor": 5
}
