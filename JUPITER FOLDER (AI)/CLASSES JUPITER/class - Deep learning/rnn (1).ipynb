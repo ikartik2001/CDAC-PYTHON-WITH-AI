{
  "cells": [
    {
      "cell_type": "markdown",
      "id": "954de9de",
      "metadata": {
        "id": "954de9de"
      },
      "source": [
        "# Recurrent Neural Network + LSTM\n",
        "## Aanchal Sharma"
      ]
    },
    {
      "cell_type": "code",
      "execution_count": 2,
      "id": "41ef0b1d",
      "metadata": {
        "id": "41ef0b1d"
      },
      "outputs": [],
      "source": [
        "import pandas as pd\n",
        "import numpy as np\n",
        "import matplotlib.pyplot as plt\n",
        "from keras.models import Sequential\n",
        "from keras.layers import Dense, SimpleRNN, BatchNormalization"
      ]
    },
    {
      "cell_type": "code",
      "execution_count": 3,
      "id": "e365f6f1",
      "metadata": {
        "id": "e365f6f1"
      },
      "outputs": [],
      "source": [
        "# Generating sample dataset"
      ]
    },
    {
      "cell_type": "code",
      "execution_count": 4,
      "id": "0e28c033",
      "metadata": {
        "colab": {
          "base_uri": "https://localhost:8080/",
          "height": 206
        },
        "id": "0e28c033",
        "outputId": "dea3877d-4d5d-4d9f-fc43-748a7b7748c2"
      },
      "outputs": [
        {
          "output_type": "execute_result",
          "data": {
            "text/plain": [
              "          0\n",
              "0  1.363886\n",
              "1  2.010233\n",
              "2  1.614973\n",
              "3  2.028106\n",
              "4  0.675330"
            ],
            "text/html": [
              "\n",
              "  <div id=\"df-23298740-38bb-461f-be5c-3d1b98a697d2\">\n",
              "    <div class=\"colab-df-container\">\n",
              "      <div>\n",
              "<style scoped>\n",
              "    .dataframe tbody tr th:only-of-type {\n",
              "        vertical-align: middle;\n",
              "    }\n",
              "\n",
              "    .dataframe tbody tr th {\n",
              "        vertical-align: top;\n",
              "    }\n",
              "\n",
              "    .dataframe thead th {\n",
              "        text-align: right;\n",
              "    }\n",
              "</style>\n",
              "<table border=\"1\" class=\"dataframe\">\n",
              "  <thead>\n",
              "    <tr style=\"text-align: right;\">\n",
              "      <th></th>\n",
              "      <th>0</th>\n",
              "    </tr>\n",
              "  </thead>\n",
              "  <tbody>\n",
              "    <tr>\n",
              "      <th>0</th>\n",
              "      <td>1.363886</td>\n",
              "    </tr>\n",
              "    <tr>\n",
              "      <th>1</th>\n",
              "      <td>2.010233</td>\n",
              "    </tr>\n",
              "    <tr>\n",
              "      <th>2</th>\n",
              "      <td>1.614973</td>\n",
              "    </tr>\n",
              "    <tr>\n",
              "      <th>3</th>\n",
              "      <td>2.028106</td>\n",
              "    </tr>\n",
              "    <tr>\n",
              "      <th>4</th>\n",
              "      <td>0.675330</td>\n",
              "    </tr>\n",
              "  </tbody>\n",
              "</table>\n",
              "</div>\n",
              "      <button class=\"colab-df-convert\" onclick=\"convertToInteractive('df-23298740-38bb-461f-be5c-3d1b98a697d2')\"\n",
              "              title=\"Convert this dataframe to an interactive table.\"\n",
              "              style=\"display:none;\">\n",
              "        \n",
              "  <svg xmlns=\"http://www.w3.org/2000/svg\" height=\"24px\"viewBox=\"0 0 24 24\"\n",
              "       width=\"24px\">\n",
              "    <path d=\"M0 0h24v24H0V0z\" fill=\"none\"/>\n",
              "    <path d=\"M18.56 5.44l.94 2.06.94-2.06 2.06-.94-2.06-.94-.94-2.06-.94 2.06-2.06.94zm-11 1L8.5 8.5l.94-2.06 2.06-.94-2.06-.94L8.5 2.5l-.94 2.06-2.06.94zm10 10l.94 2.06.94-2.06 2.06-.94-2.06-.94-.94-2.06-.94 2.06-2.06.94z\"/><path d=\"M17.41 7.96l-1.37-1.37c-.4-.4-.92-.59-1.43-.59-.52 0-1.04.2-1.43.59L10.3 9.45l-7.72 7.72c-.78.78-.78 2.05 0 2.83L4 21.41c.39.39.9.59 1.41.59.51 0 1.02-.2 1.41-.59l7.78-7.78 2.81-2.81c.8-.78.8-2.07 0-2.86zM5.41 20L4 18.59l7.72-7.72 1.47 1.35L5.41 20z\"/>\n",
              "  </svg>\n",
              "      </button>\n",
              "      \n",
              "  <style>\n",
              "    .colab-df-container {\n",
              "      display:flex;\n",
              "      flex-wrap:wrap;\n",
              "      gap: 12px;\n",
              "    }\n",
              "\n",
              "    .colab-df-convert {\n",
              "      background-color: #E8F0FE;\n",
              "      border: none;\n",
              "      border-radius: 50%;\n",
              "      cursor: pointer;\n",
              "      display: none;\n",
              "      fill: #1967D2;\n",
              "      height: 32px;\n",
              "      padding: 0 0 0 0;\n",
              "      width: 32px;\n",
              "    }\n",
              "\n",
              "    .colab-df-convert:hover {\n",
              "      background-color: #E2EBFA;\n",
              "      box-shadow: 0px 1px 2px rgba(60, 64, 67, 0.3), 0px 1px 3px 1px rgba(60, 64, 67, 0.15);\n",
              "      fill: #174EA6;\n",
              "    }\n",
              "\n",
              "    [theme=dark] .colab-df-convert {\n",
              "      background-color: #3B4455;\n",
              "      fill: #D2E3FC;\n",
              "    }\n",
              "\n",
              "    [theme=dark] .colab-df-convert:hover {\n",
              "      background-color: #434B5C;\n",
              "      box-shadow: 0px 1px 3px 1px rgba(0, 0, 0, 0.15);\n",
              "      filter: drop-shadow(0px 1px 2px rgba(0, 0, 0, 0.3));\n",
              "      fill: #FFFFFF;\n",
              "    }\n",
              "  </style>\n",
              "\n",
              "      <script>\n",
              "        const buttonEl =\n",
              "          document.querySelector('#df-23298740-38bb-461f-be5c-3d1b98a697d2 button.colab-df-convert');\n",
              "        buttonEl.style.display =\n",
              "          google.colab.kernel.accessAllowed ? 'block' : 'none';\n",
              "\n",
              "        async function convertToInteractive(key) {\n",
              "          const element = document.querySelector('#df-23298740-38bb-461f-be5c-3d1b98a697d2');\n",
              "          const dataTable =\n",
              "            await google.colab.kernel.invokeFunction('convertToInteractive',\n",
              "                                                     [key], {});\n",
              "          if (!dataTable) return;\n",
              "\n",
              "          const docLinkHtml = 'Like what you see? Visit the ' +\n",
              "            '<a target=\"_blank\" href=https://colab.research.google.com/notebooks/data_table.ipynb>data table notebook</a>'\n",
              "            + ' to learn more about interactive tables.';\n",
              "          element.innerHTML = '';\n",
              "          dataTable['output_type'] = 'display_data';\n",
              "          await google.colab.output.renderOutput(dataTable, element);\n",
              "          const docLink = document.createElement('div');\n",
              "          docLink.innerHTML = docLinkHtml;\n",
              "          element.appendChild(docLink);\n",
              "        }\n",
              "      </script>\n",
              "    </div>\n",
              "  </div>\n",
              "  "
            ]
          },
          "metadata": {},
          "execution_count": 4
        }
      ],
      "source": [
        "N=1000\n",
        "Tp=800\n",
        "\n",
        "t=np.arange(0,N)\n",
        "x=np.sin(0.02*t)+2*np.random.rand(N)\n",
        "df=pd.DataFrame(x)\n",
        "df.head()"
      ]
    },
    {
      "cell_type": "code",
      "execution_count": 5,
      "id": "2b6ae731",
      "metadata": {
        "colab": {
          "base_uri": "https://localhost:8080/",
          "height": 430
        },
        "id": "2b6ae731",
        "outputId": "3aaf522c-bba9-48c8-9e05-f4fcc0bb1751"
      },
      "outputs": [
        {
          "output_type": "display_data",
          "data": {
            "text/plain": [
              "<Figure size 640x480 with 1 Axes>"
            ],
            "image/png": "[encoded data removed]"
          },
          "metadata": {}
        }
      ],
      "source": [
        "# how it looks in plot\n",
        "\n",
        "plt.plot(df)\n",
        "plt.show()"
      ]
    },
    {
      "cell_type": "code",
      "execution_count": 6,
      "id": "323cf6c3",
      "metadata": {
        "id": "323cf6c3"
      },
      "outputs": [],
      "source": [
        "# split 'df' dataset into a training and test parts"
      ]
    },
    {
      "cell_type": "code",
      "execution_count": 7,
      "id": "48a85054",
      "metadata": {
        "id": "48a85054"
      },
      "outputs": [],
      "source": [
        "values=df.values\n",
        "train,test=values[0:Tp,:], values[Tp:N,:]"
      ]
    },
    {
      "cell_type": "code",
      "execution_count": 8,
      "id": "a931c490",
      "metadata": {
        "id": "a931c490"
      },
      "outputs": [],
      "source": [
        "# Preparing the data (reshaping)"
      ]
    },
    {
      "cell_type": "code",
      "execution_count": 9,
      "id": "bc16c31a",
      "metadata": {
        "id": "bc16c31a"
      },
      "outputs": [],
      "source": [
        "step=4\n",
        "# add step elements into train and test\n",
        "train=np.append (train,np.repeat(train[-1,],step))\n",
        "\n",
        "test=np.append(test,np.repeat(test[-1,],step))"
      ]
    },
    {
      "cell_type": "code",
      "execution_count": 10,
      "id": "8580595f",
      "metadata": {
        "colab": {
          "base_uri": "https://localhost:8080/"
        },
        "id": "8580595f",
        "outputId": "875c3ce4-477c-4929-de08-930513e3280d"
      },
      "outputs": [
        {
          "output_type": "execute_result",
          "data": {
            "text/plain": [
              "array([ 0.14658976,  0.46364254,  1.51348589,  1.3942798 ,  0.13652163,\n",
              "        0.18906056,  1.14589559,  0.71007275,  1.29906296,  0.20906616,\n",
              "       -0.1556356 , -0.03677836,  0.14012392,  1.14989268, -0.18774608,\n",
              "        0.74397876,  0.41778078, -0.57805707, -0.3024509 ,  1.18357442,\n",
              "        0.63310111,  0.28145751,  1.15673894, -0.58610328,  0.54960215,\n",
              "       -0.03032346,  0.41236422, -0.39138787,  0.68781105, -0.60649226,\n",
              "        0.19091961,  1.04994439, -0.03137855,  0.19705658, -0.71725857,\n",
              "        1.14996921,  0.32428185,  0.89994415,  0.93586159,  1.02858837,\n",
              "       -0.85584385,  0.42311941,  0.22629075,  0.54785527,  0.72331513,\n",
              "       -0.9013731 ,  0.74679991,  0.52111774,  0.87550844,  0.70874426,\n",
              "       -0.04005929,  0.67799006,  0.14370667,  0.73490392,  0.3729108 ,\n",
              "        0.71236867, -0.94697765,  0.79547496, -0.64967818,  0.43110566,\n",
              "       -0.71096144, -0.71831801,  0.18326299,  0.96729155,  0.12354105,\n",
              "        0.06892834,  0.34164423,  0.81800152, -0.10462816,  0.63445659,\n",
              "       -0.24016422, -0.5623332 ,  0.42913655,  0.48345561, -0.45065881,\n",
              "       -0.34287212,  0.24307533, -0.09557907,  0.12377755, -0.36296175,\n",
              "        0.82889936,  1.01466131,  0.18066788,  0.6771164 ,  0.86525294,\n",
              "       -0.24106675,  0.97795362,  0.39128298,  0.68247673,  0.67231821,\n",
              "       -0.69230963, -0.21734425, -0.66804894, -0.3593163 , -0.36047465,\n",
              "        0.09397456,  0.35870484,  0.62795174, -0.20284602, -0.16921982,\n",
              "        0.64242448,  0.77681434,  0.46077056, -0.24914915, -0.49161679,\n",
              "        0.51479368,  0.1706958 ,  0.95544197,  0.69011503,  1.00417162,\n",
              "       -0.45247932,  0.7537736 ,  0.56347572,  0.79493851, -0.50380938,\n",
              "        1.4532707 ,  0.3168405 ,  1.39102602,  0.87828414,  0.12806734,\n",
              "        0.73413103,  0.59461633,  0.44166778, -0.33991583,  0.0180453 ,\n",
              "        0.03778391,  0.70171146,  0.42645382,  0.24245522, -0.14611976,\n",
              "        0.74394682,  1.2385178 ,  1.04653353,  0.7117606 ,  1.4216979 ,\n",
              "        0.02057923,  1.44427771,  0.71729409,  1.26343858,  0.51331374,\n",
              "        1.78099779,  0.69140674,  1.13172445,  0.52358712,  1.65678025,\n",
              "        1.65386383,  0.07322988,  1.6209395 ,  1.65127041,  1.30971185,\n",
              "        1.03967084,  1.12088263,  1.0662593 ,  1.12071347,  0.76195556,\n",
              "        1.19892744,  0.9878566 ,  1.78721529,  2.18606733,  1.07230918,\n",
              "        1.63570273,  1.21562963,  1.25997221,  1.25589793,  1.21709173,\n",
              "        2.03063824,  2.35371057,  0.68733041,  2.1811792 ,  1.81206809,\n",
              "        2.34584553,  1.70003204,  1.61885326,  1.98088345,  2.44892882,\n",
              "        2.36989407,  1.47549824,  1.75526745,  0.90003422,  1.99949272,\n",
              "        2.20109488,  1.18112591,  1.64846646,  1.1652851 ,  1.65585059,\n",
              "        2.15000325,  2.65059494,  2.67788154,  2.41713021,  1.58983289,\n",
              "        1.58102662,  1.78270119,  1.83434117,  2.06045222,  2.41293273,\n",
              "        2.6849559 ,  1.37674931,  1.30830114,  2.86391893,  2.6662121 ,\n",
              "        2.6662121 ,  2.6662121 ,  2.6662121 ,  2.6662121 ])"
            ]
          },
          "metadata": {},
          "execution_count": 10
        }
      ],
      "source": [
        "test"
      ]
    },
    {
      "cell_type": "code",
      "execution_count": 11,
      "id": "b5966781",
      "metadata": {
        "id": "b5966781"
      },
      "outputs": [],
      "source": [
        "# convert test and train data into the matrix with step value"
      ]
    },
    {
      "cell_type": "code",
      "execution_count": 12,
      "id": "4d7f8a5c",
      "metadata": {
        "id": "4d7f8a5c"
      },
      "outputs": [],
      "source": [
        "def convertToMatrix(data,step):\n",
        "    x,y=[], []\n",
        "    for i in range(len(data)-step):\n",
        "        d=i+step\n",
        "        x.append(data[i:d,])\n",
        "        y.append(data[d,])\n",
        "    return np.array(x),np.array(y)"
      ]
    },
    {
      "cell_type": "code",
      "execution_count": 13,
      "id": "f64710cb",
      "metadata": {
        "colab": {
          "base_uri": "https://localhost:8080/"
        },
        "id": "f64710cb",
        "outputId": "3291c8f8-28f9-4cc2-d0f1-65c5d5cea582"
      },
      "outputs": [
        {
          "output_type": "execute_result",
          "data": {
            "text/plain": [
              "(800, 4)"
            ]
          },
          "metadata": {},
          "execution_count": 13
        }
      ],
      "source": [
        "trainx,trainy=convertToMatrix(train,step)\n",
        "testx,testy=convertToMatrix(test,step)\n",
        "trainx.shape"
      ]
    },
    {
      "cell_type": "code",
      "execution_count": 14,
      "id": "4850cc60",
      "metadata": {
        "colab": {
          "base_uri": "https://localhost:8080/"
        },
        "id": "4850cc60",
        "outputId": "1c1d1c60-7272-4576-9762-a3afb603dbbe"
      },
      "outputs": [
        {
          "output_type": "execute_result",
          "data": {
            "text/plain": [
              "(800,)"
            ]
          },
          "metadata": {},
          "execution_count": 14
        }
      ],
      "source": [
        "trainy.shape"
      ]
    },
    {
      "cell_type": "code",
      "execution_count": 15,
      "id": "fca63772",
      "metadata": {
        "colab": {
          "base_uri": "https://localhost:8080/"
        },
        "id": "fca63772",
        "outputId": "1e424e0e-615e-439a-ed85-ed8924ec5c4b"
      },
      "outputs": [
        {
          "output_type": "execute_result",
          "data": {
            "text/plain": [
              "(800, 4)"
            ]
          },
          "metadata": {},
          "execution_count": 15
        }
      ],
      "source": [
        "trainx.shape"
      ]
    },
    {
      "cell_type": "code",
      "execution_count": 16,
      "id": "3f9806ce",
      "metadata": {
        "id": "3f9806ce"
      },
      "outputs": [],
      "source": [
        "# reshape trainx and testx to fit "
      ]
    },
    {
      "cell_type": "code",
      "execution_count": 17,
      "id": "6925de0d",
      "metadata": {
        "colab": {
          "base_uri": "https://localhost:8080/"
        },
        "id": "6925de0d",
        "outputId": "f8737732-b536-4565-8fbf-5b4fd6288e43"
      },
      "outputs": [
        {
          "output_type": "execute_result",
          "data": {
            "text/plain": [
              "(200, 1, 4)"
            ]
          },
          "metadata": {},
          "execution_count": 17
        }
      ],
      "source": [
        "trainx=np.reshape(trainx,(trainx.shape[0],1,trainx.shape[1]))\n",
        "testx=np.reshape(testx,(testx.shape[0],1,testx.shape[1]))\n",
        "testx.shape"
      ]
    },
    {
      "cell_type": "code",
      "execution_count": 18,
      "id": "6fb83b21",
      "metadata": {
        "id": "6fb83b21"
      },
      "outputs": [],
      "source": [
        "# Building a model with SimpleRNN"
      ]
    },
    {
      "cell_type": "code",
      "execution_count": 19,
      "id": "fc36cdf4",
      "metadata": {
        "id": "fc36cdf4"
      },
      "outputs": [],
      "source": [
        "# simpleRNN\n",
        "model=Sequential()\n",
        "model.add(SimpleRNN(units=32,input_shape=(1,step),activation=\"relu\"))\n",
        "model.add(Dense(8,activation=\"relu\"))\n",
        "model.add(Dense(1))"
      ]
    },
    {
      "cell_type": "code",
      "execution_count": 20,
      "id": "d1e33885",
      "metadata": {
        "id": "d1e33885"
      },
      "outputs": [],
      "source": [
        "# compile the model\n",
        "\n",
        "model.compile(loss='mean_squared_error',optimizer='rmsprop')"
      ]
    },
    {
      "cell_type": "code",
      "execution_count": 21,
      "id": "7f55a024",
      "metadata": {
        "colab": {
          "base_uri": "https://localhost:8080/"
        },
        "id": "7f55a024",
        "outputId": "fa7aadad-1ee6-4dab-c42d-b181e88fe077"
      },
      "outputs": [
        {
          "output_type": "stream",
          "name": "stdout",
          "text": [
            "Model: \"sequential\"\n",
            "_________________________________________________________________\n",
            " Layer (type)                Output Shape              Param #   \n",
            "=================================================================\n",
            " simple_rnn (SimpleRNN)      (None, 32)                1184      \n",
            "                                                                 \n",
            " dense (Dense)               (None, 8)                 264       \n",
            "                                                                 \n",
            " dense_1 (Dense)             (None, 1)                 9         \n",
            "                                                                 \n",
            "=================================================================\n",
            "Total params: 1,457\n",
            "Trainable params: 1,457\n",
            "Non-trainable params: 0\n",
            "_________________________________________________________________\n"
          ]
        }
      ],
      "source": [
        "model.summary()"
      ]
    },
    {
      "cell_type": "code",
      "execution_count": 22,
      "id": "2d418745",
      "metadata": {
        "id": "2d418745"
      },
      "outputs": [],
      "source": [
        "# predicting and plotting the result"
      ]
    },
    {
      "cell_type": "code",
      "execution_count": 23,
      "id": "cd284f8c",
      "metadata": {
        "colab": {
          "base_uri": "https://localhost:8080/"
        },
        "id": "cd284f8c",
        "outputId": "2d6963f0-c355-432d-e24c-cac03637891d"
      },
      "outputs": [
        {
          "output_type": "stream",
          "name": "stdout",
          "text": [
            "Epoch 1/100\n",
            "50/50 - 2s - loss: 1.8700 - 2s/epoch - 45ms/step\n",
            "Epoch 2/100\n",
            "50/50 - 0s - loss: 1.0226 - 156ms/epoch - 3ms/step\n",
            "Epoch 3/100\n",
            "50/50 - 0s - loss: 0.5165 - 148ms/epoch - 3ms/step\n",
            "Epoch 4/100\n",
            "50/50 - 0s - loss: 0.4310 - 120ms/epoch - 2ms/step\n",
            "Epoch 5/100\n",
            "50/50 - 0s - loss: 0.4182 - 143ms/epoch - 3ms/step\n",
            "Epoch 6/100\n",
            "50/50 - 0s - loss: 0.4103 - 128ms/epoch - 3ms/step\n",
            "Epoch 7/100\n",
            "50/50 - 0s - loss: 0.4040 - 142ms/epoch - 3ms/step\n",
            "Epoch 8/100\n",
            "50/50 - 0s - loss: 0.4014 - 133ms/epoch - 3ms/step\n",
            "Epoch 9/100\n",
            "50/50 - 0s - loss: 0.3987 - 219ms/epoch - 4ms/step\n",
            "Epoch 10/100\n",
            "50/50 - 0s - loss: 0.3961 - 293ms/epoch - 6ms/step\n",
            "Epoch 11/100\n",
            "50/50 - 0s - loss: 0.3963 - 157ms/epoch - 3ms/step\n",
            "Epoch 12/100\n",
            "50/50 - 0s - loss: 0.3938 - 208ms/epoch - 4ms/step\n",
            "Epoch 13/100\n",
            "50/50 - 0s - loss: 0.3944 - 160ms/epoch - 3ms/step\n",
            "Epoch 14/100\n",
            "50/50 - 0s - loss: 0.3929 - 167ms/epoch - 3ms/step\n",
            "Epoch 15/100\n",
            "50/50 - 0s - loss: 0.3944 - 115ms/epoch - 2ms/step\n",
            "Epoch 16/100\n",
            "50/50 - 0s - loss: 0.3910 - 107ms/epoch - 2ms/step\n",
            "Epoch 17/100\n",
            "50/50 - 0s - loss: 0.3929 - 177ms/epoch - 4ms/step\n",
            "Epoch 18/100\n",
            "50/50 - 0s - loss: 0.3928 - 137ms/epoch - 3ms/step\n",
            "Epoch 19/100\n",
            "50/50 - 0s - loss: 0.3921 - 161ms/epoch - 3ms/step\n",
            "Epoch 20/100\n",
            "50/50 - 0s - loss: 0.3928 - 159ms/epoch - 3ms/step\n",
            "Epoch 21/100\n",
            "50/50 - 0s - loss: 0.3935 - 166ms/epoch - 3ms/step\n",
            "Epoch 22/100\n",
            "50/50 - 0s - loss: 0.3904 - 156ms/epoch - 3ms/step\n",
            "Epoch 23/100\n",
            "50/50 - 0s - loss: 0.3903 - 135ms/epoch - 3ms/step\n",
            "Epoch 24/100\n",
            "50/50 - 0s - loss: 0.3920 - 171ms/epoch - 3ms/step\n",
            "Epoch 25/100\n",
            "50/50 - 0s - loss: 0.3913 - 227ms/epoch - 5ms/step\n",
            "Epoch 26/100\n",
            "50/50 - 0s - loss: 0.3904 - 252ms/epoch - 5ms/step\n",
            "Epoch 27/100\n",
            "50/50 - 0s - loss: 0.3894 - 306ms/epoch - 6ms/step\n",
            "Epoch 28/100\n",
            "50/50 - 0s - loss: 0.3900 - 243ms/epoch - 5ms/step\n",
            "Epoch 29/100\n",
            "50/50 - 0s - loss: 0.3883 - 272ms/epoch - 5ms/step\n",
            "Epoch 30/100\n",
            "50/50 - 0s - loss: 0.3893 - 235ms/epoch - 5ms/step\n",
            "Epoch 31/100\n",
            "50/50 - 0s - loss: 0.3887 - 297ms/epoch - 6ms/step\n",
            "Epoch 32/100\n",
            "50/50 - 0s - loss: 0.3880 - 321ms/epoch - 6ms/step\n",
            "Epoch 33/100\n",
            "50/50 - 0s - loss: 0.3872 - 344ms/epoch - 7ms/step\n",
            "Epoch 34/100\n",
            "50/50 - 0s - loss: 0.3866 - 281ms/epoch - 6ms/step\n",
            "Epoch 35/100\n",
            "50/50 - 0s - loss: 0.3856 - 355ms/epoch - 7ms/step\n",
            "Epoch 36/100\n",
            "50/50 - 0s - loss: 0.3862 - 183ms/epoch - 4ms/step\n",
            "Epoch 37/100\n",
            "50/50 - 0s - loss: 0.3874 - 122ms/epoch - 2ms/step\n",
            "Epoch 38/100\n",
            "50/50 - 0s - loss: 0.3852 - 144ms/epoch - 3ms/step\n",
            "Epoch 39/100\n",
            "50/50 - 0s - loss: 0.3861 - 186ms/epoch - 4ms/step\n",
            "Epoch 40/100\n",
            "50/50 - 0s - loss: 0.3854 - 154ms/epoch - 3ms/step\n",
            "Epoch 41/100\n",
            "50/50 - 0s - loss: 0.3855 - 123ms/epoch - 2ms/step\n",
            "Epoch 42/100\n",
            "50/50 - 0s - loss: 0.3860 - 128ms/epoch - 3ms/step\n",
            "Epoch 43/100\n",
            "50/50 - 0s - loss: 0.3864 - 158ms/epoch - 3ms/step\n",
            "Epoch 44/100\n",
            "50/50 - 0s - loss: 0.3846 - 128ms/epoch - 3ms/step\n",
            "Epoch 45/100\n",
            "50/50 - 0s - loss: 0.3837 - 185ms/epoch - 4ms/step\n",
            "Epoch 46/100\n",
            "50/50 - 0s - loss: 0.3837 - 163ms/epoch - 3ms/step\n",
            "Epoch 47/100\n",
            "50/50 - 0s - loss: 0.3825 - 150ms/epoch - 3ms/step\n",
            "Epoch 48/100\n",
            "50/50 - 0s - loss: 0.3822 - 178ms/epoch - 4ms/step\n",
            "Epoch 49/100\n",
            "50/50 - 0s - loss: 0.3820 - 184ms/epoch - 4ms/step\n",
            "Epoch 50/100\n",
            "50/50 - 0s - loss: 0.3819 - 227ms/epoch - 5ms/step\n",
            "Epoch 51/100\n",
            "50/50 - 0s - loss: 0.3822 - 203ms/epoch - 4ms/step\n",
            "Epoch 52/100\n",
            "50/50 - 0s - loss: 0.3833 - 192ms/epoch - 4ms/step\n",
            "Epoch 53/100\n",
            "50/50 - 0s - loss: 0.3809 - 226ms/epoch - 5ms/step\n",
            "Epoch 54/100\n",
            "50/50 - 0s - loss: 0.3809 - 256ms/epoch - 5ms/step\n",
            "Epoch 55/100\n",
            "50/50 - 0s - loss: 0.3818 - 171ms/epoch - 3ms/step\n",
            "Epoch 56/100\n",
            "50/50 - 0s - loss: 0.3812 - 160ms/epoch - 3ms/step\n",
            "Epoch 57/100\n",
            "50/50 - 0s - loss: 0.3804 - 133ms/epoch - 3ms/step\n",
            "Epoch 58/100\n",
            "50/50 - 0s - loss: 0.3802 - 115ms/epoch - 2ms/step\n",
            "Epoch 59/100\n",
            "50/50 - 0s - loss: 0.3794 - 160ms/epoch - 3ms/step\n",
            "Epoch 60/100\n",
            "50/50 - 0s - loss: 0.3794 - 173ms/epoch - 3ms/step\n",
            "Epoch 61/100\n",
            "50/50 - 0s - loss: 0.3782 - 141ms/epoch - 3ms/step\n",
            "Epoch 62/100\n",
            "50/50 - 0s - loss: 0.3780 - 243ms/epoch - 5ms/step\n",
            "Epoch 63/100\n",
            "50/50 - 0s - loss: 0.3797 - 138ms/epoch - 3ms/step\n",
            "Epoch 64/100\n",
            "50/50 - 0s - loss: 0.3764 - 118ms/epoch - 2ms/step\n",
            "Epoch 65/100\n",
            "50/50 - 0s - loss: 0.3763 - 136ms/epoch - 3ms/step\n",
            "Epoch 66/100\n",
            "50/50 - 0s - loss: 0.3780 - 146ms/epoch - 3ms/step\n",
            "Epoch 67/100\n",
            "50/50 - 0s - loss: 0.3769 - 115ms/epoch - 2ms/step\n",
            "Epoch 68/100\n",
            "50/50 - 0s - loss: 0.3769 - 124ms/epoch - 2ms/step\n",
            "Epoch 69/100\n",
            "50/50 - 0s - loss: 0.3780 - 140ms/epoch - 3ms/step\n",
            "Epoch 70/100\n",
            "50/50 - 0s - loss: 0.3776 - 136ms/epoch - 3ms/step\n",
            "Epoch 71/100\n",
            "50/50 - 0s - loss: 0.3746 - 144ms/epoch - 3ms/step\n",
            "Epoch 72/100\n",
            "50/50 - 0s - loss: 0.3754 - 127ms/epoch - 3ms/step\n",
            "Epoch 73/100\n",
            "50/50 - 0s - loss: 0.3767 - 158ms/epoch - 3ms/step\n",
            "Epoch 74/100\n",
            "50/50 - 0s - loss: 0.3757 - 123ms/epoch - 2ms/step\n",
            "Epoch 75/100\n",
            "50/50 - 0s - loss: 0.3743 - 133ms/epoch - 3ms/step\n",
            "Epoch 76/100\n",
            "50/50 - 0s - loss: 0.3760 - 154ms/epoch - 3ms/step\n",
            "Epoch 77/100\n",
            "50/50 - 0s - loss: 0.3737 - 124ms/epoch - 2ms/step\n",
            "Epoch 78/100\n",
            "50/50 - 0s - loss: 0.3751 - 132ms/epoch - 3ms/step\n",
            "Epoch 79/100\n",
            "50/50 - 0s - loss: 0.3738 - 131ms/epoch - 3ms/step\n",
            "Epoch 80/100\n",
            "50/50 - 0s - loss: 0.3736 - 177ms/epoch - 4ms/step\n",
            "Epoch 81/100\n",
            "50/50 - 0s - loss: 0.3747 - 177ms/epoch - 4ms/step\n",
            "Epoch 82/100\n",
            "50/50 - 0s - loss: 0.3744 - 123ms/epoch - 2ms/step\n",
            "Epoch 83/100\n",
            "50/50 - 0s - loss: 0.3743 - 90ms/epoch - 2ms/step\n",
            "Epoch 84/100\n",
            "50/50 - 0s - loss: 0.3724 - 81ms/epoch - 2ms/step\n",
            "Epoch 85/100\n",
            "50/50 - 0s - loss: 0.3718 - 82ms/epoch - 2ms/step\n",
            "Epoch 86/100\n",
            "50/50 - 0s - loss: 0.3727 - 84ms/epoch - 2ms/step\n",
            "Epoch 87/100\n",
            "50/50 - 0s - loss: 0.3722 - 82ms/epoch - 2ms/step\n",
            "Epoch 88/100\n",
            "50/50 - 0s - loss: 0.3723 - 91ms/epoch - 2ms/step\n",
            "Epoch 89/100\n",
            "50/50 - 0s - loss: 0.3724 - 95ms/epoch - 2ms/step\n",
            "Epoch 90/100\n",
            "50/50 - 0s - loss: 0.3710 - 90ms/epoch - 2ms/step\n",
            "Epoch 91/100\n",
            "50/50 - 0s - loss: 0.3705 - 83ms/epoch - 2ms/step\n",
            "Epoch 92/100\n",
            "50/50 - 0s - loss: 0.3711 - 82ms/epoch - 2ms/step\n",
            "Epoch 93/100\n",
            "50/50 - 0s - loss: 0.3705 - 115ms/epoch - 2ms/step\n",
            "Epoch 94/100\n",
            "50/50 - 0s - loss: 0.3701 - 85ms/epoch - 2ms/step\n",
            "Epoch 95/100\n",
            "50/50 - 0s - loss: 0.3695 - 94ms/epoch - 2ms/step\n",
            "Epoch 96/100\n",
            "50/50 - 0s - loss: 0.3704 - 113ms/epoch - 2ms/step\n",
            "Epoch 97/100\n",
            "50/50 - 0s - loss: 0.3686 - 108ms/epoch - 2ms/step\n",
            "Epoch 98/100\n",
            "50/50 - 0s - loss: 0.3700 - 84ms/epoch - 2ms/step\n",
            "Epoch 99/100\n",
            "50/50 - 0s - loss: 0.3696 - 82ms/epoch - 2ms/step\n",
            "Epoch 100/100\n",
            "50/50 - 0s - loss: 0.3702 - 89ms/epoch - 2ms/step\n"
          ]
        },
        {
          "output_type": "execute_result",
          "data": {
            "text/plain": [
              "<keras.callbacks.History at 0x7f6818833af0>"
            ]
          },
          "metadata": {},
          "execution_count": 23
        }
      ],
      "source": [
        "# fit model with trainx data and predict testx data\n",
        "model.fit(trainx,trainy,epochs=100,batch_size=16,verbose=2)"
      ]
    },
    {
      "cell_type": "code",
      "execution_count": 24,
      "id": "3f096fc4",
      "metadata": {
        "colab": {
          "base_uri": "https://localhost:8080/"
        },
        "id": "3f096fc4",
        "outputId": "cc8bbdde-df63-42e1-c5d1-1aac20438e9b"
      },
      "outputs": [
        {
          "output_type": "stream",
          "name": "stdout",
          "text": [
            "25/25 [==============================] - 0s 2ms/step\n"
          ]
        }
      ],
      "source": [
        "# predict the model\n",
        "trainPredict = model.predict(trainx)"
      ]
    },
    {
      "cell_type": "code",
      "execution_count": 25,
      "id": "c95b6286",
      "metadata": {
        "colab": {
          "base_uri": "https://localhost:8080/"
        },
        "id": "c95b6286",
        "outputId": "eed1b115-ea91-4267-ad9a-10b0b094eb76"
      },
      "outputs": [
        {
          "output_type": "stream",
          "name": "stdout",
          "text": [
            "7/7 [==============================] - 0s 2ms/step\n"
          ]
        }
      ],
      "source": [
        "testPredict= model.predict(testx)"
      ]
    },
    {
      "cell_type": "code",
      "execution_count": 28,
      "id": "66d3a608",
      "metadata": {
        "id": "66d3a608"
      },
      "outputs": [],
      "source": [
        "from keras.layers import LSTM"
      ]
    },
    {
      "cell_type": "code",
      "source": [
        "model2=Sequential()\n",
        "model2.add(LSTM(10,activation='tanh'))\n",
        "model2.add(Dense(1,activation='tanh'))"
      ],
      "metadata": {
        "id": "gUNI3ium82pF"
      },
      "id": "gUNI3ium82pF",
      "execution_count": 30,
      "outputs": []
    },
    {
      "cell_type": "code",
      "source": [
        "model2.compile(optimizer='adam',loss='mse')"
      ],
      "metadata": {
        "id": "R8p7g8wn85wX"
      },
      "id": "R8p7g8wn85wX",
      "execution_count": 31,
      "outputs": []
    },
    {
      "cell_type": "code",
      "source": [
        "model2.fit(trainx,trainy,epochs=100,batch_size=16,verbose=2)"
      ],
      "metadata": {
        "colab": {
          "base_uri": "https://localhost:8080/"
        },
        "id": "3a4L0LJoHn3_",
        "outputId": "22690404-a841-495e-f85e-4e1cde15a232"
      },
      "id": "3a4L0LJoHn3_",
      "execution_count": 33,
      "outputs": [
        {
          "output_type": "stream",
          "name": "stdout",
          "text": [
            "Epoch 1/100\n",
            "50/50 - 4s - loss: 1.4592 - 4s/epoch - 74ms/step\n",
            "Epoch 2/100\n",
            "50/50 - 0s - loss: 1.0059 - 119ms/epoch - 2ms/step\n",
            "Epoch 3/100\n",
            "50/50 - 0s - loss: 0.8353 - 131ms/epoch - 3ms/step\n",
            "Epoch 4/100\n",
            "50/50 - 0s - loss: 0.7690 - 120ms/epoch - 2ms/step\n",
            "Epoch 5/100\n",
            "50/50 - 0s - loss: 0.7406 - 162ms/epoch - 3ms/step\n",
            "Epoch 6/100\n",
            "50/50 - 0s - loss: 0.7271 - 197ms/epoch - 4ms/step\n",
            "Epoch 7/100\n",
            "50/50 - 0s - loss: 0.7194 - 205ms/epoch - 4ms/step\n",
            "Epoch 8/100\n",
            "50/50 - 0s - loss: 0.7146 - 193ms/epoch - 4ms/step\n",
            "Epoch 9/100\n",
            "50/50 - 0s - loss: 0.7112 - 198ms/epoch - 4ms/step\n",
            "Epoch 10/100\n",
            "50/50 - 0s - loss: 0.7087 - 178ms/epoch - 4ms/step\n",
            "Epoch 11/100\n",
            "50/50 - 0s - loss: 0.7066 - 179ms/epoch - 4ms/step\n",
            "Epoch 12/100\n",
            "50/50 - 0s - loss: 0.7048 - 219ms/epoch - 4ms/step\n",
            "Epoch 13/100\n",
            "50/50 - 0s - loss: 0.7032 - 211ms/epoch - 4ms/step\n",
            "Epoch 14/100\n",
            "50/50 - 0s - loss: 0.7017 - 199ms/epoch - 4ms/step\n",
            "Epoch 15/100\n",
            "50/50 - 0s - loss: 0.7004 - 181ms/epoch - 4ms/step\n",
            "Epoch 16/100\n",
            "50/50 - 0s - loss: 0.6993 - 175ms/epoch - 4ms/step\n",
            "Epoch 17/100\n",
            "50/50 - 0s - loss: 0.6980 - 217ms/epoch - 4ms/step\n",
            "Epoch 18/100\n",
            "50/50 - 0s - loss: 0.6970 - 199ms/epoch - 4ms/step\n",
            "Epoch 19/100\n",
            "50/50 - 0s - loss: 0.6961 - 124ms/epoch - 2ms/step\n",
            "Epoch 20/100\n",
            "50/50 - 0s - loss: 0.6950 - 125ms/epoch - 3ms/step\n",
            "Epoch 21/100\n",
            "50/50 - 0s - loss: 0.6941 - 124ms/epoch - 2ms/step\n",
            "Epoch 22/100\n",
            "50/50 - 0s - loss: 0.6933 - 124ms/epoch - 2ms/step\n",
            "Epoch 23/100\n",
            "50/50 - 0s - loss: 0.6926 - 131ms/epoch - 3ms/step\n",
            "Epoch 24/100\n",
            "50/50 - 0s - loss: 0.6919 - 158ms/epoch - 3ms/step\n",
            "Epoch 25/100\n",
            "50/50 - 0s - loss: 0.6913 - 127ms/epoch - 3ms/step\n",
            "Epoch 26/100\n",
            "50/50 - 0s - loss: 0.6905 - 147ms/epoch - 3ms/step\n",
            "Epoch 27/100\n",
            "50/50 - 0s - loss: 0.6900 - 131ms/epoch - 3ms/step\n",
            "Epoch 28/100\n",
            "50/50 - 0s - loss: 0.6897 - 148ms/epoch - 3ms/step\n",
            "Epoch 29/100\n",
            "50/50 - 0s - loss: 0.6888 - 143ms/epoch - 3ms/step\n",
            "Epoch 30/100\n",
            "50/50 - 0s - loss: 0.6883 - 151ms/epoch - 3ms/step\n",
            "Epoch 31/100\n",
            "50/50 - 0s - loss: 0.6880 - 166ms/epoch - 3ms/step\n",
            "Epoch 32/100\n",
            "50/50 - 0s - loss: 0.6877 - 134ms/epoch - 3ms/step\n",
            "Epoch 33/100\n",
            "50/50 - 0s - loss: 0.6871 - 135ms/epoch - 3ms/step\n",
            "Epoch 34/100\n",
            "50/50 - 0s - loss: 0.6870 - 129ms/epoch - 3ms/step\n",
            "Epoch 35/100\n",
            "50/50 - 0s - loss: 0.6865 - 139ms/epoch - 3ms/step\n",
            "Epoch 36/100\n",
            "50/50 - 0s - loss: 0.6861 - 135ms/epoch - 3ms/step\n",
            "Epoch 37/100\n",
            "50/50 - 0s - loss: 0.6858 - 131ms/epoch - 3ms/step\n",
            "Epoch 38/100\n",
            "50/50 - 0s - loss: 0.6854 - 152ms/epoch - 3ms/step\n",
            "Epoch 39/100\n",
            "50/50 - 0s - loss: 0.6853 - 145ms/epoch - 3ms/step\n",
            "Epoch 40/100\n",
            "50/50 - 0s - loss: 0.6850 - 154ms/epoch - 3ms/step\n",
            "Epoch 41/100\n",
            "50/50 - 0s - loss: 0.6846 - 128ms/epoch - 3ms/step\n",
            "Epoch 42/100\n",
            "50/50 - 0s - loss: 0.6844 - 127ms/epoch - 3ms/step\n",
            "Epoch 43/100\n",
            "50/50 - 0s - loss: 0.6841 - 128ms/epoch - 3ms/step\n",
            "Epoch 44/100\n",
            "50/50 - 0s - loss: 0.6839 - 134ms/epoch - 3ms/step\n",
            "Epoch 45/100\n",
            "50/50 - 0s - loss: 0.6837 - 168ms/epoch - 3ms/step\n",
            "Epoch 46/100\n",
            "50/50 - 0s - loss: 0.6835 - 132ms/epoch - 3ms/step\n",
            "Epoch 47/100\n",
            "50/50 - 0s - loss: 0.6832 - 140ms/epoch - 3ms/step\n",
            "Epoch 48/100\n",
            "50/50 - 0s - loss: 0.6832 - 119ms/epoch - 2ms/step\n",
            "Epoch 49/100\n",
            "50/50 - 0s - loss: 0.6831 - 120ms/epoch - 2ms/step\n",
            "Epoch 50/100\n",
            "50/50 - 0s - loss: 0.6829 - 117ms/epoch - 2ms/step\n",
            "Epoch 51/100\n",
            "50/50 - 0s - loss: 0.6828 - 126ms/epoch - 3ms/step\n",
            "Epoch 52/100\n",
            "50/50 - 0s - loss: 0.6823 - 142ms/epoch - 3ms/step\n",
            "Epoch 53/100\n",
            "50/50 - 0s - loss: 0.6823 - 142ms/epoch - 3ms/step\n",
            "Epoch 54/100\n",
            "50/50 - 0s - loss: 0.6822 - 203ms/epoch - 4ms/step\n",
            "Epoch 55/100\n",
            "50/50 - 0s - loss: 0.6820 - 206ms/epoch - 4ms/step\n",
            "Epoch 56/100\n",
            "50/50 - 0s - loss: 0.6817 - 203ms/epoch - 4ms/step\n",
            "Epoch 57/100\n",
            "50/50 - 0s - loss: 0.6817 - 238ms/epoch - 5ms/step\n",
            "Epoch 58/100\n",
            "50/50 - 0s - loss: 0.6814 - 237ms/epoch - 5ms/step\n",
            "Epoch 59/100\n",
            "50/50 - 0s - loss: 0.6816 - 228ms/epoch - 5ms/step\n",
            "Epoch 60/100\n",
            "50/50 - 0s - loss: 0.6811 - 297ms/epoch - 6ms/step\n",
            "Epoch 61/100\n",
            "50/50 - 0s - loss: 0.6813 - 295ms/epoch - 6ms/step\n",
            "Epoch 62/100\n",
            "50/50 - 0s - loss: 0.6809 - 215ms/epoch - 4ms/step\n",
            "Epoch 63/100\n",
            "50/50 - 0s - loss: 0.6808 - 135ms/epoch - 3ms/step\n",
            "Epoch 64/100\n",
            "50/50 - 0s - loss: 0.6810 - 125ms/epoch - 2ms/step\n",
            "Epoch 65/100\n",
            "50/50 - 0s - loss: 0.6808 - 139ms/epoch - 3ms/step\n",
            "Epoch 66/100\n",
            "50/50 - 0s - loss: 0.6804 - 123ms/epoch - 2ms/step\n",
            "Epoch 67/100\n",
            "50/50 - 0s - loss: 0.6803 - 137ms/epoch - 3ms/step\n",
            "Epoch 68/100\n",
            "50/50 - 0s - loss: 0.6805 - 127ms/epoch - 3ms/step\n",
            "Epoch 69/100\n",
            "50/50 - 0s - loss: 0.6800 - 149ms/epoch - 3ms/step\n",
            "Epoch 70/100\n",
            "50/50 - 0s - loss: 0.6801 - 119ms/epoch - 2ms/step\n",
            "Epoch 71/100\n",
            "50/50 - 0s - loss: 0.6803 - 129ms/epoch - 3ms/step\n",
            "Epoch 72/100\n",
            "50/50 - 0s - loss: 0.6798 - 123ms/epoch - 2ms/step\n",
            "Epoch 73/100\n",
            "50/50 - 0s - loss: 0.6800 - 125ms/epoch - 2ms/step\n",
            "Epoch 74/100\n",
            "50/50 - 0s - loss: 0.6800 - 132ms/epoch - 3ms/step\n",
            "Epoch 75/100\n",
            "50/50 - 0s - loss: 0.6797 - 122ms/epoch - 2ms/step\n",
            "Epoch 76/100\n",
            "50/50 - 0s - loss: 0.6796 - 155ms/epoch - 3ms/step\n",
            "Epoch 77/100\n",
            "50/50 - 0s - loss: 0.6794 - 126ms/epoch - 3ms/step\n",
            "Epoch 78/100\n",
            "50/50 - 0s - loss: 0.6794 - 124ms/epoch - 2ms/step\n",
            "Epoch 79/100\n",
            "50/50 - 0s - loss: 0.6792 - 121ms/epoch - 2ms/step\n",
            "Epoch 80/100\n",
            "50/50 - 0s - loss: 0.6792 - 128ms/epoch - 3ms/step\n",
            "Epoch 81/100\n",
            "50/50 - 0s - loss: 0.6790 - 132ms/epoch - 3ms/step\n",
            "Epoch 82/100\n",
            "50/50 - 0s - loss: 0.6790 - 157ms/epoch - 3ms/step\n",
            "Epoch 83/100\n",
            "50/50 - 0s - loss: 0.6791 - 131ms/epoch - 3ms/step\n",
            "Epoch 84/100\n",
            "50/50 - 0s - loss: 0.6788 - 187ms/epoch - 4ms/step\n",
            "Epoch 85/100\n",
            "50/50 - 0s - loss: 0.6792 - 198ms/epoch - 4ms/step\n",
            "Epoch 86/100\n",
            "50/50 - 0s - loss: 0.6792 - 194ms/epoch - 4ms/step\n",
            "Epoch 87/100\n",
            "50/50 - 0s - loss: 0.6788 - 204ms/epoch - 4ms/step\n",
            "Epoch 88/100\n",
            "50/50 - 0s - loss: 0.6788 - 185ms/epoch - 4ms/step\n",
            "Epoch 89/100\n",
            "50/50 - 0s - loss: 0.6785 - 199ms/epoch - 4ms/step\n",
            "Epoch 90/100\n",
            "50/50 - 0s - loss: 0.6784 - 304ms/epoch - 6ms/step\n",
            "Epoch 91/100\n",
            "50/50 - 0s - loss: 0.6783 - 345ms/epoch - 7ms/step\n",
            "Epoch 92/100\n",
            "50/50 - 0s - loss: 0.6785 - 255ms/epoch - 5ms/step\n",
            "Epoch 93/100\n",
            "50/50 - 0s - loss: 0.6782 - 399ms/epoch - 8ms/step\n",
            "Epoch 94/100\n",
            "50/50 - 0s - loss: 0.6781 - 286ms/epoch - 6ms/step\n",
            "Epoch 95/100\n",
            "50/50 - 0s - loss: 0.6781 - 253ms/epoch - 5ms/step\n",
            "Epoch 96/100\n",
            "50/50 - 0s - loss: 0.6781 - 256ms/epoch - 5ms/step\n",
            "Epoch 97/100\n",
            "50/50 - 0s - loss: 0.6779 - 203ms/epoch - 4ms/step\n",
            "Epoch 98/100\n",
            "50/50 - 0s - loss: 0.6782 - 221ms/epoch - 4ms/step\n",
            "Epoch 99/100\n",
            "50/50 - 0s - loss: 0.6781 - 217ms/epoch - 4ms/step\n",
            "Epoch 100/100\n",
            "50/50 - 0s - loss: 0.6780 - 218ms/epoch - 4ms/step\n"
          ]
        },
        {
          "output_type": "execute_result",
          "data": {
            "text/plain": [
              "<keras.callbacks.History at 0x7f6818b30430>"
            ]
          },
          "metadata": {},
          "execution_count": 33
        }
      ]
    },
    {
      "cell_type": "code",
      "source": [
        "trainPredict = model.predict(trainx)"
      ],
      "metadata": {
        "colab": {
          "base_uri": "https://localhost:8080/"
        },
        "id": "61GVgmD8HvLv",
        "outputId": "dd9ce6e6-1308-4c59-886b-339a19fe2b06"
      },
      "id": "61GVgmD8HvLv",
      "execution_count": 34,
      "outputs": [
        {
          "output_type": "stream",
          "name": "stdout",
          "text": [
            "25/25 [==============================] - 0s 2ms/step\n"
          ]
        }
      ]
    },
    {
      "cell_type": "code",
      "source": [],
      "metadata": {
        "id": "Mth5XWqQH54u"
      },
      "id": "Mth5XWqQH54u",
      "execution_count": null,
      "outputs": []
    }
  ],
  "metadata": {
    "kernelspec": {
      "display_name": "Python 3 (ipykernel)",
      "language": "python",
      "name": "python3"
    },
    "language_info": {
      "codemirror_mode": {
        "name": "ipython",
        "version": 3
      },
      "file_extension": ".py",
      "mimetype": "text/x-python",
      "name": "python",
      "nbconvert_exporter": "python",
      "pygments_lexer": "ipython3",
      "version": "3.9.12"
    },
    "colab": {
      "provenance": []
    }
  },
  "nbformat": 4,
  "nbformat_minor": 5
}