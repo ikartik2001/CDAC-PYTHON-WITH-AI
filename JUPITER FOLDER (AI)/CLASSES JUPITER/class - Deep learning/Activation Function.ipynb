{
 "cells": [
  {
   "cell_type": "code",
   "execution_count": 1,
   "id": "7becf03e",
   "metadata": {},
   "outputs": [],
   "source": [
    "#Basic Neural Network\n",
    "#Buildinig an Model"
   ]
  },
  {
   "cell_type": "code",
   "execution_count": 6,
   "id": "d57e1a57",
   "metadata": {},
   "outputs": [],
   "source": [
    "#pip install tensorflow"
   ]
  },
  {
   "cell_type": "code",
   "execution_count": 20,
   "id": "d92771c0",
   "metadata": {},
   "outputs": [],
   "source": [
    "import numpy as np\n",
    "import tensorflow as tf\n",
    "from tensorflow import keras\n"
   ]
  },
  {
   "cell_type": "code",
   "execution_count": 21,
   "id": "4a41703d",
   "metadata": {},
   "outputs": [],
   "source": [
    "from tensorflow.keras import Sequential\n",
    "from tensorflow.keras import layers\n"
   ]
  },
  {
   "cell_type": "markdown",
   "id": "4616bb68",
   "metadata": {},
   "source": [
    "# Understanding a Sequential Model"
   ]
  },
  {
   "cell_type": "code",
   "execution_count": 22,
   "id": "a589d437",
   "metadata": {},
   "outputs": [],
   "source": [
    "#Define sequential model with 3 layers"
   ]
  },
  {
   "cell_type": "code",
   "execution_count": 23,
   "id": "d090f1b5",
   "metadata": {},
   "outputs": [],
   "source": [
    "model=keras.Sequential(\n",
    "    [\n",
    "    layers.Dense(2,activation=\"relu\",name=\"layer1\"),\n",
    "    layers.Dense(3,activation=\"relu\",name=\"layer2\"),\n",
    "    layers.Dense(4,name=\"layer3\"),\n",
    "    \n",
    "    ]\n",
    ")\n",
    "\n",
    "x=tf.ones((3,3))\n",
    "y=model(x)\n"
   ]
  },
  {
   "cell_type": "code",
   "execution_count": 24,
   "id": "f9987d85",
   "metadata": {},
   "outputs": [],
   "source": [
    "layer1=layers.Dense(2,activation=\"relu\",name=\"layer1\")\n",
    "layer2=layers.Dense(3,activation=\"relu\",name=\"layer2\")\n",
    "layer3=layers.Dense(4,name=\"layer3\")\n",
    "\n",
    "x=tf.ones((3,3))\n",
    "y=layer3(layer2(layer1(x)))\n",
    "\n",
    "    "
   ]
  },
  {
   "cell_type": "code",
   "execution_count": 25,
   "id": "85274628",
   "metadata": {},
   "outputs": [],
   "source": [
    "model=keras.Sequential()\n",
    "model.add(layers.Dense(2,activation=\"relu\"))\n",
    "model.add(layers.Dense(3,activation=\"relu\"))\n",
    "model.add(layers.Dense(4))\n"
   ]
  },
  {
   "cell_type": "code",
   "execution_count": 26,
   "id": "90a657d0",
   "metadata": {},
   "outputs": [],
   "source": [
    "#Giving name to layer"
   ]
  },
  {
   "cell_type": "code",
   "execution_count": 27,
   "id": "f2af9249",
   "metadata": {},
   "outputs": [],
   "source": [
    "model=keras.Sequential(name=\"Sequential_model\")\n",
    "model.add(layers.Dense(2,activation=\"relu\",name=\"layer1\"))\n",
    "model.add(layers.Dense(3,activation=\"relu\",name=\"layer2\"))\n",
    "model.add(layers.Dense(4,name=\"layer3\"))\n",
    "\n"
   ]
  },
  {
   "cell_type": "code",
   "execution_count": 28,
   "id": "008842dd",
   "metadata": {},
   "outputs": [],
   "source": [
    "#Adding an input"
   ]
  },
  {
   "cell_type": "code",
   "execution_count": 29,
   "id": "cd0cebcc",
   "metadata": {},
   "outputs": [],
   "source": [
    "#Method 1"
   ]
  },
  {
   "cell_type": "code",
   "execution_count": 30,
   "id": "29f3b76d",
   "metadata": {},
   "outputs": [],
   "source": [
    "model=keras.Sequential()\n",
    "model.add(keras.Input(shape=(4,)))\n",
    "model.add(layers.Dense(2,activation=\"relu\"))\n"
   ]
  },
  {
   "cell_type": "code",
   "execution_count": 31,
   "id": "219e3666",
   "metadata": {},
   "outputs": [],
   "source": [
    "#Method 2"
   ]
  },
  {
   "cell_type": "code",
   "execution_count": 32,
   "id": "6ce1e4f0",
   "metadata": {},
   "outputs": [],
   "source": [
    "model=keras.Sequential()\n",
    "model.add(layers.Dense(2,activation=\"relu\",input_shape=(4,)))\n",
    "\n"
   ]
  },
  {
   "cell_type": "code",
   "execution_count": 33,
   "id": "fd638dc1",
   "metadata": {},
   "outputs": [],
   "source": [
    "#Model Summary"
   ]
  },
  {
   "cell_type": "code",
   "execution_count": 34,
   "id": "4850eed3",
   "metadata": {},
   "outputs": [
    {
     "name": "stdout",
     "output_type": "stream",
     "text": [
      "Model: \"sequential_10\"\n",
      "_________________________________________________________________\n",
      " Layer (type)                Output Shape              Param #   \n",
      "=================================================================\n",
      " dense_13 (Dense)            (None, 2)                 10        \n",
      "                                                                 \n",
      "=================================================================\n",
      "Total params: 10\n",
      "Trainable params: 10\n",
      "Non-trainable params: 0\n",
      "_________________________________________________________________\n"
     ]
    }
   ],
   "source": [
    "model.summary()"
   ]
  },
  {
   "cell_type": "code",
   "execution_count": null,
   "id": "bb52aed2",
   "metadata": {},
   "outputs": [],
   "source": [
    "#Excercise"
   ]
  },
  {
   "cell_type": "code",
   "execution_count": 50,
   "id": "6b35fbbf",
   "metadata": {},
   "outputs": [],
   "source": [
    "model=Sequential()\n",
    "model=keras.Sequential()\n",
    "model.add(layers.Dense(10,activation=\"relu\",input_shape=(8,)))\n",
    "model.add(layers.Dense(1))\n",
    "\n"
   ]
  },
  {
   "cell_type": "code",
   "execution_count": 51,
   "id": "bd2ead8d",
   "metadata": {},
   "outputs": [
    {
     "name": "stdout",
     "output_type": "stream",
     "text": [
      "Model: \"sequential_15\"\n",
      "_________________________________________________________________\n",
      " Layer (type)                Output Shape              Param #   \n",
      "=================================================================\n",
      " dense_19 (Dense)            (None, 10)                90        \n",
      "                                                                 \n",
      " dense_20 (Dense)            (None, 1)                 11        \n",
      "                                                                 \n",
      "=================================================================\n",
      "Total params: 101\n",
      "Trainable params: 101\n",
      "Non-trainable params: 0\n",
      "_________________________________________________________________\n"
     ]
    }
   ],
   "source": [
    "model.summary()"
   ]
  },
  {
   "cell_type": "code",
   "execution_count": 52,
   "id": "d47ab61a",
   "metadata": {},
   "outputs": [],
   "source": [
    "from tensorflow.keras.layers import Dense"
   ]
  },
  {
   "cell_type": "code",
   "execution_count": 55,
   "id": "f542c44f",
   "metadata": {},
   "outputs": [
    {
     "name": "stdout",
     "output_type": "stream",
     "text": [
      "Model: \"sequential_21\"\n",
      "_________________________________________________________________\n",
      " Layer (type)                Output Shape              Param #   \n",
      "=================================================================\n",
      " dense_29 (Dense)            (None, 100)               900       \n",
      "                                                                 \n",
      " dense_30 (Dense)            (None, 80)                8080      \n",
      "                                                                 \n",
      " dense_31 (Dense)            (None, 30)                2430      \n",
      "                                                                 \n",
      " dense_32 (Dense)            (None, 10)                310       \n",
      "                                                                 \n",
      " dense_33 (Dense)            (None, 5)                 55        \n",
      "                                                                 \n",
      " dense_34 (Dense)            (None, 1)                 6         \n",
      "                                                                 \n",
      "=================================================================\n",
      "Total params: 11,781\n",
      "Trainable params: 11,781\n",
      "Non-trainable params: 0\n",
      "_________________________________________________________________\n"
     ]
    }
   ],
   "source": [
    "model=Sequential()\n",
    "model=keras.Sequential()\n",
    "model.add(layers.Dense(100,activation=\"relu\",input_shape=(8,)))\n",
    "model.add(layers.Dense(80))\n",
    "model.add(layers.Dense(30))\n",
    "model.add(layers.Dense(10))\n",
    "model.add(layers.Dense(5))\n",
    "model.add(layers.Dense(1))\n",
    "\n",
    "\n",
    "\n",
    "model.summary()"
   ]
  },
  {
   "cell_type": "markdown",
   "id": "218d4a83",
   "metadata": {},
   "source": [
    "# Functional Model"
   ]
  },
  {
   "cell_type": "code",
   "execution_count": null,
   "id": "34722b29",
   "metadata": {},
   "outputs": [],
   "source": []
  }
 ],
 "metadata": {
  "kernelspec": {
   "display_name": "Python 3 (ipykernel)",
   "language": "python",
   "name": "python3"
  },
  "language_info": {
   "codemirror_mode": {
    "name": "ipython",
    "version": 3
   },
   "file_extension": ".py",
   "mimetype": "text/x-python",
   "name": "python",
   "nbconvert_exporter": "python",
   "pygments_lexer": "ipython3",
   "version": "3.9.12"
  }
 },
 "nbformat": 4,
 "nbformat_minor": 5
}
