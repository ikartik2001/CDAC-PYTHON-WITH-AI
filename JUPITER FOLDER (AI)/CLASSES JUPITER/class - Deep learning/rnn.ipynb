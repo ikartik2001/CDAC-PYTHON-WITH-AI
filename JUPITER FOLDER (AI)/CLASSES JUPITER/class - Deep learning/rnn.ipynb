{
 "cells": [
  {
   "cell_type": "markdown",
   "id": "954de9de",
   "metadata": {},
   "source": [
    "# Recurrent Neural Network + LSTM\n",
    "## Aanchal Sharma"
   ]
  },
  {
   "cell_type": "code",
   "execution_count": 1,
   "id": "41ef0b1d",
   "metadata": {},
   "outputs": [],
   "source": [
    "import pandas as pd\n",
    "import numpy as np\n",
    "import matplotlib.pyplot as plt\n",
    "from keras.models import Sequential\n",
    "from keras.layers import Dense, SimpleRNN, BatchNormalization"
   ]
  },
  {
   "cell_type": "code",
   "execution_count": 2,
   "id": "e365f6f1",
   "metadata": {},
   "outputs": [],
   "source": [
    "# Generating sample dataset"
   ]
  },
  {
   "cell_type": "code",
   "execution_count": 3,
   "id": "0e28c033",
   "metadata": {},
   "outputs": [
    {
     "data": {
      "text/html": [
       "<div>\n",
       "<style scoped>\n",
       "    .dataframe tbody tr th:only-of-type {\n",
       "        vertical-align: middle;\n",
       "    }\n",
       "\n",
       "    .dataframe tbody tr th {\n",
       "        vertical-align: top;\n",
       "    }\n",
       "\n",
       "    .dataframe thead th {\n",
       "        text-align: right;\n",
       "    }\n",
       "</style>\n",
       "<table border=\"1\" class=\"dataframe\">\n",
       "  <thead>\n",
       "    <tr style=\"text-align: right;\">\n",
       "      <th></th>\n",
       "      <th>0</th>\n",
       "    </tr>\n",
       "  </thead>\n",
       "  <tbody>\n",
       "    <tr>\n",
       "      <th>0</th>\n",
       "      <td>0.470099</td>\n",
       "    </tr>\n",
       "    <tr>\n",
       "      <th>1</th>\n",
       "      <td>1.215410</td>\n",
       "    </tr>\n",
       "    <tr>\n",
       "      <th>2</th>\n",
       "      <td>1.895876</td>\n",
       "    </tr>\n",
       "    <tr>\n",
       "      <th>3</th>\n",
       "      <td>1.974278</td>\n",
       "    </tr>\n",
       "    <tr>\n",
       "      <th>4</th>\n",
       "      <td>1.068464</td>\n",
       "    </tr>\n",
       "  </tbody>\n",
       "</table>\n",
       "</div>"
      ],
      "text/plain": [
       "          0\n",
       "0  0.470099\n",
       "1  1.215410\n",
       "2  1.895876\n",
       "3  1.974278\n",
       "4  1.068464"
      ]
     },
     "execution_count": 3,
     "metadata": {},
     "output_type": "execute_result"
    }
   ],
   "source": [
    "N=1000\n",
    "Tp=800\n",
    "\n",
    "t=np.arange(0,N)\n",
    "x=np.sin(0.02*t)+2*np.random.rand(N)\n",
    "df=pd.DataFrame(x)\n",
    "df.head()"
   ]
  },
  {
   "cell_type": "code",
   "execution_count": 4,
   "id": "2b6ae731",
   "metadata": {},
   "outputs": [
    {
     "data": {
      "image/png": "[encoded data removed]",
      "text/plain": [
       "<Figure size 432x288 with 1 Axes>"
      ]
     },
     "metadata": {
      "needs_background": "light"
     },
     "output_type": "display_data"
    }
   ],
   "source": [
    "# how it looks in plot\n",
    "\n",
    "plt.plot(df)\n",
    "plt.show()"
   ]
  },
  {
   "cell_type": "code",
   "execution_count": 5,
   "id": "323cf6c3",
   "metadata": {},
   "outputs": [],
   "source": [
    "# split 'df' dataset into a training and test parts"
   ]
  },
  {
   "cell_type": "code",
   "execution_count": 6,
   "id": "48a85054",
   "metadata": {},
   "outputs": [],
   "source": [
    "values=df.values\n",
    "train,test=values[0:Tp,:], values[Tp:N,:]"
   ]
  },
  {
   "cell_type": "code",
   "execution_count": 7,
   "id": "a931c490",
   "metadata": {},
   "outputs": [],
   "source": [
    "# Preparing the data (reshaping)"
   ]
  },
  {
   "cell_type": "code",
   "execution_count": 8,
   "id": "bc16c31a",
   "metadata": {},
   "outputs": [],
   "source": [
    "step=4\n",
    "# add step elements into train and test\n",
    "train=np.append (train,np.repeat(train[-1,],step))\n",
    "\n",
    "test=np.append(test,np.repeat(test[-1,],step))"
   ]
  },
  {
   "cell_type": "code",
   "execution_count": 9,
   "id": "8580595f",
   "metadata": {},
   "outputs": [
    {
     "data": {
      "text/plain": [
       "array([ 9.39149941e-01,  3.52669196e-01,  7.32529799e-01,  7.78756664e-01,\n",
       "        1.62031779e+00,  5.43547864e-01,  1.43382391e+00,  1.30821767e+00,\n",
       "        1.53291640e+00,  4.33557525e-01,  5.35650444e-01,  3.90881364e-01,\n",
       "       -3.90310322e-01, -3.14914122e-01, -3.27502926e-01, -3.69294690e-01,\n",
       "       -8.36634870e-02,  9.08940277e-01,  1.32475292e-01,  3.18720608e-01,\n",
       "        1.11663714e+00,  3.92848322e-01, -4.20736319e-01,  3.75228361e-01,\n",
       "        7.64588619e-01,  4.10883849e-01,  2.45878348e-01, -1.61744035e-01,\n",
       "        6.44688105e-01,  3.86814000e-01,  9.50600437e-01,  5.16805991e-01,\n",
       "       -6.81476951e-01, -4.73180313e-01,  7.44674762e-01, -8.16559865e-01,\n",
       "        3.80376812e-01,  4.78393717e-01,  8.81300048e-01,  7.01803229e-01,\n",
       "        5.95202925e-01,  3.47534899e-01, -5.06578615e-01,  9.05872200e-01,\n",
       "       -4.73950053e-01,  1.02308330e+00,  5.21194524e-01, -8.19067447e-01,\n",
       "       -3.03378977e-01, -6.17546807e-01, -7.41214117e-01,  3.00949007e-01,\n",
       "       -9.15674314e-01,  8.11714051e-03,  4.43798918e-02,  4.93310571e-01,\n",
       "        3.20712600e-01,  1.80925851e-01, -7.53121684e-02,  9.07551213e-01,\n",
       "        6.23373900e-01,  1.76526436e-01, -9.39849649e-01, -7.44905693e-01,\n",
       "        5.20078326e-03, -7.47295823e-01, -5.93982394e-02,  3.04900654e-01,\n",
       "        9.57521166e-01, -8.74609180e-01,  5.73776497e-01,  1.58725194e-01,\n",
       "        6.18088985e-01,  4.96229931e-01,  2.62540519e-01, -3.22461623e-01,\n",
       "       -6.13888307e-01, -4.67983330e-01, -2.72139755e-01, -3.84099989e-01,\n",
       "        1.73267886e-01, -7.07184542e-01, -9.19470032e-01,  3.32250712e-01,\n",
       "       -8.42974053e-01, -7.80996681e-02,  6.10493413e-01,  6.45270891e-01,\n",
       "        9.56270733e-01, -1.20384159e-01, -5.69063627e-01,  7.49446688e-01,\n",
       "       -6.86010764e-01, -5.03784574e-03,  3.08064855e-01,  1.05299090e+00,\n",
       "       -3.70261010e-01,  8.91754123e-01,  1.05207643e+00,  8.20898525e-02,\n",
       "        5.11087334e-01, -6.85140344e-01, -5.93182203e-01, -3.52758743e-01,\n",
       "       -6.78232079e-01,  1.28507522e+00,  1.11703888e+00,  5.13740103e-01,\n",
       "       -1.47895469e-01,  1.94025759e-01,  6.12634148e-01,  3.93276545e-01,\n",
       "       -4.31897728e-01,  3.34999388e-01,  1.03995993e+00, -5.21813488e-01,\n",
       "        3.83861709e-01,  8.78386024e-01,  1.12054536e+00,  4.17022893e-01,\n",
       "        9.85791036e-01,  5.96542561e-01, -1.22994060e-01,  1.17773960e+00,\n",
       "        3.05101187e-01,  7.73654291e-01,  5.11752518e-01,  1.56371053e+00,\n",
       "        1.65358845e+00,  3.51863417e-01,  9.25181110e-01,  1.04787427e+00,\n",
       "        3.41716525e-01,  3.82959392e-01,  1.45228680e+00,  1.28687113e+00,\n",
       "        8.32781578e-01,  4.46100545e-01,  1.31659491e+00,  2.44832474e-03,\n",
       "        1.83362158e+00,  1.00714442e+00,  1.69440175e+00,  1.08467335e+00,\n",
       "        8.14967994e-01,  1.87518606e+00,  8.99640876e-01,  1.16141049e-01,\n",
       "        1.35181986e+00,  1.29258225e+00,  8.70329315e-01,  2.61837389e-01,\n",
       "        3.84130801e-01,  7.72424236e-01,  1.85252781e+00,  1.88777368e+00,\n",
       "        1.84555547e+00,  9.09555382e-01,  3.97965880e-01,  2.11454823e+00,\n",
       "        1.04416613e+00,  5.10309050e-01,  1.90721942e+00,  8.53913666e-01,\n",
       "        1.43563331e+00,  5.94008721e-01,  1.50984582e+00,  2.19138781e+00,\n",
       "        2.15081349e+00,  1.26018721e+00,  1.74899282e+00,  1.76483464e+00,\n",
       "        1.08008263e+00,  1.29028363e+00,  1.37178981e+00,  1.17529359e+00,\n",
       "        1.34258026e+00,  2.35135690e+00,  1.36667967e+00,  2.58169809e+00,\n",
       "        2.35911605e+00,  8.89569990e-01,  1.35964716e+00,  2.04362134e+00,\n",
       "        1.48534905e+00,  2.49975996e+00,  2.65755781e+00,  1.91090497e+00,\n",
       "        1.79838144e+00,  2.35928543e+00,  1.73285138e+00,  2.13082269e+00,\n",
       "        2.38149602e+00,  2.83048544e+00,  2.70601994e+00,  1.76985027e+00,\n",
       "        2.03771372e+00,  1.13260553e+00,  2.41526412e+00,  1.13701992e+00,\n",
       "        1.13701992e+00,  1.13701992e+00,  1.13701992e+00,  1.13701992e+00])"
      ]
     },
     "execution_count": 9,
     "metadata": {},
     "output_type": "execute_result"
    }
   ],
   "source": [
    "test"
   ]
  },
  {
   "cell_type": "code",
   "execution_count": 10,
   "id": "b5966781",
   "metadata": {},
   "outputs": [],
   "source": [
    "# convert test and train data into the matrix with step value"
   ]
  },
  {
   "cell_type": "code",
   "execution_count": 11,
   "id": "4d7f8a5c",
   "metadata": {},
   "outputs": [],
   "source": [
    "def convertToMatrix(data,step):\n",
    "    x,y=[], []\n",
    "    for i in range(len(data)-step):\n",
    "        d=i+step\n",
    "        x.append(data[i:d,])\n",
    "        y.append(data[d,])\n",
    "    return np.array(x),np.array(y)"
   ]
  },
  {
   "cell_type": "code",
   "execution_count": 12,
   "id": "f64710cb",
   "metadata": {},
   "outputs": [
    {
     "data": {
      "text/plain": [
       "(800, 4)"
      ]
     },
     "execution_count": 12,
     "metadata": {},
     "output_type": "execute_result"
    }
   ],
   "source": [
    "trainx,trainy=convertToMatrix(train,step)\n",
    "testx,testy=convertToMatrix(test,step)\n",
    "trainx.shape"
   ]
  },
  {
   "cell_type": "code",
   "execution_count": 13,
   "id": "4850cc60",
   "metadata": {},
   "outputs": [
    {
     "data": {
      "text/plain": [
       "(800,)"
      ]
     },
     "execution_count": 13,
     "metadata": {},
     "output_type": "execute_result"
    }
   ],
   "source": [
    "trainy.shape"
   ]
  },
  {
   "cell_type": "code",
   "execution_count": 14,
   "id": "fca63772",
   "metadata": {},
   "outputs": [
    {
     "data": {
      "text/plain": [
       "(800, 4)"
      ]
     },
     "execution_count": 14,
     "metadata": {},
     "output_type": "execute_result"
    }
   ],
   "source": [
    "trainx.shape"
   ]
  },
  {
   "cell_type": "code",
   "execution_count": 15,
   "id": "3f9806ce",
   "metadata": {},
   "outputs": [],
   "source": [
    "# reshape trainx and testx to fit "
   ]
  },
  {
   "cell_type": "code",
   "execution_count": 16,
   "id": "6925de0d",
   "metadata": {},
   "outputs": [
    {
     "data": {
      "text/plain": [
       "(200, 1, 4)"
      ]
     },
     "execution_count": 16,
     "metadata": {},
     "output_type": "execute_result"
    }
   ],
   "source": [
    "trainx=np.reshape(trainx,(trainx.shape[0],1,trainx.shape[1]))\n",
    "testx=np.reshape(testx,(testx.shape[0],1,testx.shape[1]))\n",
    "testx.shape"
   ]
  },
  {
   "cell_type": "code",
   "execution_count": 17,
   "id": "6fb83b21",
   "metadata": {},
   "outputs": [],
   "source": [
    "# Building a model with SimpleRNN"
   ]
  },
  {
   "cell_type": "code",
   "execution_count": 18,
   "id": "fc36cdf4",
   "metadata": {},
   "outputs": [],
   "source": [
    "# simpleRNN\n",
    "model=Sequential()\n",
    "model.add(SimpleRNN(units=32,input_shape=(1,step),activation=\"relu\"))\n",
    "model.add(Dense(8,activation=\"relu\"))\n",
    "model.add(Dense(1))"
   ]
  },
  {
   "cell_type": "code",
   "execution_count": 19,
   "id": "d1e33885",
   "metadata": {},
   "outputs": [],
   "source": [
    "# compile the model\n",
    "\n",
    "model.compile(loss='mean_squared_error',optimizer='rmsprop')"
   ]
  },
  {
   "cell_type": "code",
   "execution_count": 20,
   "id": "7f55a024",
   "metadata": {},
   "outputs": [
    {
     "name": "stdout",
     "output_type": "stream",
     "text": [
      "Model: \"sequential\"\n",
      "_________________________________________________________________\n",
      " Layer (type)                Output Shape              Param #   \n",
      "=================================================================\n",
      " simple_rnn (SimpleRNN)      (None, 32)                1184      \n",
      "                                                                 \n",
      " dense (Dense)               (None, 8)                 264       \n",
      "                                                                 \n",
      " dense_1 (Dense)             (None, 1)                 9         \n",
      "                                                                 \n",
      "=================================================================\n",
      "Total params: 1,457\n",
      "Trainable params: 1,457\n",
      "Non-trainable params: 0\n",
      "_________________________________________________________________\n"
     ]
    }
   ],
   "source": [
    "model.summary()"
   ]
  },
  {
   "cell_type": "code",
   "execution_count": 21,
   "id": "2d418745",
   "metadata": {},
   "outputs": [],
   "source": [
    "# predicting and plotting the result"
   ]
  },
  {
   "cell_type": "code",
   "execution_count": 22,
   "id": "cd284f8c",
   "metadata": {},
   "outputs": [
    {
     "name": "stdout",
     "output_type": "stream",
     "text": [
      "Epoch 1/100\n",
      "50/50 - 2s - loss: 0.4208 - 2s/epoch - 46ms/step\n",
      "Epoch 2/100\n",
      "50/50 - 0s - loss: 0.4073 - 73ms/epoch - 1ms/step\n",
      "Epoch 3/100\n",
      "50/50 - 0s - loss: 0.4075 - 54ms/epoch - 1ms/step\n",
      "Epoch 4/100\n",
      "50/50 - 0s - loss: 0.4061 - 57ms/epoch - 1ms/step\n",
      "Epoch 5/100\n",
      "50/50 - 0s - loss: 0.4040 - 55ms/epoch - 1ms/step\n",
      "Epoch 6/100\n",
      "50/50 - 0s - loss: 0.4023 - 54ms/epoch - 1ms/step\n",
      "Epoch 7/100\n",
      "50/50 - 0s - loss: 0.4019 - 58ms/epoch - 1ms/step\n",
      "Epoch 8/100\n",
      "50/50 - 0s - loss: 0.4031 - 55ms/epoch - 1ms/step\n",
      "Epoch 9/100\n",
      "50/50 - 0s - loss: 0.3984 - 53ms/epoch - 1ms/step\n",
      "Epoch 10/100\n",
      "50/50 - 0s - loss: 0.3989 - 59ms/epoch - 1ms/step\n",
      "Epoch 11/100\n",
      "50/50 - 0s - loss: 0.3986 - 54ms/epoch - 1ms/step\n",
      "Epoch 12/100\n",
      "50/50 - 0s - loss: 0.3988 - 55ms/epoch - 1ms/step\n",
      "Epoch 13/100\n",
      "50/50 - 0s - loss: 0.4002 - 54ms/epoch - 1ms/step\n",
      "Epoch 14/100\n",
      "50/50 - 0s - loss: 0.3972 - 54ms/epoch - 1ms/step\n",
      "Epoch 15/100\n",
      "50/50 - 0s - loss: 0.3971 - 57ms/epoch - 1ms/step\n",
      "Epoch 16/100\n",
      "50/50 - 0s - loss: 0.3991 - 55ms/epoch - 1ms/step\n",
      "Epoch 17/100\n",
      "50/50 - 0s - loss: 0.3975 - 55ms/epoch - 1ms/step\n",
      "Epoch 18/100\n",
      "50/50 - 0s - loss: 0.3969 - 57ms/epoch - 1ms/step\n",
      "Epoch 19/100\n",
      "50/50 - 0s - loss: 0.3976 - 54ms/epoch - 1ms/step\n",
      "Epoch 20/100\n",
      "50/50 - 0s - loss: 0.3960 - 54ms/epoch - 1ms/step\n",
      "Epoch 21/100\n",
      "50/50 - 0s - loss: 0.3954 - 58ms/epoch - 1ms/step\n",
      "Epoch 22/100\n",
      "50/50 - 0s - loss: 0.3941 - 54ms/epoch - 1ms/step\n",
      "Epoch 23/100\n",
      "50/50 - 0s - loss: 0.3960 - 54ms/epoch - 1ms/step\n",
      "Epoch 24/100\n",
      "50/50 - 0s - loss: 0.3940 - 63ms/epoch - 1ms/step\n",
      "Epoch 25/100\n",
      "50/50 - 0s - loss: 0.3923 - 60ms/epoch - 1ms/step\n",
      "Epoch 26/100\n",
      "50/50 - 0s - loss: 0.3955 - 57ms/epoch - 1ms/step\n",
      "Epoch 27/100\n",
      "50/50 - 0s - loss: 0.3930 - 56ms/epoch - 1ms/step\n",
      "Epoch 28/100\n",
      "50/50 - 0s - loss: 0.3928 - 54ms/epoch - 1ms/step\n",
      "Epoch 29/100\n",
      "50/50 - 0s - loss: 0.3908 - 61ms/epoch - 1ms/step\n",
      "Epoch 30/100\n",
      "50/50 - 0s - loss: 0.3895 - 60ms/epoch - 1ms/step\n",
      "Epoch 31/100\n",
      "50/50 - 0s - loss: 0.3917 - 57ms/epoch - 1ms/step\n",
      "Epoch 32/100\n",
      "50/50 - 0s - loss: 0.3886 - 57ms/epoch - 1ms/step\n",
      "Epoch 33/100\n",
      "50/50 - 0s - loss: 0.3922 - 55ms/epoch - 1ms/step\n",
      "Epoch 34/100\n",
      "50/50 - 0s - loss: 0.3915 - 55ms/epoch - 1ms/step\n",
      "Epoch 35/100\n",
      "50/50 - 0s - loss: 0.3897 - 56ms/epoch - 1ms/step\n",
      "Epoch 36/100\n",
      "50/50 - 0s - loss: 0.3912 - 53ms/epoch - 1ms/step\n",
      "Epoch 37/100\n",
      "50/50 - 0s - loss: 0.3890 - 53ms/epoch - 1ms/step\n",
      "Epoch 38/100\n",
      "50/50 - 0s - loss: 0.3901 - 53ms/epoch - 1ms/step\n",
      "Epoch 39/100\n",
      "50/50 - 0s - loss: 0.3840 - 56ms/epoch - 1ms/step\n",
      "Epoch 40/100\n",
      "50/50 - 0s - loss: 0.3874 - 58ms/epoch - 1ms/step\n",
      "Epoch 41/100\n",
      "50/50 - 0s - loss: 0.3886 - 56ms/epoch - 1ms/step\n",
      "Epoch 42/100\n",
      "50/50 - 0s - loss: 0.3860 - 56ms/epoch - 1ms/step\n",
      "Epoch 43/100\n",
      "50/50 - 0s - loss: 0.3880 - 61ms/epoch - 1ms/step\n",
      "Epoch 44/100\n",
      "50/50 - 0s - loss: 0.3858 - 56ms/epoch - 1ms/step\n",
      "Epoch 45/100\n",
      "50/50 - 0s - loss: 0.3858 - 56ms/epoch - 1ms/step\n",
      "Epoch 46/100\n",
      "50/50 - 0s - loss: 0.3861 - 54ms/epoch - 1ms/step\n",
      "Epoch 47/100\n",
      "50/50 - 0s - loss: 0.3861 - 53ms/epoch - 1ms/step\n",
      "Epoch 48/100\n",
      "50/50 - 0s - loss: 0.3855 - 62ms/epoch - 1ms/step\n",
      "Epoch 49/100\n",
      "50/50 - 0s - loss: 0.3854 - 54ms/epoch - 1ms/step\n",
      "Epoch 50/100\n",
      "50/50 - 0s - loss: 0.3829 - 67ms/epoch - 1ms/step\n",
      "Epoch 51/100\n",
      "50/50 - 0s - loss: 0.3846 - 58ms/epoch - 1ms/step\n",
      "Epoch 52/100\n",
      "50/50 - 0s - loss: 0.3845 - 54ms/epoch - 1ms/step\n",
      "Epoch 53/100\n",
      "50/50 - 0s - loss: 0.3816 - 54ms/epoch - 1ms/step\n",
      "Epoch 54/100\n",
      "50/50 - 0s - loss: 0.3815 - 60ms/epoch - 1ms/step\n",
      "Epoch 55/100\n",
      "50/50 - 0s - loss: 0.3855 - 54ms/epoch - 1ms/step\n",
      "Epoch 56/100\n",
      "50/50 - 0s - loss: 0.3815 - 52ms/epoch - 1ms/step\n",
      "Epoch 57/100\n",
      "50/50 - 0s - loss: 0.3828 - 52ms/epoch - 1ms/step\n",
      "Epoch 58/100\n",
      "50/50 - 0s - loss: 0.3817 - 53ms/epoch - 1ms/step\n",
      "Epoch 59/100\n",
      "50/50 - 0s - loss: 0.3795 - 53ms/epoch - 1ms/step\n",
      "Epoch 60/100\n",
      "50/50 - 0s - loss: 0.3797 - 51ms/epoch - 1ms/step\n",
      "Epoch 61/100\n",
      "50/50 - 0s - loss: 0.3794 - 51ms/epoch - 1ms/step\n",
      "Epoch 62/100\n",
      "50/50 - 0s - loss: 0.3809 - 52ms/epoch - 1ms/step\n",
      "Epoch 63/100\n",
      "50/50 - 0s - loss: 0.3789 - 52ms/epoch - 1ms/step\n",
      "Epoch 64/100\n",
      "50/50 - 0s - loss: 0.3781 - 51ms/epoch - 1ms/step\n",
      "Epoch 65/100\n",
      "50/50 - 0s - loss: 0.3782 - 53ms/epoch - 1ms/step\n",
      "Epoch 66/100\n",
      "50/50 - 0s - loss: 0.3795 - 51ms/epoch - 1ms/step\n",
      "Epoch 67/100\n",
      "50/50 - 0s - loss: 0.3759 - 52ms/epoch - 1ms/step\n",
      "Epoch 68/100\n",
      "50/50 - 0s - loss: 0.3790 - 53ms/epoch - 1ms/step\n",
      "Epoch 69/100\n",
      "50/50 - 0s - loss: 0.3771 - 53ms/epoch - 1ms/step\n",
      "Epoch 70/100\n",
      "50/50 - 0s - loss: 0.3767 - 52ms/epoch - 1ms/step\n",
      "Epoch 71/100\n",
      "50/50 - 0s - loss: 0.3786 - 52ms/epoch - 1ms/step\n",
      "Epoch 72/100\n",
      "50/50 - 0s - loss: 0.3758 - 54ms/epoch - 1ms/step\n",
      "Epoch 73/100\n",
      "50/50 - 0s - loss: 0.3764 - 52ms/epoch - 1ms/step\n",
      "Epoch 74/100\n",
      "50/50 - 0s - loss: 0.3733 - 52ms/epoch - 1ms/step\n",
      "Epoch 75/100\n",
      "50/50 - 0s - loss: 0.3743 - 51ms/epoch - 1ms/step\n",
      "Epoch 76/100\n",
      "50/50 - 0s - loss: 0.3742 - 51ms/epoch - 1ms/step\n",
      "Epoch 77/100\n",
      "50/50 - 0s - loss: 0.3759 - 52ms/epoch - 1ms/step\n",
      "Epoch 78/100\n",
      "50/50 - 0s - loss: 0.3747 - 52ms/epoch - 1ms/step\n",
      "Epoch 79/100\n",
      "50/50 - 0s - loss: 0.3715 - 52ms/epoch - 1ms/step\n",
      "Epoch 80/100\n",
      "50/50 - 0s - loss: 0.3728 - 52ms/epoch - 1ms/step\n",
      "Epoch 81/100\n",
      "50/50 - 0s - loss: 0.3724 - 52ms/epoch - 1ms/step\n",
      "Epoch 82/100\n",
      "50/50 - 0s - loss: 0.3715 - 53ms/epoch - 1ms/step\n",
      "Epoch 83/100\n",
      "50/50 - 0s - loss: 0.3712 - 52ms/epoch - 1ms/step\n",
      "Epoch 84/100\n",
      "50/50 - 0s - loss: 0.3725 - 52ms/epoch - 1ms/step\n",
      "Epoch 85/100\n",
      "50/50 - 0s - loss: 0.3720 - 52ms/epoch - 1ms/step\n",
      "Epoch 86/100\n",
      "50/50 - 0s - loss: 0.3675 - 52ms/epoch - 1ms/step\n",
      "Epoch 87/100\n",
      "50/50 - 0s - loss: 0.3728 - 52ms/epoch - 1ms/step\n",
      "Epoch 88/100\n",
      "50/50 - 0s - loss: 0.3722 - 53ms/epoch - 1ms/step\n",
      "Epoch 89/100\n",
      "50/50 - 0s - loss: 0.3711 - 53ms/epoch - 1ms/step\n",
      "Epoch 90/100\n",
      "50/50 - 0s - loss: 0.3681 - 52ms/epoch - 1ms/step\n",
      "Epoch 91/100\n",
      "50/50 - 0s - loss: 0.3702 - 52ms/epoch - 1ms/step\n",
      "Epoch 92/100\n",
      "50/50 - 0s - loss: 0.3701 - 52ms/epoch - 1ms/step\n",
      "Epoch 93/100\n",
      "50/50 - 0s - loss: 0.3714 - 53ms/epoch - 1ms/step\n",
      "Epoch 94/100\n",
      "50/50 - 0s - loss: 0.3709 - 51ms/epoch - 1ms/step\n",
      "Epoch 95/100\n",
      "50/50 - 0s - loss: 0.3666 - 53ms/epoch - 1ms/step\n",
      "Epoch 96/100\n",
      "50/50 - 0s - loss: 0.3681 - 53ms/epoch - 1ms/step\n",
      "Epoch 97/100\n",
      "50/50 - 0s - loss: 0.3681 - 53ms/epoch - 1ms/step\n",
      "Epoch 98/100\n",
      "50/50 - 0s - loss: 0.3680 - 52ms/epoch - 1ms/step\n",
      "Epoch 99/100\n",
      "50/50 - 0s - loss: 0.3695 - 53ms/epoch - 1ms/step\n",
      "Epoch 100/100\n",
      "50/50 - 0s - loss: 0.3675 - 52ms/epoch - 1ms/step\n"
     ]
    },
    {
     "data": {
      "text/plain": [
       "<keras.callbacks.History at 0x1bb69490c40>"
      ]
     },
     "execution_count": 22,
     "metadata": {},
     "output_type": "execute_result"
    }
   ],
   "source": [
    "# fit model with trainx data and predict testx data\n",
    "model.fit(trainx,trainy,epochs=100,batch_size=16,verbose=2)"
   ]
  },
  {
   "cell_type": "code",
   "execution_count": 23,
   "id": "3f096fc4",
   "metadata": {},
   "outputs": [
    {
     "name": "stdout",
     "output_type": "stream",
     "text": [
      "25/25 [==============================] - 0s 912us/step\n"
     ]
    }
   ],
   "source": [
    "# predict the model\n",
    "trainPredict = model.predict(trainx)"
   ]
  },
  {
   "cell_type": "code",
   "execution_count": 24,
   "id": "c95b6286",
   "metadata": {},
   "outputs": [
    {
     "name": "stdout",
     "output_type": "stream",
     "text": [
      "7/7 [==============================] - 0s 3ms/step\n"
     ]
    }
   ],
   "source": [
    "testPredict= model.predict(testx)"
   ]
  },
  {
   "cell_type": "code",
   "execution_count": null,
   "id": "66d3a608",
   "metadata": {},
   "outputs": [],
   "source": []
  },
  {
   "cell_type": "code",
   "execution_count": null,
   "id": "82a7507d",
   "metadata": {},
   "outputs": [],
   "source": []
  },
  {
   "cell_type": "code",
   "execution_count": 28,
   "id": "184e0ca9",
   "metadata": {},
   "outputs": [],
   "source": [
    "from keras.layers import LSTM"
   ]
  },
  {
   "cell_type": "code",
   "execution_count": 29,
   "id": "9dd07874",
   "metadata": {},
   "outputs": [],
   "source": [
    "model2=Sequential()\n",
    "model2.add(LSTM(10,activation='tanh'))\n",
    "model2.add(Dense(1,activation='tanh'))"
   ]
  },
  {
   "cell_type": "code",
   "execution_count": 30,
   "id": "33250de7",
   "metadata": {},
   "outputs": [],
   "source": [
    "model2.compile(optimizer='adam',loss='mse')"
   ]
  },
  {
   "cell_type": "code",
   "execution_count": 31,
   "id": "688aca7d",
   "metadata": {},
   "outputs": [
    {
     "name": "stdout",
     "output_type": "stream",
     "text": [
      "Epoch 1/100\n",
      "50/50 - 2s - loss: 1.6271 - 2s/epoch - 46ms/step\n",
      "Epoch 2/100\n",
      "50/50 - 0s - loss: 1.0610 - 72ms/epoch - 1ms/step\n",
      "Epoch 3/100\n",
      "50/50 - 0s - loss: 0.8320 - 53ms/epoch - 1ms/step\n",
      "Epoch 4/100\n",
      "50/50 - 0s - loss: 0.7431 - 67ms/epoch - 1ms/step\n",
      "Epoch 5/100\n",
      "50/50 - 0s - loss: 0.7039 - 76ms/epoch - 2ms/step\n",
      "Epoch 6/100\n",
      "50/50 - 0s - loss: 0.6842 - 56ms/epoch - 1ms/step\n",
      "Epoch 7/100\n",
      "50/50 - 0s - loss: 0.6728 - 67ms/epoch - 1ms/step\n",
      "Epoch 8/100\n",
      "50/50 - 0s - loss: 0.6656 - 67ms/epoch - 1ms/step\n",
      "Epoch 9/100\n",
      "50/50 - 0s - loss: 0.6607 - 67ms/epoch - 1ms/step\n",
      "Epoch 10/100\n",
      "50/50 - 0s - loss: 0.6570 - 78ms/epoch - 2ms/step\n",
      "Epoch 11/100\n",
      "50/50 - 0s - loss: 0.6539 - 67ms/epoch - 1ms/step\n",
      "Epoch 12/100\n",
      "50/50 - 0s - loss: 0.6515 - 53ms/epoch - 1ms/step\n",
      "Epoch 13/100\n",
      "50/50 - 0s - loss: 0.6493 - 77ms/epoch - 2ms/step\n",
      "Epoch 14/100\n",
      "50/50 - 0s - loss: 0.6475 - 55ms/epoch - 1ms/step\n",
      "Epoch 15/100\n",
      "50/50 - 0s - loss: 0.6458 - 67ms/epoch - 1ms/step\n",
      "Epoch 16/100\n",
      "50/50 - 0s - loss: 0.6444 - 78ms/epoch - 2ms/step\n",
      "Epoch 17/100\n",
      "50/50 - 0s - loss: 0.6431 - 54ms/epoch - 1ms/step\n",
      "Epoch 18/100\n",
      "50/50 - 0s - loss: 0.6419 - 75ms/epoch - 1ms/step\n",
      "Epoch 19/100\n",
      "50/50 - 0s - loss: 0.6409 - 58ms/epoch - 1ms/step\n",
      "Epoch 20/100\n",
      "50/50 - 0s - loss: 0.6400 - 67ms/epoch - 1ms/step\n",
      "Epoch 21/100\n",
      "50/50 - 0s - loss: 0.6391 - 67ms/epoch - 1ms/step\n",
      "Epoch 22/100\n",
      "50/50 - 0s - loss: 0.6385 - 77ms/epoch - 2ms/step\n",
      "Epoch 23/100\n",
      "50/50 - 0s - loss: 0.6378 - 56ms/epoch - 1ms/step\n",
      "Epoch 24/100\n",
      "50/50 - 0s - loss: 0.6371 - 77ms/epoch - 2ms/step\n",
      "Epoch 25/100\n",
      "50/50 - 0s - loss: 0.6367 - 64ms/epoch - 1ms/step\n",
      "Epoch 26/100\n",
      "50/50 - 0s - loss: 0.6363 - 63ms/epoch - 1ms/step\n",
      "Epoch 27/100\n",
      "50/50 - 0s - loss: 0.6358 - 68ms/epoch - 1ms/step\n",
      "Epoch 28/100\n",
      "50/50 - 0s - loss: 0.6353 - 71ms/epoch - 1ms/step\n",
      "Epoch 29/100\n",
      "50/50 - 0s - loss: 0.6350 - 73ms/epoch - 1ms/step\n",
      "Epoch 30/100\n",
      "50/50 - 0s - loss: 0.6345 - 66ms/epoch - 1ms/step\n",
      "Epoch 31/100\n",
      "50/50 - 0s - loss: 0.6342 - 65ms/epoch - 1ms/step\n",
      "Epoch 32/100\n",
      "50/50 - 0s - loss: 0.6341 - 65ms/epoch - 1ms/step\n",
      "Epoch 33/100\n",
      "50/50 - 0s - loss: 0.6336 - 64ms/epoch - 1ms/step\n",
      "Epoch 34/100\n",
      "50/50 - 0s - loss: 0.6331 - 63ms/epoch - 1ms/step\n",
      "Epoch 35/100\n",
      "50/50 - 0s - loss: 0.6329 - 73ms/epoch - 1ms/step\n",
      "Epoch 36/100\n",
      "50/50 - 0s - loss: 0.6329 - 76ms/epoch - 2ms/step\n",
      "Epoch 37/100\n",
      "50/50 - 0s - loss: 0.6324 - 63ms/epoch - 1ms/step\n",
      "Epoch 38/100\n",
      "50/50 - 0s - loss: 0.6322 - 66ms/epoch - 1ms/step\n",
      "Epoch 39/100\n",
      "50/50 - 0s - loss: 0.6318 - 66ms/epoch - 1ms/step\n",
      "Epoch 40/100\n",
      "50/50 - 0s - loss: 0.6316 - 68ms/epoch - 1ms/step\n",
      "Epoch 41/100\n",
      "50/50 - 0s - loss: 0.6313 - 67ms/epoch - 1ms/step\n",
      "Epoch 42/100\n",
      "50/50 - 0s - loss: 0.6313 - 67ms/epoch - 1ms/step\n",
      "Epoch 43/100\n",
      "50/50 - 0s - loss: 0.6310 - 68ms/epoch - 1ms/step\n",
      "Epoch 44/100\n",
      "50/50 - 0s - loss: 0.6307 - 80ms/epoch - 2ms/step\n",
      "Epoch 45/100\n",
      "50/50 - 0s - loss: 0.6306 - 77ms/epoch - 2ms/step\n",
      "Epoch 46/100\n",
      "50/50 - 0s - loss: 0.6302 - 71ms/epoch - 1ms/step\n",
      "Epoch 47/100\n",
      "50/50 - 0s - loss: 0.6304 - 67ms/epoch - 1ms/step\n",
      "Epoch 48/100\n",
      "50/50 - 0s - loss: 0.6299 - 64ms/epoch - 1ms/step\n",
      "Epoch 49/100\n",
      "50/50 - 0s - loss: 0.6298 - 68ms/epoch - 1ms/step\n",
      "Epoch 50/100\n",
      "50/50 - 0s - loss: 0.6296 - 66ms/epoch - 1ms/step\n",
      "Epoch 51/100\n",
      "50/50 - 0s - loss: 0.6295 - 67ms/epoch - 1ms/step\n",
      "Epoch 52/100\n",
      "50/50 - 0s - loss: 0.6291 - 68ms/epoch - 1ms/step\n",
      "Epoch 53/100\n",
      "50/50 - 0s - loss: 0.6293 - 62ms/epoch - 1ms/step\n",
      "Epoch 54/100\n",
      "50/50 - 0s - loss: 0.6289 - 66ms/epoch - 1ms/step\n",
      "Epoch 55/100\n",
      "50/50 - 0s - loss: 0.6291 - 61ms/epoch - 1ms/step\n",
      "Epoch 56/100\n",
      "50/50 - 0s - loss: 0.6287 - 62ms/epoch - 1ms/step\n",
      "Epoch 57/100\n",
      "50/50 - 0s - loss: 0.6285 - 69ms/epoch - 1ms/step\n",
      "Epoch 58/100\n",
      "50/50 - 0s - loss: 0.6284 - 55ms/epoch - 1ms/step\n",
      "Epoch 59/100\n",
      "50/50 - 0s - loss: 0.6282 - 67ms/epoch - 1ms/step\n",
      "Epoch 60/100\n",
      "50/50 - 0s - loss: 0.6280 - 64ms/epoch - 1ms/step\n",
      "Epoch 61/100\n",
      "50/50 - 0s - loss: 0.6283 - 64ms/epoch - 1ms/step\n",
      "Epoch 62/100\n",
      "50/50 - 0s - loss: 0.6276 - 61ms/epoch - 1ms/step\n",
      "Epoch 63/100\n",
      "50/50 - 0s - loss: 0.6277 - 59ms/epoch - 1ms/step\n",
      "Epoch 64/100\n",
      "50/50 - 0s - loss: 0.6275 - 67ms/epoch - 1ms/step\n",
      "Epoch 65/100\n",
      "50/50 - 0s - loss: 0.6277 - 65ms/epoch - 1ms/step\n",
      "Epoch 66/100\n",
      "50/50 - 0s - loss: 0.6271 - 60ms/epoch - 1ms/step\n",
      "Epoch 67/100\n",
      "50/50 - 0s - loss: 0.6271 - 57ms/epoch - 1ms/step\n",
      "Epoch 68/100\n",
      "50/50 - 0s - loss: 0.6271 - 68ms/epoch - 1ms/step\n",
      "Epoch 69/100\n",
      "50/50 - 0s - loss: 0.6269 - 61ms/epoch - 1ms/step\n",
      "Epoch 70/100\n",
      "50/50 - 0s - loss: 0.6266 - 61ms/epoch - 1ms/step\n",
      "Epoch 71/100\n",
      "50/50 - 0s - loss: 0.6266 - 60ms/epoch - 1ms/step\n",
      "Epoch 72/100\n",
      "50/50 - 0s - loss: 0.6267 - 62ms/epoch - 1ms/step\n",
      "Epoch 73/100\n",
      "50/50 - 0s - loss: 0.6266 - 60ms/epoch - 1ms/step\n",
      "Epoch 74/100\n",
      "50/50 - 0s - loss: 0.6263 - 56ms/epoch - 1ms/step\n",
      "Epoch 75/100\n",
      "50/50 - 0s - loss: 0.6263 - 66ms/epoch - 1ms/step\n",
      "Epoch 76/100\n",
      "50/50 - 0s - loss: 0.6264 - 61ms/epoch - 1ms/step\n",
      "Epoch 77/100\n",
      "50/50 - 0s - loss: 0.6259 - 55ms/epoch - 1ms/step\n",
      "Epoch 78/100\n",
      "50/50 - 0s - loss: 0.6260 - 69ms/epoch - 1ms/step\n",
      "Epoch 79/100\n",
      "50/50 - 0s - loss: 0.6259 - 59ms/epoch - 1ms/step\n",
      "Epoch 80/100\n",
      "50/50 - 0s - loss: 0.6260 - 53ms/epoch - 1ms/step\n",
      "Epoch 81/100\n",
      "50/50 - 0s - loss: 0.6255 - 67ms/epoch - 1ms/step\n",
      "Epoch 82/100\n",
      "50/50 - 0s - loss: 0.6255 - 65ms/epoch - 1ms/step\n",
      "Epoch 83/100\n",
      "50/50 - 0s - loss: 0.6255 - 60ms/epoch - 1ms/step\n",
      "Epoch 84/100\n",
      "50/50 - 0s - loss: 0.6254 - 58ms/epoch - 1ms/step\n",
      "Epoch 85/100\n",
      "50/50 - 0s - loss: 0.6255 - 64ms/epoch - 1ms/step\n",
      "Epoch 86/100\n",
      "50/50 - 0s - loss: 0.6251 - 63ms/epoch - 1ms/step\n",
      "Epoch 87/100\n",
      "50/50 - 0s - loss: 0.6253 - 53ms/epoch - 1ms/step\n",
      "Epoch 88/100\n",
      "50/50 - 0s - loss: 0.6250 - 68ms/epoch - 1ms/step\n",
      "Epoch 89/100\n",
      "50/50 - 0s - loss: 0.6248 - 61ms/epoch - 1ms/step\n",
      "Epoch 90/100\n",
      "50/50 - 0s - loss: 0.6248 - 53ms/epoch - 1ms/step\n",
      "Epoch 91/100\n",
      "50/50 - 0s - loss: 0.6255 - 67ms/epoch - 1ms/step\n",
      "Epoch 92/100\n",
      "50/50 - 0s - loss: 0.6249 - 61ms/epoch - 1ms/step\n",
      "Epoch 93/100\n",
      "50/50 - 0s - loss: 0.6248 - 54ms/epoch - 1ms/step\n",
      "Epoch 94/100\n",
      "50/50 - 0s - loss: 0.6245 - 67ms/epoch - 1ms/step\n",
      "Epoch 95/100\n",
      "50/50 - 0s - loss: 0.6244 - 63ms/epoch - 1ms/step\n",
      "Epoch 96/100\n",
      "50/50 - 0s - loss: 0.6243 - 54ms/epoch - 1ms/step\n",
      "Epoch 97/100\n",
      "50/50 - 0s - loss: 0.6242 - 67ms/epoch - 1ms/step\n",
      "Epoch 98/100\n",
      "50/50 - 0s - loss: 0.6243 - 63ms/epoch - 1ms/step\n",
      "Epoch 99/100\n",
      "50/50 - 0s - loss: 0.6243 - 54ms/epoch - 1ms/step\n",
      "Epoch 100/100\n",
      "50/50 - 0s - loss: 0.6239 - 66ms/epoch - 1ms/step\n"
     ]
    },
    {
     "data": {
      "text/plain": [
       "<keras.callbacks.History at 0x1bb6b831130>"
      ]
     },
     "execution_count": 31,
     "metadata": {},
     "output_type": "execute_result"
    }
   ],
   "source": [
    "model2.fit(trainx,trainy,epochs=100,batch_size=16,verbose=2)"
   ]
  },
  {
   "cell_type": "code",
   "execution_count": 41,
   "id": "132b4481",
   "metadata": {},
   "outputs": [
    {
     "name": "stdout",
     "output_type": "stream",
     "text": [
      "7/7 [==============================] - 0s 1ms/step\n"
     ]
    }
   ],
   "source": [
    "y_pred=model2.predict(testx)\n",
    "import seaborn as sns"
   ]
  },
  {
   "cell_type": "code",
   "execution_count": 43,
   "id": "49d0657a",
   "metadata": {},
   "outputs": [
    {
     "data": {
      "text/plain": [
       "<AxesSubplot:>"
      ]
     },
     "execution_count": 43,
     "metadata": {},
     "output_type": "execute_result"
    },
    {
     "data": {
      "image/png": "[encoded data removed]",
      "text/plain": [
       "<Figure size 432x288 with 1 Axes>"
      ]
     },
     "metadata": {
      "needs_background": "light"
     },
     "output_type": "display_data"
    }
   ],
   "source": [
    "sns.regplot(y_pred,testy)"
   ]
  },
  {
   "cell_type": "code",
   "execution_count": 44,
   "id": "9f19803b",
   "metadata": {},
   "outputs": [
    {
     "ename": "ValueError",
     "evalue": "continuous is not supported",
     "output_type": "error",
     "traceback": [
      "\u001b[1;31m---------------------------------------------------------------------------\u001b[0m",
      "\u001b[1;31mValueError\u001b[0m                                Traceback (most recent call last)",
      "Input \u001b[1;32mIn [44]\u001b[0m, in \u001b[0;36m<cell line: 1>\u001b[1;34m()\u001b[0m\n\u001b[1;32m----> 1\u001b[0m acc\u001b[38;5;241m=\u001b[39m\u001b[43maccuracy_score\u001b[49m\u001b[43m(\u001b[49m\u001b[43my_pred\u001b[49m\u001b[43m,\u001b[49m\u001b[43mtesty\u001b[49m\u001b[43m)\u001b[49m\n",
      "File \u001b[1;32mC:\\ProgramData\\Anaconda3\\lib\\site-packages\\sklearn\\metrics\\_classification.py:211\u001b[0m, in \u001b[0;36maccuracy_score\u001b[1;34m(y_true, y_pred, normalize, sample_weight)\u001b[0m\n\u001b[0;32m    145\u001b[0m \u001b[38;5;124;03m\"\"\"Accuracy classification score.\u001b[39;00m\n\u001b[0;32m    146\u001b[0m \n\u001b[0;32m    147\u001b[0m \u001b[38;5;124;03mIn multilabel classification, this function computes subset accuracy:\u001b[39;00m\n\u001b[1;32m   (...)\u001b[0m\n\u001b[0;32m    207\u001b[0m \u001b[38;5;124;03m0.5\u001b[39;00m\n\u001b[0;32m    208\u001b[0m \u001b[38;5;124;03m\"\"\"\u001b[39;00m\n\u001b[0;32m    210\u001b[0m \u001b[38;5;66;03m# Compute accuracy for each possible representation\u001b[39;00m\n\u001b[1;32m--> 211\u001b[0m y_type, y_true, y_pred \u001b[38;5;241m=\u001b[39m \u001b[43m_check_targets\u001b[49m\u001b[43m(\u001b[49m\u001b[43my_true\u001b[49m\u001b[43m,\u001b[49m\u001b[43m \u001b[49m\u001b[43my_pred\u001b[49m\u001b[43m)\u001b[49m\n\u001b[0;32m    212\u001b[0m check_consistent_length(y_true, y_pred, sample_weight)\n\u001b[0;32m    213\u001b[0m \u001b[38;5;28;01mif\u001b[39;00m y_type\u001b[38;5;241m.\u001b[39mstartswith(\u001b[38;5;124m\"\u001b[39m\u001b[38;5;124mmultilabel\u001b[39m\u001b[38;5;124m\"\u001b[39m):\n",
      "File \u001b[1;32mC:\\ProgramData\\Anaconda3\\lib\\site-packages\\sklearn\\metrics\\_classification.py:104\u001b[0m, in \u001b[0;36m_check_targets\u001b[1;34m(y_true, y_pred)\u001b[0m\n\u001b[0;32m    102\u001b[0m \u001b[38;5;66;03m# No metrics support \"multiclass-multioutput\" format\u001b[39;00m\n\u001b[0;32m    103\u001b[0m \u001b[38;5;28;01mif\u001b[39;00m y_type \u001b[38;5;129;01mnot\u001b[39;00m \u001b[38;5;129;01min\u001b[39;00m [\u001b[38;5;124m\"\u001b[39m\u001b[38;5;124mbinary\u001b[39m\u001b[38;5;124m\"\u001b[39m, \u001b[38;5;124m\"\u001b[39m\u001b[38;5;124mmulticlass\u001b[39m\u001b[38;5;124m\"\u001b[39m, \u001b[38;5;124m\"\u001b[39m\u001b[38;5;124mmultilabel-indicator\u001b[39m\u001b[38;5;124m\"\u001b[39m]:\n\u001b[1;32m--> 104\u001b[0m     \u001b[38;5;28;01mraise\u001b[39;00m \u001b[38;5;167;01mValueError\u001b[39;00m(\u001b[38;5;124m\"\u001b[39m\u001b[38;5;132;01m{0}\u001b[39;00m\u001b[38;5;124m is not supported\u001b[39m\u001b[38;5;124m\"\u001b[39m\u001b[38;5;241m.\u001b[39mformat(y_type))\n\u001b[0;32m    106\u001b[0m \u001b[38;5;28;01mif\u001b[39;00m y_type \u001b[38;5;129;01min\u001b[39;00m [\u001b[38;5;124m\"\u001b[39m\u001b[38;5;124mbinary\u001b[39m\u001b[38;5;124m\"\u001b[39m, \u001b[38;5;124m\"\u001b[39m\u001b[38;5;124mmulticlass\u001b[39m\u001b[38;5;124m\"\u001b[39m]:\n\u001b[0;32m    107\u001b[0m     y_true \u001b[38;5;241m=\u001b[39m column_or_1d(y_true)\n",
      "\u001b[1;31mValueError\u001b[0m: continuous is not supported"
     ]
    }
   ],
   "source": [
    "acc=accuracy_score(y_pred,testy)"
   ]
  },
  {
   "cell_type": "code",
   "execution_count": null,
   "id": "9c636202",
   "metadata": {},
   "outputs": [],
   "source": []
  }
 ],
 "metadata": {
  "kernelspec": {
   "display_name": "Python 3 (ipykernel)",
   "language": "python",
   "name": "python3"
  },
  "language_info": {
   "codemirror_mode": {
    "name": "ipython",
    "version": 3
   },
   "file_extension": ".py",
   "mimetype": "text/x-python",
   "name": "python",
   "nbconvert_exporter": "python",
   "pygments_lexer": "ipython3",
   "version": "3.9.12"
  }
 },
 "nbformat": 4,
 "nbformat_minor": 5
}
