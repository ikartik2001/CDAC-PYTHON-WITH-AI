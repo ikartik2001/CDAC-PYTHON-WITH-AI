{
 "cells": [
  {
   "cell_type": "code",
   "execution_count": 1,
   "id": "cc4ac367",
   "metadata": {},
   "outputs": [
    {
     "name": "stdout",
     "output_type": "stream",
     "text": [
      "('abhijeet', 18, 'ashish', 9.8)\n"
     ]
    }
   ],
   "source": [
    "# CLASS 2 , CDAC PYTHON WITH A , KARTIK THAKUR 28/2/2023\n",
    "\n",
    "# 1 TUPPLE AND ITS FEATURES\n",
    "\n",
    "details=(\"abhijeet\",18,\"ashish\",9.8)  # IT IS A TUPPLE\n",
    "print(details)\n"
   ]
  },
  {
   "cell_type": "code",
   "execution_count": 2,
   "id": "c2f3d84c",
   "metadata": {},
   "outputs": [
    {
     "name": "stdout",
     "output_type": "stream",
     "text": [
      "['cat', 'cat', 'pig', 'donkey', 'COW']\n"
     ]
    }
   ],
   "source": [
    "#Print alternatate values in each tupple\n",
    "\n",
    "animals = [\"cat\",\"dog\",\"cat\",\"bat\",\"pig\",\"horse\",\"donkey\",\"goat\",\"COW\"]\n",
    "print(animals [::2])"
   ]
  },
  {
   "cell_type": "code",
   "execution_count": 3,
   "id": "d6159499",
   "metadata": {},
   "outputs": [
    {
     "name": "stdout",
     "output_type": "stream",
     "text": [
      "('pakistan', 'Afganistan', 'bangladesh', 'shrilanka', 'vietnam', 'india', 'china')\n"
     ]
    }
   ],
   "source": [
    "# CONCATENATE TUPPLES\n",
    "\n",
    "countries  = (\"pakistan\",\"Afganistan\",\"bangladesh\",\"shrilanka\")\n",
    "coutnries2= (\"vietnam\",\"india\",\"china\")\n",
    "southeastasia = countries+coutnries2\n",
    "print(southeastasia)"
   ]
  },
  {
   "cell_type": "code",
   "execution_count": 4,
   "id": "525dd4a4",
   "metadata": {},
   "outputs": [
    {
     "name": "stdout",
     "output_type": "stream",
     "text": [
      "name kartik\n",
      "age 21\n",
      "university JNGEC\n"
     ]
    }
   ],
   "source": [
    "#unpack tupples  and ASSINGING VALUE TO TUPPLE\n",
    "\n",
    "info = (\"kartik\",21,\"JNGEC\")\n",
    "(name,age,university)= info\n",
    "print(\"name\",name)\n",
    "print(\"age\",age)\n",
    "print(\"university\",university)"
   ]
  },
  {
   "cell_type": "code",
   "execution_count": 5,
   "id": "67c97bf9",
   "metadata": {},
   "outputs": [
    {
     "name": "stdout",
     "output_type": "stream",
     "text": [
      "['cat', 'dog', 'cat', 'bat', 'pig', 'horse', 'donkey']\n",
      "goat\n",
      "COW\n"
     ]
    }
   ],
   "source": [
    "# ASSIGNING VALUE TO TUPPLE ...at random\n",
    "\n",
    "animalsT = ('cat', 'dog', 'cat', 'bat', 'pig', 'horse', 'donkey', 'goat', 'COW')\n",
    "(*janwar,bird,fish)= animalsT\n",
    "print(janwar)\n",
    "print(bird)\n",
    "print(fish)"
   ]
  },
  {
   "cell_type": "code",
   "execution_count": 6,
   "id": "9a01d2b7",
   "metadata": {},
   "outputs": [
    {
     "name": "stdout",
     "output_type": "stream",
     "text": [
      "{1, 2, 3, 4, 'KARTIK'}\n"
     ]
    }
   ],
   "source": [
    "## SETS\n",
    "\n",
    "s1 ={1,2,3,}\n",
    "s={1,2,3,4,2,2,2,2,2,2,2,2,2,2,2,2,2,2,2,2,2,2,\"KARTIK\"}\n",
    "print(s)"
   ]
  },
  {
   "cell_type": "code",
   "execution_count": 7,
   "id": "33fe97e0",
   "metadata": {},
   "outputs": [],
   "source": [
    "cities = {\"pathankot\",\"mohali\",\"shimla\",\"Dharampur\"}\n",
    "cities.add(\"kullu\")\n",
    "\n",
    "#print(cities)"
   ]
  },
  {
   "cell_type": "code",
   "execution_count": 8,
   "id": "99544626",
   "metadata": {},
   "outputs": [
    {
     "name": "stdout",
     "output_type": "stream",
     "text": [
      "{'shimla', 'haryana', 'pathankot', 'indore', 'kangra', 'mohali', 'kullu', 'Dharampur'}\n"
     ]
    }
   ],
   "source": [
    "cities.update({\"indore\",\"kangra\",\"haryana\"})\n",
    "print(cities)\n",
    "\n",
    "#UNION\n",
    "value = {5,6,1,2,3,7}\n",
    "value2 ={1,2,3,4,7}"
   ]
  },
  {
   "cell_type": "code",
   "execution_count": 9,
   "id": "f3f63f3c",
   "metadata": {},
   "outputs": [
    {
     "name": "stdout",
     "output_type": "stream",
     "text": [
      "None\n",
      "{2, 3, 5, 6, 7}\n"
     ]
    }
   ],
   "source": [
    "\n",
    "print(value.remove(1))\n",
    "print(value)\n"
   ]
  },
  {
   "cell_type": "code",
   "execution_count": 10,
   "id": "678e4d82",
   "metadata": {},
   "outputs": [
    {
     "name": "stdout",
     "output_type": "stream",
     "text": [
      "False\n"
     ]
    }
   ],
   "source": [
    "##   .isdisjoint()\n",
    "\n",
    "\n",
    "##    .issubset(cities)\n",
    "cities1 = {\"shimla\",\"mumbai\",\"kausali\",\"haryana\"}\n",
    "cities_copy ={\"mumbai\",\"kausali\"}\n",
    "\n",
    "print(cities_copy.issubset(cities))"
   ]
  },
  {
   "cell_type": "code",
   "execution_count": null,
   "id": "0809314d",
   "metadata": {},
   "outputs": [],
   "source": []
  }
 ],
 "metadata": {
  "kernelspec": {
   "display_name": "Python 3 (ipykernel)",
   "language": "python",
   "name": "python3"
  },
  "language_info": {
   "codemirror_mode": {
    "name": "ipython",
    "version": 3
   },
   "file_extension": ".py",
   "mimetype": "text/x-python",
   "name": "python",
   "nbconvert_exporter": "python",
   "pygments_lexer": "ipython3",
   "version": "3.9.13"
  }
 },
 "nbformat": 4,
 "nbformat_minor": 5
}
