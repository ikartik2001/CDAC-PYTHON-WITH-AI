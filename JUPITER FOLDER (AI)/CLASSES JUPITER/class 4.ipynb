{
 "cells": [
  {
   "cell_type": "markdown",
   "id": "e9d9890c",
   "metadata": {},
   "source": [
    "### CLASS 4"
   ]
  },
  {
   "cell_type": "code",
   "execution_count": null,
   "id": "23e0b2f7",
   "metadata": {},
   "outputs": [],
   "source": [
    "seq =[1,2,3,4,5]\n",
    "\n",
    "for i in seq:\n",
    "    print(\"yepppi\")"
   ]
  },
  {
   "cell_type": "code",
   "execution_count": null,
   "id": "3471fe15",
   "metadata": {},
   "outputs": [],
   "source": [
    "for i in seq:\n",
    "    print(i+i)"
   ]
  },
  {
   "cell_type": "code",
   "execution_count": null,
   "id": "7b83ea77",
   "metadata": {},
   "outputs": [],
   "source": [
    "# itrating over a string\n",
    "name = \"welocme to punjab\"\n",
    "for i in name :\n",
    "    print(i, end= \" , \")"
   ]
  },
  {
   "cell_type": "code",
   "execution_count": null,
   "id": "c640db28",
   "metadata": {},
   "outputs": [],
   "source": [
    "## iterating over a tuple\n",
    "\n",
    "colors = (\"red\",\"green\",\"blue\",\"yellow\")\n",
    "for x  in colors:\n",
    "    print(x)"
   ]
  },
  {
   "cell_type": "code",
   "execution_count": null,
   "id": "f289461c",
   "metadata": {},
   "outputs": [],
   "source": [
    "for k in range(5):\n",
    "    print(k)"
   ]
  },
  {
   "cell_type": "code",
   "execution_count": null,
   "id": "f0d77bb0",
   "metadata": {},
   "outputs": [],
   "source": [
    "for k in range(4,13):\n",
    "    print(k)"
   ]
  },
  {
   "cell_type": "code",
   "execution_count": null,
   "id": "a058b5ad",
   "metadata": {},
   "outputs": [],
   "source": [
    "for k in range():\n",
    "    print(k)"
   ]
  },
  {
   "cell_type": "code",
   "execution_count": null,
   "id": "5242f0aa",
   "metadata": {},
   "outputs": [],
   "source": [
    "m =list(range(5))\n",
    "print(m)"
   ]
  },
  {
   "cell_type": "code",
   "execution_count": null,
   "id": "9518a29a",
   "metadata": {},
   "outputs": [],
   "source": [
    "count = 100000\n",
    "while(count>0):\n",
    "    print(count)\n",
    "    count = count-1"
   ]
  },
  {
   "cell_type": "code",
   "execution_count": 42,
   "id": "d0a6d190",
   "metadata": {},
   "outputs": [
    {
     "name": "stdout",
     "output_type": "stream",
     "text": [
      "5\n",
      "4\n",
      "3\n",
      "2\n",
      "1\n",
      "counter is zero\n"
     ]
    }
   ],
   "source": [
    "x = 5\n",
    "while (x>0):\n",
    "    print(x)\n",
    "    x=x-1\n",
    "else:\n",
    "    print(\"counter is zero\")"
   ]
  },
  {
   "cell_type": "code",
   "execution_count": 43,
   "id": "192ad3da",
   "metadata": {},
   "outputs": [
    {
     "name": "stdout",
     "output_type": "stream",
     "text": [
      "i is :1\n",
      "i is :2\n",
      "i is :3\n",
      "i is :4\n"
     ]
    }
   ],
   "source": [
    "i=1\n",
    "while i<5:\n",
    "    print(\"i is :{}\".format(i))\n",
    "    i =i+1"
   ]
  },
  {
   "cell_type": "code",
   "execution_count": 65,
   "id": "637318ba",
   "metadata": {},
   "outputs": [
    {
     "name": "stdout",
     "output_type": "stream",
     "text": [
      "1\n",
      "4\n",
      "9\n",
      "\n"
     ]
    }
   ],
   "source": [
    "i=1\n",
    "while (i<=3):\n",
    "    for k in range(1,4):\n",
    "        print( i*k, )\n",
    "        i=i+1\n",
    "print()"
   ]
  },
  {
   "cell_type": "code",
   "execution_count": 94,
   "id": "52b1c214",
   "metadata": {},
   "outputs": [
    {
     "name": "stdout",
     "output_type": "stream",
     "text": [
      "1\n",
      "2\n",
      "3\n",
      "\n",
      "2\n",
      "4\n",
      "6\n",
      "\n",
      "3\n",
      "6\n",
      "9\n",
      "\n"
     ]
    }
   ],
   "source": [
    "for i in range(1,4):\n",
    "    k=1\n",
    "    while (k<=3):\n",
    "        print(i*k)\n",
    "        k=k+1\n",
    "    print()"
   ]
  },
  {
   "cell_type": "markdown",
   "id": "5ccfd75d",
   "metadata": {},
   "source": [
    "### control statement\n"
   ]
  },
  {
   "cell_type": "code",
   "execution_count": 95,
   "id": "787a7e42",
   "metadata": {},
   "outputs": [],
   "source": [
    "i=1\n",
    "if (i==2):\n",
    "    pass"
   ]
  },
  {
   "cell_type": "code",
   "execution_count": 103,
   "id": "4e71e4e6",
   "metadata": {},
   "outputs": [],
   "source": [
    "candy=(\"simple\",\"not\",\"hot\",\"mot\",\"slot\",\"dotot\")\n",
    "for i in candy:\n",
    "    pass"
   ]
  },
  {
   "cell_type": "code",
   "execution_count": 104,
   "id": "91dc257a",
   "metadata": {},
   "outputs": [
    {
     "name": "stdout",
     "output_type": "stream",
     "text": [
      "1\n",
      "3\n",
      "5\n",
      "7\n",
      "9\n"
     ]
    }
   ],
   "source": [
    "for i in range(1,10):\n",
    "    if(i%2==0):\n",
    "        continue\n",
    "    print(i)"
   ]
  },
  {
   "cell_type": "code",
   "execution_count": 119,
   "id": "54f8e2c8",
   "metadata": {},
   "outputs": [
    {
     "name": "stdout",
     "output_type": "stream",
     "text": [
      "11\n"
     ]
    }
   ],
   "source": [
    "i =1\n",
    "while(i<=10):\n",
    "    i =i+1\n",
    "    if(1%2 !=0):\n",
    "        continue\n",
    "print(i)\n",
    "        "
   ]
  },
  {
   "cell_type": "code",
   "execution_count": 124,
   "id": "4e0c47b6",
   "metadata": {},
   "outputs": [
    {
     "name": "stdout",
     "output_type": "stream",
     "text": [
      "11\n"
     ]
    }
   ],
   "source": [
    "i=10\n",
    "while(i<=10):\n",
    "    i=i+1\n",
    "    if(i==5):\n",
    "        break\n",
    "print(i)"
   ]
  },
  {
   "cell_type": "code",
   "execution_count": 125,
   "id": "766ac6bc",
   "metadata": {},
   "outputs": [
    {
     "name": "stdout",
     "output_type": "stream",
     "text": [
      "1\n",
      "2\n",
      "3\n",
      "4\n",
      "5\n",
      "6\n",
      "7\n",
      "8\n",
      "9\n"
     ]
    }
   ],
   "source": [
    "for i in range(1,10):\n",
    "    if (i==10):\n",
    "        break\n",
    "    print(i)"
   ]
  },
  {
   "cell_type": "code",
   "execution_count": 128,
   "id": "bbdfee9b",
   "metadata": {},
   "outputs": [
    {
     "data": {
      "text/plain": [
       "[1, 4, 9, 16]"
      ]
     },
     "execution_count": 128,
     "metadata": {},
     "output_type": "execute_result"
    }
   ],
   "source": [
    "#list comprehension\n",
    "x =[1,2,3,4]\n",
    "m =[i**2 for i in x]\n",
    "m"
   ]
  },
  {
   "cell_type": "code",
   "execution_count": 145,
   "id": "3fd42d42",
   "metadata": {},
   "outputs": [
    {
     "name": "stdout",
     "output_type": "stream",
     "text": [
      "['kartik', 'jyoti', 'vishnu', 'piyush']\n"
     ]
    }
   ],
   "source": [
    "names=[\"kartik\",\"jyoti\",\"anchal\", \"vishnu\",\"piyush\"]\n",
    "m=[i for i in names if \"i\"in i]\n",
    "print(m)"
   ]
  },
  {
   "cell_type": "code",
   "execution_count": 151,
   "id": "bfa345d2",
   "metadata": {},
   "outputs": [
    {
     "name": "stdout",
     "output_type": "stream",
     "text": [
      "['kartik', 'jyoti', 'anchal', 'vishnu', 'piyush']\n"
     ]
    }
   ],
   "source": [
    "names=[\"kartik\",\"jyoti\",\"anchal\", \"vishnu\",\"piyush\"]\n",
    "for i in names:\n",
    "    if( \"k\"in i):\n",
    "        print(names)"
   ]
  },
  {
   "cell_type": "code",
   "execution_count": 152,
   "id": "4c6ef709",
   "metadata": {},
   "outputs": [
    {
     "name": "stdout",
     "output_type": "stream",
     "text": [
      "frozenset({'kartik', 'vishnu', 'anchal', 'jyoti', 'piyush'})\n"
     ]
    }
   ],
   "source": [
    "x = frozenset(names)\n",
    "print(x)"
   ]
  },
  {
   "cell_type": "code",
   "execution_count": 158,
   "id": "19776850",
   "metadata": {},
   "outputs": [
    {
     "ename": "TypeError",
     "evalue": "'frozenset' object does not support item assignment",
     "output_type": "error",
     "traceback": [
      "\u001b[1;31m---------------------------------------------------------------------------\u001b[0m",
      "\u001b[1;31mTypeError\u001b[0m                                 Traceback (most recent call last)",
      "Input \u001b[1;32mIn [158]\u001b[0m, in \u001b[0;36m<cell line: 1>\u001b[1;34m()\u001b[0m\n\u001b[1;32m----> 1\u001b[0m x[\u001b[38;5;241m1\u001b[39m]\u001b[38;5;241m=\u001b[39m\u001b[38;5;124m\"\u001b[39m\u001b[38;5;124mwork\u001b[39m\u001b[38;5;124m\"\u001b[39m\n",
      "\u001b[1;31mTypeError\u001b[0m: 'frozenset' object does not support item assignment"
     ]
    }
   ],
   "source": [
    "# does not support changing ...\n",
    "x[1]=\"work\""
   ]
  },
  {
   "cell_type": "code",
   "execution_count": null,
   "id": "d82108fe",
   "metadata": {},
   "outputs": [],
   "source": []
  }
 ],
 "metadata": {
  "kernelspec": {
   "display_name": "Python 3 (ipykernel)",
   "language": "python",
   "name": "python3"
  },
  "language_info": {
   "codemirror_mode": {
    "name": "ipython",
    "version": 3
   },
   "file_extension": ".py",
   "mimetype": "text/x-python",
   "name": "python",
   "nbconvert_exporter": "python",
   "pygments_lexer": "ipython3",
   "version": "3.9.12"
  }
 },
 "nbformat": 4,
 "nbformat_minor": 5
}
