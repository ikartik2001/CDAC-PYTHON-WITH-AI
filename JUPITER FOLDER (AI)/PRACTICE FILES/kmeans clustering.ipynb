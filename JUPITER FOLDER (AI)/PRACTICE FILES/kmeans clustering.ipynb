{
 "cells": [
  {
   "cell_type": "markdown",
   "id": "d3dec888",
   "metadata": {},
   "source": [
    "# k means clustering"
   ]
  },
  {
   "cell_type": "markdown",
   "id": "f8f46905",
   "metadata": {},
   "source": [
    "K means algorithm identifies k number of centroids, and then allocates every data point to the nearest cluster while keeping the centroids as small as possible"
   ]
  },
  {
   "cell_type": "code",
   "execution_count": 1,
   "id": "fe737644",
   "metadata": {},
   "outputs": [],
   "source": [
    "import pandas as pd"
   ]
  },
  {
   "cell_type": "code",
   "execution_count": 124,
   "id": "d988a4ad",
   "metadata": {},
   "outputs": [],
   "source": [
    "import numpy as np\n",
    "import matplotlib.pyplot as plt\n",
    "from sklearn.cluster import KMeans\n",
    "%matplotlib inline"
   ]
  },
  {
   "cell_type": "code",
   "execution_count": 136,
   "id": "87061e4e",
   "metadata": {},
   "outputs": [],
   "source": [
    "x =-2 * np.random.rand(100,2)"
   ]
  },
  {
   "cell_type": "code",
   "execution_count": 137,
   "id": "9213becd",
   "metadata": {},
   "outputs": [
    {
     "data": {
      "text/plain": [
       "array([[-1.00442297, -1.90860758],\n",
       "       [-1.77953484, -1.91209593],\n",
       "       [-0.16789465, -1.15050024],\n",
       "       [-1.09476075, -1.47015703],\n",
       "       [-0.3235365 , -0.27107194],\n",
       "       [-0.77763552, -1.55180487],\n",
       "       [-0.38973596, -0.69063086],\n",
       "       [-1.37880168, -0.61010155],\n",
       "       [-0.45873961, -1.65111274],\n",
       "       [-1.54404325, -1.91441311],\n",
       "       [-0.66270172, -0.29540364],\n",
       "       [-1.27662362, -0.94655157],\n",
       "       [-1.00966192, -1.33069123],\n",
       "       [-1.34587951, -1.10381545],\n",
       "       [-1.91090159, -1.67943219],\n",
       "       [-0.51298524, -0.03439202],\n",
       "       [-1.15670271, -0.55851315],\n",
       "       [-1.13690294, -1.96689664],\n",
       "       [-1.75541339, -0.34974359],\n",
       "       [-1.68880396, -1.01147119],\n",
       "       [-1.62956883, -1.92914706],\n",
       "       [-1.05674661, -0.35855939],\n",
       "       [-0.94054812, -0.33840927],\n",
       "       [-0.69995303, -0.41445772],\n",
       "       [-0.65379046, -1.82529959],\n",
       "       [-1.50004044, -0.45208514],\n",
       "       [-0.58525106, -0.33545491],\n",
       "       [-1.72884106, -1.49794312],\n",
       "       [-0.98709228, -0.62551935],\n",
       "       [-1.89511345, -0.29623176],\n",
       "       [-0.77190769, -0.08103166],\n",
       "       [-0.44487351, -0.57901583],\n",
       "       [-0.9816962 , -1.64995509],\n",
       "       [-0.11058663, -0.95965179],\n",
       "       [-0.09905794, -1.90547346],\n",
       "       [-0.60722468, -0.92286523],\n",
       "       [-1.07478888, -0.03952022],\n",
       "       [-1.48563755, -1.51299245],\n",
       "       [-1.60729197, -0.13921246],\n",
       "       [-0.94117739, -1.11372316],\n",
       "       [-0.28457114, -1.58709574],\n",
       "       [-1.27932579, -1.29329213],\n",
       "       [-0.86133437, -0.00957018],\n",
       "       [-0.40432354, -0.84191269],\n",
       "       [-0.32786716, -1.25375706],\n",
       "       [-0.41050938, -0.46319319],\n",
       "       [-0.35881792, -1.23835317],\n",
       "       [-1.83492733, -1.13097514],\n",
       "       [-1.2384774 , -0.20501161],\n",
       "       [-0.44123889, -0.9385711 ],\n",
       "       [-0.98572109, -1.52013254],\n",
       "       [-0.16869819, -1.6952449 ],\n",
       "       [-1.05802907, -0.02225553],\n",
       "       [-1.69769316, -0.36336935],\n",
       "       [-0.89691099, -0.23002973],\n",
       "       [-0.14953912, -1.9647553 ],\n",
       "       [-1.32864769, -0.14785785],\n",
       "       [-0.40115795, -1.82609022],\n",
       "       [-0.04770006, -0.8877765 ],\n",
       "       [-0.66108663, -0.29411647],\n",
       "       [-1.91965212, -1.93615609],\n",
       "       [-1.18277804, -1.03703138],\n",
       "       [-0.97014164, -1.39703138],\n",
       "       [-1.84351106, -1.90989853],\n",
       "       [-1.97528476, -0.15543589],\n",
       "       [-0.51372645, -1.01254025],\n",
       "       [-0.37323244, -0.16013459],\n",
       "       [-1.72868846, -1.37304208],\n",
       "       [-0.25766623, -0.5935691 ],\n",
       "       [-0.57712066, -0.14977466],\n",
       "       [-1.65442547, -1.63816481],\n",
       "       [-0.37044689, -1.54800195],\n",
       "       [-0.43323896, -0.6625005 ],\n",
       "       [-0.43056874, -0.96305834],\n",
       "       [-1.6122694 , -1.31665253],\n",
       "       [-0.73950085, -1.43479758],\n",
       "       [-0.85893822, -0.31352536],\n",
       "       [-0.81215818, -1.80084664],\n",
       "       [-0.6906858 , -1.20556494],\n",
       "       [-1.9121344 , -0.94315246],\n",
       "       [-0.43970199, -0.16577976],\n",
       "       [-1.16407658, -1.37091629],\n",
       "       [-1.16535565, -1.07032172],\n",
       "       [-0.33604518, -0.33358102],\n",
       "       [-1.58520945, -1.52787692],\n",
       "       [-1.59256796, -0.94114661],\n",
       "       [-0.39343151, -1.82806876],\n",
       "       [-0.2975315 , -1.77937139],\n",
       "       [-1.51833425, -1.74565543],\n",
       "       [-1.315552  , -0.18487473],\n",
       "       [-1.96644094, -0.22735349],\n",
       "       [-0.57729048, -1.71980812],\n",
       "       [-1.19313668, -0.41791741],\n",
       "       [-0.3445861 , -0.54474741],\n",
       "       [-0.4130089 , -1.48657769],\n",
       "       [-1.30373231, -1.65768733],\n",
       "       [-0.23940367, -1.59213418],\n",
       "       [-0.78986212, -1.23867357],\n",
       "       [-1.16018631, -0.63216849],\n",
       "       [-1.67475283, -0.10586114]])"
      ]
     },
     "execution_count": 137,
     "metadata": {},
     "output_type": "execute_result"
    }
   ],
   "source": [
    "x"
   ]
  },
  {
   "cell_type": "code",
   "execution_count": 141,
   "id": "95be936d",
   "metadata": {},
   "outputs": [
    {
     "data": {
      "text/plain": [
       "array([[1.42018759, 2.55307367],\n",
       "       [1.45483473, 1.18568048],\n",
       "       [2.10791947, 2.50315883],\n",
       "       [1.95460489, 1.86479103],\n",
       "       [1.93434624, 1.34534489],\n",
       "       [2.69632217, 1.24190593],\n",
       "       [1.6947669 , 2.97356485],\n",
       "       [2.67935899, 2.66798411],\n",
       "       [1.93341376, 1.5525066 ],\n",
       "       [2.71089813, 2.20351223],\n",
       "       [2.4270899 , 2.62310597],\n",
       "       [2.35090975, 1.52383605],\n",
       "       [1.22726269, 1.7148163 ],\n",
       "       [2.16116589, 2.64600973],\n",
       "       [2.08793572, 1.25835568],\n",
       "       [2.31294149, 1.81125244],\n",
       "       [1.58541969, 1.48974603],\n",
       "       [2.71610672, 2.94206574],\n",
       "       [2.89019325, 2.96984228],\n",
       "       [2.53099173, 2.65806435],\n",
       "       [2.13071858, 1.09760011],\n",
       "       [2.56950276, 1.74417108],\n",
       "       [1.97403735, 1.65572225],\n",
       "       [2.27299773, 2.85277949],\n",
       "       [2.93786648, 2.14681883],\n",
       "       [2.72347526, 1.26450495],\n",
       "       [1.83595996, 1.33551761],\n",
       "       [1.9193422 , 2.87382721],\n",
       "       [2.29160492, 1.73462139],\n",
       "       [2.75400642, 2.44305806],\n",
       "       [1.54156791, 2.55237201],\n",
       "       [2.86082772, 1.27940585],\n",
       "       [1.45917941, 2.94769213],\n",
       "       [1.46839103, 1.5635039 ],\n",
       "       [1.24102244, 2.64212148],\n",
       "       [2.63250762, 2.65622791],\n",
       "       [2.63873752, 1.03716117],\n",
       "       [2.15710663, 2.33512245],\n",
       "       [2.16928831, 1.11375707],\n",
       "       [2.8344937 , 1.38625475],\n",
       "       [1.59609111, 2.3299109 ],\n",
       "       [2.34503909, 1.3574918 ],\n",
       "       [2.30966875, 2.35254217],\n",
       "       [1.6454925 , 2.90874832],\n",
       "       [1.87313356, 2.74194067],\n",
       "       [1.30299728, 1.91743198],\n",
       "       [1.90938712, 1.88593182],\n",
       "       [1.11513328, 1.36736312],\n",
       "       [2.35978018, 1.49189911],\n",
       "       [1.61937364, 1.32713605]])"
      ]
     },
     "execution_count": 141,
     "metadata": {},
     "output_type": "execute_result"
    }
   ],
   "source": [
    "x1= 1+2 * np.random.rand(50,2)\n",
    "x1"
   ]
  },
  {
   "cell_type": "code",
   "execution_count": 139,
   "id": "920e0a0d",
   "metadata": {},
   "outputs": [],
   "source": [
    "x[50:100,:]=x1"
   ]
  },
  {
   "cell_type": "code",
   "execution_count": 140,
   "id": "72d9aa37",
   "metadata": {},
   "outputs": [
    {
     "data": {
      "text/plain": [
       "<matplotlib.collections.PathCollection at 0x268966601c0>"
      ]
     },
     "execution_count": 140,
     "metadata": {},
     "output_type": "execute_result"
    },
    {
     "data": {
      "image/png": "[encoded data removed]",
      "text/plain": [
       "<Figure size 640x480 with 1 Axes>"
      ]
     },
     "metadata": {},
     "output_type": "display_data"
    }
   ],
   "source": [
    "plt.scatter(x[:,0],x[:,1],s=50,c='b')"
   ]
  },
  {
   "cell_type": "code",
   "execution_count": 158,
   "id": "9e43d2c9",
   "metadata": {},
   "outputs": [],
   "source": [
    "from sklearn.cluster import KMeans"
   ]
  },
  {
   "cell_type": "code",
   "execution_count": 162,
   "id": "c657df1d",
   "metadata": {},
   "outputs": [],
   "source": [
    "Kmean = KMeans(n_clusters=2)"
   ]
  },
  {
   "cell_type": "code",
   "execution_count": 166,
   "id": "761b41e5",
   "metadata": {},
   "outputs": [
    {
     "data": {
      "text/plain": [
       "KMeans(n_clusters=2)"
      ]
     },
     "execution_count": 166,
     "metadata": {},
     "output_type": "execute_result"
    }
   ],
   "source": [
    "Kmean.fit(x)"
   ]
  },
  {
   "cell_type": "markdown",
   "id": "9fdc7334",
   "metadata": {},
   "source": [
    "### finding the centroid/"
   ]
  },
  {
   "cell_type": "code",
   "execution_count": 167,
   "id": "8576dfe1",
   "metadata": {},
   "outputs": [
    {
     "data": {
      "text/plain": [
       "array([[ 1.99005235,  1.98628807],\n",
       "       [-0.97236526, -0.96691374]])"
      ]
     },
     "execution_count": 167,
     "metadata": {},
     "output_type": "execute_result"
    }
   ],
   "source": [
    "Kmean.cluster_centers_"
   ]
  },
  {
   "cell_type": "code",
   "execution_count": 176,
   "id": "8ed5ce5e",
   "metadata": {},
   "outputs": [
    {
     "data": {
      "text/plain": [
       "<matplotlib.collections.PathCollection at 0x268982e5bb0>"
      ]
     },
     "execution_count": 176,
     "metadata": {},
     "output_type": "execute_result"
    },
    {
     "data": {
      "image/png": "[encoded data removed]",
      "text/plain": [
       "<Figure size 640x480 with 1 Axes>"
      ]
     },
     "metadata": {},
     "output_type": "display_data"
    }
   ],
   "source": [
    "plt.scatter(x[:,0],x[:,1],s=50,c='b')\n",
    "plt.scatter( 1.99005235,  1.98628807,s=200,c='g',marker='s')\n",
    "\n",
    "plt.scatter(-0.97236526, -0.96691374 , s=200,c='r',marker='s')"
   ]
  },
  {
   "cell_type": "markdown",
   "id": "e7241965",
   "metadata": {},
   "source": [
    "### testing the algorithm"
   ]
  },
  {
   "cell_type": "code",
   "execution_count": 177,
   "id": "11a050ce",
   "metadata": {},
   "outputs": [
    {
     "data": {
      "text/plain": [
       "array([1, 1, 1, 1, 1, 1, 1, 1, 1, 1, 1, 1, 1, 1, 1, 1, 1, 1, 1, 1, 1, 1,\n",
       "       1, 1, 1, 1, 1, 1, 1, 1, 1, 1, 1, 1, 1, 1, 1, 1, 1, 1, 1, 1, 1, 1,\n",
       "       1, 1, 1, 1, 1, 1, 0, 0, 0, 0, 0, 0, 0, 0, 0, 0, 0, 0, 0, 0, 0, 0,\n",
       "       0, 0, 0, 0, 0, 0, 0, 0, 0, 0, 0, 0, 0, 0, 0, 0, 0, 0, 0, 0, 0, 0,\n",
       "       0, 0, 0, 0, 0, 0, 0, 0, 0, 0, 0, 0])"
      ]
     },
     "execution_count": 177,
     "metadata": {},
     "output_type": "execute_result"
    }
   ],
   "source": [
    "Kmean.labels_"
   ]
  },
  {
   "cell_type": "markdown",
   "id": "a4dd25a1",
   "metadata": {},
   "source": [
    "### let us give model some random array (x,y) and see in which cluster it puts it\n"
   ]
  },
  {
   "cell_type": "code",
   "execution_count": 185,
   "id": "8f6196ac",
   "metadata": {},
   "outputs": [],
   "source": [
    "sample_test =np.array([-3.0,-3.0])\n",
    "\n",
    "second_test =sample_test.reshape(1,-1)"
   ]
  },
  {
   "cell_type": "code",
   "execution_count": 186,
   "id": "0164854e",
   "metadata": {},
   "outputs": [
    {
     "data": {
      "text/plain": [
       "array([[-3., -3.]])"
      ]
     },
     "execution_count": 186,
     "metadata": {},
     "output_type": "execute_result"
    }
   ],
   "source": [
    "second_test "
   ]
  },
  {
   "cell_type": "code",
   "execution_count": 187,
   "id": "9d210b7c",
   "metadata": {},
   "outputs": [
    {
     "data": {
      "text/plain": [
       "array([-3., -3.])"
      ]
     },
     "execution_count": 187,
     "metadata": {},
     "output_type": "execute_result"
    }
   ],
   "source": [
    "sample_test "
   ]
  },
  {
   "cell_type": "code",
   "execution_count": 190,
   "id": "899af465",
   "metadata": {},
   "outputs": [
    {
     "data": {
      "text/plain": [
       "array([1])"
      ]
     },
     "execution_count": 190,
     "metadata": {},
     "output_type": "execute_result"
    }
   ],
   "source": [
    "Kmean.predict(second_test) # it means data belongs to blue red cluster"
   ]
  },
  {
   "cell_type": "code",
   "execution_count": null,
   "id": "1a8d8b7f",
   "metadata": {},
   "outputs": [],
   "source": []
  }
 ],
 "metadata": {
  "kernelspec": {
   "display_name": "Python 3 (ipykernel)",
   "language": "python",
   "name": "python3"
  },
  "language_info": {
   "codemirror_mode": {
    "name": "ipython",
    "version": 3
   },
   "file_extension": ".py",
   "mimetype": "text/x-python",
   "name": "python",
   "nbconvert_exporter": "python",
   "pygments_lexer": "ipython3",
   "version": "3.9.13"
  }
 },
 "nbformat": 4,
 "nbformat_minor": 5
}
