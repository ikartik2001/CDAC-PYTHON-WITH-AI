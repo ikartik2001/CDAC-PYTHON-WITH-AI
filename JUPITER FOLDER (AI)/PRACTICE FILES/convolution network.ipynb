{
 "cells": [
  {
   "cell_type": "code",
   "execution_count": 1,
   "id": "f272cbc2",
   "metadata": {},
   "outputs": [],
   "source": [
    "import keras\n",
    "from keras.datasets import mnist\n",
    "from keras.models import Sequential\n",
    "from keras.layers import Dense, Dropout, Flatten\n",
    "from keras.layers import Conv2D, MaxPooling2D\n",
    "import numpy as np"
   ]
  },
  {
   "cell_type": "code",
   "execution_count": 2,
   "id": "4a337eb3",
   "metadata": {},
   "outputs": [
    {
     "name": "stdout",
     "output_type": "stream",
     "text": [
      "Downloading data from https://storage.googleapis.com/tensorflow/tf-keras-datasets/mnist.npz\n",
      "11490434/11490434 [==============================] - 2s 0us/step\n",
      "x_train shape: (60000, 28, 28, 1)\n",
      "60000 train samples\n",
      "10000 test samples\n"
     ]
    }
   ],
   "source": [
    "\n",
    "batch_size = 128\n",
    "num_classes = 10\n",
    "epochs = 10\n",
    "\n",
    "# input image dimensions\n",
    "img_rows, img_cols = 28, 28\n",
    "\n",
    "# the data, split between train and test sets\n",
    "(x_train, y_train), (x_test, y_test) = mnist.load_data()\n",
    "\n",
    "x_train = x_train.reshape(60000,28,28,1)\n",
    "x_test = x_test.reshape(10000,28,28,1)\n",
    "\n",
    "print('x_train shape:', x_train.shape)\n",
    "print(x_train.shape[0], 'train samples')\n",
    "print(x_test.shape[0], 'test samples')\n",
    "\n",
    "# convert class vectors to binary class matrices\n",
    "y_train = keras.utils.to_categorical(y_train, num_classes)\n",
    "y_test = keras.utils.to_categorical(y_test, num_classes)"
   ]
  },
  {
   "cell_type": "code",
   "execution_count": 8,
   "id": "1394aabc",
   "metadata": {},
   "outputs": [],
   "source": [
    "model= Sequential()\n",
    "model.add(Conv2D(32,kernel_size=(3,3),activation='relu',input_shape=(28,28,1)))\n",
    "model.add(Conv2D(64,(3,3),activation='relu'))\n",
    "model.add(MaxPooling2D(pool_size=(2,2)))\n",
    "model.add(Dropout(0.25))\n",
    "model.add(Flatten())\n",
    "model.add(Dense(128,activation='relu'))\n",
    "model.add(Dropout(0.5))\n",
    "model.add(Dense(num_classes,activation='softmax'))"
   ]
  },
  {
   "cell_type": "code",
   "execution_count": 10,
   "id": "40943902",
   "metadata": {},
   "outputs": [],
   "source": [
    "model.compile(loss=keras.losses.categorical_crossentropy,optimizer=keras.optimizers.Adadelta(),metrics=['accuracy'])"
   ]
  },
  {
   "cell_type": "code",
   "execution_count": 12,
   "id": "889c1396",
   "metadata": {},
   "outputs": [
    {
     "name": "stdout",
     "output_type": "stream",
     "text": [
      "Epoch 1/10\n",
      "469/469 [==============================] - 87s 181ms/step - loss: 29.0218 - accuracy: 0.1503 - val_loss: 4.8881 - val_accuracy: 0.4270\n",
      "Epoch 2/10\n",
      "469/469 [==============================] - 83s 177ms/step - loss: 12.8593 - accuracy: 0.2639 - val_loss: 1.8723 - val_accuracy: 0.6036\n",
      "Epoch 3/10\n",
      "469/469 [==============================] - 86s 183ms/step - loss: 6.5414 - accuracy: 0.3323 - val_loss: 1.2298 - val_accuracy: 0.6141\n",
      "Epoch 4/10\n",
      "469/469 [==============================] - 85s 181ms/step - loss: 3.8553 - accuracy: 0.3583 - val_loss: 1.3093 - val_accuracy: 0.5703\n",
      "Epoch 5/10\n",
      "469/469 [==============================] - 87s 186ms/step - loss: 2.7139 - accuracy: 0.3550 - val_loss: 1.4741 - val_accuracy: 0.5312\n",
      "Epoch 6/10\n",
      "469/469 [==============================] - 85s 180ms/step - loss: 2.2406 - accuracy: 0.3730 - val_loss: 1.5312 - val_accuracy: 0.5938\n",
      "Epoch 7/10\n",
      "469/469 [==============================] - 83s 178ms/step - loss: 2.0441 - accuracy: 0.3898 - val_loss: 1.5136 - val_accuracy: 0.6105\n",
      "Epoch 8/10\n",
      "469/469 [==============================] - 89s 189ms/step - loss: 1.9242 - accuracy: 0.4108 - val_loss: 1.4654 - val_accuracy: 0.6300\n",
      "Epoch 9/10\n",
      "469/469 [==============================] - 88s 188ms/step - loss: 1.8452 - accuracy: 0.4294 - val_loss: 1.4117 - val_accuracy: 0.6463\n",
      "Epoch 10/10\n",
      "469/469 [==============================] - 88s 187ms/step - loss: 1.7740 - accuracy: 0.4471 - val_loss: 1.3379 - val_accuracy: 0.6687\n"
     ]
    },
    {
     "data": {
      "text/plain": [
       "<keras.callbacks.History at 0x12890793d00>"
      ]
     },
     "execution_count": 12,
     "metadata": {},
     "output_type": "execute_result"
    }
   ],
   "source": [
    "model.fit(x_train,y_train,batch_size=batch_size,epochs=epochs,verbose=1,validation_data=(x_test,y_test))"
   ]
  },
  {
   "cell_type": "code",
   "execution_count": 15,
   "id": "bfd6c86e",
   "metadata": {},
   "outputs": [
    {
     "name": "stdout",
     "output_type": "stream",
     "text": [
      "test loss: 1.337893009185791\n",
      "test accuracy: 0.6686999797821045\n"
     ]
    }
   ],
   "source": [
    "score=model.evaluate(x_test,y_test,verbose=0)\n",
    "print('test loss:',score[0])\n",
    "print('test accuracy:',score[1])"
   ]
  },
  {
   "cell_type": "code",
   "execution_count": 27,
   "id": "b972ca1e",
   "metadata": {},
   "outputs": [],
   "source": [
    "import matplotlib.pyplot as plt\n",
    "%matplotlib inline\n"
   ]
  },
  {
   "cell_type": "code",
   "execution_count": null,
   "id": "c2de10b5",
   "metadata": {},
   "outputs": [],
   "source": []
  },
  {
   "cell_type": "code",
   "execution_count": null,
   "id": "bed9f4f5",
   "metadata": {},
   "outputs": [],
   "source": []
  }
 ],
 "metadata": {
  "kernelspec": {
   "display_name": "Python 3 (ipykernel)",
   "language": "python",
   "name": "python3"
  },
  "language_info": {
   "codemirror_mode": {
    "name": "ipython",
    "version": 3
   },
   "file_extension": ".py",
   "mimetype": "text/x-python",
   "name": "python",
   "nbconvert_exporter": "python",
   "pygments_lexer": "ipython3",
   "version": "3.9.12"
  }
 },
 "nbformat": 4,
 "nbformat_minor": 5
}
