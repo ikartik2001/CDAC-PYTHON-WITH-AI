{
 "cells": [
  {
   "cell_type": "code",
   "execution_count": null,
   "id": "7b36f50b",
   "metadata": {},
   "outputs": [],
   "source": []
  },
  {
   "cell_type": "code",
   "execution_count": 1,
   "id": "57e99198",
   "metadata": {},
   "outputs": [],
   "source": [
    "import cv2\n",
    "import requests"
   ]
  },
  {
   "cell_type": "code",
   "execution_count": 3,
   "id": "a1dbc2cb",
   "metadata": {},
   "outputs": [],
   "source": [
    "from bs4 import BeautifulSoup"
   ]
  },
  {
   "cell_type": "code",
   "execution_count": 15,
   "id": "1e78371a",
   "metadata": {},
   "outputs": [],
   "source": [
    "url='https://www.hyatt.com/'"
   ]
  },
  {
   "cell_type": "code",
   "execution_count": 28,
   "id": "a1d04014",
   "metadata": {},
   "outputs": [],
   "source": [
    "import requests\n",
    "from bs4 import BeautifulSoup\n",
    "import csv\n",
    "\n",
    "# Send a request to the news website\n",
    "url = \"https://www.moneycontrol.com/news\"\n",
    "response = requests.get(url)\n",
    "\n",
    "# Parse the HTML content of the page\n",
    "soup = BeautifulSoup(response.content, \"html.parser\")\n",
    "\n",
    "# Find all the headlines on the page\n",
    "headlines = soup.find_all(\"h2\", class_=\"headline\")\n",
    "\n",
    "# Find all the links on the page\n",
    "links = soup.find_all(\"a\", class_=\"link\")\n",
    "\n",
    "# Write the data to a CSV file\n",
    "with open(\"news.csv\", \"w\", newline=\"\") as csvfile:\n",
    "    writer = csv.writer(csvfile)\n",
    "    writer.writerow([\"Headline\", \"Link\"])\n",
    "\n",
    "    for i in range(len(headlines)):\n",
    "        writer.writerow([headlines[i].text, links[i].get(\"href\")])\n"
   ]
  },
  {
   "cell_type": "code",
   "execution_count": 32,
   "id": "932a6b47",
   "metadata": {},
   "outputs": [
    {
     "data": {
      "text/plain": [
       "[]"
      ]
     },
     "execution_count": 32,
     "metadata": {},
     "output_type": "execute_result"
    }
   ],
   "source": [
    "headlines"
   ]
  },
  {
   "cell_type": "code",
   "execution_count": null,
   "id": "8302787c",
   "metadata": {},
   "outputs": [],
   "source": []
  },
  {
   "cell_type": "code",
   "execution_count": null,
   "id": "9ca328b0",
   "metadata": {},
   "outputs": [],
   "source": []
  },
  {
   "cell_type": "code",
   "execution_count": null,
   "id": "9b4e55a1",
   "metadata": {},
   "outputs": [],
   "source": []
  },
  {
   "cell_type": "code",
   "execution_count": null,
   "id": "57d5e3cc",
   "metadata": {},
   "outputs": [],
   "source": [
    "\n"
   ]
  }
 ],
 "metadata": {
  "kernelspec": {
   "display_name": "Python 3 (ipykernel)",
   "language": "python",
   "name": "python3"
  },
  "language_info": {
   "codemirror_mode": {
    "name": "ipython",
    "version": 3
   },
   "file_extension": ".py",
   "mimetype": "text/x-python",
   "name": "python",
   "nbconvert_exporter": "python",
   "pygments_lexer": "ipython3",
   "version": "3.9.13"
  }
 },
 "nbformat": 4,
 "nbformat_minor": 5
}
