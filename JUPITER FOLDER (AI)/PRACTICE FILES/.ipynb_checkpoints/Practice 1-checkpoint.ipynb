{
 "cells": [
  {
   "cell_type": "code",
   "execution_count": null,
   "id": "a4736470",
   "metadata": {},
   "outputs": [],
   "source": [
    "import numpy as np\n",
    "import pandas as pd\n",
    "import matplotlib.pyplot as plt\n",
    "import seaborn as sns"
   ]
  },
  {
   "cell_type": "code",
   "execution_count": null,
   "id": "c2ee380b",
   "metadata": {
    "scrolled": true
   },
   "outputs": [],
   "source": [
    "pizza=pd.read_csv(r'C:\\Users\\cdac\\Documents\\GitHub\\CDAC-PYTHON-WITH-AI\\JUPITER FOLDER (AI)\\ASSIGNMENTS\\pizza_sales.csv')\n",
    "file=pizza.copy()"
   ]
  },
  {
   "cell_type": "code",
   "execution_count": null,
   "id": "ffd035ef",
   "metadata": {},
   "outputs": [],
   "source": [
    "file.isnull().sum() "
   ]
  },
  {
   "cell_type": "code",
   "execution_count": null,
   "id": "8c1dde2a",
   "metadata": {},
   "outputs": [],
   "source": [
    "file['quantity'].dtype\n",
    "file.info()"
   ]
  },
  {
   "cell_type": "code",
   "execution_count": null,
   "id": "14f1f608",
   "metadata": {},
   "outputs": [],
   "source": [
    "file"
   ]
  },
  {
   "cell_type": "code",
   "execution_count": null,
   "id": "690bce83",
   "metadata": {},
   "outputs": [],
   "source": [
    "file.describe()"
   ]
  },
  {
   "cell_type": "code",
   "execution_count": null,
   "id": "4e2fe07e",
   "metadata": {},
   "outputs": [],
   "source": [
    "file.shape\n"
   ]
  },
  {
   "cell_type": "code",
   "execution_count": null,
   "id": "3b99b85f",
   "metadata": {},
   "outputs": [],
   "source": [
    "file.isnull().sum()"
   ]
  },
  {
   "cell_type": "code",
   "execution_count": null,
   "id": "437de048",
   "metadata": {},
   "outputs": [],
   "source": [
    "file.columns"
   ]
  },
  {
   "cell_type": "code",
   "execution_count": null,
   "id": "32cf1f85",
   "metadata": {},
   "outputs": [],
   "source": [
    "l=file['order_time'].str.split(':')\n",
    "h=[]\n",
    "\n",
    "for i in l:\n",
    "    h.append(i[0])\n",
    "\n",
    "file['hour']=h\n",
    "c=file['hour'].value_counts()\n",
    "f=list(c)"
   ]
  },
  {
   "cell_type": "code",
   "execution_count": null,
   "id": "8a46b7f0",
   "metadata": {},
   "outputs": [],
   "source": [
    "h=set(h)\n",
    "h=list(h)\n",
    "h\n",
    "sns.barplot(h,f)"
   ]
  },
  {
   "cell_type": "code",
   "execution_count": null,
   "id": "c3f87e7a",
   "metadata": {},
   "outputs": [],
   "source": [
    "c"
   ]
  },
  {
   "cell_type": "code",
   "execution_count": null,
   "id": "0539e970",
   "metadata": {},
   "outputs": [],
   "source": []
  },
  {
   "cell_type": "code",
   "execution_count": null,
   "id": "4d5d2bde",
   "metadata": {},
   "outputs": [],
   "source": [
    "#@ finding montly sales"
   ]
  },
  {
   "cell_type": "code",
   "execution_count": null,
   "id": "a542540d",
   "metadata": {},
   "outputs": [],
   "source": [
    "for i in file['order_date']:\n",
    "    file['month']=file['order_date'].str.split('/')[2][2]\n",
    "    \n",
    "file"
   ]
  },
  {
   "cell_type": "code",
   "execution_count": null,
   "id": "b465c47a",
   "metadata": {},
   "outputs": [],
   "source": [
    "file['order_date'].str.split('/')[2][2]"
   ]
  },
  {
   "cell_type": "code",
   "execution_count": null,
   "id": "dce13a77",
   "metadata": {},
   "outputs": [],
   "source": []
  },
  {
   "cell_type": "code",
   "execution_count": null,
   "id": "a8b5f6b5",
   "metadata": {},
   "outputs": [],
   "source": []
  },
  {
   "cell_type": "code",
   "execution_count": null,
   "id": "be325396",
   "metadata": {},
   "outputs": [],
   "source": []
  }
 ],
 "metadata": {
  "kernelspec": {
   "display_name": "Python 3 (ipykernel)",
   "language": "python",
   "name": "python3"
  },
  "language_info": {
   "codemirror_mode": {
    "name": "ipython",
    "version": 3
   },
   "file_extension": ".py",
   "mimetype": "text/x-python",
   "name": "python",
   "nbconvert_exporter": "python",
   "pygments_lexer": "ipython3",
   "version": "3.9.12"
  }
 },
 "nbformat": 4,
 "nbformat_minor": 5
}
