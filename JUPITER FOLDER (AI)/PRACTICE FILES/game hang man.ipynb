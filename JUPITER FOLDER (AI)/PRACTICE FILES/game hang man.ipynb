{
 "cells": [
  {
   "cell_type": "code",
   "execution_count": 1,
   "id": "98a1b677",
   "metadata": {},
   "outputs": [],
   "source": [
    "import numpy as np\n",
    "import pandas as pd\n",
    "import random"
   ]
  },
  {
   "cell_type": "code",
   "execution_count": 2,
   "id": "93d10004",
   "metadata": {},
   "outputs": [],
   "source": [
    "w=np.random.randint(1,11,10)"
   ]
  },
  {
   "cell_type": "code",
   "execution_count": 3,
   "id": "743e7566",
   "metadata": {},
   "outputs": [],
   "source": [
    "letter=['a','b','c','d','e','f','g','h','i','j','k','l','m','n','o','p','r','s','t','u','v','w','x','y','z']\n",
    "words=['python','module','hang','opencv','error','verification','design','static','decessiontree','svm']"
   ]
  },
  {
   "cell_type": "code",
   "execution_count": 4,
   "id": "4d3f60f8",
   "metadata": {},
   "outputs": [],
   "source": [
    "l=list(w)"
   ]
  },
  {
   "cell_type": "code",
   "execution_count": 5,
   "id": "1e35d733",
   "metadata": {},
   "outputs": [
    {
     "data": {
      "text/plain": [
       "[9, 9, 1, 10, 9, 7, 8, 7, 7, 3]"
      ]
     },
     "execution_count": 5,
     "metadata": {},
     "output_type": "execute_result"
    }
   ],
   "source": [
    "l"
   ]
  },
  {
   "cell_type": "code",
   "execution_count": 6,
   "id": "971ed3b1",
   "metadata": {},
   "outputs": [],
   "source": [
    "a=random.choice(words)"
   ]
  },
  {
   "cell_type": "code",
   "execution_count": 17,
   "id": "d34e6370",
   "metadata": {},
   "outputs": [],
   "source": [
    "display=['_']*len(a)\n",
    "attempts=6"
   ]
  },
  {
   "cell_type": "code",
   "execution_count": null,
   "id": "59d1b65e",
   "metadata": {},
   "outputs": [],
   "source": [
    "display"
   ]
  },
  {
   "cell_type": "code",
   "execution_count": null,
   "id": "419d91b5",
   "metadata": {},
   "outputs": [],
   "source": [
    "print('l')"
   ]
  },
  {
   "cell_type": "code",
   "execution_count": null,
   "id": "c31f704f",
   "metadata": {},
   "outputs": [],
   "source": []
  },
  {
   "cell_type": "code",
   "execution_count": null,
   "id": "3b45835e",
   "metadata": {},
   "outputs": [],
   "source": []
  },
  {
   "cell_type": "code",
   "execution_count": null,
   "id": "577387ae",
   "metadata": {},
   "outputs": [],
   "source": []
  }
 ],
 "metadata": {
  "kernelspec": {
   "display_name": "Python 3 (ipykernel)",
   "language": "python",
   "name": "python3"
  },
  "language_info": {
   "codemirror_mode": {
    "name": "ipython",
    "version": 3
   },
   "file_extension": ".py",
   "mimetype": "text/x-python",
   "name": "python",
   "nbconvert_exporter": "python",
   "pygments_lexer": "ipython3",
   "version": "3.9.12"
  }
 },
 "nbformat": 4,
 "nbformat_minor": 5
}
