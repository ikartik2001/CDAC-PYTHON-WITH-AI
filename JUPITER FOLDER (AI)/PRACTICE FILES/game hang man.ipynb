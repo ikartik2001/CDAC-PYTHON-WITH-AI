{
 "cells": [
  {
   "cell_type": "code",
   "execution_count": 1,
   "id": "4d7ad1f3",
   "metadata": {},
   "outputs": [],
   "source": [
    "import numpy as np\n",
    "import pandas as pd\n",
    "import random"
   ]
  },
  {
   "cell_type": "code",
   "execution_count": 2,
   "id": "73c5571b",
   "metadata": {},
   "outputs": [],
   "source": [
    "w=np.random.randint(1,11,10)"
   ]
  },
  {
   "cell_type": "code",
   "execution_count": 3,
   "id": "7d209d14",
   "metadata": {},
   "outputs": [],
   "source": [
    "letter=['a','b','c','d','e','f','g','h','i','j','k','l','m','n','o','p','r','s','t','u','v','w','x','y','z']\n",
    "words=['python','module','hang','opencv','error','verification','design','static','decessiontree','svm']"
   ]
  },
  {
   "cell_type": "code",
   "execution_count": 4,
   "id": "2d50e27f",
   "metadata": {},
   "outputs": [],
   "source": [
    "l=list(w)"
   ]
  },
  {
   "cell_type": "code",
   "execution_count": 5,
   "id": "03f704a9",
   "metadata": {},
   "outputs": [
    {
     "data": {
      "text/plain": [
       "[9, 9, 1, 10, 9, 7, 8, 7, 7, 3]"
      ]
     },
     "execution_count": 5,
     "metadata": {},
     "output_type": "execute_result"
    }
   ],
   "source": [
    "l"
   ]
  },
  {
   "cell_type": "code",
   "execution_count": 6,
   "id": "0faadff2",
   "metadata": {},
   "outputs": [],
   "source": [
    "a=random.choice(words)"
   ]
  },
  {
   "cell_type": "code",
   "execution_count": 17,
   "id": "7bae7655",
   "metadata": {},
   "outputs": [],
   "source": [
    "display=['_']*len(a)\n",
    "attempts=6"
   ]
  },
  {
   "cell_type": "code",
   "execution_count": 18,
   "id": "be101f8b",
   "metadata": {},
   "outputs": [
    {
     "data": {
      "text/plain": [
       "['_', '_', '_', '_', '_', '_']"
      ]
     },
     "execution_count": 18,
     "metadata": {},
     "output_type": "execute_result"
    }
   ],
   "source": [
    "display\n"
   ]
  },
  {
   "cell_type": "code",
   "execution_count": 20,
   "id": "24078995",
   "metadata": {},
   "outputs": [],
   "source": [
    "while attempts>0 ==True:\n",
    "    random.choice(letter)"
   ]
  },
  {
   "cell_type": "code",
   "execution_count": null,
   "id": "1ada4692",
   "metadata": {},
   "outputs": [],
   "source": []
  },
  {
   "cell_type": "code",
   "execution_count": null,
   "id": "5e789edb",
   "metadata": {},
   "outputs": [],
   "source": []
  },
  {
   "cell_type": "code",
   "execution_count": null,
   "id": "a9f15254",
   "metadata": {},
   "outputs": [],
   "source": []
  }
 ],
 "metadata": {
  "kernelspec": {
   "display_name": "Python 3 (ipykernel)",
   "language": "python",
   "name": "python3"
  },
  "language_info": {
   "codemirror_mode": {
    "name": "ipython",
    "version": 3
   },
   "file_extension": ".py",
   "mimetype": "text/x-python",
   "name": "python",
   "nbconvert_exporter": "python",
   "pygments_lexer": "ipython3",
   "version": "3.9.12"
  }
 },
 "nbformat": 4,
 "nbformat_minor": 5
}
