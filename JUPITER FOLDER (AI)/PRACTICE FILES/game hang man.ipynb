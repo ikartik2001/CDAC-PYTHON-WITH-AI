{
 "cells": [
  {
   "cell_type": "code",
   "execution_count": 1,
   "id": "048074d4",
   "metadata": {},
   "outputs": [],
   "source": [
    "import numpy as np\n",
    "import pandas as pd\n",
    "import random"
   ]
  },
  {
   "cell_type": "code",
   "execution_count": 2,
   "id": "bbe04b06",
   "metadata": {},
   "outputs": [],
   "source": [
    "w=np.random.randint(1,11,10)"
   ]
  },
  {
   "cell_type": "code",
   "execution_count": 3,
   "id": "e19e8924",
   "metadata": {},
   "outputs": [],
   "source": [
    "letter=['a','b','c','d','e','f','g','h','i','j','k','l','m','n','o','p','r','s','t','u','v','w','x','y','z']\n",
    "words=['python','module','hang','opencv','error','verification','design','static','decessiontree','svm']"
   ]
  },
  {
   "cell_type": "code",
   "execution_count": 4,
   "id": "2fe6e2ef",
   "metadata": {},
   "outputs": [],
   "source": [
    "l=list(w)"
   ]
  },
  {
   "cell_type": "code",
   "execution_count": 5,
   "id": "de2b9fdf",
   "metadata": {},
   "outputs": [
    {
     "data": {
      "text/plain": [
       "[9, 9, 1, 10, 9, 7, 8, 7, 7, 3]"
      ]
     },
     "execution_count": 5,
     "metadata": {},
     "output_type": "execute_result"
    }
   ],
   "source": [
    "l"
   ]
  },
  {
   "cell_type": "code",
   "execution_count": 6,
   "id": "14af24c3",
   "metadata": {},
   "outputs": [],
   "source": [
    "a=random.choice(words)"
   ]
  },
  {
   "cell_type": "code",
   "execution_count": 17,
   "id": "bbf40e4e",
   "metadata": {},
   "outputs": [],
   "source": [
    "display=['_']*len(a)\n",
    "attempts=6"
   ]
  },
  {
   "cell_type": "code",
   "execution_count": 18,
   "id": "081249de",
   "metadata": {},
   "outputs": [
    {
     "data": {
      "text/plain": [
       "['_', '_', '_', '_', '_', '_']"
      ]
     },
     "execution_count": 18,
     "metadata": {},
     "output_type": "execute_result"
    }
   ],
   "source": [
    "display\n"
   ]
  },
  {
   "cell_type": "code",
   "execution_count": null,
   "id": "e49fe0e5",
   "metadata": {},
   "outputs": [],
   "source": []
  },
  {
   "cell_type": "code",
   "execution_count": null,
   "id": "56124e69",
   "metadata": {},
   "outputs": [],
   "source": [
    "space=input()"
   ]
  },
  {
   "cell_type": "code",
   "execution_count": null,
   "id": "3babaf90",
   "metadata": {},
   "outputs": [],
   "source": [
    "space"
   ]
  },
  {
   "cell_type": "code",
   "execution_count": null,
   "id": "a889ad74",
   "metadata": {},
   "outputs": [],
   "source": []
  }
 ],
 "metadata": {
  "kernelspec": {
   "display_name": "Python 3 (ipykernel)",
   "language": "python",
   "name": "python3"
  },
  "language_info": {
   "codemirror_mode": {
    "name": "ipython",
    "version": 3
   },
   "file_extension": ".py",
   "mimetype": "text/x-python",
   "name": "python",
   "nbconvert_exporter": "python",
   "pygments_lexer": "ipython3",
   "version": "3.9.12"
  }
 },
 "nbformat": 4,
 "nbformat_minor": 5
}
