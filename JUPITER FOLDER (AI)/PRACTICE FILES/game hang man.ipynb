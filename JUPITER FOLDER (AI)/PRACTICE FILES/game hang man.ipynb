{
 "cells": [
  {
   "cell_type": "code",
   "execution_count": 1,
   "id": "0e3322c4",
   "metadata": {},
   "outputs": [],
   "source": [
    "import numpy as np\n",
    "import pandas as pd\n",
    "import random"
   ]
  },
  {
   "cell_type": "code",
   "execution_count": 2,
   "id": "776a0d2f",
   "metadata": {},
   "outputs": [],
   "source": [
    "w=np.random.randint(1,11,10)"
   ]
  },
  {
   "cell_type": "code",
   "execution_count": 3,
   "id": "e9ba6c36",
   "metadata": {},
   "outputs": [],
   "source": [
    "letter=['a','b','c','d','e','f','g','h','i','j','k','l','m','n','o','p','r','s','t','u','v','w','x','y','z']\n",
    "words=['python','module','hang','opencv','error','verification','design','static','decessiontree','svm']"
   ]
  },
  {
   "cell_type": "code",
   "execution_count": 4,
   "id": "5b130230",
   "metadata": {},
   "outputs": [],
   "source": [
    "l=list(w)"
   ]
  },
  {
   "cell_type": "code",
   "execution_count": 5,
   "id": "a82f0242",
   "metadata": {},
   "outputs": [
    {
     "data": {
      "text/plain": [
       "[5, 1, 9, 3, 3, 7, 8, 1, 7, 6]"
      ]
     },
     "execution_count": 5,
     "metadata": {},
     "output_type": "execute_result"
    }
   ],
   "source": [
    "l"
   ]
  },
  {
   "cell_type": "code",
   "execution_count": 6,
   "id": "046e5650",
   "metadata": {},
   "outputs": [],
   "source": [
    "a=random.choice(words)"
   ]
  },
  {
   "cell_type": "code",
   "execution_count": 7,
   "id": "58f579af",
   "metadata": {},
   "outputs": [],
   "source": [
    "display=['_']*len(a)\n",
    "attempts=6"
   ]
  },
  {
   "cell_type": "code",
   "execution_count": 8,
   "id": "1cc32bca",
   "metadata": {},
   "outputs": [
    {
     "data": {
      "text/plain": [
       "['_', '_', '_', '_', '_', '_', '_', '_', '_', '_', '_', '_', '_']"
      ]
     },
     "execution_count": 8,
     "metadata": {},
     "output_type": "execute_result"
    }
   ],
   "source": [
    "display"
   ]
  },
  {
   "cell_type": "code",
   "execution_count": 12,
   "id": "c19d941a",
   "metadata": {},
   "outputs": [
    {
     "name": "stdout",
     "output_type": "stream",
     "text": [
      "__\n"
     ]
    }
   ],
   "source": [
    "space=print('__')"
   ]
  },
  {
   "cell_type": "code",
   "execution_count": null,
   "id": "b123b163",
   "metadata": {},
   "outputs": [],
   "source": []
  },
  {
   "cell_type": "code",
   "execution_count": null,
   "id": "712be2f8",
   "metadata": {},
   "outputs": [],
   "source": []
  },
  {
   "cell_type": "code",
   "execution_count": null,
   "id": "ab87f0fa",
   "metadata": {},
   "outputs": [],
   "source": []
  }
 ],
 "metadata": {
  "kernelspec": {
   "display_name": "Python 3 (ipykernel)",
   "language": "python",
   "name": "python3"
  },
  "language_info": {
   "codemirror_mode": {
    "name": "ipython",
    "version": 3
   },
   "file_extension": ".py",
   "mimetype": "text/x-python",
   "name": "python",
   "nbconvert_exporter": "python",
   "pygments_lexer": "ipython3",
   "version": "3.9.12"
  }
 },
 "nbformat": 4,
 "nbformat_minor": 5
}
