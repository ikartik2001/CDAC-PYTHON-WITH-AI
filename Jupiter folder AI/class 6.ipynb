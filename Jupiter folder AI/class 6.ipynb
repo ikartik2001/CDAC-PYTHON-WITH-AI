{
 "cells": [
  {
   "cell_type": "markdown",
   "id": "130ae2dc",
   "metadata": {},
   "source": [
    "## class 6\n"
   ]
  },
  {
   "cell_type": "code",
   "execution_count": null,
   "id": "41fc48c0",
   "metadata": {},
   "outputs": [],
   "source": [
    "#built in functions\n",
    "\n",
    "#these functions are precoded in python.\n",
    "# user defined functions\n",
    "#we can create functions for our specific use,\n",
    "\n",
    "1.def\n",
    "2.function name\n",
    "3.parenthesis (())\n",
    "4.colon(:)\n"
   ]
  },
  {
   "cell_type": "code",
   "execution_count": 12,
   "id": "1a9c48f2",
   "metadata": {},
   "outputs": [
    {
     "name": "stdout",
     "output_type": "stream",
     "text": [
      "new param\n"
     ]
    }
   ],
   "source": [
    "def my_func(param1='defalut'):\n",
    "    \n",
    "    '''\n",
    "    doc string goes here\n",
    "    '''\n",
    "    print(param1)\n",
    "    \n",
    "my_func(\"new param\")"
   ]
  },
  {
   "cell_type": "code",
   "execution_count": 3,
   "id": "4c3464d6",
   "metadata": {},
   "outputs": [
    {
     "name": "stdout",
     "output_type": "stream",
     "text": [
      "9\n"
     ]
    }
   ],
   "source": [
    "def square(x):\n",
    "    print( x**2)\n",
    "\n",
    "square(3)"
   ]
  },
  {
   "cell_type": "code",
   "execution_count": 6,
   "id": "5efe6475",
   "metadata": {},
   "outputs": [
    {
     "name": "stdout",
     "output_type": "stream",
     "text": [
      "hello abhinav bindra\n"
     ]
    }
   ],
   "source": [
    "def name(fname,lname):\n",
    "    print(\"hello\",fname,lname)\n",
    "\n",
    "\n",
    "name(\"abhinav\",\"bindra\")"
   ]
  },
  {
   "cell_type": "markdown",
   "id": "846a66bd",
   "metadata": {},
   "source": [
    "### defalut argument"
   ]
  },
  {
   "cell_type": "code",
   "execution_count": 13,
   "id": "f3ddf4a8",
   "metadata": {},
   "outputs": [
    {
     "name": "stdout",
     "output_type": "stream",
     "text": [
      "I like extra cheezy (panneez tika malai marke tandoori piza)\n"
     ]
    }
   ],
   "source": [
    "def pizza(size,name=\"mushroom piza\") :\n",
    "    print(\"I like\",size,name)\n",
    "pizza(\"extra cheezy\",\"(panneez tika malai marke tandoori piza)\")"
   ]
  },
  {
   "cell_type": "code",
   "execution_count": 4,
   "id": "93f607ce",
   "metadata": {},
   "outputs": [
    {
     "name": "stdout",
     "output_type": "stream",
     "text": [
      "i like regular mushroom pizza of  dominos\n"
     ]
    }
   ],
   "source": [
    "def pizza(size,name,loc):\n",
    "    print(\"i like\",size,name,\"pizza of \",loc)\n",
    "pizza(\"regular\",\"mushroom\",\"dominos\")\n"
   ]
  },
  {
   "cell_type": "code",
   "execution_count": 5,
   "id": "eb0496b4",
   "metadata": {},
   "outputs": [
    {
     "name": "stdout",
     "output_type": "stream",
     "text": [
      "i like regular mushroom pizza of dominic\n"
     ]
    }
   ],
   "source": [
    "def pizza(*t):\n",
    "    print(\"i like\",t[0],t[1],\"pizza of\",t[2])\n",
    "pizza(\"regular\",\"mushroom\",\"dominic\")"
   ]
  },
  {
   "cell_type": "code",
   "execution_count": 7,
   "id": "a5588d52",
   "metadata": {},
   "outputs": [
    {
     "name": "stdout",
     "output_type": "stream",
     "text": [
      "i like regular mushroom pizaa of dominic\n"
     ]
    }
   ],
   "source": [
    "def pizza(**t):\n",
    "    print(\"i like\",t[\"size\"],t[\"name\"],\"pizaa of\",t[\"loc\"])\n",
    "pizza(size=\"regular\",name=\"mushroom\",loc=\"dominic\")"
   ]
  },
  {
   "cell_type": "markdown",
   "id": "f4e3021c",
   "metadata": {},
   "source": [
    "## the return statement return the value back to main function"
   ]
  },
  {
   "cell_type": "code",
   "execution_count": 9,
   "id": "24f48a14",
   "metadata": {},
   "outputs": [
    {
     "data": {
      "text/plain": [
       "'i like regular mushroom pizza ofdominos'"
      ]
     },
     "execution_count": 9,
     "metadata": {},
     "output_type": "execute_result"
    }
   ],
   "source": [
    "def pizza(size,name,loc):\n",
    "    return \"i like\"+\" \"+size+\" \"+name+\" pizza of\"+loc\n",
    "\n",
    "pizza(\"regular\",\"mushroom\",\"dominos\")"
   ]
  },
  {
   "cell_type": "code",
   "execution_count": 4,
   "id": "e3685655",
   "metadata": {},
   "outputs": [
    {
     "name": "stdout",
     "output_type": "stream",
     "text": [
      "factoraial: 5040\n"
     ]
    }
   ],
   "source": [
    "# recursion\n",
    "\n",
    "#function calling itself inside the function is called recursi\n",
    "\n",
    "def factorial(num):\n",
    "    if(num==1 or num==0):\n",
    "        return 1\n",
    "    else:\n",
    "        return (num * factorial(num-1))\n",
    "num=7\n",
    "print(\"factoraial:\",factorial((num)))\n"
   ]
  },
  {
   "cell_type": "code",
   "execution_count": 12,
   "id": "3c548bf9",
   "metadata": {},
   "outputs": [
    {
     "name": "stdout",
     "output_type": "stream",
     "text": [
      "389\n"
     ]
    }
   ],
   "source": [
    "l=[10,40,50,264,389,1,4,10,29]\n",
    "ls=sorted(l,reverse=True)\n",
    "print(ls[0])"
   ]
  },
  {
   "cell_type": "code",
   "execution_count": 62,
   "id": "a9e50236",
   "metadata": {},
   "outputs": [
    {
     "name": "stdout",
     "output_type": "stream",
     "text": [
      "Enter math marks : \n",
      "70\n",
      "Enter science marks : \n",
      "70\n",
      "Not eligible for test\n"
     ]
    }
   ],
   "source": [
    "math=int(input(\"Enter math marks : \\n\"))\n",
    "science=int(input(\"Enter science marks : \\n\"))\n",
    "\n",
    "def eligiblity(math,science,attendance):\n",
    "    \n",
    "    if math>70 and science>70 and attendance>70:\n",
    "        print(\"You are eligible for test\")\n",
    "    else:\n",
    "        print(\"Not eligible for test\")\n",
    "        \n",
    "        \n",
    "eligiblity(math,science,70)"
   ]
  },
  {
   "cell_type": "code",
   "execution_count": 64,
   "id": "b877cbb9",
   "metadata": {},
   "outputs": [
    {
     "data": {
      "text/plain": [
       "10"
      ]
     },
     "execution_count": 64,
     "metadata": {},
     "output_type": "execute_result"
    }
   ],
   "source": [
    "#lamda funtion\n",
    "def times(var):\n",
    "    return var*2\n",
    "\n",
    "times(5)"
   ]
  },
  {
   "cell_type": "code",
   "execution_count": 69,
   "id": "2de1d91d",
   "metadata": {},
   "outputs": [
    {
     "data": {
      "text/plain": [
       "468"
      ]
     },
     "execution_count": 69,
     "metadata": {},
     "output_type": "execute_result"
    }
   ],
   "source": [
    "times = lambda var:var*2\n",
    "\n",
    "\n",
    "\n"
   ]
  },
  {
   "cell_type": "code",
   "execution_count": 70,
   "id": "784978b8",
   "metadata": {},
   "outputs": [
    {
     "name": "stdout",
     "output_type": "stream",
     "text": [
      "15\n"
     ]
    }
   ],
   "source": [
    "x = lambda a, b: a if(a>b) else b\n",
    "\n",
    "print(x(10,15))"
   ]
  },
  {
   "cell_type": "code",
   "execution_count": 72,
   "id": "8c2cb826",
   "metadata": {},
   "outputs": [
    {
     "data": {
      "text/plain": [
       "[2, 4, 6, 8, 10]"
      ]
     },
     "execution_count": 72,
     "metadata": {},
     "output_type": "execute_result"
    }
   ],
   "source": [
    "seq=[1,2,3,4,5]\n",
    "map(times,seq)\n",
    "list(map(times,seq))"
   ]
  },
  {
   "cell_type": "code",
   "execution_count": 73,
   "id": "cddf356f",
   "metadata": {},
   "outputs": [
    {
     "data": {
      "text/plain": [
       "[1, 4, 9, 16, 25]"
      ]
     },
     "execution_count": 73,
     "metadata": {},
     "output_type": "execute_result"
    }
   ],
   "source": [
    "list(map(lambda var: var**2,seq))"
   ]
  },
  {
   "cell_type": "code",
   "execution_count": 76,
   "id": "7d84836a",
   "metadata": {},
   "outputs": [
    {
     "name": "stdout",
     "output_type": "stream",
     "text": [
      "[5, 7, 97, 77, 23, 73, 61]\n"
     ]
    }
   ],
   "source": [
    "li = [5,7,22,97,54,62,77,23,73,61]\n",
    "t= lambda x:(x%2 !=0)\n",
    "m=filter(t,li)\n",
    "f=list(m)\n",
    "print(f)"
   ]
  },
  {
   "cell_type": "code",
   "execution_count": null,
   "id": "3712ea83",
   "metadata": {},
   "outputs": [],
   "source": []
  }
 ],
 "metadata": {
  "kernelspec": {
   "display_name": "Python 3 (ipykernel)",
   "language": "python",
   "name": "python3"
  },
  "language_info": {
   "codemirror_mode": {
    "name": "ipython",
    "version": 3
   },
   "file_extension": ".py",
   "mimetype": "text/x-python",
   "name": "python",
   "nbconvert_exporter": "python",
   "pygments_lexer": "ipython3",
   "version": "3.9.12"
  }
 },
 "nbformat": 4,
 "nbformat_minor": 5
}
