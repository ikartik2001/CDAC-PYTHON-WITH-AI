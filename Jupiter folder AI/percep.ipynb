{
 "cells": [
  {
   "cell_type": "code",
   "execution_count": 19,
   "id": "3b6c8c9a",
   "metadata": {},
   "outputs": [],
   "source": [
    "import random\n"
   ]
  },
  {
   "cell_type": "code",
   "execution_count": 21,
   "id": "5601ea0c",
   "metadata": {},
   "outputs": [
    {
     "name": "stdout",
     "output_type": "stream",
     "text": [
      "[93, 29, 73, 52, 3, 50, 50, 39, 25, 35]\n"
     ]
    }
   ],
   "source": [
    "innodes = []\n",
    "\n",
    "for i in range(10):\n",
    "    innodes.append(random.randint(1,100))\n",
    "    \n",
    "print(innodes)"
   ]
  },
  {
   "cell_type": "code",
   "execution_count": 32,
   "id": "d1107aa0",
   "metadata": {},
   "outputs": [],
   "source": [
    "a = [random.randint(1,10)]"
   ]
  },
  {
   "cell_type": "code",
   "execution_count": 33,
   "id": "b76bb7b0",
   "metadata": {},
   "outputs": [],
   "source": [
    "for i in range(100):\n",
    "    a.append([random.randint(1,10)])"
   ]
  },
  {
   "cell_type": "code",
   "execution_count": 34,
   "id": "bdcf0546",
   "metadata": {},
   "outputs": [
    {
     "data": {
      "text/plain": [
       "[1,\n",
       " [9],\n",
       " [8],\n",
       " [2],\n",
       " [9],\n",
       " [10],\n",
       " [4],\n",
       " [7],\n",
       " [9],\n",
       " [9],\n",
       " [1],\n",
       " [1],\n",
       " [6],\n",
       " [3],\n",
       " [3],\n",
       " [5],\n",
       " [9],\n",
       " [2],\n",
       " [8],\n",
       " [4],\n",
       " [9],\n",
       " [1],\n",
       " [4],\n",
       " [2],\n",
       " [8],\n",
       " [4],\n",
       " [5],\n",
       " [3],\n",
       " [10],\n",
       " [1],\n",
       " [6],\n",
       " [4],\n",
       " [6],\n",
       " [5],\n",
       " [5],\n",
       " [4],\n",
       " [1],\n",
       " [3],\n",
       " [1],\n",
       " [2],\n",
       " [7],\n",
       " [9],\n",
       " [4],\n",
       " [3],\n",
       " [1],\n",
       " [6],\n",
       " [9],\n",
       " [9],\n",
       " [9],\n",
       " [5],\n",
       " [6],\n",
       " [1],\n",
       " [1],\n",
       " [6],\n",
       " [5],\n",
       " [4],\n",
       " [5],\n",
       " [2],\n",
       " [9],\n",
       " [3],\n",
       " [6],\n",
       " [8],\n",
       " [10],\n",
       " [8],\n",
       " [3],\n",
       " [7],\n",
       " [1],\n",
       " [10],\n",
       " [3],\n",
       " [7],\n",
       " [5],\n",
       " [6],\n",
       " [7],\n",
       " [10],\n",
       " [10],\n",
       " [5],\n",
       " [6],\n",
       " [6],\n",
       " [8],\n",
       " [6],\n",
       " [9],\n",
       " [10],\n",
       " [3],\n",
       " [9],\n",
       " [6],\n",
       " [10],\n",
       " [5],\n",
       " [5],\n",
       " [1],\n",
       " [9],\n",
       " [8],\n",
       " [6],\n",
       " [9],\n",
       " [9],\n",
       " [1],\n",
       " [5],\n",
       " [1],\n",
       " [6],\n",
       " [4],\n",
       " [4],\n",
       " [1]]"
      ]
     },
     "execution_count": 34,
     "metadata": {},
     "output_type": "execute_result"
    }
   ],
   "source": [
    "a"
   ]
  },
  {
   "cell_type": "code",
   "execution_count": null,
   "id": "16014145",
   "metadata": {},
   "outputs": [],
   "source": []
  },
  {
   "cell_type": "code",
   "execution_count": null,
   "id": "6ab3dd05",
   "metadata": {},
   "outputs": [],
   "source": []
  },
  {
   "cell_type": "code",
   "execution_count": null,
   "id": "9cf5ec9d",
   "metadata": {},
   "outputs": [],
   "source": []
  },
  {
   "cell_type": "code",
   "execution_count": null,
   "id": "133b1219",
   "metadata": {},
   "outputs": [],
   "source": []
  }
 ],
 "metadata": {
  "kernelspec": {
   "display_name": "Python 3 (ipykernel)",
   "language": "python",
   "name": "python3"
  },
  "language_info": {
   "codemirror_mode": {
    "name": "ipython",
    "version": 3
   },
   "file_extension": ".py",
   "mimetype": "text/x-python",
   "name": "python",
   "nbconvert_exporter": "python",
   "pygments_lexer": "ipython3",
   "version": "3.9.12"
  }
 },
 "nbformat": 4,
 "nbformat_minor": 5
}
