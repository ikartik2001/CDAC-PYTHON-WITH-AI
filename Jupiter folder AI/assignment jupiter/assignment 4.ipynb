{
 "cells": [
  {
   "cell_type": "markdown",
   "id": "480665a5",
   "metadata": {},
   "source": [
    "## ASSIGNMENT 4\n",
    "### KARTIK THAKUR"
   ]
  },
  {
   "cell_type": "markdown",
   "id": "6a794e90",
   "metadata": {},
   "source": [
    "### 1. Find the factorial of a given number by user"
   ]
  },
  {
   "cell_type": "code",
   "execution_count": 14,
   "id": "dfed97c4",
   "metadata": {},
   "outputs": [
    {
     "name": "stdout",
     "output_type": "stream",
     "text": [
      "Enter a number: 5\n",
      "Factorial of 5 is 120\n"
     ]
    }
   ],
   "source": [
    "n = int(input(\"Enter a number: \"))\n",
    "factorial = 1\n",
    "if n < 0:\n",
    "    print(\"Factorial is not defined for negative numbers.\")\n",
    "elif n == 0:\n",
    "    print(\"Factorial of 0 is 1.\")\n",
    "else:\n",
    "    for i in range(1, n+1):\n",
    "        factorial *= i\n",
    "    print(\"Factorial of\", n, \"is\", factorial)"
   ]
  },
  {
   "cell_type": "markdown",
   "id": "bbbf2d3d",
   "metadata": {},
   "source": [
    "### 2. Write a program to count the total number of digits in a number using a while loop."
   ]
  },
  {
   "cell_type": "code",
   "execution_count": 99,
   "id": "951e4f4d",
   "metadata": {},
   "outputs": [
    {
     "name": "stdout",
     "output_type": "stream",
     "text": [
      "enter digits34\n",
      "0\n",
      "1\n",
      "2\n",
      "3\n",
      "4\n",
      "5\n",
      "6\n",
      "7\n",
      "8\n",
      "9\n",
      "10\n",
      "11\n",
      "12\n",
      "13\n",
      "14\n",
      "15\n",
      "16\n",
      "17\n",
      "18\n",
      "19\n",
      "20\n",
      "21\n",
      "22\n",
      "23\n",
      "24\n",
      "25\n",
      "26\n",
      "27\n",
      "28\n",
      "29\n",
      "30\n",
      "31\n",
      "32\n",
      "33\n"
     ]
    }
   ],
   "source": [
    "x = int(input(\"enter digits\"))\n",
    "for i in range(0,x):\n",
    "    print(i)"
   ]
  },
  {
   "cell_type": "markdown",
   "id": "4cff0883",
   "metadata": {},
   "source": [
    "### 3. Write a Python program to convert temperatures to and from Celsius and Fahrenheit\n"
   ]
  },
  {
   "cell_type": "code",
   "execution_count": 29,
   "id": "5087cc49",
   "metadata": {},
   "outputs": [
    {
     "name": "stdout",
     "output_type": "stream",
     "text": [
      "enter input13\n",
      "your temperature is 13 °C\n",
      "\n",
      "your temperature in farenhite is 439.4 F\n"
     ]
    }
   ],
   "source": [
    "temp_c=int(input(\"enter input\"))\n",
    "print(\"your temperature is\",temp_c,\"°C\\n\")\n",
    "\n",
    "ftemp= temp_c*33.8\n",
    "ftemp=round(ftemp,2)\n",
    "print(\"your temperature in farenhite is\",ftemp,\"F\")"
   ]
  },
  {
   "cell_type": "markdown",
   "id": "33513193",
   "metadata": {},
   "source": [
    "### 4. Write a Python program that prints each item and its corresponding type from the following list. \n",
    ": datalist =  [1452, 11.23, 1+2j, True, 'C-DAC', (0, -1), [5, 12], {\"class\":'V', \"section\":'A'}]"
   ]
  },
  {
   "cell_type": "code",
   "execution_count": 40,
   "id": "4b6411aa",
   "metadata": {},
   "outputs": [
    {
     "name": "stdout",
     "output_type": "stream",
     "text": [
      "1452 <class 'int'>\n",
      "11.23 <class 'float'>\n",
      "(1+2j) <class 'complex'>\n",
      "True <class 'bool'>\n",
      "C-DAC <class 'str'>\n",
      "(0, -1) <class 'tuple'>\n",
      "[5, 12] <class 'list'>\n",
      "{'class': 'V', 'section': 'A'} <class 'dict'>\n"
     ]
    }
   ],
   "source": [
    "datalist =  [1452, 11.23, 1+2j, True, 'C-DAC', (0, -1), [5, 12], {\"class\":'V', \"section\":'A'}]\n",
    "\n",
    "for i in datalist:\n",
    "    print(i,type(i))"
   ]
  },
  {
   "cell_type": "markdown",
   "id": "ebf50bea",
   "metadata": {},
   "source": [
    "### 5. Write a Python program that accepts a string and calculates the number of digits and letters."
   ]
  },
  {
   "cell_type": "code",
   "execution_count": 51,
   "id": "ddea4507",
   "metadata": {},
   "outputs": [
    {
     "name": "stdout",
     "output_type": "stream",
     "text": [
      "Enter your numbersdfg\n",
      "sdfg\n",
      "4\n"
     ]
    }
   ],
   "source": [
    "x = str(input(\"Enter your number\"))\n",
    "print(x)\n",
    "\n",
    "xlen = len(x)\n",
    "print(xlen)\n"
   ]
  },
  {
   "cell_type": "markdown",
   "id": "5120a246",
   "metadata": {},
   "source": [
    "## 6. Use else block to display a message “Done” after successful execution of for loop\n",
    "## for i in range(5): \n",
    " ##  print(i)"
   ]
  },
  {
   "cell_type": "code",
   "execution_count": 3,
   "id": "1c093520",
   "metadata": {},
   "outputs": [
    {
     "name": "stdout",
     "output_type": "stream",
     "text": [
      "0\n",
      "1\n",
      "2\n",
      "3\n",
      "4\n",
      "done\n"
     ]
    }
   ],
   "source": [
    "for i in range(5):\n",
    "    print(i)\n",
    "else:\n",
    "    print(\"done\")"
   ]
  },
  {
   "cell_type": "markdown",
   "id": "ecf74301",
   "metadata": {},
   "source": [
    "### 7. Write a Python program to print the alphabet pattern 'D' using # symbol"
   ]
  },
  {
   "cell_type": "code",
   "execution_count": 64,
   "id": "597f11ea",
   "metadata": {},
   "outputs": [
    {
     "name": "stdout",
     "output_type": "stream",
     "text": [
      "#########\n",
      "#       #\n",
      "#      #\n",
      "#     #\n",
      "#    #\n",
      "#  #\n",
      "#\n"
     ]
    }
   ],
   "source": [
    "\n",
    "\n",
    "print(\"#########\")\n",
    "print(\"#       #\" )\n",
    "print(\"#      #\")\n",
    "print(\"#     #\") \n",
    "print(\"#    #\")\n",
    "print(\"#  #\")\n",
    "print(\"#\")\n",
    "\n",
    "\n",
    "\n"
   ]
  },
  {
   "cell_type": "markdown",
   "id": "46f5bb6b",
   "metadata": {},
   "source": [
    "### 8.  Write a Python program to convert a month name to a number of days from given month name list.\n",
    "### month=['jan', 'feb', 'mar', ........., 'nov', 'dec']"
   ]
  },
  {
   "cell_type": "code",
   "execution_count": 87,
   "id": "afadb815",
   "metadata": {},
   "outputs": [
    {
     "name": "stdout",
     "output_type": "stream",
     "text": [
      " enter month name march\n",
      "31\n"
     ]
    }
   ],
   "source": [
    "month ={\"january\":31,\"feburary\":28,\"march\":31,\"april\":30,\"may\":31,\"june\":30,\"july\":31,\"august\":30,\"september\":31,\"october\":30,\"novomber\":31,\"december\":30}\n",
    "z= str(input(\" enter month name \"))\n",
    "\n",
    "print(month[z])\n"
   ]
  },
  {
   "cell_type": "markdown",
   "id": "8e31023b",
   "metadata": {},
   "source": [
    "### 9. Find all of the numbers from 1–1000 that have a 6 in them using list comprehension"
   ]
  },
  {
   "cell_type": "code",
   "execution_count": 81,
   "id": "d7e2f453",
   "metadata": {},
   "outputs": [
    {
     "name": "stdout",
     "output_type": "stream",
     "text": [
      "[6, 16, 26, 36, 46, 56, 60, 61, 62, 63, 64, 65, 66, 67, 68, 69, 76, 86, 96, 106, 116, 126, 136, 146, 156, 160, 161, 162, 163, 164, 165, 166, 167, 168, 169, 176, 186, 196, 206, 216, 226, 236, 246, 256, 260, 261, 262, 263, 264, 265, 266, 267, 268, 269, 276, 286, 296, 306, 316, 326, 336, 346, 356, 360, 361, 362, 363, 364, 365, 366, 367, 368, 369, 376, 386, 396, 406, 416, 426, 436, 446, 456, 460, 461, 462, 463, 464, 465, 466, 467, 468, 469, 476, 486, 496, 506, 516, 526, 536, 546, 556, 560, 561, 562, 563, 564, 565, 566, 567, 568, 569, 576, 586, 596, 600, 601, 602, 603, 604, 605, 606, 607, 608, 609, 610, 611, 612, 613, 614, 615, 616, 617, 618, 619, 620, 621, 622, 623, 624, 625, 626, 627, 628, 629, 630, 631, 632, 633, 634, 635, 636, 637, 638, 639, 640, 641, 642, 643, 644, 645, 646, 647, 648, 649, 650, 651, 652, 653, 654, 655, 656, 657, 658, 659, 660, 661, 662, 663, 664, 665, 666, 667, 668, 669, 670, 671, 672, 673, 674, 675, 676, 677, 678, 679, 680, 681, 682, 683, 684, 685, 686, 687, 688, 689, 690, 691, 692, 693, 694, 695, 696, 697, 698, 699, 706, 716, 726, 736, 746, 756, 760, 761, 762, 763, 764, 765, 766, 767, 768, 769, 776, 786, 796, 806, 816, 826, 836, 846, 856, 860, 861, 862, 863, 864, 865, 866, 867, 868, 869, 876, 886, 896, 906, 916, 926, 936, 946, 956, 960, 961, 962, 963, 964, 965, 966, 967, 968, 969, 976, 986, 996]\n"
     ]
    }
   ],
   "source": [
    "\n",
    "numbers_with_6 = [num for num in range(1, 1001) if '6' in str(num)];print(numbers_with_6)"
   ]
  },
  {
   "cell_type": "markdown",
   "id": "802b7674",
   "metadata": {},
   "source": [
    "### 10. Remove all of the vowels in a given string\n",
    "### \"Practice Problems to Learn List Comprehension\""
   ]
  },
  {
   "cell_type": "code",
   "execution_count": 97,
   "id": "5512c61c",
   "metadata": {},
   "outputs": [
    {
     "name": "stdout",
     "output_type": "stream",
     "text": [
      "Prctc Prblms t Lrn Lst Cmprhnsn\n"
     ]
    }
   ],
   "source": [
    "string = \"Practice Problems to Learn List Comprehension\"\n",
    "vowels = \"aeiouAEIOU\"\n",
    "result = \"\".join([char for char in string if char not in vowels])\n",
    "print(result)"
   ]
  },
  {
   "cell_type": "code",
   "execution_count": null,
   "id": "3201a6d3",
   "metadata": {},
   "outputs": [],
   "source": []
  }
 ],
 "metadata": {
  "kernelspec": {
   "display_name": "Python 3 (ipykernel)",
   "language": "python",
   "name": "python3"
  },
  "language_info": {
   "codemirror_mode": {
    "name": "ipython",
    "version": 3
   },
   "file_extension": ".py",
   "mimetype": "text/x-python",
   "name": "python",
   "nbconvert_exporter": "python",
   "pygments_lexer": "ipython3",
   "version": "3.9.12"
  }
 },
 "nbformat": 4,
 "nbformat_minor": 5
}
