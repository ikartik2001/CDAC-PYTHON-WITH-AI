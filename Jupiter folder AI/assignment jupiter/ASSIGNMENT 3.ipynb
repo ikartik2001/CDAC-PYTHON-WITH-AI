{
 "cells": [
  {
   "cell_type": "markdown",
   "id": "fffdfc1f",
   "metadata": {},
   "source": [
    "## KARTIK THAKUR\n",
    "## ASSIGNMENT 3\n"
   ]
  },
  {
   "cell_type": "markdown",
   "id": "00216254",
   "metadata": {},
   "source": [
    "\n",
    "## Q1 CONVERT TWO LISTS INTO A DICTIONARY USING ZIP FUNCTION AND DICT() CONSTRUCTIOR\n",
    "\n",
    "### Keys = ['TEN','TENTEY',\"THIRTY\"]\n",
    "\n",
    "### VALUES = [10,20,30]"
   ]
  },
  {
   "cell_type": "code",
   "execution_count": 4,
   "id": "5a9180fa",
   "metadata": {},
   "outputs": [
    {
     "name": "stdout",
     "output_type": "stream",
     "text": [
      "{'TEN': 10, 'TENTEY': 20, ';THIRTY': 30}\n"
     ]
    }
   ],
   "source": [
    "key = ['TEN','TENTEY',\";THIRTY\"]\n",
    "VALUES = [10,20,30]\n",
    "\n",
    "k = zip(key,VALUES)\n",
    "print(dict(k))"
   ]
  },
  {
   "cell_type": "markdown",
   "id": "08b47a9c",
   "metadata": {},
   "source": [
    "### 2. Merge two Python dictionaries into one\n",
    "### dict1 = {'Ten': 10, 'Twenty': 20, 'Thirty': 30}\n",
    "### dict2 = {'Thirty': 30, 'Fourty': 40, 'Fifty': 50}"
   ]
  },
  {
   "cell_type": "code",
   "execution_count": 6,
   "id": "a62c9004",
   "metadata": {},
   "outputs": [
    {
     "name": "stdout",
     "output_type": "stream",
     "text": [
      "{'Ten': 10, 'Twenty': 20, 'Thirty': 30, 'Fourty': 40, 'Fifty': 50}\n"
     ]
    }
   ],
   "source": [
    "\n",
    "dict1 = {'Ten': 10, 'Twenty': 20, 'Thirty': 30}\n",
    "dict2 = {'Thirty': 30, 'Fourty': 40, 'Fifty': 50}\n",
    "\n",
    "dict1.update(dict2)\n",
    "print(dict1)"
   ]
  },
  {
   "cell_type": "markdown",
   "id": "c1d61853",
   "metadata": {},
   "source": [
    "### 3. Print the value of key ‘history’ from the below dict\n",
    "### sampleDict = {\"class\": {\"student\": {\"name\": \"Mike\",\"marks\": {\"physics\": 70,\"history\": 80}}}}"
   ]
  },
  {
   "cell_type": "code",
   "execution_count": 13,
   "id": "c9056113",
   "metadata": {},
   "outputs": [
    {
     "name": "stdout",
     "output_type": "stream",
     "text": [
      "80\n"
     ]
    }
   ],
   "source": [
    "sampleDict = {\"class\": {\"student\": {\"name\": \"Mike\",\"marks\": {\"physics\": 70,\"history\": 80}}}}\n",
    "\n",
    "print(sampleDict[\"class\"][\"student\"][\"marks\"][\"history\"])"
   ]
  },
  {
   "cell_type": "markdown",
   "id": "06f04e0e",
   "metadata": {},
   "source": [
    "### 4. What is the output of print(2 * 3 ** 3 * 4)"
   ]
  },
  {
   "cell_type": "code",
   "execution_count": 14,
   "id": "832f4c3d",
   "metadata": {},
   "outputs": [
    {
     "name": "stdout",
     "output_type": "stream",
     "text": [
      "216\n"
     ]
    }
   ],
   "source": [
    "x = 2*3**3*4\n",
    "print(x)"
   ]
  },
  {
   "cell_type": "markdown",
   "id": "74c63d83",
   "metadata": {},
   "source": [
    "### 5. What is the output of the expression  print(-18 // 4)"
   ]
  },
  {
   "cell_type": "code",
   "execution_count": 15,
   "id": "6fd01e03",
   "metadata": {},
   "outputs": [
    {
     "name": "stdout",
     "output_type": "stream",
     "text": [
      "-5\n"
     ]
    }
   ],
   "source": [
    "print(-18//4)"
   ]
  },
  {
   "cell_type": "markdown",
   "id": "88507fe1",
   "metadata": {},
   "source": [
    "### 6. What is the output of the following code\n",
    "### x = 6\n",
    "### y = 2\n",
    "### print(x ** y)\n",
    "### print(x // y)"
   ]
  },
  {
   "cell_type": "code",
   "execution_count": null,
   "id": "18a04491",
   "metadata": {},
   "outputs": [],
   "source": [
    "\n",
    "x = 6\n",
    "y = 2\n",
    "print(x ** y)\n",
    "print(x // y)"
   ]
  },
  {
   "cell_type": "markdown",
   "id": "803e9084",
   "metadata": {},
   "source": [
    "### 7. What is the output of the following assignment operator\n",
    "### y = 10\n",
    "### x = y += 2\n",
    "### print(x)"
   ]
  },
  {
   "cell_type": "code",
   "execution_count": 22,
   "id": "02cff04b",
   "metadata": {},
   "outputs": [
    {
     "name": "stdout",
     "output_type": "stream",
     "text": [
      "12\n"
     ]
    }
   ],
   "source": [
    "\n",
    "y = 10\n",
    "x = y + 2\n",
    "print(x)"
   ]
  },
  {
   "cell_type": "markdown",
   "id": "710dd3df",
   "metadata": {},
   "source": [
    "### 8. Take values of length and breadth of a rectangle from user and check if it is square or not."
   ]
  },
  {
   "cell_type": "code",
   "execution_count": 30,
   "id": "ca00de23",
   "metadata": {},
   "outputs": [
    {
     "name": "stdout",
     "output_type": "stream",
     "text": [
      "enter height\n",
      "12\n",
      "enter breadth\n",
      "12\n",
      "its is a square \n",
      "\n"
     ]
    }
   ],
   "source": [
    "height = int(input(\"enter height\\n\"))\n",
    "breadth = int(input(\"enter breadth\\n\"))\n",
    "\n",
    "if height==breadth:\n",
    "    print(\"its is a square \\n\")\n",
    "else:\n",
    "    print(\"it is a reactangle\")\n",
    "    "
   ]
  },
  {
   "cell_type": "markdown",
   "id": "c4b80308",
   "metadata": {},
   "source": [
    "### 9. Take input of age of 3 people by user and determine oldest and youngest among them."
   ]
  },
  {
   "cell_type": "code",
   "execution_count": 36,
   "id": "0da6809b",
   "metadata": {},
   "outputs": [
    {
     "name": "stdout",
     "output_type": "stream",
     "text": [
      "enter your age234\n",
      "enter your age32\n",
      "enter your age3\n",
      "[3, 32, 234]\n",
      "3 is youngest 32 is middle 234 is oldest\n"
     ]
    }
   ],
   "source": [
    "user1 = int(input(\"enter your age\"))\n",
    "user2 = int(input(\"enter your age\"))\n",
    "user3 = int(input(\"enter your age\"))\n",
    "\n",
    "age = [user1,user2,user3]\n",
    "age.sort()\n",
    "\n",
    "print(age)\n",
    "print(age[0],\"is youngest\",age[1],\"is middle\",age[2],\"is oldest\")"
   ]
  },
  {
   "cell_type": "markdown",
   "id": "4c80c67e",
   "metadata": {},
   "source": [
    "### 10. A student will not be allowed to sit in exam if his/her attendance is less than 75%.Take following input from user\n",
    "### Number of classes held\n",
    "### Number of classes attended.\n",
    "### And print\n",
    "### percentage of class attended\n",
    "### Is student is allowed to sit in exam or not."
   ]
  },
  {
   "cell_type": "code",
   "execution_count": 42,
   "id": "fffbe43e",
   "metadata": {},
   "outputs": [
    {
     "name": "stdout",
     "output_type": "stream",
     "text": [
      "ENTER YOUR NAMECHOMU\n",
      "no.of classes held100\n",
      "no  of classes76\n",
      "76.0 %\n",
      "YOU ARE ALLOWED TO SIT IN EXAM\n"
     ]
    }
   ],
   "source": [
    "Name = str(input(\"ENTER YOUR NAME\"))\n",
    "classes_held= int(input(\"no.of classes held\"))\n",
    "NO_OF_CLASSES = int(input(\"no  of classes\"))\n",
    "\n",
    "percentage_classes =( NO_OF_CLASSES/classes_held*100)\n",
    "print(percentage_classes,\"%\")\n",
    "\n",
    "if percentage_classes<75:\n",
    "    print(\"NOT ALLOWED TO SIT IN EXAM\")\n",
    "else:\n",
    "        print(\"YOU ARE ALLOWED TO SIT IN EXAM\")"
   ]
  },
  {
   "cell_type": "code",
   "execution_count": null,
   "id": "e7eaec08",
   "metadata": {},
   "outputs": [],
   "source": []
  }
 ],
 "metadata": {
  "kernelspec": {
   "display_name": "Python 3 (ipykernel)",
   "language": "python",
   "name": "python3"
  },
  "language_info": {
   "codemirror_mode": {
    "name": "ipython",
    "version": 3
   },
   "file_extension": ".py",
   "mimetype": "text/x-python",
   "name": "python",
   "nbconvert_exporter": "python",
   "pygments_lexer": "ipython3",
   "version": "3.9.12"
  }
 },
 "nbformat": 4,
 "nbformat_minor": 5
}
