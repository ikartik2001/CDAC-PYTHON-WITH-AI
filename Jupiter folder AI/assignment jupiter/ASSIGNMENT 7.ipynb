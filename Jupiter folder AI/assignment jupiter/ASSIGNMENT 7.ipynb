{
 "cells": [
  {
   "cell_type": "code",
   "execution_count": 89,
   "metadata": {},
   "outputs": [],
   "source": [
    "## ASSIGNMENT 7\n",
    "## KARTIK THAKUR\n"
   ]
  },
  {
   "attachments": {},
   "cell_type": "markdown",
   "metadata": {},
   "source": [
    "### 1. Create a bank account class that has two attributes:\n",
    "owner\n",
    "balance\n",
    "and two methods:\n",
    "deposit\n",
    "withdraw\n",
    "As an added requirement, withdrawals may not exceed the available balance.\n",
    "Instantiate your class, make several deposits and withdrawals, and test to make sure the account can't be overdrawn."
   ]
  },
  {
   "cell_type": "code",
   "execution_count": 88,
   "metadata": {},
   "outputs": [
    {
     "name": "stdout",
     "output_type": "stream",
     "text": [
      "STARTED BALANCE₹ 100\n",
      "you withdrew :₹ 10\n",
      "balance after withdrawl :₹ 90\n",
      "you depostited : ₹ 1000\n",
      "your new balane is now :₹ 1090\n",
      "you withdrew :₹ 99\n",
      "balance after withdrawl :₹ 991\n",
      "you depostited : ₹ 122\n",
      "your new balane is now :₹ 1113\n",
      "ALETRT! , WITHDRAW AMOUNT CAN NOT EXCCED DEBIT BALANCE\n",
      "YOU TRIED TO WITHDRAW ₹ 10000 ₹ 10 FINE WIL BE DEDUCTED NEXT TIME\n"
     ]
    }
   ],
   "source": [
    "class BankAccount():\n",
    "    def __init__(self, owner, balance):\n",
    "        self.owner = owner\n",
    "        self.balance = int(balance)\n",
    "    \n",
    "    \n",
    "\n",
    "    def deposit(self, deposit):\n",
    "        self.balance = self.balance + deposit\n",
    "        print(\"you depostited : \\u20B9\",deposit)\n",
    "        print(\"your new balane is now :\\u20B9\",self.balance)\n",
    "   \n",
    "    def withdraw(self, withdraw):\n",
    "\n",
    "       if withdraw <= self.balance:\n",
    "         self.balance = self.balance - withdraw\n",
    "         print(\"you withdrew :\\u20B9\" ,withdraw)\n",
    "         print(\"balance after withdrawl :\\u20B9\",self.balance)\n",
    "\n",
    "       else:\n",
    "          print(\"ALETRT! , WITHDRAW AMOUNT CAN NOT EXCCED DEBIT BALANCE\\nYOU TRIED TO WITHDRAW \\u20B9\",withdraw,\"\\u20B9 10 FINE WIL BE DEDUCTED NEXT TIME\")\n",
    "        \n",
    "\n",
    "        \n",
    "            \n",
    "           \n",
    "        \n",
    "\n",
    "kartik = BankAccount(\"Kartik\",100)\n",
    "\n",
    "\n",
    "print(\"STARTED BALANCE\\u20B9\",kartik.balance)\n",
    "\n",
    "kartik.withdraw(10)\n",
    "kartik.deposit(1000)\n",
    "kartik.withdraw(99)\n",
    "kartik.deposit(122)\n",
    "# now if i withdraw more than my balance or status\n",
    "kartik.withdraw(10000)\n"
   ]
  },
  {
   "attachments": {},
   "cell_type": "markdown",
   "metadata": {},
   "source": [
    "### 2. Give example of Polymorphism in addition operator"
   ]
  },
  {
   "cell_type": "code",
   "execution_count": 99,
   "metadata": {},
   "outputs": [
    {
     "name": "stdout",
     "output_type": "stream",
     "text": [
      "24\n",
      "kartikthakur\n"
     ]
    },
    {
     "data": {
      "text/plain": [
       "'kartik21'"
      ]
     },
     "execution_count": 99,
     "metadata": {},
     "output_type": "execute_result"
    }
   ],
   "source": [
    "# poly means many , morpism means to adapt to new enviornmnet or situation\n",
    "# for + operator polymorpism is quite obvious when it tries to add different data types like\n",
    "\n",
    "# adding numbers and numbers \n",
    "a = 12 # let any no.\n",
    "b= 12\n",
    "\n",
    "a+b # this is first example\n",
    "print(a+b)\n",
    "\n",
    "#2nd adding strings with strings\n",
    "\n",
    "c= \"kartik\"\n",
    "d=\"thakur\"\n",
    "\n",
    "print(c+d)  # even tough + is for numbers but still it addds two strings together called concatination\n",
    "\n",
    "#3 adding digits and strings ..even tough WE CAN'T ADD NO. AND STRINGS\n",
    "# just to show , we can convert number into string ..which is widely used in user interface appls\n",
    "\n",
    "e = \"kartik\"\n",
    "f = str(\"21\")\n",
    "e+f\n",
    "\n",
    "# so this is polymorphism for you , where one operator can perfrom operations based on situation\n",
    "# python is developed keeping this concept in mind which will be applied in oopos soon .."
   ]
  },
  {
   "cell_type": "code",
   "execution_count": null,
   "metadata": {},
   "outputs": [],
   "source": []
  }
 ],
 "metadata": {
  "kernelspec": {
   "display_name": "base",
   "language": "python",
   "name": "python3"
  },
  "language_info": {
   "codemirror_mode": {
    "name": "ipython",
    "version": 3
   },
   "file_extension": ".py",
   "mimetype": "text/x-python",
   "name": "python",
   "nbconvert_exporter": "python",
   "pygments_lexer": "ipython3",
   "version": "3.11.2"
  },
  "orig_nbformat": 4
 },
 "nbformat": 4,
 "nbformat_minor": 2
}
