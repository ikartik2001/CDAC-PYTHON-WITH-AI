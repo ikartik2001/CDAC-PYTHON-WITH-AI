{
 "cells": [
  {
   "cell_type": "markdown",
   "id": "9ff12faa",
   "metadata": {},
   "source": [
    "### 1. Write a function reverse_string to reverse the string without affecting the special character and digits. Note: Enter with the help of user\n"
   ]
  },
  {
   "cell_type": "code",
   "execution_count": 92,
   "id": "a270dd29",
   "metadata": {},
   "outputs": [
    {
     "name": "stdout",
     "output_type": "stream",
     "text": [
      "input string: ika@rtikthakur2001\n",
      "output string: i k a @ r t i k t h a k u r 2 0 0 1\n"
     ]
    }
   ],
   "source": [
    "def reverse_string(stri):\n",
    "    k=len(stri)\n",
    "    #start loop till half of index\n",
    "    for i in range(0,int(len(stri)/2)):\n",
    "        #check wheather the character is present or not\n",
    "        if stri[i].isalpha():\n",
    "            t=stri[i]\n",
    "        while True:\n",
    "            k=-1\n",
    "            if stri[k].isalpha():\n",
    "                stri[i]=stri[k]\n",
    "                stri[k]=t\n",
    "            break\n",
    "    return stri\n",
    "stri=\"ika@rtikthakur2001\"\n",
    "print(\"input string:\",stri)\n",
    "stri=reverse_string(list(stri))\n",
    "print(\"output string:\",\" \".join(stri))\n"
   ]
  },
  {
   "cell_type": "markdown",
   "id": "57f9b18e",
   "metadata": {},
   "source": [
    "### 2. Write a function dateCheck that takes a date in string format DD/MM/YYYY and checks to see if it is a valid date and in the correct format. "
   ]
  },
  {
   "cell_type": "code",
   "execution_count": 90,
   "id": "7fd46be7",
   "metadata": {},
   "outputs": [
    {
     "name": "stdout",
     "output_type": "stream",
     "text": [
      "no\n"
     ]
    }
   ],
   "source": [
    "import datetime\n",
    "\n",
    "def datecheck (date,month,year):\n",
    "    \n",
    "       datetime.datetime(year,month,date)\n",
    "    if  == True:\n",
    "        print(\"yes\")\n",
    "    else:\n",
    "        print(\"no\")\n",
    "\n",
    "datecheck(12,3,2001)"
   ]
  },
  {
   "cell_type": "markdown",
   "id": "d96e157c",
   "metadata": {},
   "source": [
    "### 3. Write a program to create function calculation() such that it can accept two variables and calculate addition and subtraction. Also, it must return both addition and subtraction in a single return call."
   ]
  },
  {
   "cell_type": "code",
   "execution_count": 89,
   "id": "abb8ded6",
   "metadata": {},
   "outputs": [
    {
     "data": {
      "text/plain": [
       "(75, -11)"
      ]
     },
     "execution_count": 89,
     "metadata": {},
     "output_type": "execute_result"
    }
   ],
   "source": [
    "def calculation(a,b):\n",
    "    d = a+b\n",
    "    c = a-b\n",
    "    return (d,c)\n",
    "\n",
    "calculation(32,43)"
   ]
  },
  {
   "cell_type": "markdown",
   "id": "577e0eaf",
   "metadata": {},
   "source": [
    "### 4.  Write a function check that returns the lesser of two given numbers if both numbers are even, but returns the greater if one or both numbers are odd"
   ]
  },
  {
   "cell_type": "code",
   "execution_count": 23,
   "id": "e85664fc",
   "metadata": {},
   "outputs": [
    {
     "name": "stdout",
     "output_type": "stream",
     "text": [
      "3\n"
     ]
    }
   ],
   "source": [
    "\n",
    "def check(a,b):\n",
    "    if a%2 ==0 and b%2==0:\n",
    "        if a<b:\n",
    "            return a\n",
    "        else :\n",
    "            return b\n",
    "    else:\n",
    "        if a>b==True:\n",
    "            print(a)\n",
    "        else:\n",
    "            print(b)\n",
    "    \n",
    "check(2,3)"
   ]
  },
  {
   "cell_type": "markdown",
   "id": "785db0ab",
   "metadata": {},
   "source": [
    "### 5. Write a function stringCheck takes a two-word string and returns True if both words begin with same letter."
   ]
  },
  {
   "cell_type": "code",
   "execution_count": 56,
   "id": "d83fb23c",
   "metadata": {},
   "outputs": [
    {
     "data": {
      "text/plain": [
       "True"
      ]
     },
     "execution_count": 56,
     "metadata": {},
     "output_type": "execute_result"
    }
   ],
   "source": [
    "\n",
    "def stringCheck(put):\n",
    "    l=list(put)\n",
    "    for letter in put:\n",
    "        if put[0]==put[1]:\n",
    "            return True\n",
    "        else:\n",
    "            return False\n",
    "        \n",
    "stringCheck(\"qqartik\")"
   ]
  },
  {
   "cell_type": "markdown",
   "id": "a5c9db54",
   "metadata": {},
   "source": [
    "### 6. Write a program to create a recursive function to calculate the sum of numbers from 0 to 10."
   ]
  },
  {
   "cell_type": "code",
   "execution_count": 79,
   "id": "b5b0ef3b",
   "metadata": {},
   "outputs": [
    {
     "name": "stdout",
     "output_type": "stream",
     "text": [
      "55\n"
     ]
    }
   ],
   "source": [
    "def recursive():\n",
    "    su=0\n",
    "    for i in range(11):\n",
    "        su=su+i\n",
    "    print(su)\n",
    "recursive()\n",
    "    "
   ]
  },
  {
   "cell_type": "code",
   "execution_count": null,
   "id": "1e197f84",
   "metadata": {},
   "outputs": [],
   "source": []
  },
  {
   "cell_type": "code",
   "execution_count": null,
   "id": "fa2d5f58",
   "metadata": {},
   "outputs": [],
   "source": []
  }
 ],
 "metadata": {
  "kernelspec": {
   "display_name": "Python 3 (ipykernel)",
   "language": "python",
   "name": "python3"
  },
  "language_info": {
   "codemirror_mode": {
    "name": "ipython",
    "version": 3
   },
   "file_extension": ".py",
   "mimetype": "text/x-python",
   "name": "python",
   "nbconvert_exporter": "python",
   "pygments_lexer": "ipython3",
   "version": "3.9.12"
  }
 },
 "nbformat": 4,
 "nbformat_minor": 5
}
