{
 "cells": [
  {
   "cell_type": "markdown",
   "id": "9ff12faa",
   "metadata": {},
   "source": [
    "### 1. Write a function reverse_string to reverse the string without affecting the special character and digits. Note: Enter with the help of user\n"
   ]
  },
  {
   "cell_type": "code",
   "execution_count": 7,
   "id": "a270dd29",
   "metadata": {},
   "outputs": [
    {
     "name": "stdout",
     "output_type": "stream",
     "text": [
      "stringkartik\n",
      "k\n",
      "a\n",
      "r\n",
      "t\n",
      "i\n",
      "k\n"
     ]
    }
   ],
   "source": [
    "string = str(input(\"string\"))\n",
    "stringlen=len(string)\n",
    "for i in range(stringlen):\n",
    "    \n",
    "    \n",
    "\n"
   ]
  },
  {
   "cell_type": "markdown",
   "id": "57f9b18e",
   "metadata": {},
   "source": [
    "### 2. Write a function dateCheck that takes a date in string format DD/MM/YYYY and checks to see if it is a valid date and in the correct format. "
   ]
  },
  {
   "cell_type": "code",
   "execution_count": 3,
   "id": "7fd46be7",
   "metadata": {},
   "outputs": [
    {
     "name": "stdout",
     "output_type": "stream",
     "text": [
      "2023-03-06\n"
     ]
    }
   ],
   "source": [
    "from datetime import date\n",
    "date = date.today()\n",
    "print(date)"
   ]
  },
  {
   "cell_type": "code",
   "execution_count": null,
   "id": "7e14a354",
   "metadata": {},
   "outputs": [],
   "source": []
  }
 ],
 "metadata": {
  "kernelspec": {
   "display_name": "Python 3 (ipykernel)",
   "language": "python",
   "name": "python3"
  },
  "language_info": {
   "codemirror_mode": {
    "name": "ipython",
    "version": 3
   },
   "file_extension": ".py",
   "mimetype": "text/x-python",
   "name": "python",
   "nbconvert_exporter": "python",
   "pygments_lexer": "ipython3",
   "version": "3.9.12"
  }
 },
 "nbformat": 4,
 "nbformat_minor": 5
}
