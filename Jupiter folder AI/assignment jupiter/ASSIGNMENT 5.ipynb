{
 "cells": [
  {
   "cell_type": "markdown",
   "id": "6692fb7c",
   "metadata": {},
   "source": [
    "## ASSIGNMENT 5\n",
    "### KARTIK THAKUR"
   ]
  },
  {
   "cell_type": "markdown",
   "id": "f211fd1e",
   "metadata": {},
   "source": [
    "## Q1 Given list is [2,4,5,6,6,5] Print as the runner-up score."
   ]
  },
  {
   "cell_type": "code",
   "execution_count": 26,
   "id": "d22c056d",
   "metadata": {},
   "outputs": [
    {
     "name": "stdout",
     "output_type": "stream",
     "text": [
      "[6, 5, 4, 2]\n",
      "5\n"
     ]
    }
   ],
   "source": [
    "list1=[2,4,5,6,6,5]\n",
    "list1=set(list1)\n",
    "\n",
    "#print(list1)\n",
    "\n",
    "listsort=sorted(list1,reverse=True)\n",
    "print(listsort)\n",
    "print(listsort[1])"
   ]
  },
  {
   "cell_type": "markdown",
   "id": "81ddede3",
   "metadata": {},
   "source": [
    "### 2. Given an integer n by user , perform the following conditional actions:\n",
    "### If n  is odd, print Weird\n",
    "### If n is even and in the inclusive range of 2 to 5, print Not Weird\n",
    "### If n is even and in the inclusive range of 6 to 20, print Weird\n",
    "### If n is even and greater than 20 , print Not Weird"
   ]
  },
  {
   "cell_type": "code",
   "execution_count": 43,
   "id": "3dffea69",
   "metadata": {},
   "outputs": [
    {
     "name": "stdout",
     "output_type": "stream",
     "text": [
      "enter your number22\n",
      "\n",
      "not weird\n"
     ]
    }
   ],
   "source": [
    "n = int(input(\"enter your number\"))\n",
    "\n",
    "odd=n%2\n",
    "even=n%2\n",
    "print()\n",
    "if (odd)==1:\n",
    "    print(\"wierd\")\n",
    "elif(n in range(2,5)):\n",
    "        print(\"not wierd\")\n",
    "elif(n in range (6,20)):\n",
    "            print(\"weird\")\n",
    "else:\n",
    "                print(\"not weird\")"
   ]
  },
  {
   "cell_type": "markdown",
   "id": "a4edfd30",
   "metadata": {},
   "source": [
    "### 3. The provided code stub will read in a dictionary containing key/value pairs of name:[marks] for a list of students. Print\n",
    "### the average of the marks array for the student name provided, showing 2 places after the decimal."
   ]
  },
  {
   "cell_type": "code",
   "execution_count": 115,
   "id": "4736768e",
   "metadata": {},
   "outputs": [
    {
     "name": "stdout",
     "output_type": "stream",
     "text": [
      "<class 'list'>\n"
     ]
    }
   ],
   "source": [
    "a=\"kartik\"\n",
    "b=\"anmol\"\n",
    "marks = { a : [20,25,40], b :[30,35,40] }\n",
    "avg_marks=\n"
   ]
  },
  {
   "cell_type": "markdown",
   "id": "0f20e572",
   "metadata": {},
   "source": [
    "### 4. Write a program to display the first 7 multiples of 7."
   ]
  },
  {
   "cell_type": "code",
   "execution_count": 76,
   "id": "5c534db6",
   "metadata": {},
   "outputs": [
    {
     "name": "stdout",
     "output_type": "stream",
     "text": [
      "7\n",
      "14\n",
      "21\n",
      "28\n",
      "35\n",
      "42\n",
      "49\n",
      "56\n",
      "63\n",
      "70\n",
      "77\n"
     ]
    }
   ],
   "source": [
    "first7=[]\n",
    "for i in range(1,80):\n",
    "    if i%7==0:\n",
    "        first7.append(i)\n",
    "#print(first7)\n",
    "for i in first7:\n",
    "    print(i)\n",
    "\n",
    "        "
   ]
  },
  {
   "cell_type": "markdown",
   "id": "17333762",
   "metadata": {},
   "source": [
    "### 5. Consider a list (list = []). You can perform the following commands:\n",
    "### insert i , e: Insert integer e  at position i.\n",
    "### print: Print the list.\n",
    "### remove e: Delete the first occurrence of integer e.\n",
    "### append e: Insert integer e at the end of the list.\n",
    "### sort: Sort the list.\n",
    "### pop: Pop the last element from the list.\n",
    "#### reverse: Reverse the list."
   ]
  },
  {
   "cell_type": "code",
   "execution_count": 103,
   "id": "eff8c6df",
   "metadata": {},
   "outputs": [
    {
     "name": "stdout",
     "output_type": "stream",
     "text": [
      "['a', 'e', 'o']\n",
      "['i', 'e', 'e', 'a']\n"
     ]
    }
   ],
   "source": [
    "mylist=[]\n",
    "\n",
    "print(mylist)\n",
    "\n",
    "l=len(mylist)\n",
    "mylist.insert(0,\"i\")   #insert i , e: Insert integer e at position i.\n",
    "\n",
    "mylist.insert(0,\"e\")\n",
    "\n",
    "mylist.remove(\"e\")  #remove e: Delete the first occurrence of integer e.\n",
    "\n",
    "l=len(mylist)\n",
    "mylist.insert(l,\"e\")\n",
    "\n",
    "mylist.sort()           #sort: Sort the list\n",
    "\n",
    "mylist.pop(l)           #pop: Pop the last element from the list.\n",
    "\n",
    "\n",
    "mylist.sort(reverse=True)\n",
    "print(mylist)"
   ]
  },
  {
   "cell_type": "code",
   "execution_count": null,
   "id": "88ecebf8",
   "metadata": {},
   "outputs": [],
   "source": []
  }
 ],
 "metadata": {
  "kernelspec": {
   "display_name": "Python 3 (ipykernel)",
   "language": "python",
   "name": "python3"
  },
  "language_info": {
   "codemirror_mode": {
    "name": "ipython",
    "version": 3
   },
   "file_extension": ".py",
   "mimetype": "text/x-python",
   "name": "python",
   "nbconvert_exporter": "python",
   "pygments_lexer": "ipython3",
   "version": "3.9.12"
  }
 },
 "nbformat": 4,
 "nbformat_minor": 5
}
