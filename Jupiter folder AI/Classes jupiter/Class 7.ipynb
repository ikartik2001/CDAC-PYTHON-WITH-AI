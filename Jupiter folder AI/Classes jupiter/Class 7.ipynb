{
 "cells": [
  {
   "cell_type": "markdown",
   "id": "51cecc5a",
   "metadata": {},
   "source": [
    "### Python OOPS\n",
    "\n",
    "In Python, object-oriented Programming (OOPs) is a programming paradigm that uses objects and classes in programming. It aims to implement real-world entities like inheritance, polymorphisms, encapsulation, etc. in the programming. The main concept of OOPs is to bind the data and the functions that work on that together as a single unit so that no other part of the code can access this data.\n",
    "\n",
    "Main Concepts of Object-Oriented Programming (OOPs) \n",
    "Class\n",
    "Objects\n",
    "Polymorphism\n",
    "Encapsulation\n",
    "Inheritance\n",
    "Data Abstraction"
   ]
  },
  {
   "cell_type": "code",
   "execution_count": 3,
   "id": "69ed35be",
   "metadata": {},
   "outputs": [
    {
     "name": "stdout",
     "output_type": "stream",
     "text": [
      "my name is  kiran and my age is 20\n"
     ]
    }
   ],
   "source": [
    "class Info:\n",
    "    name=\"kiran\"\n",
    "    age= 20\n",
    "    \n",
    "    def desc(hu):\n",
    "        print(\"my name is \",hu.name, \"and my age is\",hu.age)\n",
    "        \n",
    "obj = Info()\n",
    "obj.desc()"
   ]
  },
  {
   "cell_type": "markdown",
   "id": "3dd8d9cb",
   "metadata": {},
   "source": [
    "# init method(constructor)\n",
    "the init method is used to initialize the object's state and contains statemnents that are executed \n",
    "at the time of object creation.\n"
   ]
  },
  {
   "cell_type": "code",
   "execution_count": 11,
   "id": "5950d745",
   "metadata": {},
   "outputs": [
    {
     "name": "stdout",
     "output_type": "stream",
     "text": [
      "inside constructor\n",
      "all variables initialized\n",
      "kiran is 20 years old\n"
     ]
    }
   ],
   "source": [
    "class Info:\n",
    "    #constructor\n",
    "    #initiazlize instance variable\n",
    "    def __init__(self,name,age):\n",
    "        #data members(instance variables)\n",
    "        print(\"inside constructor\")\n",
    "        self.name=name\n",
    "        self.age=age\n",
    "        print(\"all variables initialized\")\n",
    "        \n",
    "        def show():\n",
    "            print(self)\n",
    "        \n",
    "obj = Info(\"kiran\",20)\n",
    "print(obj.name,\"is\",obj.age,\"years old\")"
   ]
  },
  {
   "cell_type": "code",
   "execution_count": 8,
   "id": "637dfb54",
   "metadata": {},
   "outputs": [
    {
     "name": "stdout",
     "output_type": "stream",
     "text": [
      "inside constructor\n",
      "all variables initialized\n",
      "21\n"
     ]
    }
   ],
   "source": [
    "anmol = Info(\"anmol\",21)\n",
    "print(anmol.age)"
   ]
  },
  {
   "cell_type": "markdown",
   "id": "f2aaf4c4",
   "metadata": {},
   "source": [
    "### Distructor\n",
    "\n",
    "A diestructor is called when an object is deleted or destroyed"
   ]
  },
  {
   "cell_type": "code",
   "execution_count": 38,
   "id": "f231971a",
   "metadata": {},
   "outputs": [
    {
     "name": "stdout",
     "output_type": "stream",
     "text": [
      "hello my name is  kiran\n",
      "kiran\n",
      "kiran\n"
     ]
    }
   ],
   "source": [
    "class Info:\n",
    "    def __init__(self,name,age):\n",
    "        self.name=name\n",
    "        self.age=age\n",
    "        \n",
    "    def show(self):\n",
    "        print(\"hello my name is \",self.name)\n",
    "        \n",
    "        #destructor\n",
    "        \n",
    "    def __del__(self):\n",
    "        pass\n",
    "        \n",
    "        \n",
    "obj = Info(\"kiran\",20)\n",
    "\n",
    "obj.show()\n",
    "print(obj.name)\n",
    "\n",
    "print(obj.name)"
   ]
  },
  {
   "cell_type": "code",
   "execution_count": 46,
   "id": "74106405",
   "metadata": {},
   "outputs": [
    {
     "name": "stdout",
     "output_type": "stream",
     "text": [
      " simran\n"
     ]
    },
    {
     "ename": "AttributeError",
     "evalue": "'Info' object has no attribute 'name'",
     "output_type": "error",
     "traceback": [
      "\u001b[1;31m---------------------------------------------------------------------------\u001b[0m",
      "\u001b[1;31mAttributeError\u001b[0m                            Traceback (most recent call last)",
      "Input \u001b[1;32mIn [46]\u001b[0m, in \u001b[0;36m<cell line: 7>\u001b[1;34m()\u001b[0m\n\u001b[0;32m      4\u001b[0m \u001b[38;5;28mprint\u001b[39m(obj\u001b[38;5;241m.\u001b[39mname)\n\u001b[0;32m      6\u001b[0m \u001b[38;5;28;01mdel\u001b[39;00m obj\u001b[38;5;241m.\u001b[39mname\n\u001b[1;32m----> 7\u001b[0m \u001b[38;5;28mprint\u001b[39m(\u001b[43mobj\u001b[49m\u001b[38;5;241;43m.\u001b[39;49m\u001b[43mname\u001b[49m)\n",
      "\u001b[1;31mAttributeError\u001b[0m: 'Info' object has no attribute 'name'"
     ]
    }
   ],
   "source": [
    "## modify objects and their properties\n",
    "\n",
    "obj.name=\" simran\"\n",
    "print(obj.name)\n",
    "\n",
    "del obj.name\n",
    "print(obj.name)\n",
    "\n"
   ]
  },
  {
   "cell_type": "code",
   "execution_count": 48,
   "id": "2ab9a698",
   "metadata": {},
   "outputs": [
    {
     "name": "stdout",
     "output_type": "stream",
     "text": [
      "anmol\n"
     ]
    }
   ],
   "source": [
    "print(anmol.name)"
   ]
  },
  {
   "cell_type": "code",
   "execution_count": 50,
   "id": "14aede72",
   "metadata": {},
   "outputs": [],
   "source": [
    "###Q`1\n",
    "###WRITE A PYTHON PROGRAM TO CREATE A CLASS COURSES CLASS WITH COURSE_NAME AND TOTAL_STUDENTS INSTANCES ATTRIBUTES"
   ]
  },
  {
   "cell_type": "code",
   "execution_count": 53,
   "id": "6c2c9600",
   "metadata": {},
   "outputs": [
    {
     "name": "stdout",
     "output_type": "stream",
     "text": [
      "<__main__.course object at 0x000002DCF6483880>\n",
      "Advanced ai wth python\n",
      "52\n"
     ]
    }
   ],
   "source": [
    "class  course():\n",
    "    def __init__(self,course_name,total_students):\n",
    "        self.course_name= course_name\n",
    "        self.total_students= total_students\n",
    "\n",
    "\n",
    "obj =course(\"Advanced ai wth python\",\"52\")\n",
    "\n",
    "print(obj)\n",
    "print(obj.course_name)\n",
    "print(obj.total_students)"
   ]
  },
  {
   "cell_type": "code",
   "execution_count": null,
   "id": "03138964",
   "metadata": {},
   "outputs": [],
   "source": []
  }
 ],
 "metadata": {
  "kernelspec": {
   "display_name": "Python 3 (ipykernel)",
   "language": "python",
   "name": "python3"
  },
  "language_info": {
   "codemirror_mode": {
    "name": "ipython",
    "version": 3
   },
   "file_extension": ".py",
   "mimetype": "text/x-python",
   "name": "python",
   "nbconvert_exporter": "python",
   "pygments_lexer": "ipython3",
   "version": "3.9.12"
  }
 },
 "nbformat": 4,
 "nbformat_minor": 5
}
