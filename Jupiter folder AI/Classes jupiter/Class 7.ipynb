{
 "cells": [
  {
   "cell_type": "markdown",
   "id": "425c5dac",
   "metadata": {},
   "source": [
    "### Python OOPS\n",
    "\n",
    "In Python, object-oriented Programming (OOPs) is a programming paradigm that uses objects and classes in programming. It aims to implement real-world entities like inheritance, polymorphisms, encapsulation, etc. in the programming. The main concept of OOPs is to bind the data and the functions that work on that together as a single unit so that no other part of the code can access this data.\n",
    "\n",
    "Main Concepts of Object-Oriented Programming (OOPs) \n",
    "Class\n",
    "Objects\n",
    "Polymorphism\n",
    "Encapsulation\n",
    "Inheritance\n",
    "Data Abstraction"
   ]
  },
  {
   "cell_type": "code",
   "execution_count": 3,
   "id": "ee543ac4",
   "metadata": {},
   "outputs": [
    {
     "name": "stdout",
     "output_type": "stream",
     "text": [
      "my name is  kiran and my age is 20\n"
     ]
    }
   ],
   "source": [
    "class Info:\n",
    "    name=\"kiran\"\n",
    "    age= 20\n",
    "    \n",
    "    def desc(hu):\n",
    "        print(\"my name is \",hu.name, \"and my age is\",hu.age)\n",
    "        \n",
    "obj = Info()\n",
    "obj.desc()"
   ]
  },
  {
   "cell_type": "markdown",
   "id": "c3eaa253",
   "metadata": {},
   "source": [
    "# init method(constructor)\n",
    "the init method is used to initialize the object's state and contains statemnents that are executed \n",
    "at the time of object creation.\n"
   ]
  },
  {
   "cell_type": "code",
   "execution_count": 11,
   "id": "e0a5f852",
   "metadata": {},
   "outputs": [
    {
     "name": "stdout",
     "output_type": "stream",
     "text": [
      "inside constructor\n",
      "all variables initialized\n",
      "kiran is 20 years old\n"
     ]
    }
   ],
   "source": [
    "class Info:\n",
    "    #constructor\n",
    "    #initiazlize instance variable\n",
    "    def __init__(self,name,age):\n",
    "        #data members(instance variables)\n",
    "        print(\"inside constructor\")\n",
    "        self.name=name\n",
    "        self.age=age\n",
    "        print(\"all variables initialized\")\n",
    "        \n",
    "        def show():\n",
    "            print(self)\n",
    "        \n",
    "obj = Info(\"kiran\",20)\n",
    "print(obj.name,\"is\",obj.age,\"years old\")"
   ]
  },
  {
   "cell_type": "code",
   "execution_count": 8,
   "id": "ac688b9d",
   "metadata": {},
   "outputs": [
    {
     "name": "stdout",
     "output_type": "stream",
     "text": [
      "inside constructor\n",
      "all variables initialized\n",
      "21\n"
     ]
    }
   ],
   "source": [
    "anmol = Info(\"anmol\",21)\n",
    "print(anmol.age)"
   ]
  },
  {
   "cell_type": "markdown",
   "id": "ff4a2bfa",
   "metadata": {},
   "source": [
    "### Distructor\n",
    "\n",
    "A diestructor is called when an object is deleted or destroyed"
   ]
  },
  {
   "cell_type": "code",
   "execution_count": 38,
   "id": "4295a909",
   "metadata": {},
   "outputs": [
    {
     "name": "stdout",
     "output_type": "stream",
     "text": [
      "hello my name is  kiran\n",
      "kiran\n",
      "kiran\n"
     ]
    }
   ],
   "source": [
    "class Info:\n",
    "    def __init__(self,name,age):\n",
    "        self.name=name\n",
    "        self.age=age\n",
    "        \n",
    "    def show(self):\n",
    "        print(\"hello my name is \",self.name)\n",
    "        \n",
    "        #destructor\n",
    "        \n",
    "    def __del__(self):\n",
    "        pass\n",
    "        \n",
    "        \n",
    "obj = Info(\"kiran\",20)\n",
    "\n",
    "obj.show()\n",
    "print(obj.name)\n",
    "\n",
    "print(obj.name)"
   ]
  },
  {
   "cell_type": "code",
   "execution_count": 46,
   "id": "62749570",
   "metadata": {},
   "outputs": [
    {
     "name": "stdout",
     "output_type": "stream",
     "text": [
      " simran\n"
     ]
    },
    {
     "ename": "AttributeError",
     "evalue": "'Info' object has no attribute 'name'",
     "output_type": "error",
     "traceback": [
      "\u001b[1;31m---------------------------------------------------------------------------\u001b[0m",
      "\u001b[1;31mAttributeError\u001b[0m                            Traceback (most recent call last)",
      "Input \u001b[1;32mIn [46]\u001b[0m, in \u001b[0;36m<cell line: 7>\u001b[1;34m()\u001b[0m\n\u001b[0;32m      4\u001b[0m \u001b[38;5;28mprint\u001b[39m(obj\u001b[38;5;241m.\u001b[39mname)\n\u001b[0;32m      6\u001b[0m \u001b[38;5;28;01mdel\u001b[39;00m obj\u001b[38;5;241m.\u001b[39mname\n\u001b[1;32m----> 7\u001b[0m \u001b[38;5;28mprint\u001b[39m(\u001b[43mobj\u001b[49m\u001b[38;5;241;43m.\u001b[39;49m\u001b[43mname\u001b[49m)\n",
      "\u001b[1;31mAttributeError\u001b[0m: 'Info' object has no attribute 'name'"
     ]
    }
   ],
   "source": [
    "## modify objects and their properties\n",
    "\n",
    "obj.name=\" simran\"\n",
    "print(obj.name)\n",
    "\n",
    "del obj.name\n",
    "print(obj.name)\n",
    "\n"
   ]
  },
  {
   "cell_type": "code",
   "execution_count": 48,
   "id": "01993b13",
   "metadata": {},
   "outputs": [
    {
     "name": "stdout",
     "output_type": "stream",
     "text": [
      "anmol\n"
     ]
    }
   ],
   "source": [
    "print(anmol.name)"
   ]
  },
  {
   "cell_type": "code",
   "execution_count": 50,
   "id": "30c3ddfe",
   "metadata": {},
   "outputs": [],
   "source": [
    "###Q`1\n",
    "###WRITE A PYTHON PROGRAM TO CREATE A CLASS COURSES CLASS WITH COURSE_NAME AND TOTAL_STUDENTS INSTANCES ATTRIBUTES"
   ]
  },
  {
   "cell_type": "code",
   "execution_count": 53,
   "id": "f1f40890",
   "metadata": {},
   "outputs": [
    {
     "name": "stdout",
     "output_type": "stream",
     "text": [
      "<__main__.course object at 0x000002DCF6483880>\n",
      "Advanced ai wth python\n",
      "52\n"
     ]
    }
   ],
   "source": [
    "class  course():\n",
    "    def __init__(self,course_name,total_students):\n",
    "        self.course_name= course_name\n",
    "        self.total_students= total_students\n",
    "\n",
    "\n",
    "obj =course(\"Advanced ai wth python\",\"52\")\n",
    "\n",
    "print(obj)\n",
    "print(obj.course_name)\n",
    "print(obj.total_students)"
   ]
  },
  {
   "cell_type": "markdown",
   "id": "ff57615b",
   "metadata": {},
   "source": [
    "## inheritance in classes"
   ]
  },
  {
   "cell_type": "code",
   "execution_count": 59,
   "id": "4d4f0283",
   "metadata": {},
   "outputs": [
    {
     "name": "stdout",
     "output_type": "stream",
     "text": [
      "I CAN EAT\n",
      "i am working in it company\n"
     ]
    }
   ],
   "source": [
    "# base class\n",
    "class Info():\n",
    "    def eat(self):\n",
    "        print(\"I CAN EAT\")\n",
    "# DERIVED CLASS\n",
    "\n",
    "class profession(Info):\n",
    "    def work(self):\n",
    "        print(\"i am working in it company\")\n",
    "#object created\n",
    "\n",
    "d = profession()\n",
    "d.eat()\n",
    "d.work()"
   ]
  },
  {
   "cell_type": "code",
   "execution_count": 60,
   "id": "dafb16c9",
   "metadata": {},
   "outputs": [],
   "source": [
    "# create a bus class that inherit from vehicle class. The seating capacity is method of bus class and color of bus inhertis for \n",
    "#vehicle class"
   ]
  },
  {
   "cell_type": "code",
   "execution_count": 93,
   "id": "2ad18165",
   "metadata": {},
   "outputs": [
    {
     "name": "stdout",
     "output_type": "stream",
     "text": [
      "<__main__.bus object at 0x000002DCF6F784F0>\n",
      "its capacity is 23\n"
     ]
    }
   ],
   "source": [
    "class vehicle():\n",
    "\n",
    "    def color(self):\n",
    "        print(\"its color is yellow\"+self.color)\n",
    "\n",
    "\n",
    "class bus(vehicle):\n",
    "   \n",
    "    def capacity(self):\n",
    "        print(\"its capacity is 23\")\n",
    "        \n",
    "\n",
    "schoolbus = bus()\n",
    "\n",
    "print(schoolbus)\n",
    "schoolbus.capacity()\n"
   ]
  },
  {
   "cell_type": "markdown",
   "id": "6a439734",
   "metadata": {},
   "source": [
    "### encapsulation"
   ]
  },
  {
   "cell_type": "code",
   "execution_count": 108,
   "id": "1eaa1faa",
   "metadata": {},
   "outputs": [
    {
     "name": "stdout",
     "output_type": "stream",
     "text": [
      "kartik\n",
      "21\n"
     ]
    },
    {
     "ename": "AttributeError",
     "evalue": "'Info' object has no attribute '__profession'",
     "output_type": "error",
     "traceback": [
      "\u001b[1;31m---------------------------------------------------------------------------\u001b[0m",
      "\u001b[1;31mAttributeError\u001b[0m                            Traceback (most recent call last)",
      "Input \u001b[1;32mIn [108]\u001b[0m, in \u001b[0;36m<cell line: 13>\u001b[1;34m()\u001b[0m\n\u001b[0;32m     11\u001b[0m \u001b[38;5;28mprint\u001b[39m(d\u001b[38;5;241m.\u001b[39mname)\n\u001b[0;32m     12\u001b[0m \u001b[38;5;28mprint\u001b[39m(d\u001b[38;5;241m.\u001b[39m_age)\n\u001b[1;32m---> 13\u001b[0m \u001b[38;5;28mprint\u001b[39m(\u001b[43md\u001b[49m\u001b[38;5;241;43m.\u001b[39;49m\u001b[43m__profession\u001b[49m)\n",
      "\u001b[1;31mAttributeError\u001b[0m: 'Info' object has no attribute '__profession'"
     ]
    }
   ],
   "source": [
    "class Info():\n",
    "    def __init__(self,name,age,profession):\n",
    "        self.name= name\n",
    "        self._age = age\n",
    "        self.__profession= profession\n",
    "        \n",
    "        \n",
    "d= Info(\"kartik\",21,\"student\")\n",
    "d.__horror = \"horror\"\n",
    "\n",
    "print(d.name)\n",
    "print(d._age)\n",
    "print(d.__profession)"
   ]
  },
  {
   "cell_type": "markdown",
   "id": "421a1488",
   "metadata": {},
   "source": [
    "### name mangling to access private member\n",
    "\n",
    "Python performs name mangling of private variables. Every member with a double underscore will be changed to _object._class__variable. So, it can still be accessed from outside the class, but the practice should be refrained."
   ]
  },
  {
   "cell_type": "code",
   "execution_count": 125,
   "id": "ce74e438",
   "metadata": {},
   "outputs": [
    {
     "name": "stdout",
     "output_type": "stream",
     "text": [
      "kartik\n",
      "21\n",
      "student\n"
     ]
    }
   ],
   "source": [
    "class Info():\n",
    "    def __init__(self,name,age,profession):\n",
    "        self.name= name\n",
    "        self._age = age\n",
    "        self.__profession= profession\n",
    "        \n",
    "        \n",
    "d= Info(\"kartik\",21,\"student\")\n",
    "d.__horror = \"horror\"\n",
    "\n",
    "print(d.name)\n",
    "print(d._age)\n",
    "print(d._Info__profession)"
   ]
  },
  {
   "cell_type": "code",
   "execution_count": 127,
   "id": "2d8a7a49",
   "metadata": {},
   "outputs": [],
   "source": [
    "#create a class named rectangle , the breadth of the ractangle is public and lenght is private. Print the value of \n",
    "# breath and lenght by creating object react"
   ]
  },
  {
   "cell_type": "code",
   "execution_count": 137,
   "id": "cd1bd0bf",
   "metadata": {},
   "outputs": [
    {
     "name": "stdout",
     "output_type": "stream",
     "text": [
      "32\n",
      "43\n"
     ]
    }
   ],
   "source": [
    "class rectangle():\n",
    "    def __init__(self,breadth,length):\n",
    "        self.breadth= int(breadth)\n",
    "        self._length = int(length)\n",
    "        pass\n",
    "        \n",
    "        \n",
    "rect = rectangle(32,43)\n",
    "print(rect.breadth)\n",
    "print(rect._length)"
   ]
  },
  {
   "cell_type": "code",
   "execution_count": 138,
   "id": "1ecd7977",
   "metadata": {},
   "outputs": [
    {
     "name": "stdout",
     "output_type": "stream",
     "text": [
      "3\n",
      "10\n",
      "2\n"
     ]
    }
   ],
   "source": [
    "s = ['ABC','BHG','CDH']\n",
    "T= 'ABC SCHOOL'\n",
    "d= {'k':1,'p':2}\n",
    "\n",
    "#calculate count\n",
    "\n",
    "print(len(s))\n",
    "\n",
    "print(len(T))\n",
    "\n",
    "print(len(d))"
   ]
  },
  {
   "cell_type": "code",
   "execution_count": 161,
   "id": "7b8dc5c6",
   "metadata": {},
   "outputs": [
    {
     "name": "stdout",
     "output_type": "stream",
     "text": [
      "petrol\n",
      "100\n",
      "petrol\n"
     ]
    },
    {
     "ename": "AttributeError",
     "evalue": "'bmw' object has no attribute 'max_speed'",
     "output_type": "error",
     "traceback": [
      "\u001b[1;31m---------------------------------------------------------------------------\u001b[0m",
      "\u001b[1;31mAttributeError\u001b[0m                            Traceback (most recent call last)",
      "Input \u001b[1;32mIn [161]\u001b[0m, in \u001b[0;36m<cell line: 20>\u001b[1;34m()\u001b[0m\n\u001b[0;32m     20\u001b[0m \u001b[38;5;28;01mfor\u001b[39;00m car \u001b[38;5;129;01min\u001b[39;00m (ferrari,bmw):\n\u001b[0;32m     21\u001b[0m     \n\u001b[0;32m     22\u001b[0m   \n\u001b[0;32m     23\u001b[0m  \u001b[38;5;66;03m#call methods without checking class of objects\u001b[39;00m\n\u001b[0;32m     24\u001b[0m     car\u001b[38;5;241m.\u001b[39mfuel_type()\n\u001b[1;32m---> 26\u001b[0m     \u001b[43mcar\u001b[49m\u001b[38;5;241;43m.\u001b[39;49m\u001b[43mmax_speed\u001b[49m()\n",
      "\u001b[1;31mAttributeError\u001b[0m: 'bmw' object has no attribute 'max_speed'"
     ]
    }
   ],
   "source": [
    "class ferrari():\n",
    "\n",
    "    def fuel_type(self):\n",
    "        print(\"petrol\")\n",
    "        \n",
    "    def max_speed(self):\n",
    "        print(\"100\")\n",
    "\n",
    "class bmw(vehicle):\n",
    "     def fuel_type(self):\n",
    "        print(\"petrol\")\n",
    "        \n",
    "   \n",
    "\n",
    "\n",
    "ferrari = ferrari()\n",
    "bmw = bmw()\n",
    "\n",
    "# iterate objexts of same type\n",
    "for car in (ferrari,bmw):\n",
    "    \n",
    "  \n",
    " #call methods without checking class of objects\n",
    "    car.fuel_type()\n",
    "        \n",
    "    car.max_speed()"
   ]
  },
  {
   "cell_type": "code",
   "execution_count": null,
   "id": "b5221111",
   "metadata": {},
   "outputs": [],
   "source": []
  },
  {
   "cell_type": "code",
   "execution_count": null,
   "id": "f1857afb",
   "metadata": {},
   "outputs": [],
   "source": []
  },
  {
   "cell_type": "code",
   "execution_count": null,
   "id": "bf48cb98",
   "metadata": {},
   "outputs": [],
   "source": []
  }
 ],
 "metadata": {
  "kernelspec": {
   "display_name": "Python 3 (ipykernel)",
   "language": "python",
   "name": "python3"
  },
  "language_info": {
   "codemirror_mode": {
    "name": "ipython",
    "version": 3
   },
   "file_extension": ".py",
   "mimetype": "text/x-python",
   "name": "python",
   "nbconvert_exporter": "python",
   "pygments_lexer": "ipython3",
   "version": "3.9.12"
  }
 },
 "nbformat": 4,
 "nbformat_minor": 5
}
