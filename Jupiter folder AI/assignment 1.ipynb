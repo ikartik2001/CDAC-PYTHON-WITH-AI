{
 "cells": [
  {
   "cell_type": "markdown",
   "id": "7684eab5",
   "metadata": {},
   "source": [
    "# kartik thakur"
   ]
  },
  {
   "cell_type": "markdown",
   "id": "c95e3d61",
   "metadata": {},
   "source": [
    "### ASSIGNMENT NO .1"
   ]
  },
  {
   "cell_type": "markdown",
   "id": "7a08109f",
   "metadata": {},
   "source": [
    "###  Q1 Calculate the sum and multiplication of two numbers , the answer should be less than 100. take input from user"
   ]
  },
  {
   "cell_type": "code",
   "execution_count": 32,
   "id": "0897f231",
   "metadata": {},
   "outputs": [
    {
     "name": "stdout",
     "output_type": "stream",
     "text": [
      "Enter first number = 2\n",
      "Enter second number = 3\n",
      "sum =  5\n",
      "multplicaton = 6\n"
     ]
    }
   ],
   "source": [
    " A = int(input(\"Enter first number = \")) # taking input for A\n",
    "    \n",
    " B = int(input(\"Enter second number = \"))  # taking input for B   \n",
    "\n",
    "print(\"sum = \",A+B)  # SUM OF TWO NUMBERS\n",
    "\n",
    "print(\"multplicaton =\",A*B)  # MULTIPLYING TWO NUMBERS\n"
   ]
  },
  {
   "cell_type": "markdown",
   "id": "e64ff5fb",
   "metadata": {},
   "source": [
    "### Q2 Print the statment : welcome to C-DAC"
   ]
  },
  {
   "cell_type": "code",
   "execution_count": 33,
   "id": "16285825",
   "metadata": {},
   "outputs": [
    {
     "name": "stdout",
     "output_type": "stream",
     "text": [
      "welcome to C-DAC\n"
     ]
    }
   ],
   "source": [
    "print(\"welcome to C-DAC\")   #PRINTING CDAC"
   ]
  },
  {
   "cell_type": "markdown",
   "id": "8d95b260",
   "metadata": {},
   "source": [
    "### Q3 Display float number upto two decimal n = 458.511332\n"
   ]
  },
  {
   "cell_type": "code",
   "execution_count": 35,
   "id": "ca5fb309",
   "metadata": {},
   "outputs": [
    {
     "name": "stdout",
     "output_type": "stream",
     "text": [
      "458.51\n"
     ]
    }
   ],
   "source": [
    " n = 458.511332\n",
    "    \n",
    "n_round = round(n,2)\n",
    "print(n_round)"
   ]
  },
  {
   "cell_type": "markdown",
   "id": "171ff2b3",
   "metadata": {},
   "source": [
    "### Q4 Using string.format() method to display output : My name is {} .My age is {} . \n",
    "### I know {} Language"
   ]
  },
  {
   "cell_type": "code",
   "execution_count": 39,
   "id": "4b9d313a",
   "metadata": {},
   "outputs": [
    {
     "ename": "IndexError",
     "evalue": "Replacement index 3 out of range for positional args tuple",
     "output_type": "error",
     "traceback": [
      "\u001b[1;31m---------------------------------------------------------------------------\u001b[0m",
      "\u001b[1;31mIndexError\u001b[0m                                Traceback (most recent call last)",
      "Input \u001b[1;32mIn [39]\u001b[0m, in \u001b[0;36m<cell line: 4>\u001b[1;34m()\u001b[0m\n\u001b[0;32m      2\u001b[0m age \u001b[38;5;241m=\u001b[39m \u001b[38;5;241m21\u001b[39m\n\u001b[0;32m      3\u001b[0m Language \u001b[38;5;241m=\u001b[39m \u001b[38;5;124m\"\u001b[39m\u001b[38;5;124mpython\u001b[39m\u001b[38;5;124m\"\u001b[39m\n\u001b[1;32m----> 4\u001b[0m formatted_string \u001b[38;5;241m=\u001b[39m \u001b[38;5;124;43m\"\u001b[39;49m\u001b[38;5;124;43mmy name is \u001b[39;49m\u001b[38;5;132;43;01m{}\u001b[39;49;00m\u001b[38;5;124;43m . My name is \u001b[39;49m\u001b[38;5;132;43;01m{}\u001b[39;49;00m\u001b[38;5;124;43m. My age is \u001b[39;49m\u001b[38;5;132;43;01m{}\u001b[39;49;00m\u001b[38;5;124;43m.I know \u001b[39;49m\u001b[38;5;132;43;01m{}\u001b[39;49;00m\u001b[38;5;124;43m language\u001b[39;49m\u001b[38;5;124;43m\"\u001b[39;49m\u001b[38;5;241;43m.\u001b[39;49m\u001b[43mformat\u001b[49m\u001b[43m(\u001b[49m\u001b[43mName\u001b[49m\u001b[43m,\u001b[49m\u001b[43mage\u001b[49m\u001b[43m,\u001b[49m\u001b[43mLanguage\u001b[49m\u001b[43m)\u001b[49m\n\u001b[0;32m      5\u001b[0m \u001b[38;5;28mprint\u001b[39m(formatted_string)\n",
      "\u001b[1;31mIndexError\u001b[0m: Replacement index 3 out of range for positional args tuple"
     ]
    }
   ],
   "source": [
    "Name = \"kartik\"\n",
    "age = 21\n",
    "Language = \"python\"\n",
    "formatted_string = \"my name is {} . My name is {}. My age is {}.I know {} language\".format(Name,age,Language)\n",
    "print(formatted_string)\n"
   ]
  },
  {
   "cell_type": "code",
   "execution_count": null,
   "id": "857dc1ea",
   "metadata": {},
   "outputs": [],
   "source": []
  }
 ],
 "metadata": {
  "kernelspec": {
   "display_name": "Python 3 (ipykernel)",
   "language": "python",
   "name": "python3"
  },
  "language_info": {
   "codemirror_mode": {
    "name": "ipython",
    "version": 3
   },
   "file_extension": ".py",
   "mimetype": "text/x-python",
   "name": "python",
   "nbconvert_exporter": "python",
   "pygments_lexer": "ipython3",
   "version": "3.9.12"
  }
 },
 "nbformat": 4,
 "nbformat_minor": 5
}
